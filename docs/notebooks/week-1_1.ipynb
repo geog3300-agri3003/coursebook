{
 "cells": [
  {
   "cell_type": "markdown",
   "metadata": {
    "id": "mYzteAq2BKYx"
   },
   "source": [
    "# Python programs\n",
    "\n",
    "This is an introductory lab where you will run a Python program to create an AI-powered farm management chat assistant using a <a href=\"https://stanford-cs324.github.io/winter2022/lectures/introduction/\" target=\"_blank\">language model</a>.\n",
    "\n",
    "The goal of this lab is to provide a brief introduction to the Python programming language; demonstrate some programming concepts such as data types, data structures, and functions; and to illustrate why programming is a useful skill for solving problems and implementing data-driven solutions.\n",
    "\n",
    "This lab is based off this <a href=\"https://keras.io/examples/generative/gpt2_text_generation_with_kerasnlp/\" target=\"_blank\">code example from keras</a>.\n",
    "\n",
    "## A Python program\n",
    "\n",
    "* A program is a series of statements that are executed to complete a task\n",
    "* Here, the statements are written using the syntax of the Python programming language\n",
    "* Programs complete tasks by loading, transforming, and visualising data\n",
    "* Data in programs can be of different types (numeric, text, boolean)\n",
    "* Data can be combined into data structures to represent complex concepts and objects\n",
    "* Functions operate on data to complete tasks\n",
    "\n",
    "### Run the labs\n",
    "\n",
    "You can run the labs locally on your machine or you can use cloud environments provided by Google Colab. **If you're working with Google Colab be aware that your sessions are temporary and you'll need to take care to save, backup, and download your work.**\n",
    "\n",
    "<a href=\"https://colab.research.google.com/github/geog3300-agri3003/coursebook/blob/main/docs/notebooks/week-1_1.ipynb\" target=\"_blank\">\n",
    "  <img src=\"https://colab.research.google.com/assets/colab-badge.svg\" alt=\"Open In Colab\"/>\n",
    "</a>"
   ]
  },
  {
   "cell_type": "markdown",
   "metadata": {
    "id": "iMJpNTnaghUZ"
   },
   "source": [
    "## Setup\n",
    "\n",
    "### Setup runtime\n",
    "\n",
    "**This lab will only work (quickly) using Google Colab with a *T4 GPU* runtime type.**\n",
    "\n",
    "**Before running any code, set the runtime type to *T4 GPU*.**\n",
    "\n",
    "<img src=\"https://github.com/geog3300-agri3003/coursebook/raw/main/docs/img/week-1-colab-runtime-1.jpg\" alt=\"colab runtime menu\" width=\"50%\">\n",
    "\n",
    "<p></p>\n",
    "\n",
    "<img src=\"https://github.com/geog3300-agri3003/coursebook/raw/main/docs/img/week-1-colab-runtime-2.jpg\" alt=\"colab runtime menu\" width=\"50%\">\n"
   ]
  },
  {
   "cell_type": "markdown",
   "metadata": {
    "id": "oTO2Zt-6DJyh"
   },
   "source": [
    "### Install packages\n",
    "\n",
    "A package is a collection of files containing Python code that we can use in our program. Files containing Python code are called modules (a package is a collection of modules). By importing Python packages, we can make our programs shorter and reuse code that has already been written to complete a task.\n",
    "\n",
    "For example, the pandas provides a DataFrame structure for storing tabular data and specific functions for working with tabular data.\n",
    "\n",
    "Here, we are installing some Python packages from the <a href=\"https://keras.io/getting_started/\" target=\"_blank\">keras</a> package that provide tools for working with deep learning models, such as chatGPT, and using artificial intelligence.\n",
    "\n",
    "The `!pip install ...` syntax installs (downloads) the Python code from the keras package into our Python environment (i.e. the computer we are working on)."
   ]
  },
  {
   "cell_type": "code",
   "execution_count": null,
   "metadata": {
    "colab": {
     "base_uri": "https://localhost:8080/"
    },
    "id": "EC8euXdgX_OH",
    "outputId": "73803372-9b9a-4ed4-932c-9215d62b04c8"
   },
   "outputs": [],
   "source": [
    "# install in this order - https://keras.io/getting_started/\n",
    "\"\"\"\n",
    "Critically, you should reinstall Keras 3 after installing KerasNLP.\n",
    "This is a temporary step while TensorFlow is pinned to Keras 2, and will no longer be necessary after TensorFlow 2.16.\n",
    "The cause is that keras-nlp depends on tensorflow-text, which will install tensorflow==2.15, which will overwrite your Keras installation with keras==2.15.\n",
    "\"\"\"\n",
    "!pip install --upgrade keras-cv\n",
    "!pip install --upgrade keras-nlp\n",
    "!pip install --upgrade keras"
   ]
  },
  {
   "cell_type": "markdown",
   "metadata": {
    "id": "Jmke51n5HI8T"
   },
   "source": [
    "### Import modules\n",
    "\n",
    "Before we installed the packages in our environment; this downloads the Python code (called modules) in the packages onto our computer. Now we import the modules into our Python program where they can be used.\n",
    "\n",
    "Here, we import a package called `os`, which contains tools for working with the operating system (e.g. creating paths to folders and files).\n",
    "\n",
    "We also import `keras_nlp` (keras natural language processing), which contains tools for working with natuaral language (e.g. written and spoken text) in a Python and artificial intelligence environment.\n",
    "\n",
    "Finally, we import `keras`, which is a Python package for artificial intelligence. Specifically, it provides an interface to a range of deep learning models.\n",
    "\n",
    "Importing these packages into our program means we can re-use code that has already been written to work with deep learning models that can receive and generate natural language (e.g. such as ChatGPT). We'll use these tools in our program to create an AI farm chat assistant."
   ]
  },
  {
   "cell_type": "code",
   "execution_count": null,
   "metadata": {
    "id": "DutVed5EY0Ig"
   },
   "outputs": [],
   "source": [
    "import os\n",
    "\n",
    "os.environ[\"KERAS_BACKEND\"] = \"jax\"  # or \"tensorflow\" or \"torch\"\n",
    "\n",
    "import keras_nlp\n",
    "import keras\n",
    "\n",
    "keras.mixed_precision.set_global_policy(\"mixed_float16\")"
   ]
  },
  {
   "cell_type": "markdown",
   "metadata": {
    "id": "L5N7k0F1kQFn"
   },
   "source": [
    "## Load a GPT model\n",
    "\n",
    "First, we create a large language model object referenced by the variable `gpt2_lm`. This model is loaded from the `keras_nlp` package that we imported into our program.\n",
    "\n",
    "Specifically, `preprocessor` is an object that converts text into tokens (numeric representations of text) and back again. `gpt2_lm` is a GPT2 large language model that can take in input text and generate output text in response.\n",
    "\n",
    "An **object** in Python programs is a container for related data and functions. Data is information related to a particular concept, represented by the object, and functions do things with data to complete a task."
   ]
  },
  {
   "cell_type": "code",
   "execution_count": null,
   "metadata": {
    "colab": {
     "base_uri": "https://localhost:8080/"
    },
    "id": "JILre-U3bqEV",
    "outputId": "f05e6ea7-7506-4d87-86bd-16adf30ea83b"
   },
   "outputs": [],
   "source": [
    "# To speed up training and generation, we use preprocessor of length 512\n",
    "# instead of full length 1024.\n",
    "preprocessor = keras_nlp.models.GPT2CausalLMPreprocessor.from_preset(\n",
    "    \"gpt2_base_en\",\n",
    "    sequence_length=512,\n",
    ")\n",
    "gpt2_lm = keras_nlp.models.GPT2CausalLM.from_preset(\n",
    "    \"gpt2_base_en\", preprocessor=preprocessor\n",
    ")"
   ]
  },
  {
   "cell_type": "markdown",
   "metadata": {
    "id": "Rd3QB6gGlWJp"
   },
   "source": [
    "## Functions\n",
    "\n",
    "Our `gpt2_lm` object has a method (another name for a function) called `generate()`. You can spot functions by `()` appearing after the function name. Functions can take input data - this is the function's arguments -  and use these inputs to complete it's task.\n",
    "\n",
    "Functions can return data back to the Python program, display data on your screen, or save data to disk.\n",
    "\n",
    "The general pattern for executing a function / method is:\n",
    "\n",
    "1. The function is called and any data are passed in as arguments inside `()`\n",
    "2. The function performs operations on the data passed in\n",
    "3. The function returns the result of operating on the data\n",
    "\n",
    "The `generate()` function takes in text data as a prompt to the `input` parameter (here we ask `\"What is canola?\"`) and a number to the `max_length` paramter.\n",
    "\n",
    "It returns the output text that the GPT2 model has generate in response to the prompt. This output text is referenced by the variable `output`.\n",
    "\n",
    "**The <a href=\"https://openai.com/research/better-language-models\" target=\"_blank\">GPT2 model</a> we are using is an early large language model (a precursor to ChatGPT and modern models). Therefore, it might generate nonsense responses; this is especially so as this version of the model is a small open source release for research and experimentation. There are techniques we can use to improve language model's performance for specific tasks, but these are advanced topics not for here. However, it is a good example of how we can use Python to build a program to provide a useful service or solve a task. In this case, we're building a program that would let people use AI to get more information about farm management.**\n",
    "\n",
    "**It is also your responsibility to only provide agriculturally relevant prompts to the model. You should create offensive, personal, or controversial prompts. This is also a more general principle when working with big datasets, machine learning models, and when developing technology. It is important to do so in a way that causes no harm.**"
   ]
  },
  {
   "cell_type": "code",
   "execution_count": null,
   "metadata": {
    "colab": {
     "base_uri": "https://localhost:8080/"
    },
    "id": "RPKuqXkBbybN",
    "outputId": "1923d4bf-663b-4e8b-b862-0608dc80e7c3"
   },
   "outputs": [],
   "source": [
    "output = gpt2_lm.generate(\"What is canola?\", max_length=50)\n",
    "print(\"\\nGPT-2 output:\")\n",
    "print(output)"
   ]
  },
  {
   "cell_type": "markdown",
   "metadata": {
    "id": "rNAz45JinGOk"
   },
   "source": [
    "#### Recap quiz\n",
    "\n",
    "<details>\n",
    "    <summary><b>Is <code>print()</code> a function?</b></summary>\n",
    "\n",
    "Yes, `print()` is a function. You can tell it's a function because of the parentheses after the function name. The fact that print is a verb also indicates it's a function - something is being done (nouns are often used to indicate data). `print()` takes in data from our Python program and prints a representation of this data on our display. Above, we pass in the output from generating text with our GPT2 model and print it on the display.\n",
    "</details>"
   ]
  },
  {
   "cell_type": "markdown",
   "metadata": {
    "id": "t0IL3ttzj5cV"
   },
   "source": [
    "## Data\n",
    "\n",
    "Programs generally complete their tasks by doing things with data. Data can be scientific data which can be analysed and visualised. However, in a computer program data refers to any information the program needs to run. For example, it could be text data such as file paths or file names or URLs for resources on the internet.\n",
    "\n",
    "There are different types of data. Python provides support for the following built-in data types:\n",
    "\n",
    "* `float` - storing floating point numeric values.\n",
    "* `int` - storing integer numeric values.\n",
    "* `str` - storing text data as strings.\n",
    "* `bool` - storing True or False as boolean values.\n",
    "* `None` - storing null values.\n",
    "* `bytes` - storing raw binary data.\n",
    "\n",
    "Our AI-powered farm assistant program requires two key pieces of data. Text prompts for the user (i.e. questions or requests for information) and text outputs from the GPT2 model. Here, we'll be storing text data as <a href=\"https://realpython.com/python-strings/\" target=\"_blank\">string (`str`)</a> type data in our program.\n",
    "\n",
    "In Python, we create `str` type data by placing text inside quotation marks `\"a string\"`.\n",
    "\n",
    "Let's create some different text prompts as `str` type data."
   ]
  },
  {
   "cell_type": "code",
   "execution_count": null,
   "metadata": {
    "colab": {
     "base_uri": "https://localhost:8080/"
    },
    "id": "Lzyfi1Z7cIXs",
    "outputId": "5c7296e4-5106-45c6-8203-870f37fae333"
   },
   "outputs": [],
   "source": [
    "prompt = \"Drought is affecting my wheat crop\"\n",
    "print(f\"the data type of prompt is {type(prompt)}\")"
   ]
  },
  {
   "cell_type": "markdown",
   "metadata": {
    "id": "UAQNhtTjdFce"
   },
   "source": [
    "And we can pass this prompt into our GPT2 model."
   ]
  },
  {
   "cell_type": "code",
   "execution_count": null,
   "metadata": {
    "colab": {
     "base_uri": "https://localhost:8080/"
    },
    "id": "ilJaiLOUdZuU",
    "outputId": "8df9111b-4c6e-4d36-fb41-bcdf0e39b2e2"
   },
   "outputs": [],
   "source": [
    "output = gpt2_lm.generate(prompt, max_length=50)\n",
    "print(\"\\nGPT-2 output:\")\n",
    "print(output)"
   ]
  },
  {
   "cell_type": "markdown",
   "metadata": {
    "id": "Ox0VCkc-edkj"
   },
   "source": [
    "#### Recap quiz\n",
    "\n",
    "**Can you create a new prompt of `str` type data to ask the model about pests affecting bananas?**"
   ]
  },
  {
   "cell_type": "code",
   "execution_count": null,
   "metadata": {
    "id": "SO90FUXaeoDx"
   },
   "outputs": [],
   "source": [
    "## ADD CODE HERE"
   ]
  },
  {
   "cell_type": "markdown",
   "metadata": {
    "id": "GK5EmMRzeK4j"
   },
   "source": [
    "<details>\n",
    "    <summary><b>answer</b></summary>\n",
    "\n",
    "```python\n",
    "new_prompt = \"Insects and pests affecting banana crops\"\n",
    "\n",
    "## NOTE: we pass in the variable new_prompt to the generate() function\n",
    "output = gpt2_lm.generate(new_prompt, max_length=75)\n",
    "print(\"\\nGPT-2 output:\")\n",
    "print(output)\n",
    "```\n",
    "</details>"
   ]
  },
  {
   "cell_type": "markdown",
   "metadata": {
    "id": "vwtbsNjkbrBI"
   },
   "source": [
    "## Data structures\n",
    "\n",
    "Python provides a series of built-in data structures that can be used to group together and store related data.\n",
    "\n",
    "You can think of a data structure as a container for related data values in a Python program. For example, a DataFrame is often used to store a tabular datset similar to how you would store data in a spreadsheet in excel.\n",
    "\n",
    "A commonly used data structure in Python is a `list`. A `list` stores .... a list of data values.\n",
    "\n",
    "A Python `list` is created by placing data values inside square brackets `[]`. If we have many prompts or questions we want to ask out farm assistant, we can store them all in a list."
   ]
  },
  {
   "cell_type": "code",
   "execution_count": null,
   "metadata": {
    "id": "NYL9-vA8hjCh"
   },
   "outputs": [],
   "source": [
    "prompts_list = [\n",
    "    \"When are wheat crops ready for harvest?\",\n",
    "    \"Why do we need fertiliser for fruit tree crops?\",\n",
    "]"
   ]
  },
  {
   "cell_type": "markdown",
   "metadata": {
    "id": "sge_gqA8jfLK"
   },
   "source": [
    "`prompts_list` is a list of two elements. Each element is a prompt for our GPT2 model of `str` type data. Elements in a Python `list` have an index position starting at 0 for the first element. We can access elements of a list using their index. For example, to access the second element of the list we would execute the following statement:\n",
    "\n",
    "`prompts_list[1]`\n",
    "\n",
    "Note that index position 1 corresponds to the second element. Indexing starts at 0."
   ]
  },
  {
   "cell_type": "code",
   "execution_count": null,
   "metadata": {
    "colab": {
     "base_uri": "https://localhost:8080/"
    },
    "id": "iQhMWSVyj1xt",
    "outputId": "e41ed15e-44db-4672-d3f3-6e61d02fa8f0"
   },
   "outputs": [],
   "source": [
    "print(f\"the first element in the list is {prompts_list[0]}\")\n",
    "print(f\"the second element in the list is {prompts_list[1]}\")"
   ]
  },
  {
   "cell_type": "markdown",
   "metadata": {
    "id": "nXQMr8O2kszE"
   },
   "source": [
    "We can add items to our list using a `list` object's `append()` method. Note, this is a function as you can see the `()` after append.\n",
    "\n",
    "To use the `append()` method, we pass in the data we wish to append to the end of the list. Let's add another prompt to our list: `\"What herbicides can we use in Australia?\"`"
   ]
  },
  {
   "cell_type": "code",
   "execution_count": null,
   "metadata": {
    "colab": {
     "base_uri": "https://localhost:8080/"
    },
    "id": "WDtYIaqglHXk",
    "outputId": "f229bc02-be2d-45a4-ed60-40df41216c10"
   },
   "outputs": [],
   "source": [
    "prompts_list.append(\"What herbicides can we use in Australia?\")\n",
    "print(prompts_list)"
   ]
  },
  {
   "cell_type": "markdown",
   "metadata": {
    "id": "t83FI4Wzk6I7"
   },
   "source": [
    "#### Recap quiz\n",
    "\n",
    "**Can you add another item to `prompts_list`? The item to add is `\"What grain crops are grown in France?\"`.**"
   ]
  },
  {
   "cell_type": "code",
   "execution_count": null,
   "metadata": {
    "id": "FiNrRN7NmzOB"
   },
   "outputs": [],
   "source": [
    "## ADD CODE HERE"
   ]
  },
  {
   "cell_type": "markdown",
   "metadata": {
    "id": "cFhFy_J9m0kb"
   },
   "source": [
    "<details>\n",
    "    <summary><b>answer</b></summary>\n",
    "\n",
    "```python\n",
    "prompts_list.append(\"What grain crops are grown in France?\")\n",
    "prompts_list\n",
    "```\n",
    "</details>"
   ]
  },
  {
   "cell_type": "markdown",
   "metadata": {
    "id": "EFCF0hYLo709"
   },
   "source": [
    "## Flow control\n",
    "\n",
    "Flow control refers to the order in which the statements that make up a program are executed. A common flow control tool are a for loops. For loops allow us to iterate over items in a sequence; we can loop over items in a list. To loop over the items in `prompts_list` and print the current item we would execute:"
   ]
  },
  {
   "cell_type": "code",
   "execution_count": null,
   "metadata": {
    "colab": {
     "base_uri": "https://localhost:8080/"
    },
    "id": "0AyZNWXQpRub",
    "outputId": "659ddd3d-979c-4573-b8a3-2ccfa81e2389"
   },
   "outputs": [],
   "source": [
    "for prompt in prompts_list:\n",
    "    print(prompt)"
   ]
  },
  {
   "cell_type": "markdown",
   "metadata": {
    "id": "ZgcXI8TUpHp0"
   },
   "source": [
    "## Putting it all together: a Python program\n",
    "\n",
    "Now we can put together the various concepts we've covered above (data types, data structures, functions, and flow control) to create a simple program that can store multiple prompts or questions from a user, pass these prompts into our GPT2 model, and return answers.\n",
    "\n",
    "This is a basic template of Python program to create an AI-powered farm chat assistant app. If we were expanding this we might build a user interface (e.g. a web form) where users could enter prompts that would be added to the `prompts_list`. We should also use a model that is trained and tested for the application domain we're working in. However, this is a small illustration of how to write a Python program to complete a task (in this case building a small prototype application for a farm chat assistant)."
   ]
  },
  {
   "cell_type": "code",
   "execution_count": null,
   "metadata": {
    "colab": {
     "base_uri": "https://localhost:8080/"
    },
    "id": "m6we2HPJnLFN",
    "outputId": "d32ee56a-ff66-4ced-d58d-153c24ff11ae"
   },
   "outputs": [],
   "source": [
    "for prompt in prompts_list:\n",
    "    print(\"Question for the farm assistant:\")\n",
    "    output = gpt2_lm.generate(prompt, max_length=75)\n",
    "    print(output)\n",
    "    print(\"\")\n",
    "    print(\"***************\")\n",
    "    print(\"\")"
   ]
  }
 ],
 "metadata": {
  "accelerator": "GPU",
  "colab": {
   "gpuType": "T4",
   "provenance": []
  },
  "kernelspec": {
   "display_name": "Python 3",
   "name": "python3"
  },
  "language_info": {
   "name": "python"
  }
 },
 "nbformat": 4,
 "nbformat_minor": 0
}

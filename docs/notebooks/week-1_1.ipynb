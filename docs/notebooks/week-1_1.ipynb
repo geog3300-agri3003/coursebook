{
  "cells": [
    {
      "cell_type": "markdown",
      "metadata": {
        "id": "mYzteAq2BKYx"
      },
      "source": [
        "# Python programs\n",
        "\n",
        "This is an introductory lab where you will run a Python program to create an AI-powered farm management chat assistant using a <a href=\"https://stanford-cs324.github.io/winter2022/lectures/introduction/\" target=\"_blank\">language model</a>.\n",
        "\n",
        "The goal of this lab is to provide a brief introduction to the Python programming language; demonstrate some programming concepts such as data types, data structures, and functions; and to illustrate why programming is a useful skill for solving problems and implementing data-driven solutions.\n",
        "\n",
        "## A Python program\n",
        "\n",
        "* A program is a series of statements that are executed to complete a task\n",
        "* Here, the statements are written using the syntax of the Python programming language\n",
        "* Programs complete tasks by loading, transforming, and visualising data\n",
        "* Data in programs can be of different types (numeric, text, boolean)\n",
        "* Data can be combined into data structures to represent complex concepts and objects\n",
        "* Functions operate on data to complete tasks\n",
        "\n",
        "### Run the labs\n",
        "\n",
        "You can run the labs locally on your machine or you can use cloud environments provided by Google Colab. **If you're working with Google Colab be aware that your sessions are temporary and you'll need to take care to save, backup, and download your work.**\n",
        "\n",
        "<a href=\"https://colab.research.google.com/github/geog3300-agri3003/coursebook/blob/main/docs/notebooks/week-1_1.ipynb\" target=\"_blank\">\n",
        "  <img src=\"https://colab.research.google.com/assets/colab-badge.svg\" alt=\"Open In Colab\"/>\n",
        "</a>"
      ]
    },
    {
      "cell_type": "markdown",
      "metadata": {
        "id": "iMJpNTnaghUZ"
      },
      "source": [
        "## Setup\n",
        "\n",
        "### Setup Hugging Face token\n",
        "\n",
        "1. Create a Hugging Face account:\n",
        "\n",
        "<img src=\"https://github.com/geog3300-agri3003/coursebook/raw/main/docs/img/hf-1-annotated.png\" alt=\"HF account\" width=\"75%\">\n",
        "\n",
        "Once, you have created a Hugging Face account you can gain access to models. Many LLMs require you accept terms and conditions. For this exercise we will be working with Google's Gemma 2 2b it model (2b represents 2 billion parameters and it represents instruction tuned). Agree to the model's terms and conditions and usage policy <a href=\"https://huggingface.co/google/gemma-2-2b-it\" target=\"_blank\">here</a>.\n",
        "\n",
        "2. Create an *Access Token*:\n",
        "\n",
        "<img src=\"https://github.com/geog3300-agri3003/coursebook/raw/main/docs/img/hf-2-annotated.png\" alt=\"HF account\" width=\"75%\">\n",
        "\n",
        "3. Click on *Create new token*\n",
        "\n",
        "<img src=\"https://github.com/geog3300-agri3003/coursebook/raw/main/docs/img/hf-3-annotated.png\" alt=\"HF account\" width=\"75%\">\n",
        "\n",
        "4. Set the token permissions\n",
        "\n",
        "You can initially set token permissions to *Read*, which has read access to all your resources. This is a good option for getting started.\n",
        "\n",
        "<img src=\"https://github.com/geog3300-agri3003/coursebook/raw/main/docs/img/hf-4-read-annotated.png\" alt=\"HF account\" width=\"75%\">\n",
        "\n",
        "However, as you start developing resources such as models and datasets and using Hugging Face in different environments, it's a good idea to create access tokens with fine-grained permissions with just enough permissions to complete tasks associated with the token.\n",
        "\n",
        "<img src=\"https://github.com/geog3300-agri3003/coursebook/raw/main/docs/img/hf-4-annotated.png\" alt=\"HF account\" width=\"75%\">\n",
        "\n",
        "If you have selected fine-grained permissions, you will need to add repositories (models) that you want that token to grant permission to.\n",
        "\n",
        "<img src=\"https://github.com/geog3300-agri3003/coursebook/raw/main/docs/img/hf-5-annotated.png\" alt=\"HF account\" width=\"75%\">\n",
        "\n",
        "6. Click *Create token* to generate the access token.\n",
        "\n",
        "<img src=\"https://github.com/geog3300-agri3003/coursebook/raw/main/docs/img/hf-6-annotated.png\" alt=\"HF account\" width=\"75%\">\n",
        "\n",
        "7. Copy the access token. **This is your only opportunity to do this - keep a record of the token (in a secure location)**. If you lose your token, it's easy to generate a new one.\n",
        "\n",
        "<img src=\"https://github.com/geog3300-agri3003/coursebook/raw/main/docs/img/hf-7-annotated.png\" alt=\"HF account\" width=\"75%\">\n",
        "\n",
        "8. In Google Colab, click on the *key* icon in the left-hand sidebar.\n",
        "\n",
        "<img src=\"https://github.com/geog3300-agri3003/coursebook/raw/main/docs/img/hf-8-annotated.png\" alt=\"HF account\" width=\"75%\">\n",
        "\n",
        "9. Add your Hugging Face access token with the name `HF_TOKEN` and make sure the Notebook access it checked. **Restart your Google Colab session to load the token into your environment**.\n",
        "\n",
        "<img src=\"https://github.com/geog3300-agri3003/coursebook/raw/main/docs/img/hf-9-annotated.png\" alt=\"HF account\" width=\"50%\">\n",
        "\n",
        "### Setup runtime\n",
        "\n",
        "**This lab will only work (quickly) using Google Colab with a *T4 GPU* runtime type.**\n",
        "\n",
        "**Before running any code, set the runtime type to *T4 GPU*.**\n",
        "\n",
        "<img src=\"https://github.com/geog3300-agri3003/coursebook/raw/main/docs/img/week-1-colab-runtime-1.jpg\" alt=\"colab runtime menu\" width=\"50%\">\n",
        "\n",
        "<p></p>\n",
        "\n",
        "<img src=\"https://github.com/geog3300-agri3003/coursebook/raw/main/docs/img/week-1-colab-runtime-2.jpg\" alt=\"colab runtime menu\" width=\"50%\">\n",
        "\n"
      ]
    },
    {
      "cell_type": "markdown",
      "metadata": {
        "id": "Jmke51n5HI8T"
      },
      "source": [
        "### Import modules\n",
        "\n",
        "A package is a collection of files containing Python code that we can use in our program. Files containing Python code are called modules (a package is a collection of modules). By importing Python packages, we can make our programs shorter and reuse code that has already been written to complete a task.\n",
        "\n",
        "For example, the pandas provides a DataFrame structure for storing tabular data and specific functions for working with tabular data.\n",
        "\n",
        "We need to immport the modules into our Python program where they can be used.\n",
        "\n",
        "Here, we import a package called `os`, which contains tools for working with the operating system (e.g. creating paths to folders and files).\n",
        "\n",
        "We also import `torch` and `transformers`, which are machine learning packages.\n",
        "\n",
        "Importing these packages into our program means we can re-use code that has already been written to work with deep learning models that can receive and generate natural language. We'll use these tools in our program to create an AI farm chat assistant."
      ]
    },
    {
      "cell_type": "code",
      "execution_count": 26,
      "metadata": {
        "id": "DutVed5EY0Ig"
      },
      "outputs": [],
      "source": [
        "import os\n",
        "import torch\n",
        "from transformers import pipeline"
      ]
    },
    {
      "cell_type": "markdown",
      "metadata": {
        "id": "L5N7k0F1kQFn"
      },
      "source": [
        "## Using `pipeline` objects\n",
        "\n",
        "To create a `pipeline` object call the `pipeline()` instantiator function as pass in the task (`\"text-generation\"` here), the model (`\"google/gemma-2-2b-it\"`), and some additional arguments. Set the `device_map` argument to `\"auto\"` to run the model on Colab's GPU when it is available.\n",
        "\n",
        "An object in Python programs is a container for related data and functions. Data is information related to a particular concept, represented by the object, and functions do things with data to complete a task.\n",
        "\n",
        "This will download the model to your Colab environment, which will take a moment or two. Here, we are using <a href=\"https://huggingface.co/google/gemma-2-2b-it\" target=\"_blank\">Google's Gemma 2 2b it model</a> - follow this link to make yourself aware of the terms of use for this model."
      ]
    },
    {
      "cell_type": "code",
      "execution_count": null,
      "metadata": {
        "id": "JILre-U3bqEV"
      },
      "outputs": [],
      "source": [
        "pipe = pipeline(\n",
        "    \"text-generation\",\n",
        "    model=\"google/gemma-2-2b-it\",\n",
        "    model_kwargs={\"torch_dtype\": torch.bfloat16},\n",
        "    device_map=\"auto\",\n",
        ")"
      ]
    },
    {
      "cell_type": "markdown",
      "metadata": {
        "id": "Rd3QB6gGlWJp"
      },
      "source": [
        "## Functions\n",
        "\n",
        "Our `pipe` object can be treated as a function. You can spot functions by `()` appearing after the function name. Functions can take input data - this is the function's arguments -  and use these inputs to complete it's task.\n",
        "\n",
        "Functions can return data back to the Python program, display data on your screen, or save data to disk.\n",
        "\n",
        "The general pattern for executing a function / method is:\n",
        "\n",
        "1. The function is called and any data are passed in as arguments inside `()`\n",
        "2. The function performs operations on the data passed in\n",
        "3. The function returns the result of operating on the data\n",
        "\n",
        "The `pipe()` function takes in text data as a prompt (here we ask `\"What is canola?\"`) and a number to the `max_new_tokens` paramter.\n",
        "\n",
        "It returns the output text that the Gemma model has generated in response to the prompt. This output text is referenced by the variable `output`.\n",
        "\n",
        "**The <a href=\"https://blog.google/technology/developers/gemma-open-models/\">Gemma</a> model we are using is a reduced size and open large language model. Therefore, its responses might not be as accurate as ones generated from larger models available online (e.g. Gemini or ChatGPT). We would probably not use this version of the Gemma model directly in a agricultural chat assistant; we would fine-tune or train a LLM to be more accurate with agricultural topics. However, it is a good example of how we can use Python to build a program to provide a useful service or solve a task. In this case, we're building a program that would let people use AI to get more information about farm management.**\n",
        "\n",
        "**It is also your responsibility to only provide agriculturally relevant prompts to the model. You should not create offensive, personal, or controversial prompts. This is also a more general principle when working with big datasets, machine learning models and when developing technology. It is important to do so in a way that causes no harm.**"
      ]
    },
    {
      "cell_type": "code",
      "source": [
        "prompt = \"What is canola?\"\n",
        "\n",
        "outputs = pipe(prompt, max_new_tokens=512)\n",
        "response = outputs[0][\"generated_text\"].strip()\n",
        "print(response)"
      ],
      "metadata": {
        "id": "Tr6EDujrnyYY"
      },
      "execution_count": null,
      "outputs": []
    },
    {
      "cell_type": "markdown",
      "metadata": {
        "id": "rNAz45JinGOk"
      },
      "source": [
        "#### Recap quiz\n",
        "\n",
        "<details>\n",
        "    <summary><b>Is <code>print()</code> a function?</b></summary>\n",
        "\n",
        "Yes, `print()` is a function. You can tell it's a function because of the parentheses after the function name. The fact that print is a verb also indicates it's a function - something is being done (nouns are often used to indicate data). `print()` takes in data from our Python program and prints a representation of this data on our display. Above, we pass in the output from generating text with our Gemma model and print it on the display.\n",
        "</details>"
      ]
    },
    {
      "cell_type": "markdown",
      "metadata": {
        "id": "t0IL3ttzj5cV"
      },
      "source": [
        "## Data\n",
        "\n",
        "Programs generally complete their tasks by doing things with data. Data can be scientific data which can be analysed and visualised. However, in a computer program data refers to any information the program needs to run. For example, it could be text data such as file paths or file names or URLs for resources on the internet.\n",
        "\n",
        "There are different types of data. Python provides support for the following built-in data types:\n",
        "\n",
        "* `float` - storing floating point numeric values.\n",
        "* `int` - storing integer numeric values.\n",
        "* `str` - storing text data as strings.\n",
        "* `bool` - storing True or False as boolean values.\n",
        "* `None` - storing null values.\n",
        "* `bytes` - storing raw binary data.\n",
        "\n",
        "Our AI-powered farm assistant program requires two key pieces of data. Text prompts for the user (i.e. questions or requests for information) and text outputs from the LLM. Here, we'll be storing text data as <a href=\"https://realpython.com/python-strings/\" target=\"_blank\">string (`str`)</a> type data in our program.\n",
        "\n",
        "In Python, we create `str` type data by placing text inside quotation marks `\"a string\"`.\n",
        "\n",
        "Let's create some different text prompts as `str` type data."
      ]
    },
    {
      "cell_type": "code",
      "execution_count": null,
      "metadata": {
        "id": "Lzyfi1Z7cIXs"
      },
      "outputs": [],
      "source": [
        "prompt = \"Drought is affecting my wheat crop. What strategies can I use to protect crop yields?\"\n",
        "\n",
        "outputs = pipe(prompt, max_new_tokens=512)\n",
        "response = outputs[0][\"generated_text\"].strip()\n",
        "print(response)"
      ]
    },
    {
      "cell_type": "markdown",
      "metadata": {
        "id": "Ox0VCkc-edkj"
      },
      "source": [
        "#### Recap quiz\n",
        "\n",
        "**Can you create a new prompt of `str` type data to ask the model about pests affecting bananas?**"
      ]
    },
    {
      "cell_type": "code",
      "execution_count": null,
      "metadata": {
        "id": "SO90FUXaeoDx"
      },
      "outputs": [],
      "source": [
        "## ADD CODE HERE"
      ]
    },
    {
      "cell_type": "markdown",
      "metadata": {
        "id": "GK5EmMRzeK4j"
      },
      "source": [
        "<details>\n",
        "    <summary><b>answer</b></summary>\n",
        "\n",
        "```python\n",
        "prompt = \"What insects and pests affect banana crops?\"\n",
        "\n",
        "outputs = pipe(prompt, max_new_tokens=512)\n",
        "response = outputs[0][\"generated_text\"].strip()\n",
        "print(response)\n",
        "```\n",
        "</details>"
      ]
    },
    {
      "cell_type": "markdown",
      "metadata": {
        "id": "vwtbsNjkbrBI"
      },
      "source": [
        "## Data structures\n",
        "\n",
        "Python provides a series of built-in data structures that can be used to group together and store related data.\n",
        "\n",
        "You can think of a data structure as a container for related data values in a Python program. For example, a DataFrame is often used to store a tabular datset similar to how you would store data in a spreadsheet in excel.\n",
        "\n",
        "A commonly used data structure in Python is a `list`. A `list` stores .... a list of data values.\n",
        "\n",
        "A Python `list` is created by placing data values inside square brackets `[]`. If we have many prompts or questions we want to ask out farm assistant, we can store them all in a list."
      ]
    },
    {
      "cell_type": "code",
      "execution_count": 54,
      "metadata": {
        "id": "NYL9-vA8hjCh"
      },
      "outputs": [],
      "source": [
        "prompts = [\n",
        "    \"When are wheat crops ready for harvest in Western Australia?\",\n",
        "    \"What is harvest weed seed control?\",\n",
        "]"
      ]
    },
    {
      "cell_type": "markdown",
      "metadata": {
        "id": "sge_gqA8jfLK"
      },
      "source": [
        "`prompts` is a list of two elements. Each element is a prompt for our LLM of `str` type data. Elements in a Python `list` have an index position starting at 0 for the first element. We can access elements of a list using their index. For example, to access the second element of the list we would execute the following statement:\n",
        "\n",
        "`prompts[1]`\n",
        "\n",
        "Note that index position 1 corresponds to the second element. Indexing starts at 0."
      ]
    },
    {
      "cell_type": "code",
      "execution_count": null,
      "metadata": {
        "id": "iQhMWSVyj1xt"
      },
      "outputs": [],
      "source": [
        "print(f\"the first element in the list is {prompts[0]}\")\n",
        "print(f\"the second element in the list is {prompts[1]}\")"
      ]
    },
    {
      "cell_type": "markdown",
      "metadata": {
        "id": "nXQMr8O2kszE"
      },
      "source": [
        "We can add items to our list using a `list` object's `append()` method. Note, this is a function as you can see the `()` after append.\n",
        "\n",
        "To use the `append()` method, we pass in the data we wish to append to the end of the list. Let's add another prompt to our list: `\"What herbicides are used in Australia?\"`"
      ]
    },
    {
      "cell_type": "code",
      "execution_count": null,
      "metadata": {
        "id": "WDtYIaqglHXk"
      },
      "outputs": [],
      "source": [
        "prompts.append(\"What herbicides are used in Western Australia?\")\n",
        "print(prompts)"
      ]
    },
    {
      "cell_type": "markdown",
      "metadata": {
        "id": "t83FI4Wzk6I7"
      },
      "source": [
        "#### Recap quiz\n",
        "\n",
        "**Can you add another item to `prompts`? The item to add is `\"What grain crops are grown in France?\"`.**"
      ]
    },
    {
      "cell_type": "code",
      "execution_count": 62,
      "metadata": {
        "id": "FiNrRN7NmzOB"
      },
      "outputs": [],
      "source": [
        "## ADD CODE HERE"
      ]
    },
    {
      "cell_type": "markdown",
      "metadata": {
        "id": "cFhFy_J9m0kb"
      },
      "source": [
        "<details>\n",
        "    <summary><b>answer</b></summary>\n",
        "\n",
        "```python\n",
        "prompts.append(\"What grain crops are grown in France?\")\n",
        "prompts\n",
        "```\n",
        "</details>"
      ]
    },
    {
      "cell_type": "markdown",
      "metadata": {
        "id": "EFCF0hYLo709"
      },
      "source": [
        "## Flow control\n",
        "\n",
        "Flow control refers to the order in which the statements that make up a program are executed. A common flow control tool are a for loops. For loops allow us to iterate over items in a sequence; we can loop over items in a list. To loop over the items in `prompts` and print the current item we would execute:"
      ]
    },
    {
      "cell_type": "code",
      "execution_count": null,
      "metadata": {
        "id": "0AyZNWXQpRub"
      },
      "outputs": [],
      "source": [
        "for p in prompts:\n",
        "    print(p)"
      ]
    },
    {
      "cell_type": "markdown",
      "metadata": {
        "id": "ZgcXI8TUpHp0"
      },
      "source": [
        "## Putting it all together: a Python program\n",
        "\n",
        "Now we can put together the various concepts we've covered above (data types, data structures, functions, and flow control) to create a simple program that can store multiple prompts or questions from a user, pass these prompts into our LLM, and return answers.\n",
        "\n",
        "This is a basic template of Python program to create an AI-powered farm chat assistant app. If we were expanding this we might build a user interface (e.g. a web form) where users could enter prompts that would be added to the `prompts`. We should also use a model that is trained and tested for the application domain we're working in. However, this is a small illustration of how to write a Python program to complete a task (in this case building a small prototype application for a farm chat assistant)."
      ]
    },
    {
      "cell_type": "code",
      "execution_count": null,
      "metadata": {
        "id": "m6we2HPJnLFN"
      },
      "outputs": [],
      "source": [
        "for p in prompts:\n",
        "    print(\"Question for the farm assistant:\")\n",
        "    outputs = pipe(p, max_new_tokens=512)\n",
        "    response = outputs[0][\"generated_text\"].strip()\n",
        "    print(response)\n",
        "    print(\"\")\n",
        "    print(\"***************\")\n",
        "    print(\"\")"
      ]
    }
  ],
  "metadata": {
    "accelerator": "GPU",
    "colab": {
      "gpuType": "T4",
      "provenance": []
    },
    "kernelspec": {
      "display_name": "Python 3",
      "name": "python3"
    },
    "language_info": {
      "name": "python"
    }
  },
  "nbformat": 4,
  "nbformat_minor": 0
}
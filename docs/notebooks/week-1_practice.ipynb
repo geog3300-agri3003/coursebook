{
 "cells": [
  {
   "cell_type": "markdown",
   "id": "2967a958-7c11-4be2-9c15-d70941e1ddbd",
   "metadata": {},
   "source": [
    "# Week 1 - Practice Exercises\n",
    "\n",
    "This notebook contains a series of practice exercises related to the content in week 1's lab. It is designed to help you become more familiar with the Python programming concepts introduced in week 1 and practice writing simple Python statements to achieve tasks. \n",
    "\n",
    "<a href=\"https://colab.research.google.com/github/geog3300-agri3003/coursebook/blob/main/docs/notebooks/week-1_practice.ipynb\" target=\"_blank\">\n",
    "  <img src=\"https://colab.research.google.com/assets/colab-badge.svg\" alt=\"Open In Colab\"/>\n",
    "</a>\n"
   ]
  },
  {
   "cell_type": "markdown",
   "id": "4f9739f0-0498-4530-af67-21a8601ece2c",
   "metadata": {},
   "source": [
    "## Data types\n",
    "\n",
    "### Numeric data types\n",
    "\n",
    "**1.34 is assigned to the variable `a`, can you print the data referenced by variable `a` on your display?**"
   ]
  },
  {
   "cell_type": "code",
   "execution_count": null,
   "id": "c65e984f-384d-43f8-8c2f-b4bd1bea77cf",
   "metadata": {},
   "outputs": [],
   "source": [
    "## add code here ##"
   ]
  },
  {
   "cell_type": "markdown",
   "id": "13ed1da5-4ee3-4704-abd1-655a5145a20c",
   "metadata": {},
   "source": [
    "<details>\n",
    "    <summary><b>answer</b></summary>\n",
    "\n",
    "```{python}\n",
    "a = 1.34\n",
    "print(a)\n",
    "```\n",
    "</details>\n",
    "<p></p>"
   ]
  },
  {
   "cell_type": "markdown",
   "id": "eaa977cc-2a08-4a6a-9377-48acc24df59d",
   "metadata": {},
   "source": [
    "**Can you add 8 and 2 and assign the result to the variable name `z`?**"
   ]
  },
  {
   "cell_type": "code",
   "execution_count": null,
   "id": "32165640-8dc4-477d-8c7f-7a952dc18217",
   "metadata": {},
   "outputs": [],
   "source": [
    "## add code here ##"
   ]
  },
  {
   "cell_type": "markdown",
   "id": "83a4dd21-51c3-4783-8d42-79e924097c56",
   "metadata": {},
   "source": [
    "<details>\n",
    "    <summary><b>answer</b></summary>\n",
    "\n",
    "```{python}\n",
    "z = 8 + 2\n",
    "print(z)\n",
    "```\n",
    "</details>\n",
    "<p></p>"
   ]
  },
  {
   "cell_type": "markdown",
   "id": "7cf21ebf-8f8d-4126-a6e3-a0021c49ecd4",
   "metadata": {},
   "source": [
    "**Can you check what data type `4` is?**"
   ]
  },
  {
   "cell_type": "code",
   "execution_count": null,
   "id": "9401c853-5449-45dd-b400-f969939f22e9",
   "metadata": {},
   "outputs": [],
   "source": [
    "## add code here ##"
   ]
  },
  {
   "cell_type": "markdown",
   "id": "68fcf125-2fe3-475b-8761-216f99a44878",
   "metadata": {},
   "source": [
    "<details>\n",
    "    <summary><b>answer</b></summary>\n",
    "\n",
    "```{python}\n",
    "print(type(4))\n",
    "```\n",
    "</details>\n",
    "<p></p>"
   ]
  },
  {
   "cell_type": "markdown",
   "id": "16cadc09-58cd-46f4-a269-7a3b841b99fe",
   "metadata": {},
   "source": [
    "### String data types\n",
    "\n",
    "**Can you check what data type `\"hello\"` is?**"
   ]
  },
  {
   "cell_type": "code",
   "execution_count": null,
   "id": "ffeb0f17-6c63-40fa-af1e-951ea4e4a517",
   "metadata": {},
   "outputs": [],
   "source": [
    "## add code here ##"
   ]
  },
  {
   "cell_type": "markdown",
   "id": "8702c9cd-f939-4154-9462-63f61e772950",
   "metadata": {},
   "source": [
    "<details>\n",
    "    <summary><b>answer</b></summary>\n",
    "\n",
    "```{python}\n",
    "print(type(\"hello\"))\n",
    "```\n",
    "</details>"
   ]
  },
  {
   "cell_type": "markdown",
   "id": "0aadb591-371c-4a8e-8d6a-8d90842a1c2a",
   "metadata": {},
   "source": [
    "**We can represent multiline strings by enclosing the text values inside three `\"\"\"` or `'''`.**\n",
    "\n",
    "**For example:**\n",
    "\n",
    "```{python}\n",
    "a_longer_string = '''\n",
    "This is a multiline\n",
    "string object.\n",
    "'''\n",
    "```"
   ]
  },
  {
   "cell_type": "markdown",
   "id": "53a95169-2702-4eb2-9a01-5cd468a94844",
   "metadata": {},
   "source": [
    "String objects have a range of methods for transforming text data. You can see a list of the string methods <a href=\"https://www.w3schools.com/python/python_strings_methods.asp\" target=\"_blank\">here</a>.\n",
    "\n",
    "**Can you use the `upper()` method to convert this string's text characters to upper case: `\"Hello!\"`?**"
   ]
  },
  {
   "cell_type": "code",
   "execution_count": null,
   "id": "27d890bd-7ff3-4d5d-aefa-30280e840ab6",
   "metadata": {},
   "outputs": [],
   "source": [
    "## add code here ##"
   ]
  },
  {
   "cell_type": "markdown",
   "id": "b9a3b9b9-12c8-4347-ab3d-5e80076bc080",
   "metadata": {},
   "source": [
    "<details>\n",
    "    <summary><b>answer</b></summary>\n",
    "\n",
    "```{python}\n",
    "print(\"Hello!\".upper())\n",
    "```\n",
    "</details>"
   ]
  },
  {
   "cell_type": "markdown",
   "id": "86f87993-15c7-455e-a0fd-37294d984e37",
   "metadata": {},
   "source": [
    "**Can you use the `find()` method to find the index location of `\"object\"` in this multiline string?**\n",
    "\n",
    "```{python}\n",
    "a_longer_string = '''\n",
    "This is a multiline\n",
    "string object.\n",
    "'''\n",
    "```"
   ]
  },
  {
   "cell_type": "code",
   "execution_count": null,
   "id": "e5bedf53-a4b5-425e-a3c6-c23162a7d4b4",
   "metadata": {},
   "outputs": [],
   "source": [
    "## add code here ##"
   ]
  },
  {
   "cell_type": "markdown",
   "id": "ac17e795-9066-4d9e-beab-8591a4245907",
   "metadata": {},
   "source": [
    "<details>\n",
    "    <summary><b>answer</b></summary>\n",
    "\n",
    "```{python}\n",
    "a_longer_string = '''\n",
    "This is a multiline\n",
    "string object.\n",
    "'''\n",
    "print(a_longer_string.find(\"object\"))\n",
    "```\n",
    "</details>"
   ]
  },
  {
   "cell_type": "markdown",
   "id": "b18619ae-6545-4dd7-a344-53b71ca1277a",
   "metadata": {},
   "source": [
    "The `endswith()` method is a useful tool for checking if a string ends with a certain sequence of text values. We use this often to check if a filename ends with a certain format. \n",
    "\n",
    "**Can you use the `endswith()` method to check if the string `\"an_image.tif\"` ends with the `\".tif\"` extension?**"
   ]
  },
  {
   "cell_type": "code",
   "execution_count": null,
   "id": "7a31c9c9-2f42-4c81-9d37-22cd72640a22",
   "metadata": {},
   "outputs": [],
   "source": [
    "## add code here ##"
   ]
  },
  {
   "cell_type": "markdown",
   "id": "11ab8278-58d4-472d-87c2-2323c28aba2f",
   "metadata": {},
   "source": [
    "<details>\n",
    "    <summary><b>answer</b></summary>\n",
    "\n",
    "```{python}\n",
    "print(\"an_image.tif\".endswith(\".tif\"))\n",
    "```\n",
    "</details>"
   ]
  },
  {
   "cell_type": "markdown",
   "id": "ec197468-cbe6-45f4-bf68-1af35709efec",
   "metadata": {},
   "source": [
    "## Data Structures\n",
    "\n",
    "**When pracitcing using data structures to store collections of values, think about how you can use data structures to model a range of data formats or real-world datasets (e.g. spreadsheets, data from weather stations, image pixels).**\n",
    "\n",
    "### Lists\n",
    "\n",
    "**Can you use the `len()` function to find out the length (number of elements) in this list: `a_list = [1, 2, 3]`?**"
   ]
  },
  {
   "cell_type": "code",
   "execution_count": null,
   "id": "1fe062de-dfe5-43a6-8730-d40af08c5b7c",
   "metadata": {},
   "outputs": [],
   "source": [
    "## add code here ##"
   ]
  },
  {
   "cell_type": "markdown",
   "id": "baaf4f71-a72e-4ae4-ac4e-b397011dafa1",
   "metadata": {},
   "source": [
    "<details>\n",
    "    <summary><b>answer</b></summary>\n",
    "    \n",
    "```{python}\n",
    "a_list = [1, 2, 3]\n",
    "print(len(a_list))\n",
    "```\n",
    "</details>\n",
    "<p></p>"
   ]
  },
  {
   "cell_type": "markdown",
   "id": "c01d04f7-cb37-4c19-b7fe-533a4c5f6895",
   "metadata": {},
   "source": [
    "**Can you select the first element of this list: `a_list = [1, 2, 3]`?**"
   ]
  },
  {
   "cell_type": "code",
   "execution_count": null,
   "id": "8d54b385-de7b-4bb2-972f-589db59bfafd",
   "metadata": {},
   "outputs": [],
   "source": [
    "## add code here ##"
   ]
  },
  {
   "cell_type": "markdown",
   "id": "f810e593-9c65-4704-ab05-0bfd737bfb13",
   "metadata": {},
   "source": [
    "<details>\n",
    "    <summary><b>answer</b></summary>\n",
    "    \n",
    "```{python}\n",
    "a_list = [1, 2, 3]\n",
    "print(a_list[0])\n",
    "```\n",
    "</details>\n",
    "<p></p>"
   ]
  },
  {
   "cell_type": "markdown",
   "id": "e612b55d-0182-4ea9-bd7f-2fde8964e1b8",
   "metadata": {},
   "source": [
    "**Can you slice out the last two elements of this list: `a_list = [1, 2, 3]`?**"
   ]
  },
  {
   "cell_type": "code",
   "execution_count": null,
   "id": "ce93136f-f883-4653-9d74-c897d7cd8a72",
   "metadata": {},
   "outputs": [],
   "source": [
    "## add code here ##"
   ]
  },
  {
   "cell_type": "markdown",
   "id": "6f2cd024-35fe-4e0b-90ff-6f8a4bf90051",
   "metadata": {},
   "source": [
    "<details>\n",
    "    <summary><b>answer</b></summary>\n",
    "Remember, the last index location in the slice is exclusive!\n",
    "    \n",
    "```{python}\n",
    "a_list = [1, 2, 3]\n",
    "print(a_list[1:3]) \n",
    "```\n",
    "</details>\n",
    "<p></p>"
   ]
  },
  {
   "cell_type": "markdown",
   "id": "03919e4b-540f-4992-8395-86dfa5c44d3d",
   "metadata": {},
   "source": [
    "**Can you add the string `\"modified\"` to the list: `text_list = [\"lists\", \"can\", \"be\"]`?**"
   ]
  },
  {
   "cell_type": "code",
   "execution_count": null,
   "id": "840e33ad-ee84-47b1-ba12-9e0e2fa5c2f1",
   "metadata": {},
   "outputs": [],
   "source": [
    "## add code here ##"
   ]
  },
  {
   "cell_type": "markdown",
   "id": "885f2b6d-0037-4163-9868-613d56fa6e58",
   "metadata": {},
   "source": [
    "<details>\n",
    "    <summary><b>answer</b></summary>\n",
    "Remember, lists are mutable data structures!\n",
    "    \n",
    "```{python}\n",
    "text_list = [\"lists\", \"can\", \"be\"]\n",
    "print(text_list.append(\"modified\"))\n",
    "```\n",
    "</details>\n",
    "<p></p>"
   ]
  },
  {
   "cell_type": "markdown",
   "id": "0a2d443f-e5f6-491a-ab56-acc69064c109",
   "metadata": {},
   "source": [
    "**Can you replace the first animal in this list with the string `\"cow\"`: `animal_list = [\"sheep\", \"horse\", \"pig\"]`?**"
   ]
  },
  {
   "cell_type": "code",
   "execution_count": null,
   "id": "169ed904-6ea7-4ada-9125-c3bfcc3318f7",
   "metadata": {},
   "outputs": [],
   "source": [
    "## add code here ##"
   ]
  },
  {
   "cell_type": "markdown",
   "id": "158e0a24-2999-42d7-93fe-693f9589b665",
   "metadata": {},
   "source": [
    "<details>\n",
    "    <summary><b>answer</b></summary>\n",
    "Remember, lists are mutable data structures!\n",
    "    \n",
    "```{python}\n",
    "animal_list = [\"sheep\", \"horse\", \"pig\"]\n",
    "animal_list[0] = \"cow\"\n",
    "print(animal_list) \n",
    "```\n",
    "</details>\n",
    "<p></p>"
   ]
  },
  {
   "cell_type": "markdown",
   "id": "c79bf351-8092-45da-8e11-873eaee117a9",
   "metadata": {},
   "source": [
    "Along with using index locations and slices, we can also use list methods to modify list elements. The `insert()` method takes an index location and value as arguments, and inserts the value into the location specified by the index.\n",
    "\n",
    "For example, \n",
    "\n",
    "```{python}\n",
    "a_list = [1, 2, 3]\n",
    "a_list.insert(0, 4)\n",
    "print(a_list)\n",
    "```\n",
    "Should return `[4, 1, 2, 3]`.\n",
    "\n",
    "**Can you add the number `5` to the second index location in the list `a_list = [4, 1, 2, 3]`?**"
   ]
  },
  {
   "cell_type": "code",
   "execution_count": null,
   "id": "ed139cff-c990-4565-ae82-240747d9194c",
   "metadata": {},
   "outputs": [],
   "source": [
    "## add code here ##"
   ]
  },
  {
   "cell_type": "markdown",
   "id": "e8532134-0e7a-483d-b96b-c01a53c90863",
   "metadata": {},
   "source": [
    "<details>\n",
    "    <summary><b>answer</b></summary>\n",
    "Remember, lists are mutable data structures!\n",
    "    \n",
    "```{python}\n",
    "a_list = [4, 1, 2, 3]\n",
    "a_list.insert(1, 5)\n",
    "print(a_list)\n",
    "```\n",
    "</details>\n",
    "<p></p>"
   ]
  },
  {
   "cell_type": "markdown",
   "id": "58a02d7b-0877-4cca-91d3-dade7af751ee",
   "metadata": {},
   "source": [
    "Note, the use of the `.` operator to access an object's methods.\n",
    "\n",
    "The `pop()` method of a list removes a value at the specified index location, which is passed in as an argument. \n",
    "\n",
    "**Can you use the pop() method to remove the third element of `a_list = [1, 2, 3, 4, 5]`?**"
   ]
  },
  {
   "cell_type": "code",
   "execution_count": null,
   "id": "6301695e-9591-437d-a7e6-5d9fed26eb4a",
   "metadata": {},
   "outputs": [],
   "source": [
    "## add code here ##"
   ]
  },
  {
   "cell_type": "markdown",
   "id": "58bd00c3-c432-4691-b4ae-eddd949520fd",
   "metadata": {},
   "source": [
    "<details>\n",
    "    <summary><b>answer</b></summary>\n",
    " \n",
    "```{python}\n",
    "a_list = [1, 2, 3, 4, 5]\n",
    "a_list.pop(2)\n",
    "print(a_list)\n",
    "```\n",
    "</details>"
   ]
  },
  {
   "cell_type": "markdown",
   "id": "3748a410-a2a3-44d7-96e8-88de92c41f70",
   "metadata": {},
   "source": [
    "## Tuples"
   ]
  },
  {
   "cell_type": "markdown",
   "id": "540337c9-9188-4b45-a46e-ca3e3799a56d",
   "metadata": {},
   "source": [
    "**How to you create a tuple with one element?**"
   ]
  },
  {
   "cell_type": "code",
   "execution_count": null,
   "id": "4f01222b-2b93-4a4f-9df8-4dc2d3418c2d",
   "metadata": {},
   "outputs": [],
   "source": [
    "## add code here ##"
   ]
  },
  {
   "cell_type": "markdown",
   "id": "5fa293f8-e1e6-4c3c-9ab1-bcbbd01f9ad0",
   "metadata": {},
   "source": [
    "<details>\n",
    "    <summary><b>answer</b></summary>\n",
    "\n",
    "You must include a comma after the data value. Otherwise it would be interpreted as a integer if a single digit, for example.\n",
    "    \n",
    "```{python}\n",
    "a_tuple = (1,)\n",
    "```\n",
    "</details>\n",
    "<p></p>"
   ]
  },
  {
   "cell_type": "markdown",
   "id": "2e7dd052-4c60-4593-ac3b-63f91d8e3bac",
   "metadata": {},
   "source": [
    "**Can you use the `len()` function to find out the length (number of elements) in this tuple: `a_tuple = (0, 1, 2, 3)`?**"
   ]
  },
  {
   "cell_type": "code",
   "execution_count": null,
   "id": "ceab618a-cc3a-4300-a298-e90c272f0b26",
   "metadata": {},
   "outputs": [],
   "source": [
    "## add code here ##"
   ]
  },
  {
   "cell_type": "markdown",
   "id": "177b972e-96fe-495e-8846-bf5cb1bc5b89",
   "metadata": {},
   "source": [
    "<details>\n",
    "    <summary><b>answer</b></summary>\n",
    "    \n",
    "```{python}\n",
    "a_tuple = (0, 1, 2, 3)\n",
    "print(len(a_tuple))\n",
    "```\n",
    "</details>\n",
    "<p></p>"
   ]
  },
  {
   "cell_type": "markdown",
   "id": "b1ed1590-b795-465f-a731-8e02c98cacbb",
   "metadata": {},
   "source": [
    "**Can you get the value of the second element in this tuple: `a_tuple = (0, 1, 2, 3)`?**"
   ]
  },
  {
   "cell_type": "code",
   "execution_count": null,
   "id": "e09b7a11-371c-4aad-bb05-b6ffd946b759",
   "metadata": {},
   "outputs": [],
   "source": [
    "## add code ##"
   ]
  },
  {
   "cell_type": "markdown",
   "id": "9957aa18-4ab1-41d7-bb16-fcf2fbd2f0f3",
   "metadata": {},
   "source": [
    "<details>\n",
    "    <summary><b>answer</b></summary>\n",
    "    \n",
    "```{python}\n",
    "a_tuple = (0, 1, 2, 3)\n",
    "print(a_tuple[1])\n",
    "```\n",
    "</details>\n",
    "<p></p>"
   ]
  },
  {
   "cell_type": "markdown",
   "id": "944a4720-07e4-4e6d-9302-f31c462772ab",
   "metadata": {},
   "source": [
    "### Dictionaries\n",
    "\n",
    "**Can you access the list of temperature values from this dict?**\n",
    "\n",
    "```{python}\n",
    "weather_station_data = {\n",
    "\"name\": \"York\",\n",
    "\"date\": [\"2020-01-01\", \"2020-01-02\", \"2020-01-03\", \"2020-01-04\"],\n",
    "\"temperature\": [34, 33, 38, 27],\n",
    "\"precipitation\": [0, 0, 0, 0.1]\n",
    "}\n",
    "```"
   ]
  },
  {
   "cell_type": "code",
   "execution_count": null,
   "id": "30a54bfc-ef7f-4953-8d3f-df5292d88fea",
   "metadata": {},
   "outputs": [],
   "source": [
    "## add code here ##"
   ]
  },
  {
   "cell_type": "markdown",
   "id": "9ab91e44-70fe-46c9-99d9-cb53073520b3",
   "metadata": {},
   "source": [
    "<details>\n",
    "    <summary><b>answer</b></summary>\n",
    "\n",
    "```{python}\n",
    "weather_station_data = {\n",
    "\"name\": \"York\",\n",
    "\"date\": [\"2020-01-01\", \"2020-01-02\", \"2020-01-03\", \"2020-01-04\"],\n",
    "\"temperature\": [34, 33, 38, 27],\n",
    "\"precipitation\": [0, 0, 0, 0.1]\n",
    "}\n",
    "\n",
    "print(weather_station_data[\"temperature\"])\n",
    "```\n",
    "</details>"
   ]
  },
  {
   "cell_type": "markdown",
   "id": "3ce5f434-1479-47c8-8221-2a21c038fcca",
   "metadata": {},
   "source": [
    "**Can you add this list of wind speeds (`[23, 10, 5, 15]`) to the `weather_station_data` dictionary under the `\"wind_speed\"` key?**"
   ]
  },
  {
   "cell_type": "code",
   "execution_count": null,
   "id": "08d77e0c-2a93-47f9-9731-dde67e28c598",
   "metadata": {},
   "outputs": [],
   "source": [
    "## add code here ##"
   ]
  },
  {
   "cell_type": "markdown",
   "id": "da0de46e-7731-4abc-b543-6fbf7a4def7b",
   "metadata": {},
   "source": [
    "<details>\n",
    "    <summary><b>answer</b></summary>\n",
    "\n",
    "```{python}\n",
    "weather_station_data = {\n",
    "\"name\": \"York\",\n",
    "\"date\": [\"2020-01-01\", \"2020-01-02\", \"2020-01-03\", \"2020-01-04\"],\n",
    "\"temperature\": [34, 33, 38, 27],\n",
    "\"precipitation\": [0, 0, 0, 0.1]\n",
    "}\n",
    "weather_station_data[\"wind_speed\"]=[23, 10, 5, 15]\n",
    "print(weather_station_data)\n",
    "```\n",
    "</details>"
   ]
  },
  {
   "cell_type": "markdown",
   "id": "6e03042f-4284-45a0-bdb3-29b47f332117",
   "metadata": {},
   "source": [
    "## Control flow\n",
    "\n",
    "### For loops"
   ]
  },
  {
   "cell_type": "markdown",
   "id": "86386568-334a-4d27-b908-a09c855d75ce",
   "metadata": {},
   "source": [
    "**Can you write a for loop that iterates over the tuple `(0, 1, 2, 3, 4)` and adds two to each value in-turn and prints the result?**"
   ]
  },
  {
   "cell_type": "code",
   "execution_count": null,
   "id": "3ae61560-8a2e-4410-8490-b52d49ec0c66",
   "metadata": {},
   "outputs": [],
   "source": [
    "## add code here ##"
   ]
  },
  {
   "cell_type": "markdown",
   "id": "9ad71e41-2b9e-4a8e-95b6-577a8bf2bfde",
   "metadata": {},
   "source": [
    "<details>\n",
    "    <summary><b>answer</b></summary>\n",
    "    \n",
    "```{python}\n",
    "for i in (0, 1, 2, 3, 4):\n",
    "    print(i + 2)\n",
    "```\n",
    "</details>\n",
    "<p></p>"
   ]
  },
  {
   "cell_type": "markdown",
   "id": "7cbe3346-c68c-4161-b58b-f72601a1c9fe",
   "metadata": {},
   "source": [
    "**Can you create an empty list using the square brackets (`my_list = []`), then iterate over the tuple `(0, 1, 2, 3, 4)`, add two to each value in-turn, and append it to `my_list`?**"
   ]
  },
  {
   "cell_type": "code",
   "execution_count": null,
   "id": "a7a23fc4-983a-4a4a-8ac5-0f08d0695740",
   "metadata": {},
   "outputs": [],
   "source": [
    "## add code here ##"
   ]
  },
  {
   "cell_type": "markdown",
   "id": "9204e506-1072-493c-bcbc-263fa3d99439",
   "metadata": {},
   "source": [
    "<details>\n",
    "    <summary><b>answer</b></summary>\n",
    "    \n",
    "```{python}\n",
    "my_list = []\n",
    "for i in (0, 1, 2, 3, 4):\n",
    "    my_list.append(i)\n",
    "\n",
    "print(my_list)\n",
    "```\n",
    "</details>\n",
    "<p></p>"
   ]
  }
 ],
 "metadata": {
  "kernelspec": {
   "display_name": "Python 3 (ipykernel)",
   "language": "python",
   "name": "python3"
  },
  "language_info": {
   "codemirror_mode": {
    "name": "ipython",
    "version": 3
   },
   "file_extension": ".py",
   "mimetype": "text/x-python",
   "name": "python",
   "nbconvert_exporter": "python",
   "pygments_lexer": "ipython3",
   "version": "3.10.8"
  }
 },
 "nbformat": 4,
 "nbformat_minor": 5
}

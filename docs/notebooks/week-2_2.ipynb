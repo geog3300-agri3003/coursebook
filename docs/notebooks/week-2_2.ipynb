{
 "cells": [
  {
   "cell_type": "markdown",
   "id": "1aaa1471-f00f-4f7a-9c81-8b3565684913",
   "metadata": {},
   "source": [
    "# Geospatial data visualisation\n",
    "\n",
    "This lab will demonstrate how to generate exploratory and interactive visualisations of geospatial data including multispectral satellite images, point-based samples with in a field, global maps of crop yield, and crop types in orchards and plantations. This lab will provide an introduction to:\n",
    "\n",
    "* raster and vector geospatial data\n",
    "* generating interactive visualisations of vector datasets\n",
    "* generating static and interactive visualisations of raster data\n",
    "\n",
    "This week the focus will be on quick, exploratory, and interactive visualisations of geospatial data. For a more detailed discussion of visualising geospatial data please read <a href=\"https://clauswilke.com/dataviz/geospatial-data.html\" target=\"_blank\">Wilke (2019)</a>. For a focus on generating cartographic quality static maps please see the open course <a href=\"https://courses.spatialthoughts.com/python-dataviz.html#matplotlib-basics\" target=\"_blank\">Mapping and Data Visualization with Python</a>."
   ]
  },
  {
   "cell_type": "markdown",
   "id": "822330dd-72f0-4bff-8bce-a38a7b992ead",
   "metadata": {},
   "source": [
    "## Setup\n",
    "\n",
    "### Run the labs\n",
    "\n",
    "You can run the labs locally on your machine or you can use cloud environments provided by Google Colab. **If you're working with Google Colab be aware that your sessions are temporary and you'll need to take care to save, backup, and download your work.**\n",
    "\n",
    "<a href=\"https://colab.research.google.com/github/geog3300-agri3003/coursebook/blob/main/docs/notebooks/week-2_2.ipynb\" target=\"_blank\">\n",
    "  <img src=\"https://colab.research.google.com/assets/colab-badge.svg\" alt=\"Open In Colab\"/>\n",
    "</a>\n",
    "\n",
    "### Download data\n",
    "\n",
    "If you need to download the data for this lab, run the following code snippet. "
   ]
  },
  {
   "cell_type": "code",
   "execution_count": null,
   "id": "5fc62d00-ebe6-471d-b794-493b39304dbb",
   "metadata": {},
   "outputs": [],
   "source": [
    "import os\n",
    "import subprocess\n",
    "\n",
    "if \"data_lab-2_2\" not in os.listdir(os.getcwd()):\n",
    "    subprocess.run('wget \"https://github.com/geog3300-agri3003/lab-data/raw/main/data_lab-2_2.zip\"', shell=True, capture_output=True, text=True)\n",
    "    subprocess.run('unzip \"data_lab-2_2.zip\"', shell=True, capture_output=True, text=True)\n",
    "    if \"data_lab-2_2\" not in os.listdir(os.getcwd()):\n",
    "        print(\"Has a directory called data_lab-2_2 been downloaded and placed in your working directory? If not, try re-executing this code chunk\")\n",
    "    else:\n",
    "        print(\"Data download OK\")"
   ]
  },
  {
   "cell_type": "markdown",
   "id": "12df8086-33bf-4b52-9af6-aab27072fb34",
   "metadata": {},
   "source": [
    "### Install packages\n",
    "\n",
    "If you're working in Google Colab, you'll need to install the required packages that don't come with the colab environment."
   ]
  },
  {
   "cell_type": "code",
   "execution_count": null,
   "id": "519320cf-3379-460f-b7af-4703616c9023",
   "metadata": {},
   "outputs": [],
   "source": [
    "if 'google.colab' in str(get_ipython()):\n",
    "    !pip install rioxarray\n",
    "    !pip install mapclassify\n",
    "    !pip install rasterio"
   ]
  },
  {
   "cell_type": "markdown",
   "id": "3e6082ce-7bed-47b2-9683-76069614f0d8",
   "metadata": {},
   "source": [
    "## Geospatial data\n",
    "\n",
    "Geospatial data represents geographic features or phenomenon as data in computer program or file. \n",
    "\n",
    "There are two main types of geospatial data: \n",
    "\n",
    "* **vector data** - point, line, or polygon geometries\n",
    "* **raster data** - images and arrays\n",
    "\n",
    "There are two components to geospatial data:\n",
    "\n",
    "* **Positional information** describing location, shape, and extent (e.g. an `(x, y)` coordinate pair representing the location of a weather station)\n",
    "* **Attribute information** describing characteristics of the phenomenon or entity (e.g. a name:value pair recording the name of the weather station `name:'Perth Airport'`)"
   ]
  },
  {
   "cell_type": "markdown",
   "id": "d8914020-5e4a-41af-8b93-684ff7f658b8",
   "metadata": {},
   "source": [
    "## Import modules"
   ]
  },
  {
   "cell_type": "code",
   "execution_count": null,
   "id": "d634944a-fc51-4263-884a-4f584d6e48f8",
   "metadata": {},
   "outputs": [],
   "source": [
    "import os\n",
    "\n",
    "import rioxarray as rxr\n",
    "import xarray as xr\n",
    "import plotly.express as px\n",
    "import numpy as np\n",
    "import geopandas as gpd\n",
    "\n",
    "import plotly.io as pio\n",
    "\n",
    "# setup renderer\n",
    "if 'google.colab' in str(get_ipython()):\n",
    "    pio.renderers.default = \"colab\"\n",
    "else:\n",
    "    pio.renderers.default = \"jupyterlab\""
   ]
  },
  {
   "cell_type": "code",
   "execution_count": null,
   "id": "cf17c9ca-a38d-44a6-9a42-d76d92cae4be",
   "metadata": {},
   "outputs": [],
   "source": [
    "data_path = os.path.join(os.getcwd(), \"data_lab-2_2\")"
   ]
  },
  {
   "cell_type": "markdown",
   "id": "abbf2389-75fc-4d2d-bd97-90d0b481918b",
   "metadata": {},
   "source": [
    "## Raster data in Python\n",
    "\n",
    "### Raster data model\n",
    "\n",
    "Raster data breaks the Earth's surface up into a grid of cells (pixels). Each pixel is assigned a value that corresponds to the geographic feature or phenomenon of interest. For example, pixels in a raster precipitation dataset would be assigned a numeric value that represents the amount of precipitation that fell at that location. Pixels in a land cover map would have an integer value that corresponds to a land cover class label. The values assigned to pixels in a raster dataset are the attribute information. \n",
    "\n",
    "![](https://github.com/geog3300-agri3003/coursebook/raw/main/docs/img/week-2-raster-data-lc.png)\n",
    "\n",
    "The size of the pixels relative to their position on the Earth's surface determines the spatial detail that can be resolved. A land cover map with pixels that represent a 1 km x 1 km portion of the Earth's surface will not be able to identify features such as individual buildings.\n",
    "\n",
    "The figure below shows the 2018 European Space Agency (ESA) Climate Change Initiative (CCI) land cover map. Each pixel represents a 300 m x 300 m area on the Earth’s land surface and a pixel can only represent a single land cover type. If you look at the bottom two zoomed in maps you can see some limitations of representing land cover using 300 m x 300 m spatial resolution pixels. The shape of land cover features are poorly represented by the “block-like” arrangement of pixels and there is variation in land cover within a single pixel (a mixed pixel problem).\n",
    "\n",
    "![](https://github.com/geog3300-agri3003/coursebook/raw/main/docs/img/week-2-raster-data-model.png)\n",
    "\n",
    "Raster data represents geographic features and variables (e.g. elevation, reflectance in UAV images) as a grid of values (pixels). In Python, a data structure called an array is used to store and organise pixels in a raster dataset. Typically, <a href=\"https://numpy.org/doc/stable/user/absolute_beginners.html#what-is-an-array\" target=\"_blank\">NumPy `ndarray`</a> objects are used for storing raster data in Python programs. \n",
    "\n",
    "### Arrays: NumPy `ndarray`s\n",
    "\n",
    "NumPy is a library used for scientific and numerical computing and is based around an N-dimensional `ndarray` object. An `ndarray` is a grid of elements of the same data type. The dimensions of a NumPy `ndarray` are called axes. NumPy `array`s can be created from sequences of values (e.g. stored in lists, tuples, other `ndarray`s).\n",
    "\n",
    "![](https://github.com/geog3300-agri3003/coursebook/raw/main/docs/img/week-2-numpy-ndarray.jpg)\n",
    "\n",
    "We can create a simple 2-dimensional `ndarray` using the `array()` function. A `ndarray` with 2-dimensions is a matrix with rows arranged on the 0 axis and columns arranged on the 1 axis."
   ]
  },
  {
   "cell_type": "code",
   "execution_count": null,
   "id": "3bed5343-adc9-49e6-b157-fe1a391aa7e9",
   "metadata": {},
   "outputs": [],
   "source": [
    "# create a 2D ndarray\n",
    "arr2d = np.array([[1, 2, 3], [4, 5, 6]])\n",
    "arr2d"
   ]
  },
  {
   "cell_type": "markdown",
   "id": "98e21585-d9fe-4ff0-906e-f457d7eb71d3",
   "metadata": {},
   "source": [
    "The rank (or number of dimensions) of a `ndarray` is the number of axes."
   ]
  },
  {
   "cell_type": "code",
   "execution_count": null,
   "id": "427d4a5b-2813-4596-9646-71e7045ebbdd",
   "metadata": {},
   "outputs": [],
   "source": [
    "# the rank (ndim) of an ndarry is the number of axes \n",
    "print(f\"the rank of the ndarray is {arr2d.ndim}\")"
   ]
  },
  {
   "cell_type": "markdown",
   "id": "c66f2eab-0f63-43ff-b663-593d1724a96c",
   "metadata": {},
   "source": [
    "The `shape` of an `ndarray` tells us the size of each axis (how many elements are arranged along that axis). "
   ]
  },
  {
   "cell_type": "code",
   "execution_count": null,
   "id": "f52d1ed4-a445-4018-b6a5-ffb3e07a28b4",
   "metadata": {},
   "outputs": [],
   "source": [
    "# the shape of the ndarray \n",
    "print(f\"the shape of the ndarray is {arr2d.shape}\")"
   ]
  },
  {
   "cell_type": "markdown",
   "id": "b1e1ed1d-4067-45b9-a858-0fbad6fe2e61",
   "metadata": {},
   "source": [
    "`ndarray`s can be multidimensional. They can have more than two dimensions. Remote sensing images typically comprise multiple 2-dimensional arrays with each array corresponding to a raster of reflectance measured in a particular wavelength. This 3-dimensional raster data structure can be represented as a NumPy `ndarray` with the bands dimension on axis 0 (each band is a raster for a given wavelength), rows (height of each raster) on axis 1, and columns (width of each raster) on axis 2. \n",
    "\n",
    "Let's create a `ndarray` with 3-dimensions. "
   ]
  },
  {
   "cell_type": "code",
   "execution_count": null,
   "id": "417e3b95-bc9f-42d3-aaa3-9760816bcddd",
   "metadata": {},
   "outputs": [],
   "source": [
    "# create a 3D ndarray\n",
    "arr3d = np.array([[[1, 2, 3], [4, 5, 6]], [[7, 8, 9], [10, 11, 12]]])\n",
    "arr3d"
   ]
  },
  {
   "cell_type": "code",
   "execution_count": null,
   "id": "9c7efbff-2d95-4c13-b7a8-736a42d2eaa6",
   "metadata": {},
   "outputs": [],
   "source": [
    "print(f\"the rank of the ndarray is {arr3d.ndim}\")\n",
    "print(f\"the shape of the ndarray is {arr3d.shape}\")"
   ]
  },
  {
   "cell_type": "markdown",
   "id": "f5543b44-78a0-420d-8a80-2dd9cc2dad90",
   "metadata": {},
   "source": [
    "The concept of N-dimensional arrays can be extended further. For example, a 4-dimensional `ndarray` could store a sequence of 3-dimensional `ndarray`s where the fourth dimension is time and the object represents remote sensing images captured across multiple dates. \n",
    "\n",
    "### Subsetting NumPy ndarrays\n",
    "\n",
    "A subsetting opertation is when you select values from a NumPy `ndarray` object based on their index locations. These operations are generally referred to as indexing and slicing when working with NumPy `ndarray` objects.\n",
    "\n",
    "![](https://github.com/geog3300-agri3003/coursebook/raw/main/docs/img/week-2-subset-numpy-ndarray.jpg)\n",
    "\n",
    "We can extract a value from a NumPy `ndarray` based on its index location. For example, the first element of a 2-Dimensional `ndarray` is at location `[0, 0]` (i.e. the 0th row and 0th column). "
   ]
  },
  {
   "cell_type": "code",
   "execution_count": null,
   "id": "415a99ce-35ac-4e96-af47-0a42ca15569c",
   "metadata": {},
   "outputs": [],
   "source": [
    "first_element = arr2d[0, 0]\n",
    "print(first_element)"
   ]
  },
  {
   "cell_type": "markdown",
   "id": "1d1f24ab-4f1f-4261-8020-4e5aeed946ae",
   "metadata": {},
   "source": [
    "We can use the `:` symbol to specify slices of a NumPy `ndarray` to subset. For example, the following are three different ways of slicing the first two rows.\n",
    "\n",
    "Note that the slice is not inclusive of the index location after the `:` symbol. So, `arr2d[0:2, ]` would select the first two rows of `arr2d` - row 0 and row 1 (remember Python indexes from 0)."
   ]
  },
  {
   "cell_type": "code",
   "execution_count": null,
   "id": "bca09d86-0936-4cae-a1c7-3c5daca8b61b",
   "metadata": {},
   "outputs": [],
   "source": [
    "two_rows_1 = arr2d[0:2, ]\n",
    "print(two_rows_1)\n",
    "\n",
    "two_rows_2 = arr2d[0:2]\n",
    "print(two_rows_2)\n",
    "\n",
    "two_rows_3 = arr2d[:2]\n",
    "print(two_rows_3)"
   ]
  },
  {
   "cell_type": "markdown",
   "id": "fd1b3676-6d4e-4cd7-a224-68305ddff018",
   "metadata": {},
   "source": [
    "We can use multiple slices for different axes. For example, if we wanted to subset values from a selection of rows and columns. "
   ]
  },
  {
   "cell_type": "code",
   "execution_count": null,
   "id": "29fa1b21-f1f3-4eca-8a83-e72127a51a8c",
   "metadata": {},
   "outputs": [],
   "source": [
    "two_rows_cols = arr2d[:2, 1:]\n",
    "print(two_rows_cols)"
   ]
  },
  {
   "cell_type": "markdown",
   "id": "e43079f9-7208-40ac-a361-b75b04923992",
   "metadata": {},
   "source": [
    "It is important to remember that subsetting a NumPy `ndarray` using index locations and slicing only considers the location of elements within an array. You will need to consider and understand how locations within an array relate to \"real world\" dimensions such as geographic location or time."
   ]
  },
  {
   "cell_type": "markdown",
   "id": "f2b28002-c825-4b60-acc1-cb7697b04b90",
   "metadata": {},
   "source": [
    "### Xarray\n",
    "\n",
    "<a href=\"\" target=\"_blank\">Xarray</a> is a Python package that builds on top of NumPy's array-based data structures, but provides extra tools and functions that are useful for working with geospatial and Earth Science datasets. For example, `xarray.DataArray` data structures are objects that store multidimensional arrays of raster values and also store metadata information that describe the raster values. \n",
    "\n",
    "`xarray` also provides convenient functions for reading raster data from geospatial data files on disk into memory as `xarray.DataArray` objects which we can use in our Python programs while retaining geographic and temporal information about the raster values stored in the array.\n",
    "\n",
    "Specifically, while a NumPy `ndarray` stores just the raster values and has some properties such as the `shape` (number of elements along each axis) and `ndim` (the dimensions of the array) it does not explicitly store any geospatial, temporal, or other geographic metadata. `xarray` solves this problem by reading raster data into an `xarray.DataArray` object with:\n",
    "\n",
    "* `values`: the multidimensional array of raster values\n",
    "* `dims`: a list of names for the dimensions of the array (e.g. instead axis 0 describing the 0th (row) dimension of an array that dimension can have a descriptive label such as longitude)\n",
    "* `coordinates`: a `list` of array-like objects that describe the location of an array element along that dimension (e.g. a 1D array of longitude values describing the location on the Earth's surface for each row in the array)\n",
    "* `attrs`: a `dict` of metadata attributes describing the dataset\n",
    "\n",
    "`xarray.DataArray` objects can be stored within a larger container called `xarray.Dataset`. An `xarray.Dataset` can store many `xarray.DataArray` objects that share `dims` and `coordinates`. This is useful if you have different arrays of different `Variables` that correspond to the same locations and time-periods (e.g. you could have a separate array for temperature and precipitation values organised within a single `xarray.Dataset`).\n",
    "\n",
    "![Schematic of an xarray.Dataset (source: xarray Getting Started)](https://docs.xarray.dev/en/stable/_images/dataset-diagram.png)\n",
    "\n",
    "**Why is `xarray` useful for geospatial data?** \n",
    "\n",
    "* The `dims` and `coordinates` of an `xarray.DataArray` mean we can subset values from an array using latitude, longitude, time, or whatever a coordinate describes; we're not just restricted to subsetting values based on their index location within an array\n",
    "* `xarray.Dataset` objects provide a container to store multidimensional arrays (e.g. many variables and time points) that are common in geography, Earth Sciences, meteorology, and agriculture. For example, multispectral satellite images of the same location over time; arrays of different meteorological variables)\n",
    "* useful functions for reading, analysing and visualising raster or array-like geospatial data that are common across many spatial data science workflows\n",
    "\n",
    "### Data input\n",
    "\n",
    "The `rioxarray` package provides tools for reading and writing raster geospatial data files into `xarray.DataArray` objects.\n",
    "\n",
    "Let's pass the path to a GeoTIFF file of raster data into the `rioxarray` `open_rasterio()` function:"
   ]
  },
  {
   "cell_type": "code",
   "execution_count": null,
   "id": "fcc16f09-da91-43be-830b-4f4e4cec8292",
   "metadata": {},
   "outputs": [],
   "source": [
    "s2_summer_path = os.path.join(data_path, \"week-2-s2-summer-2020.tif\")\n",
    "rds = rxr.open_rasterio(s2_summer_path)"
   ]
  },
  {
   "cell_type": "markdown",
   "id": "8a5ef757-1562-49e7-8adc-888c0149d725",
   "metadata": {},
   "source": [
    "We have used `rioxarray` to read raster data stored in a GeoTIFF file into our program as an `xarray.DataArray` object referenced by the variable `rds`. We can print the `xarray.DataArray` object to inspect its metadata. "
   ]
  },
  {
   "cell_type": "code",
   "execution_count": null,
   "id": "040d7678-367f-4382-bdbe-3ebea834498d",
   "metadata": {},
   "outputs": [],
   "source": [
    "rds"
   ]
  },
  {
   "cell_type": "markdown",
   "id": "902b3893-fc66-42b6-8cb6-d2149439870f",
   "metadata": {},
   "source": [
    "The raster data stored in the GeoTIFF file is a satellite image of a field in the Wheatbelt. The data is captured by the <a href=\"https://developers.google.com/earth-engine/datasets/catalog/COPERNICUS_S2_SR_HARMONIZED\" target=\"_blank\">Sentinel-2</a> satellite and it measures reflectance in many spectral bands (e.g. blue light, green light, red light, and near infrared light ...). This raster dataset has 23 bands, including some ancillary bands providing information about image quality and atmospheric conditions when the image was captured (we want to know if clouds are obscuring the satellite's view of the land surface).  \n",
    "\n",
    "The attributes property of `rds` stores geospatial metadata such as the coordinate reference system (CRS) and the extent of the dataset. We can access this information via the `rds` object's `rio` accessor"
   ]
  },
  {
   "cell_type": "code",
   "execution_count": null,
   "id": "940175fd-03d7-450a-b16b-93ae65a07c36",
   "metadata": {},
   "outputs": [],
   "source": [
    "print('CRS:', rds.rio.crs)\n",
    "print('Resolution:', rds.rio.resolution())\n",
    "print('Bounds:', rds.rio.bounds())\n",
    "print('Width:', rds.rio.width)\n",
    "print('Height:', rds.rio.height)"
   ]
  },
  {
   "cell_type": "markdown",
   "id": "2984d5a1-4928-41eb-ad4f-b5f52e365556",
   "metadata": {},
   "source": [
    "The raster data values are stored as arrays within the `xarray.DataArray` object and can be accessed via the `values` property."
   ]
  },
  {
   "cell_type": "code",
   "execution_count": null,
   "id": "fc846369-131d-4da0-8ccf-4e4ffcfd23e5",
   "metadata": {},
   "outputs": [],
   "source": [
    "arr = rds.values\n",
    "print(f\"the shape of the array is {arr.shape}\")\n",
    "arr"
   ]
  },
  {
   "cell_type": "markdown",
   "id": "32c4ebe6-3833-4373-8172-b459449fd875",
   "metadata": {},
   "source": [
    "In subsequent labs we will explore `xarray` and raster data formats in more detail. For now, let's focus on visualising raster data stored in `xarray.DataArray` objects.\n",
    "\n",
    "### Static images\n",
    "\n",
    "`xarray.DataArray` objects have a <a href=\"https://docs.xarray.dev/en/stable/generated/xarray.plot.imshow.html\" target=\"_blank\">`plot.imshow()`</a> method that will render array based data as an image. Band 4 of the `xarray.DataArray` stores reflectance of red light off the Earth's surface. Let's plot it: "
   ]
  },
  {
   "cell_type": "code",
   "execution_count": null,
   "id": "c0f60813-1019-4028-96ef-1f5453658edf",
   "metadata": {},
   "outputs": [],
   "source": [
    "rds.sel(band=4).plot.imshow()"
   ]
  },
  {
   "cell_type": "markdown",
   "id": "42b685aa-5d44-4944-9843-8f701b109e70",
   "metadata": {},
   "source": [
    "The default visualisation using `plot.imshow()` returns a static image with `xarray.DataArray` labels and coordinates plotted. The default colour palette is viridis (yellow-green-blue shades). However, we can change this to a colour palette that relates to red reflectance using the `cmap` parameter of the `plot.imshow()` method. Let's use the `\"Reds\"` colour palette here. "
   ]
  },
  {
   "cell_type": "code",
   "execution_count": null,
   "id": "760f033b-1547-44c8-ba96-cea462fb6c08",
   "metadata": {},
   "outputs": [],
   "source": [
    "rds.sel(band=4).plot.imshow(cmap=\"Reds\")"
   ]
  },
  {
   "cell_type": "markdown",
   "id": "24175e1c-5f54-455f-9e49-faa60523da7d",
   "metadata": {},
   "source": [
    "#### Recap quiz\n",
    "\n",
    "**The blue band (storing reflectance of blue light) in Sentinel-2 images is band 2 in the `xarray.DataArray` object referenced by `rds`. Can you plot blue band reflectance and select a sensible colour palette for visualing the spatial variation in blue reflectance?**\n",
    "\n",
    "**Hint: you can find a list of colour palettes <a href=\"https://matplotlib.org/stable/users/explain/colors/colormaps.html#classes-of-colormaps\" target=\"_blank\">here</a>.**"
   ]
  },
  {
   "cell_type": "code",
   "execution_count": null,
   "id": "c0895337-f57f-47ca-a142-24705d1b4567",
   "metadata": {},
   "outputs": [],
   "source": [
    "## ADD CODE HERE"
   ]
  },
  {
   "cell_type": "markdown",
   "id": "8dab63ca-595b-40e3-9e75-52fa2db00059",
   "metadata": {},
   "source": [
    "<details>\n",
    "    <summary><b>answer</b></summary>\n",
    "    \n",
    "```python\n",
    "rds.sel(band=2).plot.imshow(cmap=\"Blues\")\n",
    "```\n",
    "</details>"
   ]
  },
  {
   "cell_type": "markdown",
   "id": "47ba530e-9609-49d5-886c-9c2ce3ed174d",
   "metadata": {},
   "source": [
    "**The plots that you have generated so far have the `xarray.DataArray` labels attached to them (e.g. plot titles and all the band names listed by the colourbar). Can you look at the different parameters of the <a href=\"https://docs.xarray.dev/en/stable/generated/xarray.plot.imshow.html\" target=\"_blank\"><code>plot.imshow()</code></a> and identify which parameter we can use to stop labels being rendered? Generate a plot of green reflectance (band 3) without labels and using the `\"Greens\"` colour palette.**"
   ]
  },
  {
   "cell_type": "code",
   "execution_count": null,
   "id": "9e2b8002-c612-4b5f-ba5b-8958ffc0f20f",
   "metadata": {},
   "outputs": [],
   "source": [
    "## ADD CODE HERE"
   ]
  },
  {
   "cell_type": "markdown",
   "id": "4ea3a52b-8543-4584-ba7b-de290e1c9b56",
   "metadata": {},
   "source": [
    "<details>\n",
    "    <summary><b>answer</b></summary>\n",
    "\n",
    "Here, we need to use the <code>add_labels</code> parameter and pass in False as an argument. \n",
    "\n",
    "```python\n",
    "rds.sel(band=3).plot.imshow(cmap=\"Greens\", add_labels=False)\n",
    "```\n",
    "</details>"
   ]
  },
  {
   "cell_type": "markdown",
   "id": "2c0c2d8d-95b1-496c-b031-d711c79f8937",
   "metadata": {},
   "source": [
    "### Colour and composite images\n",
    "\n",
    "A particular colour is defined by the intensity of light in different parts of the visible spectrum (e.g. yellow is a mixture of light in red and green wavelengths).\n",
    "\n",
    "Colour is represented by combinations (addition) of red, green, and blue light. Red, green, and blue are primary colours and combine to form white. An absence of red, green, and blue is black. Secondary colours can be formed by the addition of primary colours of varying intensities (e.g. yellow is the addition of red and green, magenta is the addition of red and blue, and cyan is the addition of green and blue). \n",
    "\n",
    "Computer displays consist of red, green, and blue sub-pixels, which when activated with different intensities, are perceived as different colours. The range of colours that can be displayed on a computer display is called the gamut. Colour in computer programs is represented as a three byte hexadecimal number with byte 1 corresponding to red, byte 2 corresponding to green, and byte 3 corresponding to blue. Each byte can take the range of 0 to 255 in decimal. 0 indicates the absence of a colour and 255 indicates saturation of that colour:\n",
    "\n",
    "* white: 255 255 255\n",
    "* black: 0 0 0\n",
    "* red: 255 0 0 \n",
    "* green: 0 255 00\n",
    "* blue: 0 0 255\n",
    "\n",
    "![Additive and subtractive colour models (source: CRCSI (2017))](https://github.com/geog3300-agri3003/coursebook/raw/main/docs/img/week-2-colour-models-crcsi.png)\n",
    "\n",
    "Computer displays represent colour through varying the intensity of sub-pixel displays of red, green, and blue light. Variability in data values in multiband rasters can be visualised by relating data values in one band to the intensity of one of the primary colours on the computer display. Visualising a multiband raster in this way creates an additive RGB or colour composite image - it is called a composite image because each pixel is a composite of red, green, and blue light.\n",
    "\n",
    "Above we rendered the red, green, and blue band reflectance from the Sentinel-2 image separately. However, if we combine these reflectance measures into a composite image (e.g. where red reflectance is represented by sub-pixel intensity of red light) we can create a true colour image as if we were looking down on the Earth's surface with our eyes.\n",
    "\n",
    "We can select multiple bands from the `xarray.DataArray` object that correspond to red, green, and blue reflectance to render a true colour image. We need to pass a `list` of bands into the `sel()` method of the `xarray.DataArray` object referenced by the variable `rds`."
   ]
  },
  {
   "cell_type": "code",
   "execution_count": null,
   "id": "df5e9218-3e2f-4af0-8019-6786b90185a6",
   "metadata": {},
   "outputs": [],
   "source": [
    "rds.sel(band=[4, 3, 2]).plot.imshow(vmin=0, vmax=0.4, add_labels=False)"
   ]
  },
  {
   "cell_type": "markdown",
   "id": "f3cc42b4-f2df-4ba4-ba30-0c34cd9291ba",
   "metadata": {},
   "source": [
    "### Interactive raster visualisations\n",
    "\n"
   ]
  },
  {
   "cell_type": "markdown",
   "id": "dcbeaae8-51bf-4c2f-8fbd-39e19ba5edac",
   "metadata": {},
   "source": [
    "Using the <a href=\"https://plotly.com/python-api-reference/generated/plotly.express.imshow.html\" target=\"_blank\">Plotly Express</a> `imshow()` function we can create interactive visualisations of raster data stored in `xarray.DataArray` objects. \n",
    "\n",
    "The `px.imshow()` function takes in a 2D or 3D (for RGB images) NumPy `ndarray` as its first argument. The `values` of a `xarray.DataArray` are stored in NumPy `ndarray` objects, so we can select a band and pass it into `px.imshow()`. Let's visualise red band reflectance as an interactive image (hovering your cursor over the image will return a text popup with the red reflectance value at that location). "
   ]
  },
  {
   "cell_type": "code",
   "execution_count": null,
   "id": "6df844fe-cc88-47d8-9f74-1e9c4855c16d",
   "metadata": {},
   "outputs": [],
   "source": [
    "px.imshow(rds.sel(band=4).values)"
   ]
  },
  {
   "cell_type": "markdown",
   "id": "d884a13b-b824-421a-bc07-add18dc957d7",
   "metadata": {},
   "source": [
    "#### Recap quiz\n",
    "\n",
    "**Above, we have an interactive image of red band reflectance. However, the image is quite small and the colour palette could be more intuitive to indicate it's an image of red light reflectance. Can you look at the parameters in the <a href=\"https://plotly.com/python-api-reference/generated/plotly.express.imshow.html\" target=\"_blank\">`px.imshow()` docs</a> that we could use to visualise reflectance using a red colour palette and increase the height of the plot?**"
   ]
  },
  {
   "cell_type": "code",
   "execution_count": null,
   "id": "1125f782-bfb5-45c4-a543-afa8d3a3a5ff",
   "metadata": {},
   "outputs": [],
   "source": [
    "## ADD CODE HERE"
   ]
  },
  {
   "cell_type": "markdown",
   "id": "4e154bb9-5ac5-4db1-a952-417382529073",
   "metadata": {},
   "source": [
    "<details>\n",
    "    <summary><b>answer</b></summary>\n",
    "\n",
    "The <code>height</code> parameter lets you set the figure height in pixels.\n",
    "\n",
    "The <code>color_continuous_scale</code> parameter lets you set the colour palette.\n",
    "    \n",
    "```python\n",
    "px.imshow(rds.sel(band=4).values, color_continuous_scale=\"Reds\", height=500)\n",
    "```\n",
    "</details>"
   ]
  },
  {
   "cell_type": "markdown",
   "id": "80011f2d-c7c7-4838-b5af-5da78158c2d0",
   "metadata": {},
   "source": [
    "### Plotting raster time series\n",
    "\n",
    "In many cases, we'll have raster data that covers the same location on the Earth's surface but is captured on different dates. A good example of this is remotely sensed satellite data which captures spectral reflectance data for the same location each time the satellite overpasses a location. In this instance, each band (or 2D array) might represent an observation for a variable on different dates. For example, green normalised difference vegetation index (GNDVI) values use green and near infrared reflectance to represent the greenness of a location. We can visualise GNDVI through time to represent vegetation growth dynamics (e.g. the green up of a crop after planting). \n",
    "\n",
    "Let's read in a raster dataset of GNDVI values for different dates."
   ]
  },
  {
   "cell_type": "code",
   "execution_count": null,
   "id": "2510f703-032c-4924-a79a-d05d33ac49ef",
   "metadata": {},
   "outputs": [],
   "source": [
    "s2_gndvi_path = os.path.join(data_path, \"gndvi_2020_bf66_fitted.tif\")\n",
    "gndvi_rds = rxr.open_rasterio(s2_gndvi_path)"
   ]
  },
  {
   "cell_type": "code",
   "execution_count": null,
   "id": "96f2fd8d-681d-4879-af84-a151fb73f750",
   "metadata": {},
   "outputs": [],
   "source": [
    "gndvi_rds"
   ]
  },
  {
   "cell_type": "markdown",
   "id": "1e5025e9-f070-43ec-9567-b8a4223c5160",
   "metadata": {},
   "source": [
    "If we inspect the dataset, we can see that it has 52 bands. Each band is an array of GNDVI corresponding to a week of the year. In 2020, canola was grown in this field. \n",
    "\n",
    "In a previous lab we introduced the concept of a subplot. This is a good use case for a faceted figure. We can represent each week as a subplot, align the subplots sequentially through time, and use the same mapping of data values to colour to make comparisons of greenness across weeks easy.\n",
    "\n",
    "The `xarray.DataArray` `plot.imshow()` method has `col` and a `col_wrap` parameters. The `col` parameter can be passed a `dim` for which the faceted subplots are created. Passing in the `\"band\"` `dim` here will generate a separate image for each of the arrays along the dimension specified. Here, that will create a new GNDVI image for each week. The `col_wrap` parameter specifies how many images are laid out along one row on the display. "
   ]
  },
  {
   "cell_type": "code",
   "execution_count": null,
   "id": "62200db6-ceb8-4038-8b62-f731a436a19a",
   "metadata": {},
   "outputs": [],
   "source": [
    "gndvi_rds.plot.imshow(col=\"band\", col_wrap=10)"
   ]
  },
  {
   "cell_type": "markdown",
   "id": "3d34fd92-b6bb-4924-bbe6-ea31b0837ee8",
   "metadata": {},
   "source": [
    "You should be able to see the green up and green down dynamics of vegetative crop growth in this facet plot.\n",
    "\n",
    "#### Recap quiz\n",
    "\n",
    "**There is a GeoTIFF file `ndyi_2020_bf66_fitted.tif` in the `data_lab-2_2` folder. It stores normalised difference yellowness index (NDYI) values for each week of the year. Can you read this file into your program and plot each week's NDYI values as an image to visualise change in yellowness of the canola crop canopy through the growing season? Generate this figure as a faceted plot and select a suitable colour map to visualise change in yellowness.**\n",
    "\n",
    "**Hint: you can find a list of colour palettes <a href=\"https://matplotlib.org/stable/users/explain/colors/colormaps.html#classes-of-colormaps\" target=\"_blank\">here</a>.**"
   ]
  },
  {
   "cell_type": "code",
   "execution_count": null,
   "id": "98c00576-f7f0-400e-990e-49ea2d363221",
   "metadata": {},
   "outputs": [],
   "source": [
    "## ADD CODE HERE"
   ]
  },
  {
   "cell_type": "markdown",
   "id": "931d7d55-16af-4b58-b0a1-0d598791d5b5",
   "metadata": {},
   "source": [
    "<details>\n",
    "    <summary><b>answer</b></summary>\n",
    "    \n",
    "```python\n",
    "s2_ndyi_path = os.path.join(data_path, \"ndyi_2020_bf66_fitted.tif\")\n",
    "ndyi_rds = rxr.open_rasterio(s2_ndyi_path)\n",
    "gndvi_rds.plot.imshow(col=\"band\", col_wrap=10, cmap=\"afmhot\")\n",
    "```\n",
    "</details>"
   ]
  },
  {
   "cell_type": "markdown",
   "id": "b6b8cb9a-b44d-44e0-9055-fa2f6311071e",
   "metadata": {},
   "source": [
    "## Vector data in Python\n",
    "\n",
    "### Vector data model\n",
    "\n",
    "Vector data uses point, line, or polygon geometries to represent geographic features. \n",
    "\n",
    "**Coordinate pairs:** point locations or the vertices in lines and polygons are represented using coordinate pairs. The coordinate pairs indicate where that feature is located on the Earth's surface (relative to an origin); longitude and latitute are commonly used as coordinate pairs. \n",
    "\n",
    "**Attribute information:** vector data also stores non-spatial attribute information which describe characteristics of the geographic phenomenon or entity represented by the geometry feature.\n",
    "\n",
    "![](https://github.com/geog3300-agri3003/coursebook/raw/main/docs/img/week-2-vector-data.jpg)\n",
    "\n",
    "### GeoPandas GeoDataFrame\n",
    "\n",
    "A GeoPandas `GeoDataFrame` is a tabular data structure for storing vector geospatial data and is based on a regular pandas `DataFrame`. \n",
    "\n",
    "A `GeoDataFrame` consists of columns of non-spatial attributes similar to a pandas `DataFrame`. However, a `GeoDataFrame` also has a `geometry` column which is a `GeoSeries` of geometries for the spatial data associated with each row.\n",
    "\n",
    "In Python, geometries are represented as <a href=\"https://shapely.readthedocs.io/en/stable/geometry.html\" target=\"_blank\">Shapely</a> `Geometry` objects. The `geometry` column in a GeoPandas `GeoDataFrame` is a `Series` of Shapely `Geometry` objects. Printing a <a href=\"https://shapely.readthedocs.io/en/stable/geometry.html\" target=\"_blank\">Shapely</a> `Geometry` object returns a Well Known Text (WKT) string description of the geometry (e.g. `POINT (0, 1)`). The `geometry` column of a `GeoDataFrame` (or a `GeoSeries`) can be viewed as a sequence of Shapely `Geometry` objects:\n",
    "\n",
    "```\n",
    "a_geoseries = [POINT (0, 1), POINT (0, 2), POINT (2, 3)]\n",
    "```\n",
    "\n",
    "Shapely provides tools for representing geometries in Python programs. It does not provide tools for reading geometry data from disk or handling attribute data. GeoPandas `GeoDataFrame` and `GeoSeries` combine Shapely's functionality for handling geometries with tools for reading and writing vector data, handling attributes, and visualisation. Therefore, we will focus on using `GeoDataFrame`s in these labs.  \n",
    "\n",
    "Let's read in a GeoJSON file storing the elevation of points sampled across the same field in Western Australia that we have been exploring using raster data."
   ]
  },
  {
   "cell_type": "code",
   "execution_count": null,
   "id": "42951d26-649d-4a92-83d1-57178e4c0142",
   "metadata": {},
   "outputs": [],
   "source": [
    "elev_gdf_path = os.path.join(os.getcwd(), \"data_lab-2_2\", \"week-2-bf66-elevation.geojson\")\n",
    "elev_gdf = gpd.read_file(elev_gdf_path)\n",
    "elev_gdf.head()"
   ]
  },
  {
   "cell_type": "markdown",
   "id": "270b60cf-73c1-41f5-9907-a8ce90855908",
   "metadata": {},
   "source": [
    "Printing out the `head()` of the `GeoDataFrame` `elev_gdf` clearly illustrates the tabular structure for representing vector data. Attributes are stored in columns, the locational information which is a `POINT` geometry object is stored in a `geometry` column, and each row corresponds to one geographic feature.\n",
    "\n",
    "### Interactive vector visualisations\n",
    "\n",
    "`GeoDataFrame`s have a helpful <a href=\"https://geopandas.org/en/stable/docs/reference/api/geopandas.GeoDataFrame.explore.html\" target=\"_blank\">`explore()` method</a> for rendering spatial data on a \"slippy\" web map."
   ]
  },
  {
   "cell_type": "code",
   "execution_count": null,
   "id": "e54ac348-32fc-4582-a2d8-53552693b744",
   "metadata": {},
   "outputs": [],
   "source": [
    "elev_gdf.explore()"
   ]
  },
  {
   "cell_type": "markdown",
   "id": "094ed110-ee74-490d-95f2-bfdaed88ea55",
   "metadata": {},
   "source": [
    "This clearly shows the location of points within the field. However, it is not very informative about each point's elevation value. We can change the colour of each point to represent the variability in elevation across the field. To do this we need to use the `column` paramter of the `explore()` method to specify the column in the `GeoDataFrame` that we wish to represent using colour. We can also specifiy a colour palette to use with the `cmap` parameter.\n",
    "\n",
    "Executing the following code will render the elevation data with low elevations in blue shades and higher locations in yellow shades. "
   ]
  },
  {
   "cell_type": "code",
   "execution_count": null,
   "id": "18450359-d761-4c11-b66e-08d7fa75c1c4",
   "metadata": {},
   "outputs": [],
   "source": [
    "elev_gdf.explore(column=\"Elevation\", cmap=\"cividis\")"
   ]
  },
  {
   "cell_type": "markdown",
   "id": "bfd10224-8808-4a65-94d5-7064edd536e1",
   "metadata": {},
   "source": [
    "### Chloropleth mapping\n",
    "\n",
    "<a href=\"https://clauswilke.com/dataviz/geospatial-data.html#choropleth-mapping\" target=\"_blannk\">Chloropleth maps</a> use a feature's fill colour to visualise spatial variation in a variable. A continuous colour palette is used to represent variation in the values of attributes of a vector spatial dataset. For a more detailed review of chloropleth maps please see <a href=\"https://geographicdata.science/book/notebooks/05_choropleth.html#choropleth-mapping\" target=\"_blank\">Rey et al. (2020)</a> and <a href=\"https://clauswilke.com/dataviz/geospatial-data.html#choropleth-mapping\" target=\"_blank\">Wilke (2019)</a>.\n",
    "\n",
    "Let's create a chloropleth map of wheat crop yields at the national level in 2020 downloaded from <a href=\"https://www.fao.org/faostat/en/#home\" target=\"_blank\">FAOSTAT</a>.  "
   ]
  },
  {
   "cell_type": "code",
   "execution_count": null,
   "id": "3ad7d180-a4a3-4d25-8176-381fbf44bc0d",
   "metadata": {},
   "outputs": [],
   "source": [
    "gdf_wheat_yield_2020 = gpd.read_file(os.path.join(data_path, \"fao_wheat_crop_yield_2020.geojson\"))"
   ]
  },
  {
   "cell_type": "code",
   "execution_count": null,
   "id": "a3eaad6d-4df7-4417-a423-f9a1a9ccd0da",
   "metadata": {},
   "outputs": [],
   "source": [
    "gdf_wheat_yield_2020.head()"
   ]
  },
  {
   "cell_type": "markdown",
   "id": "161b9f8c-a436-4af3-8417-bc57d580e255",
   "metadata": {},
   "source": [
    "We'll get a simple chloropleth map with the default viridis colour palette if we pass in the column label for wheat yield `\"yield_100g_ha\"` as an argument to the `column` parameter."
   ]
  },
  {
   "cell_type": "code",
   "execution_count": null,
   "id": "b020a2d9-8f16-404b-8d12-0c62c2dc6a67",
   "metadata": {},
   "outputs": [],
   "source": [
    "gdf_wheat_yield_2020.explore(column=\"yield_100g_ha\")"
   ]
  },
  {
   "cell_type": "markdown",
   "id": "24441918-6425-4d78-b5c2-7a2e17c317ea",
   "metadata": {},
   "source": [
    "You might find that the thick borders for country outlines obscures spotting spatial patterns and trends in wheat crop yields. Let's remove the borders. If you look at the docs for <a href=\"https://geopandas.org/en/stable/docs/reference/api/geopandas.GeoDataFrame.explore.html\" target=\"_blaknk\">`explore()`</a> you will see there is a `style_kwds` parameter we can pass a `dict` of styling configurations. \n",
    "\n",
    "A `dict` is a data structure with key:pairs. The `dict` passed to `style_kwds` contains a keys that descibe a visual element of the display we wish to adjust and a value that specifies how it should be adjusted. For example, the `stroke` key determines how the border of geometric features on the map is represented. We can set this to `False` to remove the border. Note, `dict` objects are specified by enclosing key:value pairs in braces `{}`.\n",
    "\n",
    "```python\n",
    "{\"stroke\": False}\n",
    "```"
   ]
  },
  {
   "cell_type": "code",
   "execution_count": null,
   "id": "3d56cb3f-6bdb-4762-a028-fcf911260805",
   "metadata": {},
   "outputs": [],
   "source": [
    "gdf_wheat_yield_2020.explore(column=\"yield_100g_ha\", style_kwds={\"stroke\": False})"
   ]
  },
  {
   "cell_type": "markdown",
   "id": "332be71b-9037-4508-b2b9-d908640f6af8",
   "metadata": {},
   "source": [
    "#### Recap quiz\n",
    "\n",
    "**The opacity of the fill colour on the chloropleth maps is set to 0.5. Can you find a parameter in the  <a href=\"https://geopandas.org/en/stable/docs/reference/api/geopandas.GeoDataFrame.explore.html\" target=\"_blaknk\">`explore()` docs</a> to change the `fillOpacity` to 0.75?**\n",
    "\n",
    "**Hint: you can use search tools and find tools to find words on the <a href=\"https://geopandas.org/en/stable/docs/reference/api/geopandas.GeoDataFrame.explore.html\" target=\"_blaknk\">`explore()` docs</a> page.**"
   ]
  },
  {
   "cell_type": "code",
   "execution_count": null,
   "id": "b88cebc1-8c5f-4c09-8fd0-64f9dbb6cdb9",
   "metadata": {},
   "outputs": [],
   "source": [
    "## ADD CODE HERE"
   ]
  },
  {
   "cell_type": "markdown",
   "id": "799384fa-0e6b-4c0d-ba9d-087864c1bdcd",
   "metadata": {},
   "source": [
    "<details>\n",
    "    <summary><b>answer</b></summary>\n",
    "    \n",
    "```python\n",
    "gdf_wheat_yield_2020.explore(column=\"yield_100g_ha\", style_kwds={\"stroke\": False, \"fillOpacity\": 0.75})\n",
    "```\n",
    "</details>"
   ]
  },
  {
   "cell_type": "markdown",
   "id": "f1697ba3-9e65-4943-bbe1-96806552ef10",
   "metadata": {},
   "source": [
    "### Categorical vector maps\n",
    "\n",
    "Sometimes the variable that we wish to visualise on a map using colour is not continuous but is categorical. An example could be the crop type associated with a polygon feature of field boundaries. In these cases we're mapping a categorical value to a colour and a change in colour does not represent an increase or decrease in a numeric value, but a change in group or class. \n",
    "\n",
    "In these cases qualitative (or discrete) colour scales should be used to represent groups (i.e. data where there is no logical ordering). Thus, qualitative colour scales should not represent gradients of light to dark or use colours that can be interpreted as having an implied ordering. Often, it is sensible to select colours that relate to the category (e.g. on land cover maps using green for vegetated categories, blue for water etc.). \n",
    "\n",
    "Let's make a categorical map of the crop type in a field for a selection of fields near Canarvon in Western Australia. The data is derived from the <a href=\"https://www.agriculture.gov.au/abares/aclump/catchment-scale-land-use-of-australia-update-december-2020\" target=\"_blank\">Catchment scale land use of Australia</a> product."
   ]
  },
  {
   "cell_type": "code",
   "execution_count": null,
   "id": "e26c7412-4b61-4d95-a0ba-3f51fe2be31a",
   "metadata": {},
   "outputs": [],
   "source": [
    "clum_carnarvon_path = os.path.join(data_path, \"clum_land_use_carnarvon.geojson\")\n",
    "clum_gdf = gpd.read_file(clum_carnarvon_path)"
   ]
  },
  {
   "cell_type": "code",
   "execution_count": null,
   "id": "09c61d1f-a672-408a-b9a9-04bd604d9d76",
   "metadata": {},
   "outputs": [],
   "source": [
    "clum_gdf.head()"
   ]
  },
  {
   "cell_type": "markdown",
   "id": "45bc83ee-c15d-4165-acce-e1731b1075ab",
   "metadata": {},
   "source": [
    "#### Recap quiz\n",
    "\n",
    "**Can you make a categorical interactive map of the crop type for each field? You will need to use the <a href=\"https://geopandas.org/en/stable/docs/reference/api/geopandas.GeoDataFrame.explore.html\" target=\"_blaknk\">`explore()` docs</a> to identify which parameter to use to let `explore()` know it is visualising categorical data. You should pass in a qualitative colour palette as an argument to the this parameter. A list of <a href=\"https://matplotlib.org/stable/users/explain/colors/colormaps.html#qualitative\" target=\"_blank\">qualitative colour palettes can be found here</a>.**"
   ]
  },
  {
   "cell_type": "code",
   "execution_count": null,
   "id": "51784ab8-982f-405b-80f3-e0b79ca1d145",
   "metadata": {},
   "outputs": [],
   "source": [
    "## ADD CODE HERE"
   ]
  },
  {
   "cell_type": "markdown",
   "id": "8e0674f0-c132-4388-97b8-d75cab7e7f82",
   "metadata": {},
   "source": [
    "<details>\n",
    "    <summary><b>answer</b></summary>\n",
    "    \n",
    "```python\n",
    "clum_gdf.explore(column=\"Commod_dsc\", categorical=\"set2\")\n",
    "```\n",
    "</details>"
   ]
  }
 ],
 "metadata": {
  "kernelspec": {
   "display_name": "Python 3 (ipykernel)",
   "language": "python",
   "name": "python3"
  },
  "language_info": {
   "codemirror_mode": {
    "name": "ipython",
    "version": 3
   },
   "file_extension": ".py",
   "mimetype": "text/x-python",
   "name": "python",
   "nbconvert_exporter": "python",
   "pygments_lexer": "ipython3",
   "version": "3.11.7"
  }
 },
 "nbformat": 4,
 "nbformat_minor": 5
}

{
 "cells": [
  {
   "cell_type": "markdown",
   "id": "71ab94cd-dc33-49ed-bd42-607acf043334",
   "metadata": {},
   "source": [
    "# Geospatial data I/O\n",
    "\n",
    "Data analysis tasks involve reading geospatial data stored in files on disks, servers in the cloud, or recorded by sensors. Also, we need to save the results of our analysis or datasets we have generated to files. \n",
    "\n",
    "This lab will introduce:\n",
    "\n",
    "* geospatial data file formats\n",
    "* techniques for reading and writing from geospatial data from and to files\n",
    "* Python data structures for representing vector and raster data"
   ]
  },
  {
   "cell_type": "markdown",
   "id": "ee4542f5-7644-4677-a925-1fab6d0e88b2",
   "metadata": {},
   "source": [
    "## Setup\n",
    "\n",
    "### Run the labs\n",
    "\n",
    "You can run the labs locally on your machine or you can use cloud environments provided by Google Colab. **If you're working with Google Colab be aware that your sessions are temporary and you'll need to take care to save, backup, and download your work.**\n",
    "\n",
    "<a href=\"https://colab.research.google.com/github/geog3300-agri3003/coursebook/blob/main/docs/notebooks/week-3_2.ipynb\" target=\"_blank\">\n",
    "  <img src=\"https://colab.research.google.com/assets/colab-badge.svg\" alt=\"Open In Colab\"/>\n",
    "</a>\n",
    "\n",
    "### Download data\n",
    "\n",
    "If you need to download the data for this lab, run the following code snippet. "
   ]
  },
  {
   "cell_type": "code",
   "execution_count": null,
   "id": "520df152-9ab1-4fd3-a42e-02da61ef70c4",
   "metadata": {},
   "outputs": [],
   "source": [
    "import os\n",
    "import subprocess\n",
    "\n",
    "if \"data_lab-3_2\" not in os.listdir(os.getcwd()):\n",
    "    subprocess.run('wget \"https://github.com/geog3300-agri3003/lab-data/raw/main/data_lab-3_2.zip\"', shell=True, capture_output=True, text=True)\n",
    "    subprocess.run('unzip \"data_lab-3_2.zip\"', shell=True, capture_output=True, text=True)\n",
    "    if \"data_lab-3_2\" not in os.listdir(os.getcwd()):\n",
    "        print(\"Has a directory called data_lab-3_2 been downloaded and placed in your working directory? If not, try re-executing this code chunk\")\n",
    "    else:\n",
    "        print(\"Data download OK\")"
   ]
  },
  {
   "cell_type": "markdown",
   "id": "e9d54a9a-5314-441e-a2f4-7eb53dd50293",
   "metadata": {},
   "source": [
    "### Install packages\n",
    "\n",
    "If you're working in Google Colab, you'll need to install the required packages that don't come with the colab environment."
   ]
  },
  {
   "cell_type": "code",
   "execution_count": null,
   "id": "b8395a80-9b75-4f97-aa29-163cd1ad5705",
   "metadata": {},
   "outputs": [],
   "source": [
    "if 'google.colab' in str(get_ipython()):\n",
    "    !pip install rioxarray\n",
    "    !pip install mapclassify\n",
    "    !pip install rasterio"
   ]
  },
  {
   "cell_type": "markdown",
   "id": "98348bcb-0912-4ff3-a127-43752a7c0477",
   "metadata": {},
   "source": [
    "## Import modules"
   ]
  },
  {
   "cell_type": "code",
   "execution_count": null,
   "id": "b9d7df3e-5aca-46b2-b172-da73b574379f",
   "metadata": {},
   "outputs": [],
   "source": [
    "import os\n",
    "import pprint\n",
    "import rioxarray as rxr\n",
    "import xarray as xr\n",
    "import pandas as pd\n",
    "import geopandas as gpd"
   ]
  },
  {
   "cell_type": "markdown",
   "id": "af0f6c48-24d2-44fc-8962-663d226f5c8e",
   "metadata": {},
   "source": [
    "## Raster data\n",
    "\n",
    "Raster data represents geographic features and variables (e.g. elevation, reflectance in UAV images) as a grid of values (pixels).\n",
    "\n",
    "### GeoTIFF\n",
    "\n",
    "Many geospatial datasets are based on the raster data model where values are assigned to pixels and pixels represent locations on the Earth's surface. \n",
    "\n",
    "A common source of raster data are remote sensing images captured by sensors on uncrewed aerial vehicles, aircraft, or satellites. Optical remote sensing images store the measured reflectance of light off the Earth's land surface in different wavelenghts. Raster remote sensing images are often stored using the <a href=\"https://gdal.org/drivers/raster/gtiff.html\" target=\"_blank\">GeoTIFF</a> format. \n",
    "\n",
    "A GeoTIFF file is based on the Tagged Image File Format (or .tiff file) which is a general format for storing image data. A TIFF file comprises:\n",
    "\n",
    "* a **TIFF header** which includes 8 bytes that tell us that the file is in TIFF format and where in the file (what byte number / byte offset from 0) the first Image File Directory is stored.\n",
    "* **Image File Directories** which contains image metadata, a pointer to where the image data is in the file (what byte number / byte offset from 0), and the location of the next Image File Directory if there is more than one image stored in the TIFF file. Metadata is stored as fields which comprise a TIFF tag and it's corresponding value.\n",
    "* **Image Data** - the values associated with each pixel in the image. A single TIFF file can store multiple images.\n",
    "\n",
    "![](https://github.com/geog3300-agri3003/coursebook/raw/main/docs/img/week-3-geotiff.jpg)\n",
    "\n",
    "GeoTIFF files include extra information (metadata) as tags which describe the coordinate reference system (CRS) of the image data (i.e. where on the Earth's surface the image data corresponds to), spatial resolution, no data values, and various other configurations described <a href=\"https://gdal.org/drivers/raster/gtiff.html\" target=\"_blank\">here</a>. \n",
    "\n",
    "GeoTIFF files can store multiple images (i.e. raster layers) in a single file. This makes them well suited for storing remote sensing image data where each raster layer corresponds to measured reflectance in a particular wavelength. \n",
    "\n",
    "We can use functions provided by the <a href=\"https://corteva.github.io/rioxarray/stable/\" target=\"_blank\">rioxarray</a> package to read and write raster data in GeoTIFF format into Python programs.\n",
    "\n",
    "Using <a href=\"https://corteva.github.io/rioxarray/stable/\" target=\"_blank\">rioxarray's</a> <a href=\"\" target=\"_blank\">`open_rasterio()` method</a> we can read raster data stored on disk as a GeoTIFF file into a `xarray.Dataset` or `xarray.DataArray` object in our Python program. \n",
    "\n",
    "The GeoTIFF file `\"week-2-s2-summer-2020.tif\"` in the `data_lab-3-2` stores remote sensing data covering a field in Western Australia. The remote sensing data was captured by the <a href=\"https://sentinel.esa.int/web/sentinel/missions/sentinel-2\" target=\"_blank\">European Space Agency's Sentinel-2 satellite</a> (10 m spatial resolution for red, green, blue, and near infrared bands). This is the path to the GeoTIFF file:"
   ]
  },
  {
   "cell_type": "code",
   "execution_count": null,
   "id": "74144beb-8885-4391-90f4-04f39415e0b8",
   "metadata": {},
   "outputs": [],
   "source": [
    "# path to the GeoTIFF file\n",
    "s2_summer_path = os.path.join(os.getcwd(), \"data_lab-3_2\", \"week-3-s2-summer-2020.tif\")"
   ]
  },
  {
   "cell_type": "markdown",
   "id": "2a76912e-59aa-4910-a387-d0c1ff1b692f",
   "metadata": {},
   "source": [
    "#### Recap quiz\n",
    "\n",
    "**This is the rioxarray's <a href=\"https://corteva.github.io/rioxarray/stable/getting_started/getting_started.html#rioxarray\" target=\"_blank\">`open_rasterio()` docs</a>. Can you use this function to read in the GeoTIFF file referenced by `s2_summer_path` to a `xarray.DataArray`**? \n",
    "\n",
    "**Make sure the data is read to an `xarray.DataArray` object referenced by the variable name `s2_summer`.**"
   ]
  },
  {
   "cell_type": "code",
   "execution_count": null,
   "id": "ed85933d-c008-4d51-b929-74d98e5af879",
   "metadata": {},
   "outputs": [],
   "source": [
    "## ADD CODE HERE"
   ]
  },
  {
   "cell_type": "markdown",
   "id": "abe1cff2-1719-4423-8ae6-d99e3b5453d7",
   "metadata": {},
   "source": [
    "<details>\n",
    "    <summary><b>answer</b></summary>\n",
    "\n",
    "```python\n",
    "s2_summer = rxr.open_rasterio(s2_summer_path)\n",
    "```\n",
    "</details>"
   ]
  },
  {
   "cell_type": "markdown",
   "id": "da2355ff-e74a-4736-9352-606354640c1b",
   "metadata": {},
   "source": [
    "### Xarray recap\n",
    "\n",
    "<details>\n",
    "    <summary>These are notes repeated from week 2 that provide an overview of xarray and its classes for storing multidimensional arrays as objects in Python programs. (click the arrow to display notes).</summary>\n",
    "\n",
    "\n",
    "<a href=\"\" target=\"_blank\">Xarray</a> is a Python package that builds on top of NumPy's array-based data structures, but provides extra tools and functions that are useful for working with geospatial and Earth Science datasets. For example, `xarray.DataArray` data structures are objects that store multidimensional arrays of raster values and also store metadata information that describe the raster values. \n",
    "\n",
    "`xarray` also provides convenient functions for reading raster data from geospatial data files on disk into memory as `xarray.DataArray` objects which we can use in our Python programs while retaining geographic and temporal information about the raster values stored in the array.\n",
    "\n",
    "Specifically, while a NumPy `ndarray` stores just the raster values and has some properties such as the `shape` (number of elements along each axis) and `ndim` (the dimensions of the array) it does not explicitly store any geospatial, temporal, or other geographic metadata. `xarray` solves this problem by reading raster data into an `xarray.DataArray` object with:\n",
    "\n",
    "* `values`: the multidimensional array of raster values\n",
    "* `dims`: a list of names for the dimensions of the array (e.g. instead axis 0 describing the 0th (row) dimension of an array that dimension can have a descriptive label such as longitude)\n",
    "* `coordinates`: a `list` of array-like objects that describe the location of an array element along that dimension (e.g. a 1D array of longitude values describing the location on the Earth's surface for each row in the array)\n",
    "* `attrs`: a `dict` of metadata attributes describing the dataset\n",
    "\n",
    "`xarray.DataArray` objects can be stored within a larger container called `xarray.Dataset`. An `xarray.Dataset` can store many `xarray.DataArray` objects that share `dims` and `coordinates`. This is useful if you have different arrays of different `Variables` that correspond to the same locations and time-periods (e.g. you could have a separate array for temperature and precipitation values organised within a single `xarray.Dataset`).\n",
    "\n",
    "![Schematic of an xarray.Dataset (source: xarray Getting Started)](https://docs.xarray.dev/en/stable/_images/dataset-diagram.png)\n",
    "\n",
    "**Why is `xarray` useful for geospatial data?** \n",
    "\n",
    "* The `dims` and `coordinates` of an `xarray.DataArray` mean we can subset values from an array using latitude, longitude, time, or whatever a coordinate describes; we're not just restricted to subsetting values based on their index location within an array\n",
    "* `xarray.Dataset` objects provide a container to store multidimensional arrays (e.g. many variables and time points) that are common in geography, Earth Sciences, meteorology, and agriculture. For example, multispectral satellite images of the same location over time; arrays of different meteorological variables)\n",
    "* useful functions for reading, analysing and visualising raster or array-like geospatial data that are common across many spatial data science workflows\n",
    "    \n",
    "</details>"
   ]
  },
  {
   "cell_type": "markdown",
   "id": "8fb67510-7a99-4daa-b17b-e545f550bdcd",
   "metadata": {},
   "source": [
    "Now we've opened the GeoTIFF file `\"week-3-s2-summer-2020.tif\"` as an `xarray.DataArray` referenced by the variable `s2_summer`, let's explore the dataset using the attributes and methods of the `xarray.DataArray` object.\n",
    "\n",
    "#### Recap quiz\n",
    "\n",
    "**To answer these questions, you will need to look things up in the xarray docs. The user guide on <a href=\"\" target=\"_blank\">Data Structures</a> and the <a href=\"\" target=\"_blank\">`xarray.DataArray` API reference</a> will be useful.**\n",
    "\n",
    "**How do `xarray.DataArray` objects store raster data in Python programs?**\n",
    "\n",
    "<details>\n",
    "    <summary><b>answer</b></summary>\n",
    "    \n",
    "`xarray.DataArray` objects store raster values in a multidimensional NumPy `ndarray` or array-like `values` property:\n",
    "\n",
    "```python\n",
    "s2_summer.values\n",
    "```\n",
    "</details>"
   ]
  },
  {
   "cell_type": "markdown",
   "id": "ccb369cf-fc48-44da-a10a-d56608b3c08e",
   "metadata": {},
   "source": [
    "**What are the `dims` for the `xarray.DataArray` object storing the raster values from the GeoTIFF file `\"week-3-s2-summer-2020.tif\"`?**"
   ]
  },
  {
   "cell_type": "code",
   "execution_count": null,
   "id": "fd1fbbf8-ba1c-493a-abee-7a3f097b91c0",
   "metadata": {},
   "outputs": [],
   "source": [
    "## ADD CODE HERE"
   ]
  },
  {
   "cell_type": "markdown",
   "id": "2519a566-56bf-42fe-9545-e876e4ee18f8",
   "metadata": {},
   "source": [
    "<details>\n",
    "    <summary><b>answer</b></summary>\n",
    "    \n",
    "`xarray.DataArray` objects store descriptive dimension labels as a tuple under the `dims` attribute. These dimension labels are more descriptive and informative than the axis numbering of NumPy `ndarray`s.   \n",
    "\n",
    "```python\n",
    "s2_summer.dims\n",
    "```\n",
    "</details>"
   ]
  },
  {
   "cell_type": "markdown",
   "id": "4bffd1f3-c436-4e5e-8a2c-0636be7d3456",
   "metadata": {},
   "source": [
    "**What is the size, in terms of the number of elements along each dimension, of the `xarray.DataArray` object storing the raster values from the GeoTIFF file `\"week-3-s2-summer-2020.tif\"`?**"
   ]
  },
  {
   "cell_type": "code",
   "execution_count": null,
   "id": "732c4ba8-869a-4726-b671-21109ddef6f8",
   "metadata": {},
   "outputs": [],
   "source": [
    "## ADD CODE HERE"
   ]
  },
  {
   "cell_type": "markdown",
   "id": "bf4bfd50-1f3f-432e-982e-43c04e5c2717",
   "metadata": {},
   "source": [
    "<details>\n",
    "    <summary><b>answer</b></summary>\n",
    "\n",
    "We can return the raster values as a NumPy `ndarray` object and then access the `shape` property of the `ndarray`.\n",
    "\n",
    "```python\n",
    "s2_summer.values.shape\n",
    "```\n",
    "</details>"
   ]
  },
  {
   "cell_type": "markdown",
   "id": "b19e1c8c-b9b9-4a72-b1db-9918a974b058",
   "metadata": {},
   "source": [
    "### rio accessor\n",
    "\n",
    "The <a href=\"https://corteva.github.io/rioxarray/stable/rioxarray.html#rioxarray-rio-accessors\" target=\"_blank\">`rio` accessor</a> from the rioxarray package extends the `xarray.DataArray` class with extra properties and methods that are useful for retrieving information about an `xarray.DataArray` object when it contains raster geospatial data. \n",
    "\n",
    "For example, the `rio.crs` property will return the coordinate reference system (CRS) of the raster data in the `xarray.DataArray` object which was retrieved when reading the data from the GeoTIFF file:"
   ]
  },
  {
   "cell_type": "code",
   "execution_count": null,
   "id": "3ce7ccca-0a1d-4c03-b30c-6ae4d7b88401",
   "metadata": {},
   "outputs": [],
   "source": [
    "s2_summer.rio.crs"
   ]
  },
  {
   "cell_type": "markdown",
   "id": "d2776284-c86f-494b-9601-008465350b95",
   "metadata": {},
   "source": [
    "We can see the CRS of the dataset is EPSG 4326, which is representing the raster data using latitude and longitude with the WGS84 ellipsoid and datum. It can be tricky to measure distance or compute area, as the data's positional units are in decimal degrees on 3D surface as opposed to metric units on a 2D surface. Therefore, often, we want to reproject raster data a projected CRS on a 2D surface. \n",
    "\n",
    "#### Recap quiz\n",
    "\n",
    "**Can you use the <a href=\"https://corteva.github.io/rioxarray/stable/examples/reproject.html#Reproject\" target=\"_blank\">rio.reproject() method</a> to reproject the raster data to `\"EPSG:32750\"` (UTM Zone 50S)?**\n",
    "\n",
    "**Save the reprojected `xarray.DataArray` object to a variable referenced by `s2_summer_utm`.**"
   ]
  },
  {
   "cell_type": "code",
   "execution_count": null,
   "id": "4825b6ca-d78a-4ced-b476-60d0acb24205",
   "metadata": {},
   "outputs": [],
   "source": [
    "## ADD CODE HERE"
   ]
  },
  {
   "cell_type": "markdown",
   "id": "b89828d4-0c38-411f-a291-09a8fede45ce",
   "metadata": {},
   "source": [
    "<details>\n",
    "    <summary><b>answer</b></summary>\n",
    "\n",
    "```python\n",
    "s2_summer_utm = s2_summer.rio.reproject(\"EPSG:32750\")\n",
    "# check it reprojected OK\n",
    "s2_summer_utm.rio.crs\n",
    "```\n",
    "</details>"
   ]
  },
  {
   "cell_type": "markdown",
   "id": "2f676080-8dc7-40ff-9537-3e84c13843ad",
   "metadata": {},
   "source": [
    "**Above, we knew the EPSG code for the CRS we wished to reproject our `xarray.DataArray` object to. What happens if we don't have this information? Can you look in the <a href=\"https://corteva.github.io/rioxarray/stable/modules.html\" target=\"_blank\">rio accessor docs</a> and see if you can spot a method, and implement it, that will estimate a suitable UTM CRS for an `xarray.DataArray` object?**"
   ]
  },
  {
   "cell_type": "code",
   "execution_count": null,
   "id": "1146464e-9ba6-4f1a-ab70-df6cea5f4d2b",
   "metadata": {},
   "outputs": [],
   "source": [
    "## ADD CODE HERE"
   ]
  },
  {
   "cell_type": "markdown",
   "id": "69f2f404-e41c-4ead-ac17-c8099fd69c0b",
   "metadata": {},
   "source": [
    "<details>\n",
    "    <summary><b>answer</b></summary>\n",
    "\n",
    "```python\n",
    "est_utm = s2_summer.rio.estimate_utm_crs()\n",
    "est_utm\n",
    "```\n",
    "</details>"
   ]
  },
  {
   "cell_type": "markdown",
   "id": "b8b79acb-31a8-42b5-b376-84f4e27ae636",
   "metadata": {},
   "source": [
    "### NetCDF\n",
    "\n",
    "<a href=\"eccodes\" target=\"_blank\">Network Common Data Form (NetCDF)</a> is a commonly used file format in climatology, meteorology, oceanography, and geosciences and Earth sciences more broadly, where there is a need to store data as multidimensional arrays. The NetCDF file format is comprised of:\n",
    "\n",
    "* *variables* - multidimensional arrays of data values (including 1D arrays for the dimensions with the same name as the corresponding dimension)\n",
    "* *dimensions* - have a name and a value and describe the size and shape of the dataset\n",
    "* *attributes* - additional metadata to describe the dataset\n",
    "\n",
    "The NetCDF format is very similar to the `xarray.Dataset` class (the NetCDF model was the basis for designing the `xarray.Dataset` class). However, `xarray.Dataset` are designed for working with multidimensional arrays in memory from within Python programs. NetCDF is a format for storing multidimensional arrays on disk. This is a useful description of the <a href=\"https://pro.arcgis.com/en/pro-app/3.1/help/data/multidimensional/fundamentals-of-netcdf-data-storage.htm\" target=\"_blank\">NetCDF format</a> provided by ESRI.\n",
    "\n",
    "Let's open a NetCDF file which stores some data from ERA5-Land reanalysis weather data covering Western Australia. The data was downloaded from the <a href=\"https://cds.climate.copernicus.eu/cdsapp#!/home\" target=\"_blank\">Copernicus Climate Data Store</a> with the following characteristics:\n",
    "\n",
    "* Product type: Monthly averaged reanalysis by hour of day\n",
    "* Variable: 2m temperature (t2m), Total precipitation (tp)\n",
    "* Year: 2023\n",
    "* Month: January, February, March, April, May, June, July, August, September, October, November, December\n",
    "* Time: 00:00, 06:00, 12:00, 18:00\n",
    "* Sub-region extraction: North -9°, West 109°, South -36°, East 129°\n",
    "* Format: Zipped NetCDF-3 (experimental)"
   ]
  },
  {
   "cell_type": "code",
   "execution_count": null,
   "id": "95c3d4e2-44fd-45c4-aa38-d239872d92cb",
   "metadata": {},
   "outputs": [],
   "source": [
    "era5 = xr.open_dataset(os.path.join(os.getcwd(), \"data_lab-3_2\", \"era-5-western-australia-monthly-2023.nc\"))\n",
    "era5"
   ]
  },
  {
   "cell_type": "markdown",
   "id": "7a0c3799-921e-42ab-9ca0-0a5b4980c6d7",
   "metadata": {},
   "source": [
    "You might spot that `era5` references a `xarray.Dataset` object with two data variables: `tp` and `t2m`. Each of `tp` and `t2m` are `xarray.DataArray` objects that store precipitation and air temperature at 2 m respectively. We can access each of these `xarray.DataArray` objects by their name. For example, to retrieve the temperature data as a `xarray.DataArray` we use dot notation to access the `t2m` variable: "
   ]
  },
  {
   "cell_type": "code",
   "execution_count": null,
   "id": "6ac5687b-8652-4082-b705-20cb3f0ad414",
   "metadata": {},
   "outputs": [],
   "source": [
    "era5.t2m"
   ]
  },
  {
   "cell_type": "markdown",
   "id": "d8e68608-86ee-49ed-891a-75b673918470",
   "metadata": {},
   "source": [
    "We can select a 2D slice of the multidimensional array of temperature values to visualise. `xarray.DataArray` objects have a `sel()` method which lets us conditionally select elements from the array using the `coordinates`. Let's slice out the 2D array corresponding to the time `\"2023-12-01T12:00:00\"`. We also need to select the `expver=5`, this distinguishes between the initial release of the data (`expver=5`) and a validated release (`expver=1`). Let's use `5` here.\n",
    "\n",
    "Finally, let's use `plot.imshow()` to visualise temperature values across Western Australia for a single time slice."
   ]
  },
  {
   "cell_type": "code",
   "execution_count": null,
   "id": "0ce86f57-8d66-4db3-b829-d779fce639af",
   "metadata": {},
   "outputs": [],
   "source": [
    "era5.t2m.sel(time=\"2023-12-01T12:00:00\", expver=5).plot.imshow()"
   ]
  },
  {
   "cell_type": "markdown",
   "id": "2aee181d-485e-41f0-8b9d-ea501f6ea8c5",
   "metadata": {},
   "source": [
    "#### Recap quiz\n",
    "\n",
    "**Can you select the precipitation data from the `xarray.Dataset` `era5` and visualise precipitation data for a single time slice in June across Western Australia?**\n",
    "\n",
    "**Use a sensible colour palette for precipitation values. You will need to set `expver=1`.**"
   ]
  },
  {
   "cell_type": "code",
   "execution_count": null,
   "id": "14a1a975-c8a9-47ec-b672-4a969b0b8b29",
   "metadata": {},
   "outputs": [],
   "source": [
    "## ADD CODE HERE"
   ]
  },
  {
   "cell_type": "markdown",
   "id": "963ff6c2-ab6f-4e37-9ee0-d333ff688c30",
   "metadata": {},
   "source": [
    "<details>\n",
    "    <summary><b>answer</b></summary>\n",
    "\n",
    "```python\n",
    "era5.tp.sel(time=\"2023-06-01T18:00:00\", expver=1).plot.imshow(cmap=\"Blues\")\n",
    "```\n",
    "</details>"
   ]
  },
  {
   "cell_type": "markdown",
   "id": "6fda5e64-0e5f-473c-ab2e-3eb309fa207e",
   "metadata": {},
   "source": [
    "### ZARR\n",
    "\n",
    "<a href=\"https://zarr.readthedocs.io/en/stable/tutorial.html\" target=\"https://zarr.readthedocs.io/en/stable/tutorial.html\">Zarr</a> is a modern cloud optimised format and specification for storing chunked and compressed multidimensional arrays. It's useful for working with big datasets which have an array-like structure and in cloud computing / web environments. \n",
    "\n",
    "For example, outputs from weather and climate models often comprise a large number of multidimensional arrays (e.g. dimensions for latitude, longitude, and time and arrays for a wide range of variables such as temperature, precipitation, wind speed, pressure, and so on ....). One way of conceptualising a zarr dataset is to think of it as a directory of compressed array files. \n",
    "\n",
    "Compressing arrays means that their storage size is reduced. This reduces the costs associated with storing large datasets and means it is quicker to transfer data over networks. \n",
    "\n",
    "Chunking the arrays in storage means you don't need to be able to read the entire array into memory in your Python programs. The memory limits on personal computers / laptops can prohibit reading in entire datasets stored as arrays as dataset sizes increase. \n",
    "\n",
    "Zarr datasets are well suited to cloud storage buckets (e.g. Google Cloud Storage, Amazon S3) and they also support parallel read and writes. This means that multiple clients (e.g. users, applications) can read data concurrently from the same zarr dataset stored in the cloud. \n",
    "\n",
    "In the `data_lab-3_2` directory is a zarr dataset named `nuist_cmip6_wa_2100_tasmax.zarr`. It stores an array of maximum temperature data for the year 2100 covering Western Australia extraced from the <a href=\"https://planetarycomputer.microsoft.com/dataset/cil-gdpcir-cc-by#overview\" target=\"_blank\">Climate Impact Lab Global Downscaled Projections for Climate Impacts Research</a>. This data is from the World Climate Research Programme's 6th Coupled Model Intercomparison Project (CMIP6) and is generated by the NUIST NESM3 model and the ssp585 scenario (this dataset has been made available with a <a href=\"https://github.com/ClimateImpactLab/downscaleCMIP6/blob/master/data_licenses/NESM3.txt\" target=\"_blank\">Creative Commons 4.0 International License</a>.\n",
    "\n",
    "xarray provides functionality for reading zarr datasets (<a href=\"https://docs.xarray.dev/en/stable/user-guide/io.html#zarr\" target=\"_blank\">see docs here</a>)."
   ]
  },
  {
   "cell_type": "markdown",
   "id": "608ffea2-d1a5-49f8-9f40-5dfd8fd03c35",
   "metadata": {},
   "source": [
    "#### Recap quiz\n",
    "\n",
    "**Can you read in the zarr dataset `nuist_cmip6_wa_2100_tasmax.zarr` to an `xarray.Dataset`?**"
   ]
  },
  {
   "cell_type": "code",
   "execution_count": null,
   "id": "93aa4124-ee9e-4a92-8ac8-cca0b914c160",
   "metadata": {},
   "outputs": [],
   "source": [
    "## ADD CODE HERE"
   ]
  },
  {
   "cell_type": "markdown",
   "id": "d095cc32-4352-4d45-9709-dd71dafba19f",
   "metadata": {},
   "source": [
    "<details>\n",
    "    <summary><b>answer</b></summary>\n",
    "\n",
    "```python\n",
    "cmip6_wa = xr.open_dataset(os.path.join(os.getcwd(), \"data_lab-3_2\", \"nuist_cmip6_wa_2100_tasmax.zarr\"), engine=\"zarr\")\n",
    "print(cmip6_wa)\n",
    "cmip6_wa.tasmax.sel(time=\"2100-01-01T12:00:00\").plot()\n",
    "```\n",
    "</details>"
   ]
  },
  {
   "cell_type": "markdown",
   "id": "be65dfa6-fcce-4f12-853f-ca9b1314f9c2",
   "metadata": {},
   "source": [
    "## Vector data\n",
    "\n",
    "Vector data uses point, line, or polygon geometries to represent geographic features.\n",
    "\n",
    "### GeoPandas GeoDataFrame\n",
    "\n",
    "A GeoPandas `GeoDataFrame` is a tabular data structure for storing vector geospatial data and is based on a regular pandas `DataFrame`. \n",
    "\n",
    "A `GeoDataFrame` consists of columns of non-spatial attributes similar to a pandas `DataFrame`. However, a `GeoDataFrame` also has a `geometry` column which is a `GeoSeries` of geometries for the spatial data associated with each row.\n",
    "\n",
    "In Python, geometries are represented as <a href=\"https://shapely.readthedocs.io/en/stable/geometry.html\" target=\"_blank\">Shapely</a> `Geometry` objects. The `geometry` column in a GeoPandas `GeoDataFrame` is a `Series` of Shapely `Geometry` objects. Printing a <a href=\"https://shapely.readthedocs.io/en/stable/geometry.html\" target=\"_blank\">Shapely</a> `Geometry` object returns a Well Known Text (WKT) string description of the geometry (e.g. `POINT (0, 1)`). The `geometry` column of a `GeoDataFrame` (or a `GeoSeries`) can be viewed as a sequence of Shapely `Geometry` objects:\n",
    "\n",
    "```\n",
    "a_geoseries = [POINT (0, 1), POINT (0, 2), POINT (2, 3)]\n",
    "```\n",
    "\n",
    "Shapely provides tools for representing geometries in Python programs. It does not provide tools for reading geometry data from disk or handling attribute data. GeoPandas `GeoDataFrame` and `GeoSeries` combine Shapely's functionality for handling geometries with tools for reading and writing vector data, handling attributes, and visualisation. Therefore, we will focus on using `GeoDataFrame`s in these labs. \n",
    "\n",
    "Let's convert a CSV file with longitude, latitude, and elevation columns into a `GeoDataFrame`. First, let's read the CSV file in as a pandas `DataFrame`. "
   ]
  },
  {
   "cell_type": "code",
   "execution_count": null,
   "id": "9a06958c-8156-496e-91c3-7160a48a1e3d",
   "metadata": {},
   "outputs": [],
   "source": [
    "elev_df = pd.read_csv(os.path.join(os.getcwd(), \"data_lab-3_2\", \"week-3-bf66-elevation.csv\"))\n",
    "elev_df.head()"
   ]
  },
  {
   "cell_type": "markdown",
   "id": "99968bfe-4f10-4803-8790-fb0d88c3ec1f",
   "metadata": {},
   "source": [
    "Now, let's use the longtitude and latitude columns in the `DataFrame` to convert the elevation data into a GeoPandas `GeoDataFrame`."
   ]
  },
  {
   "cell_type": "code",
   "execution_count": null,
   "id": "7b6d3d4c-bc1d-4877-a6eb-eaeb30e2fd8c",
   "metadata": {},
   "outputs": [],
   "source": [
    "# Convert the elevation data to a spatial format\n",
    "points = gpd.points_from_xy(elev_df[\"Lon\"], elev_df[\"Lat\"], crs=\"EPSG:4326\")\n",
    "print(f\"points is of type {type(points)}\")\n",
    "\n",
    "elev_gdf = gpd.GeoDataFrame(elev_df, geometry=points)\n",
    "print(f\"elev_gdf is of type {type(elev_gdf)}\")\n",
    "\n",
    "elev_gdf.head()"
   ]
  },
  {
   "cell_type": "markdown",
   "id": "853ea7f9-2601-443a-bc66-57a28a7165f4",
   "metadata": {},
   "source": [
    "#### Recap quiz\n",
    "\n",
    "You will need to refer to the GeoPandas documentation to answer these questions.\n",
    "\n",
    "<details>\n",
    "    <summary><b>What does executing the <code>GeoDataFrame</code> method <a href=\"https://geopandas.org/en/stable/docs/reference/api/geopandas.points_from_xy.html\" target=\"_blank\"><code>points_from_xy()</code></a> return?</b></summary>\n",
    "<code>points_from_xy()</code> expects a pandas <code>Series</code> objects for x and y coordinates and coordinate reference system. It will return to a GeoPandas <code>GeometryArray</code> object which stores a POINT geometry object for each x and y pair and can be converted into a <code>GeoSeries</code> object.\n",
    "</details>\n",
    "\n",
    "<p></p>\n",
    "    \n",
    "<details>\n",
    "    <summary><b>The <a href=\"https://geopandas.org/en/stable/docs/reference/api/geopandas.GeoDataFrame.html#geopandas.GeoDataFrame\" target=\"_blank\"><code>GeoDataFrame()</code></a> constructor function can take three arguments. What are these arguments and how do they enable the creation of a <code>GeoDataFrame</code> object?</b></summary>\n",
    "    The <code>GeoDataFrame()</code> constructor function requires a pandas <code>DataFrame</code> as its first argument. This data is the non-spatial attributes. The second (optional) argument is a GeoPandas  object which stores <code>geometry</code> objects associated with each row (this could also be a string denoting the column of a <code>DataFrame</code> storing geometries. The third (optional) argument is a crs denoting the coordinate reference system for the geometry data.\n",
    "</details>"
   ]
  },
  {
   "cell_type": "markdown",
   "id": "179d2176-8a94-4f9e-bfa4-0c1573ec811f",
   "metadata": {},
   "source": [
    "### GeoJSON\n",
    "\n",
    "JSON data (JavaScript Object Notation for its full name) is a widely used format for data interchange (exchanging data between programs, computers, clients, and servers). \n",
    "\n",
    "JSON represents data as key:value pairs enclosed within curly brackets `{}` (you might notice the similarity with Python's dictionary data structure). \n",
    "\n",
    "This is an example of JSON data:\n",
    "\n",
    "```\n",
    "{\n",
    "    \"title\": \"Introducing JSON\",\n",
    "    \"url\": \"https://www.json.org/json-en.html\"\n",
    "}\n",
    "```\n",
    "\n",
    "The values in JSON data can include text (strings), numbers, arrays (lists), and nested JSON objects. Like the CSV format, JSON is a text based format where human readable characters are encoded in binary using UTF-8 or UTF-16.\n",
    "\n",
    "GeoJSON is an extension of the JSON format for storing and exchanging spatial data. One of GeoJSON's uses is sending spatial data to web browsers to render as layers on web maps.\n",
    "\n",
    "GeoJSON represents geographic features as vector data (points, lines, and polygon geometries) and can also store non-spatial attribute information.\n",
    " \n",
    "Spatial data in GeoJSON are represented using `geometry` types which include:\n",
    "\n",
    "`Point`\n",
    "\n",
    "```\n",
    "{\"type\": \"Point\", \"coordinates\": [1, 1]}\n",
    "```\n",
    "\n",
    "`LineString`\n",
    "\n",
    "```\n",
    "{\"type\": \"LineString\", \"coordinates\": [[1, 1], [2, 2]]}\n",
    "```\n",
    "\n",
    "`Polygon`\n",
    "\n",
    "```\n",
    "{\"type\": \"Polygon\", \"coordinates\": [[[1, 1], [2, 2], [1, 2], [1, 1]]]}\n",
    "```\n",
    "\n",
    "`Feature` types include attribute data as `properties` with `geometry` types.\n",
    "\n",
    "```\n",
    "{\n",
    "    \"type\": \"Feature\",\n",
    "    \"geometry\": {\n",
    "        \"type\": \"Point\",\n",
    "        \"coordinates\": [0, 0]\n",
    "    }, \n",
    "    \"properties\": {\n",
    "        \"name\": \"Perth Airport\"\n",
    "    }\n",
    "}\n",
    "```\n",
    "\n",
    "A `FeatureCollection` is a collection of `Feature`s.\n",
    "\n",
    "```\n",
    "{\n",
    "    \"type\": \"FeatureCollection\",\n",
    "    \"features\": [\n",
    "        {\n",
    "            \"type\": \"Feature\",\n",
    "            \"geometry\": {\n",
    "                \"type\": \"Point\",\n",
    "                \"coordinates\": [0, 0]\n",
    "            }, \n",
    "            \"properties\": {\n",
    "                \"name\": \"Perth Airport\"\n",
    "            }\n",
    "        },\n",
    "        {\n",
    "            \"type\": \"Feature\",\n",
    "            \"geometry\": {\n",
    "                \"type\": \"Point\",\n",
    "                \"coordinates\": [10, 1]\n",
    "            }, \n",
    "            \"properties\": {\n",
    "                \"name\": \"Broome Airport\"\n",
    "            }\n",
    "        }\n",
    "        \n",
    "    ]\n",
    "}\n",
    "```\n",
    "\n",
    "You can read <a href=\"https://macwright.com/2015/03/23/geojson-second-bite.html#featurecollection\" target=\"_blank\">More than you ever wanted to know about GeoJSON</a> for a description of the GeoJSON format. "
   ]
  },
  {
   "cell_type": "markdown",
   "id": "340b8483-8a0c-4e22-958b-1bc258c869d7",
   "metadata": {},
   "source": [
    "Let's get the first two rows of the `GeoDataFrame` and convert them to GeoJSON format. `GeoDataFrame`s have a `to_json()` method which can be used to convert the data in the `GeoDataFrame` into a string object in GeoJSON format. "
   ]
  },
  {
   "cell_type": "code",
   "execution_count": null,
   "id": "a20647ae-a125-4ad0-ac52-c85b9bbdde97",
   "metadata": {},
   "outputs": [],
   "source": [
    "# Get the first two rows of the elevation GeoDataFrame and convert to GeoJSON\n",
    "elev_gdf_2 = elev_gdf.iloc[0:2, :]\n",
    "elev_gdf_2"
   ]
  },
  {
   "cell_type": "code",
   "execution_count": null,
   "id": "51c45995-4e89-48d6-b628-32aec359c784",
   "metadata": {},
   "outputs": [],
   "source": [
    "elev_geojson_2 = elev_gdf_2.to_json()\n",
    "print(f\"The GeoJSON data is stored as a {type(elev_geojson_2)} type object\")\n",
    "print(\"\")\n",
    "pprint.pprint(elev_geojson_2)"
   ]
  },
  {
   "cell_type": "markdown",
   "id": "830fc828-4427-47fe-a1d7-68b7e2a53897",
   "metadata": {},
   "source": [
    "In Python, the GeoJSON data that we have generated from our `GeoDataFrame` is stored as a string object. GeoJSON (and JSON) is a text-based data format similar to CSV files. However, unlike the CSV format where data has a tabular structure with records arranged by row the GeoJSON data is based around nested objects of key:value pairs.\n",
    "\n",
    "As we have subsetted the first two rows of our `GeoDataFrame` and converted them to GeoJSON we have generated a `FeatureCollection` object with two `Feature`s. \n",
    "\n",
    "Each row in the `GeoDataFrame` is converted to a `Feature` and each `Feature` has the column values per row stored in a `properties` object - these are the non-spatial attributes associated with each `Point` feature. The spatial information is stored in a `geometry` object which contains two key:value pairs. The value associated with the `type` key tells us this is a `Point` geometry and the array value associated with `coordinates` key defines the location.\n",
    "\n",
    "Compare the tabular display of the `GeoDataFrame` to the print of the GeoJSON to see how the non-spatial and spatial information in the table structure is converted to the GeoJSON nested format. \n",
    "\n",
    "We can save a `GeoDataFrame` to GeoJSON using the `GeoDataFrame`'s `to_file()` method and setting the driver argument to GeoJSON."
   ]
  },
  {
   "cell_type": "code",
   "execution_count": null,
   "id": "d0d9ab0e-7405-4c96-ad3b-15b6f9be2631",
   "metadata": {},
   "outputs": [],
   "source": [
    "# Save the elevation GeoDataFrame to a GeoJSON file\n",
    "elev_gdf.to_file(os.path.join(os.getcwd(), \"week-2\", \"week-2-bf66-elevation.geojson\"), driver=\"GeoJSON\")"
   ]
  },
  {
   "cell_type": "markdown",
   "id": "e2729275-012b-44f8-a6c8-21041280e3d8",
   "metadata": {},
   "source": [
    "Check the GeoJSON file has saved to the directory specified. As it is text data, if you click on it you should be able to inspect its format in a text editor. "
   ]
  },
  {
   "cell_type": "markdown",
   "id": "ae5844f4-b2e1-47de-a010-f3d5862be462",
   "metadata": {},
   "source": [
    "#### Recap quiz\n",
    "\n",
    "<details>\n",
    "    <summary><b>Identify two differences between the GeoJSON file format and a GeoPandas <code>GeoDataFrame</code></b></summary>\n",
    "<ul>\n",
    "<li>A <code>GeoDataFrame</code> is used to store geospatial data in memory for Python programs. A GeoJSON file format describes how geospatial data should be encoded when it is stored on disk.</li>\n",
    "<li>A <code>GeoDataFrame</code> uses a tabular structure to organise non-spatial and spatial attributes with each row corresponding to a feature. GeoJSON format uses dictionary-like structure of key:value pairs with geographic data (coordinates) stored as values with a <code>geometry</code> key and attribute data stored as values with a <code>properties</code> key.</li>\n",
    "</ul>\n",
    "</details>"
   ]
  },
  {
   "cell_type": "markdown",
   "id": "2bd8d761-d605-4ea3-9088-1cbf6177a101",
   "metadata": {},
   "source": [
    "**You saved the elevation data to a GeoJSON file at this path: `os.path.join(os.getcwd(), \"data_lab-3_2\", \"week-3-bf66-elevation.geojson\")`.**\n",
    "\n",
    "**Head to the <a href=\"https://geopandas.org/en/stable/getting_started/introduction.html#Reading-and-writing-files\" target=\"_blank\">GeoPandas documentation</a> and look up how to read files into `GeoDataFrame` objects. Read the *elevation.geojson* file into a `GeoDataFrame` referenced by the variable `elev_from_file`.**"
   ]
  },
  {
   "cell_type": "code",
   "execution_count": null,
   "id": "550973b1-b866-40b5-8ac7-a533339fc23a",
   "metadata": {},
   "outputs": [],
   "source": [
    "## ADD CODE HERE"
   ]
  },
  {
   "cell_type": "markdown",
   "id": "4800063b-72ef-4cdb-b954-2f3fac7a9845",
   "metadata": {},
   "source": [
    "<details>\n",
    "    <summary><b>answer</b></summary>\n",
    "\n",
    "```python\n",
    "elev_from_file = gpd.read_file(os.path.join(os.getcwd(), \"data_lab-3_2\", \"week-3-bf66-elevation.geojson\"))\n",
    "elev_from_file.head()\n",
    "```\n",
    "    \n",
    "Note, this answer assumes GeoPandas has been imported as gpd. \n",
    "</details>"
   ]
  },
  {
   "cell_type": "markdown",
   "id": "270ade0a-1336-4a51-a759-5977989eab29",
   "metadata": {},
   "source": [
    "**Write the data referenced by `elev_from_file` to disk as a GeoPackage.**"
   ]
  },
  {
   "cell_type": "code",
   "execution_count": null,
   "id": "a454048e-1c91-4c6f-8f1a-a2a64629b959",
   "metadata": {},
   "outputs": [],
   "source": [
    "## ADD CODE HERE"
   ]
  },
  {
   "cell_type": "markdown",
   "id": "b1b13d83-57d4-462a-b8f5-5cdf676a0e94",
   "metadata": {},
   "source": [
    "<details>\n",
    "    <summary><b>answer</b></summary>\n",
    "    \n",
    "```python\n",
    "elev_from_file.to_file(os.path.join(os.getcwd(), \"data_lab-3_2\", \"week-3-bf66-elevation.gpkg\"), driver=\"GPKG\")\n",
    "```\n",
    "</details>"
   ]
  }
 ],
 "metadata": {
  "kernelspec": {
   "display_name": "Python 3 (ipykernel)",
   "language": "python",
   "name": "python3"
  },
  "language_info": {
   "codemirror_mode": {
    "name": "ipython",
    "version": 3
   },
   "file_extension": ".py",
   "mimetype": "text/x-python",
   "name": "python",
   "nbconvert_exporter": "python",
   "pygments_lexer": "ipython3",
   "version": "3.11.7"
  }
 },
 "nbformat": 4,
 "nbformat_minor": 5
}

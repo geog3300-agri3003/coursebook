{
 "cells": [
  {
   "cell_type": "markdown",
   "id": "97547f32-f67a-485a-b08a-8c1d9c4430d1",
   "metadata": {},
   "source": [
    "# Week 2 - Practice Exercises\n",
    "\n",
    "This notebook contains exercises related to week 2's content on generating interactive visualisations using Plotly Express. These exercises are based on an Our World in Data article: <a href=\"https://ourworldindata.org/yields-habitat-loss\" target=\"_blank\">*To protect the world’s wildlife we must improve crop yields – especially across Africa*</a>. \n",
    "\n",
    "This article contains several visualisations, based on the paper by <a href=\"https://www.nature.com/articles/s41893-020-00656-5\" target=\"_blank\">Williams et al. (2020)</a>, which illustrate that projected cropland expansion to meet future demands for food will result in substantial habitat loss, threats to biodiversity, and extinction. In part, this is due to growing populations in Africa where i) crop yields are low and so increasing the area under cultivation is required to generate more food, and ii) habitat for many key species is located. They also explore potential scenarios for meeting demand for food that avert the need for cropland expansion. Of the scenarios they explore, closing yield gaps in Africa looks most promising and with potential food security and economic co-benefits. \n",
    "\n",
    "<a href=\"https://colab.research.google.com/github/geog3300-agri3003/coursebook/blob/main/docs/notebooks/week-2_practice.ipynb\" target=\"_blank\">\n",
    "  <img src=\"https://colab.research.google.com/assets/colab-badge.svg\" alt=\"Open In Colab\"/>\n",
    "</a>\n"
   ]
  },
  {
   "cell_type": "markdown",
   "id": "35185470-000e-436e-b17b-aac9d2c6c289",
   "metadata": {},
   "source": [
    "### Download data"
   ]
  },
  {
   "cell_type": "code",
   "execution_count": null,
   "id": "95e4cf0e-6f57-4b93-bc95-c22ddee6e0bf",
   "metadata": {},
   "outputs": [],
   "source": [
    "import os\n",
    "import subprocess\n",
    "\n",
    "if \"data_lab-2_practice\" not in os.listdir(os.getcwd()):\n",
    "    subprocess.run('wget \"https://github.com/geog3300-agri3003/lab-data/raw/main/data_lab-2_practice.zip\"', shell=True, capture_output=True, text=True)\n",
    "    subprocess.run('unzip \"data_lab-2_practice.zip\"', shell=True, capture_output=True, text=True)\n",
    "    if \"data_lab-2_practice\" not in os.listdir(os.getcwd()):\n",
    "        print(\"Has a directory called data_lab-2_practice been downloaded and placed in your working directory? If not, try re-executing this code chunk\")\n",
    "    else:\n",
    "        print(\"Data download OK\")"
   ]
  },
  {
   "cell_type": "markdown",
   "id": "3446a82a-4ccf-4c42-9afa-9166a01b8eff",
   "metadata": {},
   "source": [
    "### Install packages\n",
    "\n",
    "If you're working in Google Colab, you'll need to install the required packages that don't come with the colab environment."
   ]
  },
  {
   "cell_type": "code",
   "execution_count": null,
   "id": "27b1b81d-2759-465b-b170-3b6c46377ed4",
   "metadata": {},
   "outputs": [],
   "source": [
    "if 'google.colab' in str(get_ipython()):\n",
    "    !pip install xarray[complete]\n",
    "    !pip install rioxarray\n",
    "    !pip install mapclassify\n",
    "    !pip install rasterio"
   ]
  },
  {
   "cell_type": "markdown",
   "id": "28cce18b-e245-4f73-97db-09ab86fa13d5",
   "metadata": {},
   "source": [
    "### Import modules"
   ]
  },
  {
   "cell_type": "code",
   "execution_count": null,
   "id": "ec302bba-faf8-4fdd-a5d9-20ae57a181a6",
   "metadata": {},
   "outputs": [],
   "source": [
    "import os\n",
    "import pandas as pd\n",
    "import geopandas as gpd\n",
    "import plotly.express as px\n",
    "\n",
    "import plotly.io as pio\n",
    "\n",
    "# setup renderer\n",
    "if 'google.colab' in str(get_ipython()):\n",
    "    pio.renderers.default = \"colab\"\n",
    "else:\n",
    "    pio.renderers.default = \"jupyterlab\""
   ]
  },
  {
   "cell_type": "markdown",
   "id": "103ff22e-ba19-411e-a9fb-91c1222b4c5c",
   "metadata": {},
   "source": [
    "## Population growth \n",
    "\n",
    "Cropland expansion will result in habitat loss for many species. This cropland expansion is required to meet demand for food. One of the reasons for an increasing demand for food is population growth. \n",
    "\n",
    "Over the coming decades, population growth is projected to be greatest in Africa which is also the home to habitats for many key species.\n",
    "\n",
    "Read in the following CSV file which has annual population figures for each continent from 1800 through to 2100 (projections) and generate a line chart using Plotly Express visualising how each continents population has grown historically and is projected to grow into the future. This data is from Our World in Data with the source being Gapminder and the UN.\n",
    "\n",
    "You should use the <a href=\"https://plotly.com/python-api-reference/generated/plotly.express.line.html\" target=\"_blank\">`px.line()`</a> function for this task and the `color` argument should be set to `\"Continent\"`. \n",
    "\n",
    "See what happens when you hover your cursor over each line.\n",
    "\n",
    "Can you spot Africa's projected rapid population growth through till 2100?"
   ]
  },
  {
   "cell_type": "code",
   "execution_count": null,
   "id": "786b9a25-3415-46b6-813a-73210053ab6f",
   "metadata": {},
   "outputs": [],
   "source": [
    "pop_continents = pd.read_csv(os.path.join(os.getcwd(), \"data_lab-2_practice\", \"population_projections_1800_2100_continents.csv\"))\n",
    "pop_continents.head()"
   ]
  },
  {
   "cell_type": "code",
   "execution_count": null,
   "id": "8a42bea2-60bc-4586-bcdf-1cdf9bd8f007",
   "metadata": {},
   "outputs": [],
   "source": [
    "## Make visualisation here ## "
   ]
  },
  {
   "cell_type": "markdown",
   "id": "69222946-3f52-449c-aec6-d3ecadfdc27c",
   "metadata": {},
   "source": [
    "<details>\n",
    "    <summary><b>answer</b></summary>\n",
    "    \n",
    "```python\n",
    "px.line(\n",
    "    pop_continents,\n",
    "    x=\"Year\",\n",
    "    y=\"Population\",\n",
    "    color=\"Continent\"\n",
    ") \n",
    "```\n",
    "</details>"
   ]
  },
  {
   "cell_type": "markdown",
   "id": "28266fbf-92a8-4af4-ab1a-65e77205fbbd",
   "metadata": {},
   "source": [
    "## Crop yield growth\n",
    "\n",
    "Over the past few decades, as populations have grown so have crop yields. Crop yields are an indicator of agricultural productivity (i.e. how much food do we get from a unit area of land). Increasing the productivity of farms has reduced the need to expand the area under cultivation to meet demand from growing populations. \n",
    "\n",
    "Read in the following CSV file to plot the change in the average cereal crop yields (tonnes/ha) per continent since 1960 on a line chart. This data is downloaded from <a href=\"https://github.com/owid/owid-datasets\" target=\"_blank\">Our World in Data</a>. \n",
    "\n",
    "You should use the <a href=\"https://plotly.com/python-api-reference/generated/plotly.express.line.html\" target=\"_blank\">`px.line()`</a> function for this task and the `color` argument should be set to `\"Continent\"`."
   ]
  },
  {
   "cell_type": "code",
   "execution_count": null,
   "id": "2fa812e1-2115-4d40-912d-07b5986d7220",
   "metadata": {},
   "outputs": [],
   "source": [
    "crop_yields_pop_continents = pd.read_csv(os.path.join(os.getcwd(), \"data_lab-2_practice\", \"population_yield_continents.csv\"))\n",
    "crop_yields_pop_continents.head()"
   ]
  },
  {
   "cell_type": "code",
   "execution_count": null,
   "id": "acc9b8bc-5435-4bc9-8081-24a441174aa9",
   "metadata": {},
   "outputs": [],
   "source": [
    "## ADD CODE HERE ##"
   ]
  },
  {
   "cell_type": "markdown",
   "id": "fd679cb3-ff15-41f5-9f7b-8fa90c192825",
   "metadata": {},
   "source": [
    "<details>\n",
    "    <summary><b>answer</b></summary>\n",
    "    \n",
    "```python\n",
    "px.line(\n",
    "    crop_yields_pop_continents,\n",
    "    x=\"Year\",\n",
    "    y=\"Cereal_Yield_Tn/ha\",\n",
    "    color=\"Continent\"\n",
    ") \n",
    "```\n",
    "</details>"
   ]
  },
  {
   "cell_type": "markdown",
   "id": "4c230f60-5bb5-4355-b61f-6460e74e5308",
   "metadata": {},
   "source": [
    "You should note the flat line for Africa indicating that crop yields have not grown over the past few decades. This is concerning as Africa is where most population growth is projected to occur. Without increases in productivity, to ensure food demand it met natural habitats will need to be brought under cultivation. \n",
    "\n",
    "We can use Plotly Express's visualisation tools to create animations that show how population growth and crop yields have changed over time.\n",
    "\n",
    "Can you create an animation of how the relationship between population growth and crop yields has changed for each continent since 1961?\n",
    "\n",
    "You will need to use <a href=\"https://plotly.com/python-api-reference/generated/plotly.express.scatter.html\" target=\"_blank\">`px.scatter()`</a> for this task. Set the `x` argument to `\"Population\"`, `y` to `\"Cereal_Yield_Tn/ha\"`, `animation_frame` to `\"Year\"`, and `color` to `\"Continent\"`. To make sure the axes ranges are suitable set `range_x` to `[0, 5000000000]` and `range_y` to `[0, 6]`. "
   ]
  },
  {
   "cell_type": "code",
   "execution_count": null,
   "id": "4f759acf-4768-4896-862a-513696ed5218",
   "metadata": {},
   "outputs": [],
   "source": [
    "## ADD CODE HERE ## "
   ]
  },
  {
   "cell_type": "markdown",
   "id": "d30a4216-7cf3-46cb-91c8-f7e539766320",
   "metadata": {},
   "source": [
    "<details>\n",
    "    <summary><b>answer</b></summary>\n",
    "    \n",
    "```python\n",
    "px.scatter(\n",
    "    crop_yields_pop_continents, \n",
    "    x=\"Population\", \n",
    "    y=\"Cereal_Yield_Tn/ha\", \n",
    "    size=\"Cereal_Yield_Tn/ha\",\n",
    "    color=\"Continent\",\n",
    "    animation_frame=\"Year\",\n",
    "    range_x=[0, 5000000000],\n",
    "    range_y=[0, 6]\n",
    ")\n",
    "```\n",
    "</details>\n",
    "\n",
    "Can you spot how Asia's population grows and crop yields increase, how there is increasing crop yields but much less rapid population growth in Europe, and how Africa's population is growing but crop yields remain low."
   ]
  },
  {
   "cell_type": "markdown",
   "id": "35f36e07-35f4-4552-817d-ce64cacbc34f",
   "metadata": {},
   "source": [
    "Plotly Express also has a convenience function, <a href=\"https://plotly.com/python-api-reference/generated/plotly.express.choropleth.html\" target=\"_blank\">`px.chloropleth()`</a>, that we can use to make animated chloropleth maps. We can read in the following CSV file of country-level crop yields since 1961 and make an animated map of changing global crop yields from 1961 until the present day. "
   ]
  },
  {
   "cell_type": "code",
   "execution_count": null,
   "id": "a61b13c4-bc5c-4450-8f83-2f96a1f8e96f",
   "metadata": {},
   "outputs": [],
   "source": [
    "crop_yields_pop_countries = pd.read_csv(os.path.join(os.getcwd(), \"data_lab-2_practice\", \"population_yield_countries.csv\"))\n",
    "crop_yields_pop_countries.head()"
   ]
  },
  {
   "cell_type": "markdown",
   "id": "ad5fa758-2192-4cb7-84ca-c977d5fc2964",
   "metadata": {},
   "source": [
    "Can you use the <a href=\"https://plotly.com/python-api-reference/generated/plotly.express.choropleth.html\" target=\"_blank\">`px.chloropleth()`</a> function to make animate changes in crop yields at the country-level since 1961?\n",
    "\n",
    "To get a good visualisation set the `range_color` argument to `[0,8]` and set the `height` argument to `500` (this makes the figure 500 pixels tall). **Use the `px.chloropleth()` docs to look up what the `range_color` argument does.**\n",
    "\n",
    "The <a href=\"https://plotly.com/python-api-reference/generated/plotly.express.choropleth.html\" target=\"_blank\">`px.chloropleth()`</a> function has a `locations` argument, set this to `\"Code\"` (`Code` in a country code to map rows in the `DataFrame` to country geometries on a map). Set the `color` argument to `\"Cereal_Yield_Tn/ha\"` so each country's fill colour represents crop yield, set the `animation_frame` argument to `\"Year\"` and set the `color_continuous_scale` argument to `\"viridis\"`. \n",
    "\n",
    "Notice how over time the fill colour of countries in Europe, America, and Asia becomes lighter indicating increasing crop yields but Africa remains in darker purple shades. "
   ]
  },
  {
   "cell_type": "code",
   "execution_count": null,
   "id": "a4fe9f86-c2d3-47dd-b7fd-9adaf75a4964",
   "metadata": {},
   "outputs": [],
   "source": [
    "## ADD CODE HERE ## "
   ]
  },
  {
   "cell_type": "markdown",
   "id": "9cddbce9-f643-48a5-8a62-2b765730335a",
   "metadata": {},
   "source": [
    "<details>\n",
    "    <summary><b>answer</b></summary>\n",
    "    \n",
    "```python\n",
    "px.choropleth(\n",
    "    crop_yields_pop_countries, \n",
    "    locations=\"Code\", \n",
    "    color=\"Cereal_Yield_Tn/ha\", \n",
    "    hover_name=\"Entity\", \n",
    "    animation_frame=\"Year\", \n",
    "    color_continuous_scale=\"viridis\",\n",
    "    range_color=[0,8],\n",
    "    height=500\n",
    ")\n",
    "```\n",
    "</details>"
   ]
  },
  {
   "cell_type": "markdown",
   "id": "8c0a6f3e-9fa0-468e-a2d0-74b503681e85",
   "metadata": {},
   "source": [
    "## Projected change in cropland area\n",
    "\n",
    "<a href=\"https://www.nature.com/articles/s41893-020-00656-5\" target=\"_blank\">Williams et al. (2020)</a> project the change in cropland area necessary to meet demand for food under a business as usual scenario (crop yields increasing following their historical rates of improvement and diets changing in line with projected income changes).\n",
    "\n",
    "Read in some of the data from the <a href=\"https://www.nature.com/articles/s41893-020-00656-5\" target=\"_blank\">Williams et al. (2020)</a> paper as used in Our World in Data (this data is downloaded from <a href=\"https://github.com/owid/owid-datasets\" target=\"_blank\">Our World in Data</a>).\n",
    "\n",
    "The column headers are:\n",
    "\n",
    "* `bau_habitat_loss_all` - business as usual % change in habitat due to cropland expansion by 2050\n",
    "* `bau_change_pct` - business as usual % change in cropland area to meet demand by 2050\n",
    "* `yields_change_pct` - % change in cropland area to meet demand by 2050 when closing yield gaps\n",
    "* `diets_change_pct` - % change in cropland area to meet demand by 2050 by transitioning to healthier and lower meat diets\n",
    "* `waste_change_pct` - % change in cropland area to meet demand by 2050 by halving food waste\n",
    "* `yields_habitat_loss_all` - % change in habitat loss for all species due to cropland expansion to meet demand by 2050 when closing yield gaps\n",
    "* `yields_habitat_loss_mammals` - % change in habitat loss for mammals due to cropland expansion to meet demand by 2050 when closing yield gaps"
   ]
  },
  {
   "cell_type": "code",
   "execution_count": null,
   "id": "8655ba9c-9f17-488e-b552-bf7e05734232",
   "metadata": {},
   "outputs": [],
   "source": [
    "williams_2020_continents = pd.read_csv(os.path.join(os.getcwd(), \"data_lab-2_practice\", \"williams_2020_continents.csv\"))\n",
    "williams_2020_continents.head()"
   ]
  },
  {
   "cell_type": "markdown",
   "id": "6c3f4bba-6bf9-41f3-9557-aeeab84046cc",
   "metadata": {},
   "source": [
    "Can you make a bar plot using the <a href=\"https://plotly.com/python-api-reference/generated/plotly.express.bar.html\" target=\"_blank\">`px.bar()`</a> function to show percentage change in cropland area by by 2050 to meet food demand under the business as usual scenario?\n",
    "\n",
    "You should set the `x` argument to `bau_change_pct` and the `y` argument to `\"Continent\"`."
   ]
  },
  {
   "cell_type": "code",
   "execution_count": null,
   "id": "591a1e99-b359-4c4d-9e46-15a3d5c5b079",
   "metadata": {},
   "outputs": [],
   "source": [
    "## ADD CODE HERE ##"
   ]
  },
  {
   "cell_type": "markdown",
   "id": "686293ca-e93a-4ff9-ac16-e0f0adfc9d80",
   "metadata": {},
   "source": [
    "<details>\n",
    "    <summary><b>answer</b></summary>\n",
    "\n",
    "```python\n",
    "px.bar(\n",
    "    williams_2020_continents, \n",
    "    x=\"bau_change_pct\", \n",
    "    y=\"Continent\", \n",
    "    labels = {\n",
    "        \"bau_change_pct\": \"% change in cropland area by 2050 (BAU)\"\n",
    "    }\n",
    ")\n",
    "```\n",
    "</details>\n",
    "\n",
    "Note, the large increase in projected cropland expansion in Africa. The region where crop yields are lowest (i.e. where agricultural land is least productive). Let's explore the same data on a map at the country level. "
   ]
  },
  {
   "cell_type": "code",
   "execution_count": null,
   "id": "d33769b8-f594-43fd-bd60-cf8c0248a237",
   "metadata": {},
   "outputs": [],
   "source": [
    "williams_2020_countries = pd.read_csv(os.path.join(os.getcwd(), \"data_lab-2_practice\", \"williams_2020_countries.csv\"))\n",
    "williams_2020_countries.head()"
   ]
  },
  {
   "cell_type": "markdown",
   "id": "7edfa0e6-8139-45e4-bb65-93eff87af44d",
   "metadata": {},
   "source": [
    "Can you make a chloropleth map that visulises the percentage change in cropland area by 2050 to meet food demand under the business as usual scenario?\n",
    "\n",
    "Use the `px.chloropleth()` function without setting the `animation_frame` argument. You should set the `location` argument to `\"Code\"`, `color` to `\"bau_change_pct\"`, `hover_name` to `\"Entity\"`, `range_color` to `[-10,120]`, and `height` to `500`.\n",
    "\n",
    "You should see in bright colours the countries of Africa where cropland area is projected to increase substantially over the coming decades."
   ]
  },
  {
   "cell_type": "code",
   "execution_count": null,
   "id": "c2329fc8-565e-4927-8b6b-1115bc4005e4",
   "metadata": {},
   "outputs": [],
   "source": [
    "## ADD CODE HERE ##"
   ]
  },
  {
   "cell_type": "markdown",
   "id": "c43232f4-bf99-4614-96df-0b7177833357",
   "metadata": {},
   "source": [
    "<details>\n",
    "    <summary><b>answer</b></summary>\n",
    "\n",
    "```python\n",
    "px.choropleth(\n",
    "    williams_2020_countries, \n",
    "    locations=\"Code\", \n",
    "    color=\"bau_change_pct\", \n",
    "    hover_name=\"Entity\",  \n",
    "    range_color=[-10,120],\n",
    "    height=500,\n",
    "    labels = {\n",
    "        \"bau_change_pct\": \"% change in cropland area by 2050 (BAU)\"\n",
    "    }\n",
    ")\n",
    "```\n",
    "</details>"
   ]
  },
  {
   "cell_type": "markdown",
   "id": "20fc4464-3fe6-41d2-82f7-6e4f7c0fc264",
   "metadata": {},
   "source": [
    "## Projected habitat loss\n",
    "\n",
    "We can repeat the above visualisations but swap out `bau_change_pct` for `bau_habitat_loss_all` to visualise the effect of business as usual cropland expansion on habitat loss for all species. \n",
    "\n",
    "Can you make a bar plot visualising the percentage change in habitat for all species under the business as usual cropland expansion scenario?\n",
    "\n",
    "You should use the `px.bar()` function and set the argument `x` to `\"bau_habitat_loss_all\"`, `y` to `\"Continent\"`, and set `range_x` to `[-11,11]`. Use the pandas `DataFrame` `williams_2020_continents` for this task. **Why are we setting the `range_x` argument to these values?**\n",
    "\n",
    "You should see that a large proportion of projected habitat loss is going to occur on the African contient."
   ]
  },
  {
   "cell_type": "code",
   "execution_count": null,
   "id": "3fe9ed21-cf8a-4728-b895-e6ff7221f70b",
   "metadata": {},
   "outputs": [],
   "source": [
    "## ADD CODE HERE ##"
   ]
  },
  {
   "cell_type": "markdown",
   "id": "090fc3de-6d76-4911-bf9f-a333df7deac2",
   "metadata": {},
   "source": [
    "<details>\n",
    "    <summary><b>answer</b></summary>\n",
    "\n",
    "```python\n",
    "px.bar(\n",
    "    williams_2020_continents, \n",
    "    x=\"bau_habitat_loss_all\", \n",
    "    y=\"Continent\", \n",
    "    range_x=[-11,11],\n",
    "    labels = {\n",
    "        \"bau_habitat_loss_all\": \"% change in habitat area for all species by 2050 under BAU scenario\"\n",
    "    }\n",
    ")\n",
    "```\n",
    "</details>\n",
    "\n",
    "Let's map this data at the country level on a chloropleth map. Use the pandas `DataFrame` `williams_2020_countries` for this task. You should use the `px.chloropleth()` function, set the `locations` argument to `\"Code\"`, set the color argument to `\"bau_habitat_loss_all\"`, set the `hover_name` to `\"Entity\"`, set the `range_color` to `[-11, 0]`, and set `height` to `500`.\n",
    "\n",
    "You should see the Sub-Saharan African countries in darker purple shades indicating where most habitat loss will occur as a result of cropland expansion by 2050. There are also some countries in South America in moderate-dark purple shades where some habitat loss could occur. This is also concerning considering the important ecosystems in South America."
   ]
  },
  {
   "cell_type": "code",
   "execution_count": null,
   "id": "1d55e926-f9ea-4d25-970f-d4423f245d16",
   "metadata": {},
   "outputs": [],
   "source": [
    "## ADD CODE HERE ##"
   ]
  },
  {
   "cell_type": "markdown",
   "id": "de950a06-2cb1-4c5c-a42d-afb513f39c9f",
   "metadata": {},
   "source": [
    "<details>\n",
    "    <summary><b>answer</b></summary>\n",
    "\n",
    "```python\n",
    "px.choropleth(\n",
    "    williams_2020_countries, \n",
    "    locations=\"Code\", \n",
    "    color=\"bau_habitat_loss_all\", \n",
    "    hover_name=\"Entity\",  \n",
    "    range_color=[-11,0],\n",
    "    height=500,\n",
    "    labels = {\n",
    "        \"bau_habitat_loss_all\": \"% change in habitat by 2050 (BAU)\"\n",
    "    }\n",
    ")\n",
    "```\n",
    "</details>"
   ]
  },
  {
   "cell_type": "markdown",
   "id": "49b7e51e-8a8d-49bc-a72c-0503e9ac3114",
   "metadata": {},
   "source": [
    "## Options for preventing loss of wildlife habitats\n",
    "\n",
    "The above visualisations tell us that growing populations increase demand for food. This extra demand can be met by i) increasing area under cultivation, or ii) increasing crop yields. Much of the projected population growth is expected to occur in Africa in the coming decades. The same continent where crop yields have remained persistently low and habitat is located for many species. \n",
    "\n",
    "However, what would cropland expansion and habitat loss scenarios in 2050 look like if **crop yield gaps** were closed. That is, bringing crop yields up to their potential limits under optimum management. Williams et al. (2020) looked into this scenario. \n",
    "\n",
    "Let's make two bar plots to visualise i) projected change in cropland area through to 2050 under a business as usual, and ii) projected change in cropland area through to 2050 under a closing yield gaps scenario. Use the `williams_2020_continents` `DataFrame` for this task. The projected change in cropland area when yield gaps are closed is the column `yields_change_pct`. "
   ]
  },
  {
   "cell_type": "code",
   "execution_count": null,
   "id": "a136708e-bad7-465a-8c86-bd561d161c76",
   "metadata": {},
   "outputs": [],
   "source": [
    "## BAR PLOT: CHANGE IN CROPLAND AREA BAU ##"
   ]
  },
  {
   "cell_type": "markdown",
   "id": "55a03f12-ef14-47e3-8500-45ce83ea25d0",
   "metadata": {},
   "source": [
    "<details>\n",
    "    <summary><b>answer</b></summary>\n",
    "\n",
    "```python\n",
    "px.bar(\n",
    "    williams_2020_continents, \n",
    "    x=\"bau_change_pct\", \n",
    "    y=\"Continent\", \n",
    "    labels = {\n",
    "        \"bau_change_pct\": \"% change in cropland area by 2050 (BAU)\"\n",
    "    }\n",
    ")\n",
    "```\n",
    "</details>"
   ]
  },
  {
   "cell_type": "code",
   "execution_count": null,
   "id": "7b0d1ab7-2bdb-4772-b827-f591f12a7d52",
   "metadata": {},
   "outputs": [],
   "source": [
    "## BAR PLOT: CHANGE IN CROPLAND AREA CLOSING YIELD GAPS ##"
   ]
  },
  {
   "cell_type": "markdown",
   "id": "b7d68b5e-4c2f-4d59-9772-63bc09b31d59",
   "metadata": {},
   "source": [
    "<details>\n",
    "    <summary><b>answer</b></summary>\n",
    "\n",
    "```python\n",
    "px.bar(\n",
    "    williams_2020_continents, \n",
    "    x=\"yields_change_pct\", \n",
    "    y=\"Continent\", \n",
    "    labels = {\n",
    "        \"yields_change_pct\": \"% change in cropland area by 2050 (Close yield gaps)\"\n",
    "    }\n",
    ")\n",
    "```\n",
    "</details>"
   ]
  },
  {
   "cell_type": "markdown",
   "id": "1ea6a567-5dfe-47e3-bc83-3aba5ef208b2",
   "metadata": {},
   "source": [
    "There are a few things to note when comparing these bar plots. One is that generally across all continents the change in area allocated to cropland when yield gaps close reduces. Second, that in some continents we can meet demand for food while taking land out of cultivation. Third, note the rapid drop in cropland expansion in Africa when closing yield gaps. \n",
    "\n",
    "Let's viualise this with respect to change in habitat loss. Can you make a chloropleth map visualising the column `\"yields_habitat_loss_all\"` in the `DataFrame` `williams_2020_countries`? This will be a map showing the projected habitat loss for all species that will occur by 2050 due to cropland expansion if yield gaps are closed. Again, use the `px.chloropleth()` function. Set the `range_color` argument to `[-5,5]` (play around with changing this and see how this affects patterns visualised on the map). Also, set `height` to `500`, `color_continuous_scale` to `\"RdYlGn\"`, and `color_continuous_midpoint` to `0` (look up what the `color_continuous_midpoint` parameter does in the <a href=\"\" target=\"_blank\">docs</a> and think about why setting this to 0 makes sense). \n"
   ]
  },
  {
   "cell_type": "code",
   "execution_count": null,
   "id": "1a78dae4-8cf0-4466-9407-83cda09dbe3b",
   "metadata": {},
   "outputs": [],
   "source": [
    "## ADD CODE HERE ##"
   ]
  },
  {
   "cell_type": "markdown",
   "id": "7b3e65e0-897f-4381-a9c8-a30b6cc03bb9",
   "metadata": {},
   "source": [
    "<details>\n",
    "    <summary><b>answer</b></summary>\n",
    "\n",
    "```python\n",
    "px.choropleth(\n",
    "    williams_2020_countries, \n",
    "    locations=\"Code\", \n",
    "    color=\"yields_habitat_loss_all\", \n",
    "    hover_name=\"Entity\",  \n",
    "    range_color=[-5,5],\n",
    "    height=500,\n",
    "    color_continuous_scale=\"RdYlGn\",\n",
    "    color_continuous_midpoint=0,\n",
    "    labels = {\n",
    "        \"yields_habitat_loss_all\": \"% change in habitat by 2050 (Close yield gaps)\"\n",
    "    }\n",
    ")\n",
    "```\n",
    "</details>\n",
    "\n",
    "Compare the habitat loss due to cropland expansion (particularly over Sub-Saharan Africa and South America) under a scenario of closing yield gaps to a business as usual scenario. \n",
    "\n",
    "Run the following code to generate the business as usual habitat loss figure for comparison and note the different colour scales used."
   ]
  },
  {
   "cell_type": "code",
   "execution_count": null,
   "id": "1f415886-59bb-4fc2-b160-bb7579af501d",
   "metadata": {},
   "outputs": [],
   "source": [
    "px.choropleth(\n",
    "    williams_2020_countries, \n",
    "    locations=\"Code\", \n",
    "    color=\"bau_habitat_loss_all\", \n",
    "    hover_name=\"Entity\",  \n",
    "    range_color=[-10,10],\n",
    "    height=500,\n",
    "    color_continuous_scale=\"RdYlGn\",\n",
    "    color_continuous_midpoint=0,\n",
    "    labels = {\n",
    "        \"bau_habitat_loss_all\": \"% change in habitat by 2050 (BAU)\"\n",
    "    }\n",
    ")"
   ]
  },
  {
   "cell_type": "markdown",
   "id": "30abee36-a7b4-4aa9-9ded-53ae2b12535b",
   "metadata": {},
   "source": [
    "Williams et al. (2020) also looked at other options for meeting demand for food which reduce the need for cropland expansion. Among the options they looked at were changing diets to a less meat intensive diet (the EAT-Lancet diet) and halving food waste. \n",
    "\n",
    "Let's make bar plots to compare the effect of closing yield gaps, adopting healthy diets, or halving food waster on cropland expansion.\n",
    "\n",
    "Note how there is still a large increase in cropland area in Africa under scenarios of adopting healthy diets and halving food waste. Also note how different solutions might be appropriate on different continents.\n",
    "\n",
    "**Can you edit the below bar plots to use a consistent range of values on the x-axis to aid comparison?**"
   ]
  },
  {
   "cell_type": "code",
   "execution_count": null,
   "id": "8cc1346d-7051-4724-b1b7-6ce17c24a045",
   "metadata": {},
   "outputs": [],
   "source": [
    "px.bar(\n",
    "    williams_2020_continents, \n",
    "    x=\"yields_change_pct\", \n",
    "    y=\"Continent\", \n",
    "    labels = {\n",
    "        \"yields_change_pct\": \"% change in cropland area by 2050 (Close yield gaps)\"\n",
    "    }\n",
    ")"
   ]
  },
  {
   "cell_type": "code",
   "execution_count": null,
   "id": "705eea08-a664-420d-bd69-0028f27bd06c",
   "metadata": {},
   "outputs": [],
   "source": [
    "px.bar(\n",
    "    williams_2020_continents, \n",
    "    x=\"diets_change_pct\", \n",
    "    y=\"Continent\", \n",
    "    labels = {\n",
    "        \"diets_change_pct\": \"% change in cropland area by 2050 (adopt healthy diets)\"\n",
    "    }\n",
    ")"
   ]
  },
  {
   "cell_type": "code",
   "execution_count": null,
   "id": "9f6f9268-b651-4d2f-90e6-b44d0306cde8",
   "metadata": {},
   "outputs": [],
   "source": [
    "px.bar(\n",
    "    williams_2020_continents, \n",
    "    x=\"waste_change_pct\", \n",
    "    y=\"Continent\", \n",
    "    labels = {\n",
    "        \"waste_change_pct\": \"% change in cropland area by 2050 (halve food waste)\"\n",
    "    }\n",
    ")"
   ]
  },
  {
   "cell_type": "markdown",
   "id": "cfaaa9a5-c104-44e7-abfd-b40270538e05",
   "metadata": {},
   "source": [
    "## Summary\n",
    "\n",
    "These exercises demonstrate how we can use data visualisations and animations to combine datasets from a range of subject areas (population, agriculture, biodiversity), explore them, and identify solutions to complex problems. \n",
    "\n",
    "Here, these datasets highlight the challenge of meeting food demand while protecting the habitat of many species under business-as-usual agricultural and demographic scenarios. However, visualising this data spatially illustrates how closing crop yield gaps in Africa could realise many benefits simultaneously of meeting food demand, achieving food security and development goals, and protecting habitats from conversion to cropland. \n",
    "\n",
    "This exercise also demonstrates the importance of data visualisations as a communication tool (see the Our World in Data article: <a href=\"https://ourworldindata.org/yields-habitat-loss\" target=\"_blank\">*To protect the world’s wildlife we must improve crop yields – especially across Africa*</a> as a good example of this ). Data visualisations can be used to summarise the complexity of big datasets to tell an important story to a range of audiences.\n",
    "\n",
    "Finally, think about all the datasets used in these exercises: global historical and projected population time-series, global crop yield time-series, data on cropland area, habitats for species, diets, and food waste. These datasets are derived from a range of underlying data sources and models. Considerable skills in (spatial) data processing and analysis are required to generate all these underlying datasets that permit analyses such as that in <a href=\"https://www.nature.com/articles/s41893-020-00656-5\" target=\"_blank\">Williams et al. (2020)</a>. This is where the skills you are learning in this course come in. \n",
    "\n"
   ]
  }
 ],
 "metadata": {
  "kernelspec": {
   "display_name": "Python 3 (ipykernel)",
   "language": "python",
   "name": "python3"
  },
  "language_info": {
   "codemirror_mode": {
    "name": "ipython",
    "version": 3
   },
   "file_extension": ".py",
   "mimetype": "text/x-python",
   "name": "python",
   "nbconvert_exporter": "python",
   "pygments_lexer": "ipython3",
   "version": "3.11.7"
  }
 },
 "nbformat": 4,
 "nbformat_minor": 5
}

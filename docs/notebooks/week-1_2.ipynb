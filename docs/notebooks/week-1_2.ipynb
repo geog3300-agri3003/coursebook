{
 "cells": [
  {
   "cell_type": "markdown",
   "id": "87c9c62b-08d0-4969-b603-64cf2bbe7615",
   "metadata": {},
   "source": [
    "# Introduction\n",
    "\n",
    "This lab will provide an introduction to programming concepts in Python. The concepts this lab will cover are:\n",
    "\n",
    "* data types and structures\n",
    "* variables and bindings\n",
    "* control flow, loops, and conditional execution\n",
    "* classes and objects\n",
    "\n",
    "This lab will start by running a short Python program that loads some crop yield data collected by harvesters from disk and visualises this data on interactive maps and charts. We will then work through the program exploring how it uses a range of Python programming concepts to complete its task."
   ]
  },
  {
   "cell_type": "markdown",
   "id": "bf1ddea4-0290-47c2-a128-3e5732de4339",
   "metadata": {},
   "source": [
    "## Setup\n",
    "\n",
    "### Run the labs\n",
    "\n",
    "You can run the labs locally on your machine or you can use cloud environments provided by Google Colab. **If you're working with Google Colab be aware that your sessions are temporary and, if required, you'll need to take care to save, backup, and download your work.**\n",
    "\n",
    "<a href=\"https://colab.research.google.com/github/geog3300-agri3003/coursebook/blob/main/docs/notebooks/week-1_2.ipynb\" target=\"_blank\">\n",
    "  <img src=\"https://colab.research.google.com/assets/colab-badge.svg\" alt=\"Open In Colab\"/>\n",
    "</a>\n",
    "\n",
    "### Download data\n",
    "\n",
    "If you need to download the date for this lab, run the following code snippet. "
   ]
  },
  {
   "cell_type": "code",
   "execution_count": null,
   "id": "2cfb976e-00f2-49c8-ae64-3ff74f6fc5eb",
   "metadata": {},
   "outputs": [],
   "source": [
    "import os\n",
    "import subprocess\n",
    "\n",
    "if \"data_lab-1_2\" not in os.listdir(os.getcwd()):\n",
    "    subprocess.run('wget \"https://github.com/geog3300-agri3003/lab-data/raw/main/data_lab-1_2.zip\"', shell=True, capture_output=True, text=True)\n",
    "    subprocess.run('unzip \"data_lab-1_2.zip\"', shell=True, capture_output=True, text=True)\n",
    "    if \"data_lab-2_1\" not in os.listdir(os.getcwd()):\n",
    "        print(\"Has a directory called data_lab-1_2 been downloaded and placed in your working directory? If not, try re-executing this code chunk\")\n",
    "    else:\n",
    "        print(\"Data download OK\")"
   ]
  },
  {
   "cell_type": "markdown",
   "id": "a67b79e9-06eb-4b78-adc2-b28cd59ebc39",
   "metadata": {},
   "source": [
    "### Install packages\n",
    "\n",
    "If you're working in Google Colab, you'll need to install the required packages that don't come with the colab environment."
   ]
  },
  {
   "cell_type": "code",
   "execution_count": null,
   "id": "36a5c5e3-fa2b-47d7-95e7-3db7986ef0a6",
   "metadata": {},
   "outputs": [],
   "source": [
    "if 'google.colab' in str(get_ipython()):\n",
    "    !pip install mapclassify\n",
    "    !pip install rasterio"
   ]
  },
  {
   "cell_type": "markdown",
   "id": "84d5baf5-f279-4220-82cb-846e157b78b2",
   "metadata": {},
   "source": [
    "### Import modules\n",
    "\n",
    "We'll introduce modules in detail later. But, for now, modules are collections of Python data structures and functions that we can `import` and use in our program. For example, pandas provides a `DataFrame` structure for storing tabular data and specific functions for working with tabular data. Plotly Express `plotly.express` provides functions for generating visualisations, importing Plotly Express means we don't need to write our own code to generate visualisations, we can just use existing functions which makes our lives easier."
   ]
  },
  {
   "cell_type": "markdown",
   "id": "74ba9b15",
   "metadata": {},
   "source": [
    "# A first Python program\n",
    "\n",
    "Python is a programming language. \n",
    "\n",
    "### Programs\n",
    "\n",
    "* A program is a series of statements that are executed to complete a task\n",
    "* Programs complete tasks by loading, transforming, and visualising data\n",
    "* Data in programs can be of different types (numeric, text, boolean)\n",
    "* Data can be combined into data structures to represent complex concepts and objects \n",
    "* Functions operate on data to complete tasks \n",
    "\n",
    "<details>\n",
    "    <summary><b>Detailed notes on Python programs</b></summary>\n",
    "\n",
    "As stated above, a program is a series of statements that are executed to complete a task. The ultimate goal of the program here is to generate visualisations of crop yield data recorded by harvesters. However, to achieve this the program consists of a series of sub-tasks that include reading the harvester data from CSV files on disk, inspecting the data, transforming it to a spatial data structure, and then rendering web maps and charts. \n",
    "\n",
    "Our program is loading, transforming, and visualising data. This means our program needs to be able store and represent different types and structures of data. If you look in the display of the `DataFrame` there are numeric, text, and date type data in the columns. Python provides tools for representing different types of data and structures for combining data to represent more complex concepts. For example, the `DataFrame` that is displayed is a data structure well suited to storing tabular data.\n",
    "\n",
    "In short, a Python program stores data as objects and then uses this data in a range functions that operate on this data to complete tasks. \n",
    "    \n",
    "</details>\n",
    "\n",
    "<p></p>\n",
    "\n",
    "Here, a short Python program is demonstrated that:\n",
    "\n",
    "1. reads in crop yield data collected by a harvester in Western Australia's Wheatbelt \n",
    "2. converts the data into a spatial format\n",
    "3. visualises the data on a web map and charts\n",
    "\n",
    "#### Import modules\n",
    "\n",
    "We'll introduce modules in detail later. But, for now, modules are collections of Python tools that we can `import` and use in our program. For example, pandas provides a `DataFrame` structure for storing tabular data and specific functions for working with tabular data. Plotly Express `plotly.express` provides functions for generating visualisations, importing Plotly Express means we don't need to write our own code to generate visualisations, we can just use existing functions which makes our lives easier."
   ]
  },
  {
   "cell_type": "code",
   "execution_count": null,
   "id": "e576f53a",
   "metadata": {},
   "outputs": [],
   "source": [
    "# Import modules\n",
    "import os\n",
    "import pandas as pd\n",
    "import geopandas as gpd\n",
    "import plotly.express as px\n",
    "import plotly.io as pio\n",
    "\n",
    "# setup renderer\n",
    "if 'google.colab' in str(get_ipython()):\n",
    "    pio.renderers.default = \"colab\"\n",
    "else:\n",
    "    pio.renderers.default = \"jupyterlab\""
   ]
  },
  {
   "cell_type": "code",
   "execution_count": null,
   "id": "e311d477-e36c-4218-aea8-5e6dbd377728",
   "metadata": {
    "tags": []
   },
   "outputs": [],
   "source": [
    "# Load the canola yield data from the harvester\n",
    "harvester_data_path = os.path.join(os.getcwd(), \"data_lab-1_2\")\n",
    "\n",
    "# Get a list of canola yield data\n",
    "harvester_data_files = os.listdir(harvester_data_path)\n",
    "\n",
    "# Combine the csv files into one data frame\n",
    "dfs = []\n",
    "\n",
    "for i in harvester_data_files:\n",
    "    if i.endswith(\".csv\"):\n",
    "        tmp_df = pd.read_csv(os.path.join(harvester_data_path, i))\n",
    "        dfs.append(tmp_df)\n",
    "\n",
    "df = pd.concat(dfs, axis=0)\n",
    "\n",
    "# Inspect the data frame\n",
    "df.head()"
   ]
  },
  {
   "cell_type": "code",
   "execution_count": null,
   "id": "ab7294e1-55d6-4aff-bc9d-8fdd39d98ce0",
   "metadata": {},
   "outputs": [],
   "source": [
    "# Transform the yield data to a spatial format\n",
    "points = gpd.points_from_xy(df[\"Longitude\"], df[\"Latitude\"], crs=\"EPSG:4326\")\n",
    "gdf = gpd.GeoDataFrame(df, geometry=points)\n",
    "\n",
    "# Visualise the crop yield data on a web map\n",
    "basemap = \"https://server.arcgisonline.com/ArcGIS/rest/services/World_Imagery/MapServer/tile/{z}/{y}/{x}\"\n",
    "attribution = \"Tiles &copy; Esri &mdash; Source: Esri, i-cubed, USDA, USGS, AEX, GeoEye, Getmapping, Aerogrid, IGN, IGP, UPR-EGP, and the GIS User Community\"\n",
    "gdf.explore(column=\"DryYield\", cmap=\"plasma\", tooltip=\"DryYield\", vmax=2, tiles=basemap, attr=attribution)"
   ]
  },
  {
   "cell_type": "markdown",
   "id": "0e70575c-5acd-446a-8237-83cb0d0f4600",
   "metadata": {},
   "source": [
    "#### Recap quiz\n",
    "\n",
    "<details>\n",
    "    <summary><b>In a Python program, are data types just used to store observations of scientific variables such as crop yield or temperature?</b></summary>\n",
    "\n",
    "No. In a Python program built-in data types are used to store a range of information relevant to the execution of a program. This could include \"scientific\" data such as an array of crop yield values. However, data in a Python program could refer to file paths and directory structures, URLs to websites or data stored in the cloud, or credentials to log in to databases.      \n",
    "</details>\n",
    "\n",
    "<p></p>\n",
    "\n",
    "In this lab we will break down the Python program that generates visualisations of crop yield data recorded by harvesters into its fundamental building blocks, identify how different types of data are represented in Python programs, and demonstrate how we can do things with this data to produce useful outputs. \n",
    "\n",
    "### Computational thinking\n",
    "\n",
    "A useful skill to develop when writing or analysing Python programs is <a href=\"https://www.bbc.co.uk/bitesize/topics/z7tp34j\" target=\"_blank\"><b>computational thinking</b></a>. This refers to breaking a larger task down into small sub-tasks (and possibly breaking sub-tasks into sub-tasks). Often, it is easier to reason with smaller more focused tasks than to grapple with a large complex problem as a whole. \n",
    "\n",
    "**A good homework exercise to help build your understanding of Python concepts is to work through the program above and break it down into series of smaller tasks (e.g. find csv files, read in csv data, make data spatial)**\n",
    "\n",
    "### Statements and comments\n",
    "\n",
    "A Python program consists of statements. **A Python statement is a line of Python code which can be executed by the computer.** \n",
    "\n",
    "A comment is a line of text that starts with the `#` symbol. It is not executed by the computer. We can use comments to make notes in our script to help us understand what the program is trying to achieve. \n",
    "\n",
    "For example, this code snippet contains two comments and one statement:\n",
    "\n",
    "```python\n",
    "# Inspect the yield data format\n",
    "# Display the first n rows\n",
    "df.head()\n",
    "```\n",
    "\n",
    "### Objects\n",
    "\n",
    "Everything in a Python program is an object. Built-in scalar data types are the most fundamental building blocks of a Python program. We can use these scalar data types to represent single numbers, words, and sentences. This is where we'll start unpicking this Python program."
   ]
  },
  {
   "cell_type": "markdown",
   "id": "01b07a42",
   "metadata": {},
   "source": [
    "## Data types\n",
    "\n",
    "Python programs perform operations on data to complete tasks. This can be scientific data such as crop yield or temperature measurements or it can be other forms of data necessary for the program to execute such as a file path to where data is stored on disk.\n",
    "\n",
    "### Built-in data types\n",
    "\n",
    "Python comes with built-in data types that can be used to store different values. These are sometimes called <a href=\"https://wesmckinney.com/book/python-basics.html#scalar_types\" target=\"_blank\">scalar types</a> as they store single values. \n",
    "\n",
    "* `float` - storing floating point numeric values.\n",
    "* `int` - storing integer numeric values.\n",
    "* `str` - storing text data as strings.\n",
    "* `bool` - storing `True` or `False` as boolean values.\n",
    "* `None` - storing null values.\n",
    "* `bytes` - storing raw binary data.\n",
    "\n",
    "### Numeric data types\n",
    "\n",
    "`int` and `float` are numeric data types in Python and are used to store integer and floating point values, respectively.\n",
    "\n",
    "The canola yield data that we have imported is of numeric type with units of tonnes/ha. Let's represent a crop yield measurement of 0.227 tonnes/ha as data in our program and inspect its type."
   ]
  },
  {
   "cell_type": "code",
   "execution_count": null,
   "id": "51b48f62-f26d-4f9d-9138-48bb818290f8",
   "metadata": {},
   "outputs": [],
   "source": [
    "print(type(0.227))"
   ]
  },
  {
   "cell_type": "markdown",
   "id": "ed059007-1477-4d34-9df7-27e76981977c",
   "metadata": {},
   "source": [
    "### String data types\n",
    "\n",
    "We also need to represent text data in our programs. In the crop yield dataset the sample id is text. In Python, text data is stored as a `str` type (or string type).\n",
    "\n",
    "Text data is stored as string types by enclosing the characters in double`\"` or single `'` quotes. "
   ]
  },
  {
   "cell_type": "code",
   "execution_count": null,
   "id": "5a0f536e-e284-4bc8-b329-bc78b45c4c7e",
   "metadata": {},
   "outputs": [],
   "source": [
    "print(type(\"a string\"))\n",
    "print(\"a string\")"
   ]
  },
  {
   "cell_type": "markdown",
   "id": "fd05bc33-0898-4c6d-904a-0c4634d9bee3",
   "metadata": {},
   "source": [
    "Let's check how the sample id names in the canola yield dataset are represented. First, let's remind ourselves what the `DataFrame` of the yield dataset looks like."
   ]
  },
  {
   "cell_type": "code",
   "execution_count": null,
   "id": "413381d0-e41d-4e8e-b04c-369b175d2b36",
   "metadata": {},
   "outputs": [],
   "source": [
    "df.head()"
   ]
  },
  {
   "cell_type": "code",
   "execution_count": null,
   "id": "70e7c367-dac1-4af6-8557-b6e205b02970",
   "metadata": {},
   "outputs": [],
   "source": [
    "# get the first field name value\n",
    "field_name = df.loc[:, \"sample_id\"].to_list()[0]\n",
    "print(type(field_name))\n",
    "print(field_name)"
   ]
  },
  {
   "cell_type": "markdown",
   "id": "1bad84d3-7444-46e6-9666-fe4388030030",
   "metadata": {},
   "source": [
    "### Boolean data types\n",
    "\n",
    "Boolean (`bool`) data types are used for storing `True` or `False` values. In Python, `True` or `False` are Boolean values and not string data types.\n",
    "\n",
    "Boolean data types are used to store the result of testing a condition that evaluates to true or false. For example, greater than and less than operations evaluate to true or false. We could test if our crop yield value of 0.227 is greater than 0.2 (it is and this expression should evaluate to true)."
   ]
  },
  {
   "cell_type": "code",
   "execution_count": null,
   "id": "f50ccc4e-7e49-4e32-a89c-1b56ccc850b4",
   "metadata": {},
   "outputs": [],
   "source": [
    "print(type(0.277 > 0.2))\n",
    "print(0.227 > 0.2)"
   ]
  },
  {
   "cell_type": "markdown",
   "id": "4428f066-4ca1-4893-99ff-61c972090607",
   "metadata": {},
   "source": [
    "We can use the `isinstance(value, type)` function to test if a data value matches a data type. Let's test if our crop yield value is numeric or string."
   ]
  },
  {
   "cell_type": "code",
   "execution_count": null,
   "id": "02851cd8-b168-4e07-9eb2-32d9bdb383ef",
   "metadata": {},
   "outputs": [],
   "source": [
    "print(isinstance(0.227, float))\n",
    "print(isinstance(0.227, str))"
   ]
  },
  {
   "cell_type": "markdown",
   "id": "83b1a1eb-a537-40d9-aedb-f6a2af94803f",
   "metadata": {},
   "source": [
    "#### Recap quiz\n",
    "\n",
    "<details>\n",
    "    <summary><b>If you execute <code>x = 3.4</code>, what data type will <code>x</code> be?</b></summary>\n",
    "<code>float</code>\n",
    "</details>\n",
    "\n",
    "<p></p>\n",
    "\n",
    "<details>\n",
    "    <summary><b>Which data type would be most suited to record the number of apples harvested from an orchard?</b></summary>\n",
    "<code>int</code> -  we should not be able to harvest fractions of apples.\n",
    "</details>\n",
    "\n",
    "<p></p>\n",
    "\n",
    "<details>\n",
    "    <summary><b>Which data type would we use to record a farm name?</b></summary>\n",
    "<code>str</code> - assuming the farm name is text data.\n",
    "</details>\n",
    "\n",
    "<p></p>\n",
    "\n",
    "<details>\n",
    "    <summary><b><code>y = 4 + 5</code> and <code>z = y > 10</code> - what value will <code>z</code> be?</b></summary>\n",
    "<code>False</code> - <code>y</code> evaluates to 9 which is less than 10. Therefore, <code>z</code> will be <code>False</code> and of <code>bool</code> type.\n",
    "</details>"
   ]
  },
  {
   "cell_type": "markdown",
   "id": "b14e460b",
   "metadata": {},
   "source": [
    "## Data structures\n",
    "\n",
    "Python provides a series of built-in data structures that can be used to group together and store related data. \n",
    "\n",
    "Data structures can be used to model a range of practical and real-world problems or phenomenon by combining simple data types. For example, we could use a collection of numeric data to represent a time-series of precipitation, string data to represent the weather station name, and combine string and numeric data together in a data structure to create a bespoke weather station data structure.\n",
    "\n",
    "* `list` - a variable length collection of objects that can be modified\n",
    "* `tuple` - a fixed length collection of objects that cannot be modified\n",
    "* `set` - a collection of unique objects\n",
    "* `dict` - a collection of objects stored as key:value pairs\n",
    "\n",
    "### Lists\n",
    "\n",
    "Lists in Python:\n",
    "\n",
    "* can be modified during a program's execution \n",
    "* can store duplicate values\n",
    "* are created by placing elements in square brackets `[]`\n",
    "* elements of a list are ordered\n",
    "* elements of a list can be of different data types\n",
    "\n",
    "We could store the sample names in our crop yield data set as a list:"
   ]
  },
  {
   "cell_type": "code",
   "execution_count": null,
   "id": "ce262a4b-3d64-49d5-99a7-8b319cf31bda",
   "metadata": {},
   "outputs": [],
   "source": [
    "[\"bf66_sample_1\", \"bf66_sample_2\"]"
   ]
  },
  {
   "cell_type": "markdown",
   "id": "775c5700-b266-45b3-86bc-b74eb8133275",
   "metadata": {},
   "source": [
    "Lists allow us to store duplicate values. The following is a valid list."
   ]
  },
  {
   "cell_type": "code",
   "execution_count": null,
   "id": "0a965723-009b-4b89-8b69-94d40b36b1d8",
   "metadata": {},
   "outputs": [],
   "source": [
    "[\"bf66_sample_1\", \"bf66_sample_2\", \"bf66_sample_2\"]"
   ]
  },
  {
   "cell_type": "markdown",
   "id": "7a891648-4149-4c52-a167-af787d337123",
   "metadata": {},
   "source": [
    "A key feature of lists are that they can be modified in place. This makes lists useful data structures for tasks when the number of objects that we want to store in a collection can change during our program's execution. We can use functions such as `.append()` to add objects to the end of a list."
   ]
  },
  {
   "cell_type": "code",
   "execution_count": null,
   "id": "b9d02b49-f8b2-4be9-a46c-55565f45fbc1",
   "metadata": {},
   "outputs": [],
   "source": [
    "sample_id_list = [\"bf66_sample_1\", \"bf66_sample_2\", \"bf66_sample_2\"]\n",
    "sample_id_list.append(\"bf66_sample_3\")\n",
    "print(sample_id_list)"
   ]
  },
  {
   "cell_type": "markdown",
   "id": "62dd5043-e7a6-4c93-b7c5-84b8d618068a",
   "metadata": {},
   "source": [
    "<details>\n",
    "    <summary><b>Using lists in our Python program to read in CSV files on harvester crop yield data</b></summary>\n",
    "\n",
    "In our Python program above, we took advantage of the fact that lists can be modified in place to loop over the CSV files in a directory, import them in as pandas `DataFrames`, and append the `DataFrames` to the list.\n",
    "\n",
    "```python\n",
    "# Combine the csv files into one data frame\n",
    "dfs = []\n",
    "\n",
    "for i in harvester_data_files:\n",
    "    if i.endswith(\".csv\"):\n",
    "        tmp_df = pd.read_csv(os.path.join(harvester_data_path, i))\n",
    "        dfs.append(tmp_df)\n",
    "```\n",
    "\n",
    "Here, we start with an empty list `dfs` denoted by just square brackets `[]`. Then, successively, a new object is added to `dfs` using the `append()` function. We finish with a list storing three pandas `DataFrames`. This demonstrates how we change the length and contents of a list during the execution of a program. We have gone from a list with zero elements to a list a list with three elements. \n",
    "    \n",
    "</details>\n",
    "\n",
    "<p></p>\n",
    "\n",
    "We can store any Python object in a list. We can also mix the types of objects stored in lists. The following is a valid list."
   ]
  },
  {
   "cell_type": "code",
   "execution_count": null,
   "id": "c484f837-6b71-45f4-88c6-7972b0c729b1",
   "metadata": {},
   "outputs": [],
   "source": [
    "[1, 2, \"not a number\", None]"
   ]
  },
  {
   "cell_type": "markdown",
   "id": "4b1469ae-fb64-4362-af18-ccd9523d126f",
   "metadata": {},
   "source": [
    "Lists are ordered collections of data. If you add an element to a list it will be appended to the last position. List items can be accessed by their **index location** with the first element having index `0`. \n",
    "\n",
    "### Indexing in Python\n",
    "\n",
    "* An index is an element's location within a data structure\n",
    "* Often, in Python, elements are accessed by their index position using the square brackets operator and passing an index in as an argument (e.g. the first element of `x` is `x[0]`)\n",
    "* In Python, indexing starts at 0 - this means the index for the first element in a data structure is 0\n",
    "* It is important to become familiar with the concept of indexing - you will use it often as you handle data in Python\n",
    "\n",
    "Let's demonstrate this by accessing the elements of the `sample_id_list` we created above."
   ]
  },
  {
   "cell_type": "code",
   "execution_count": null,
   "id": "ea09d4fd-6152-4348-b9dc-f1dbb851123e",
   "metadata": {},
   "outputs": [],
   "source": [
    "print(sample_id_list)\n",
    "print(\"The first element in sample_id_list is at index 0: \", sample_id_list[0])\n",
    "print(\"The second element in sample_id_list is at index 1: \", sample_id_list[1])\n",
    "print(\"The third element in sample_id_list is at index 2: \", sample_id_list[2])"
   ]
  },
  {
   "cell_type": "markdown",
   "id": "18e47262-fb6e-47d3-bf82-3226d799ed53",
   "metadata": {},
   "source": [
    "We can use index locations of elements in a list to create slices of list elements. For example, `sample_id_list[0:2]` would **slice** out the first two elements of the list. Note, the element referenced by the index in the final number of the slice is excluded. "
   ]
  },
  {
   "cell_type": "code",
   "execution_count": null,
   "id": "be72fb3e-741c-4e16-b55d-23feb17e45a0",
   "metadata": {},
   "outputs": [],
   "source": [
    "print(sample_id_list[0:2])"
   ]
  },
  {
   "cell_type": "markdown",
   "id": "9fa79cc8-ed8a-4e1f-bc05-6ce9896c43ec",
   "metadata": {},
   "source": [
    "### Tuples\n",
    "\n",
    "Tuple in Python:\n",
    "\n",
    "* elements are unchangeable (immutable)\n",
    "* tuple elements are ordered\n",
    "* store a fixed-length number of elements \n",
    "* created by placing Python objects inside parentheses `()`"
   ]
  },
  {
   "cell_type": "code",
   "execution_count": null,
   "id": "6c08b5c7-3a3e-411c-b279-efc84740c936",
   "metadata": {},
   "outputs": [],
   "source": [
    "(116.804075, -33.889203)"
   ]
  },
  {
   "cell_type": "markdown",
   "id": "78f47894-9e30-4b40-875c-b66944555f1e",
   "metadata": {},
   "source": [
    "Here, we have created a tuple with two numeric objects. Similar to lists we can access tuple elements by their index locations. Note the use of the `[]` operator to access elements by their index location."
   ]
  },
  {
   "cell_type": "code",
   "execution_count": null,
   "id": "915484d0-a2ce-4832-ad32-5b9967b598e3",
   "metadata": {},
   "outputs": [],
   "source": [
    "print(\"First tuple element: \", (116.804075, -33.889203)[0])"
   ]
  },
  {
   "cell_type": "code",
   "execution_count": null,
   "id": "1bd04c35-eaf2-496a-ae12-d5028637b0c2",
   "metadata": {},
   "outputs": [],
   "source": [
    "print(\"Second tuple element: \", (116.804075, -33.889203)[1])"
   ]
  },
  {
   "cell_type": "markdown",
   "id": "f6cefcff-0ff1-4fa8-8cf8-52ce183cfebd",
   "metadata": {},
   "source": [
    "As tuples are fixed-length and unchangeable, we cannot append elements to them in the same way we could with lists. This makes them useful data structures for storing data values which we don't want to change. For example, coorindate pairs that describe a location's x and y values (e.g. longitude and latitude) have two elements. Therefore, a tuple could be a suitable data format to store coordinate pairs.\n",
    "\n",
    "The shape of pandas `DataFrames` is also a tuple. A `DataFrame` has two dimensions: number of rows and number of columns. Thus, a tuple is a sensible data structure for storing the shape of `DataFrame` objects. "
   ]
  },
  {
   "cell_type": "code",
   "execution_count": null,
   "id": "269888fa-028c-4121-89bf-05ede9ecf7ae",
   "metadata": {},
   "outputs": [],
   "source": [
    "df.shape"
   ]
  },
  {
   "cell_type": "markdown",
   "id": "a6c0f352-9091-4d54-b7cc-8ad79ca3263e",
   "metadata": {},
   "source": [
    "To demonstrate that we cannot change tuple values, let's try and update the number of rows in the tuple storing the shape of `df`."
   ]
  },
  {
   "cell_type": "code",
   "execution_count": null,
   "id": "b8e9b101-3dad-4d25-ac3d-f62706d15cf4",
   "metadata": {},
   "outputs": [],
   "source": [
    "df.shape[0] = 5"
   ]
  },
  {
   "cell_type": "markdown",
   "id": "11f55d5e-4d8a-4f7a-acde-d782bd2316c4",
   "metadata": {},
   "source": [
    "We have returned a `TypeError` informing us the tuple objects do not support item assigment (adding new items to the tuple).\n",
    "\n",
    "Similar to lists, elements of a tuple are ordered and can be duplicated."
   ]
  },
  {
   "cell_type": "markdown",
   "id": "65a697ee-d800-44b0-856e-82d93b340cb2",
   "metadata": {},
   "source": [
    "### Sets\n",
    "\n",
    "Set in Python:\n",
    "\n",
    "* unordered collection objects\n",
    "* set elements cannot be duplicated\n",
    "* sets are immutable\n",
    "* sets are created by placing elements inside curly brackets `{}`\n",
    "\n",
    "Let's create a set and demonstrate that it cannot store duplicate values."
   ]
  },
  {
   "cell_type": "code",
   "execution_count": null,
   "id": "54c68933-ada7-41fd-9a84-6be5ecb67ef7",
   "metadata": {},
   "outputs": [],
   "source": [
    "{\"bf66_sample_1\", \"bf66_sample_2\", \"bf66_sample_2\", \"bf66_sample_3\"}"
   ]
  },
  {
   "cell_type": "code",
   "execution_count": null,
   "id": "5a08eb90-8b2d-4f85-83df-0f1db31549f0",
   "metadata": {},
   "outputs": [],
   "source": [
    "{1, 2, 3, 3, 4}"
   ]
  },
  {
   "cell_type": "markdown",
   "id": "198e1493-6f20-4ba3-8714-74a505ba2008",
   "metadata": {},
   "source": [
    "As sets are not ordered, we cannot access their elements by numeric index locations."
   ]
  },
  {
   "cell_type": "code",
   "execution_count": null,
   "id": "b66f7ec1-4a16-4525-8d96-71064bcbae91",
   "metadata": {},
   "outputs": [],
   "source": [
    "# This fails as set objects are not subscriptable\n",
    "{\"bf66_sample_1\", \"bf66_sample_2\", \"bf66_sample_3\"}[0]"
   ]
  },
  {
   "cell_type": "markdown",
   "id": "c512a57c-731a-4a57-be02-8b729eed3429",
   "metadata": {},
   "source": [
    "We can access set elements by looping over them or checking if a value is in the set."
   ]
  },
  {
   "cell_type": "code",
   "execution_count": null,
   "id": "3997a3e3-0a60-464e-961d-177513efdf2f",
   "metadata": {},
   "outputs": [],
   "source": [
    "for i in {\"bf66_sample_1\", \"bf66_sample_2\", \"bf66_sample_3\"}:\n",
    "    print(i)"
   ]
  },
  {
   "cell_type": "code",
   "execution_count": null,
   "id": "e358c14c-55da-4427-b4f8-e5f6e8f97599",
   "metadata": {},
   "outputs": [],
   "source": [
    "print(\"Checking if 'bf66_sample_1' is in the set:\")\n",
    "print(\"bf66_sample_1\" in {\"bf66_sample_1\", \"bf66_sample_2\", \"bf66_sample_3\"})"
   ]
  },
  {
   "cell_type": "markdown",
   "id": "60d79ee1-decf-44a4-a6a6-a2ae0ff44dfd",
   "metadata": {},
   "source": [
    "Similar to tuples, sets are unchangeable (immutable). Once created, we cannot change the set's values in our programs."
   ]
  },
  {
   "cell_type": "markdown",
   "id": "acdb96b3-947c-4ea7-9a70-11750cb44b6c",
   "metadata": {},
   "source": [
    "### Dictionary objects\n",
    "\n",
    "Dictionary objects, or `dict` objects:\n",
    "\n",
    "* store data as a collection of key:value pairs \n",
    "* Dictionary objects can be changed and modified\n",
    "* Dictionary object elements are ordered\n",
    "* We can access dictionary elements by their key\n",
    "* Dictionary objects are created by placing key:value pairs inside curly brackets `{}`\n",
    "* Keys of a dictionary object cannot be duplicated\n",
    "* Elements (values) of dictionary objects can be of a different type\n",
    "* Values can be of different lengths\n",
    "\n",
    "#### Using Dictionary objects to represent tabular data\n",
    "\n",
    "Tabular data has data values stored in rows and columns. Generally, a column corresponds to a particular variable or type of data and rows correspond to observed or measured values. We can use dictionary objects to represent tabular data in Python.\n",
    "\n",
    "For example, we can use the key:value pair pattern to represent a column header and column values.\n",
    "\n",
    "```python\n",
    "\"Elevation(m)\": [213, 222, 214, 254]\n",
    "```\n",
    "\n",
    "Here, we've used a string object to represent the column header (the key) and a list object to represent column values (the value). Combining one or more key:value pairs in a dictionary object is a way of representing tabular data in Python. \n",
    "\n",
    "```python\n",
    "{\n",
    "\"Elevation(m)\": [213, 222, 214, 254],\n",
    "\"Date\": [\"20/11/2017\", \"20/11/2017\", \"20/11/2017\", \"19/11/2017\"],\n",
    "\"sample_id\": [\"bf66_sample_1\", \"bf66_sample_1\", \"bf66_sample_2\", \"bf66_sample_3\"]\n",
    "}\n",
    "\n",
    "```\n",
    "\n",
    "Let's create this dictionary object."
   ]
  },
  {
   "cell_type": "code",
   "execution_count": null,
   "id": "8537343e-b156-4f97-99a0-171196b5a018",
   "metadata": {},
   "outputs": [],
   "source": [
    "{\n",
    "\"Elevation(m)\": [213, 222, 214, 254],\n",
    "\"Date\": [\"20/11/2017\", \"20/11/2017\", \"20/11/2017\", \"19/11/2017\"],\n",
    "\"sample_id\": [\"bf66_sample_1\", \"bf66_sample_1\", \"bf66_sample_2\", \"bf66_sample_3\"]\n",
    "}"
   ]
  },
  {
   "cell_type": "markdown",
   "id": "6914d1d2-dd7f-4d04-87a0-82cf49f55cc4",
   "metadata": {},
   "source": [
    "Keys of dictionary objects cannot be duplicated. For example:"
   ]
  },
  {
   "cell_type": "code",
   "execution_count": null,
   "id": "c9a668c2-6f71-4738-9cd4-5d484885b8c1",
   "metadata": {},
   "outputs": [],
   "source": [
    "{\n",
    "\"Elevation(m)\": [213, 222, 214, 254],\n",
    "\"Date\": [\"20/11/2017\", \"20/11/2017\", \"20/11/2017\", \"19/11/2017\"],\n",
    "\"sample_id\": [\"bf66_sample_1\", \"bf66_sample_1\", \"bf66_sample_2\", \"bf66_sample_3\"],\n",
    "\"sample_id\": [\"bf66_sample_1\", \"bf66_sample_1\", \"bf66_sample_2\", \"bf66_sample_3\"]\n",
    "}"
   ]
  },
  {
   "cell_type": "markdown",
   "id": "ba9b455c-e4ca-4d90-9e33-6a34c64729e6",
   "metadata": {},
   "source": [
    "To access elements of a dictionary object we can refer to its key. The following code snippet extracts a list of dates from the dictionary object."
   ]
  },
  {
   "cell_type": "code",
   "execution_count": null,
   "id": "3561e033-b8da-44f1-a274-a89ed9c19dde",
   "metadata": {},
   "outputs": [],
   "source": [
    "demo_dict = {\"Elevation(m)\": [213, 222, 214, 254],\n",
    "    \"Date\": [\"20/11/2017\", \"20/11/2017\", \"20/11/2017\", \"19/11/2017\"],\n",
    "    \"sample_id\": [\"bf66_sample_1\", \"bf66_sample_1\", \"bf66_sample_2\", \"bf66_sample_3\"]}\n",
    "dates = demo_dict[\"Date\"]\n",
    "dates"
   ]
  },
  {
   "cell_type": "markdown",
   "id": "cfbc2ff6-cf46-4d48-af81-a922450bfcf0",
   "metadata": {},
   "source": [
    "Dictionary objects have a `get()` function that we can use to extract elements."
   ]
  },
  {
   "cell_type": "code",
   "execution_count": null,
   "id": "163661f7-0126-4137-af4f-4f628e40ac7a",
   "metadata": {},
   "outputs": [],
   "source": [
    "dates = demo_dict.get(\"Date\")\n",
    "dates"
   ]
  },
  {
   "cell_type": "markdown",
   "id": "ffe40acf-a3bc-4297-9bb9-8a770235a2da",
   "metadata": {},
   "source": [
    "Dictionary objects also have a `keys()` function that returns a list of keys. "
   ]
  },
  {
   "cell_type": "code",
   "execution_count": null,
   "id": "f494e7d7-421c-4d37-ad3b-1b10fe43b578",
   "metadata": {},
   "outputs": [],
   "source": [
    "demo_dict.keys()"
   ]
  },
  {
   "cell_type": "markdown",
   "id": "53629f84-10b1-402b-9df8-8cfc8dbc9938",
   "metadata": {},
   "source": [
    "There is also a `values()` function that we can use to return a list of values. "
   ]
  },
  {
   "cell_type": "code",
   "execution_count": null,
   "id": "3f7bc8fb-7cde-44e7-b9e8-74296a39ad29",
   "metadata": {},
   "outputs": [],
   "source": [
    "demo_dict.values()"
   ]
  },
  {
   "cell_type": "markdown",
   "id": "1649ebe8-18b0-429e-9085-90eaec35b641",
   "metadata": {},
   "source": [
    "And, the `items()` function returns a tuple of key-value pairs. "
   ]
  },
  {
   "cell_type": "code",
   "execution_count": null,
   "id": "0e69c36b-27b7-44cb-85d3-303f75614435",
   "metadata": {},
   "outputs": [],
   "source": [
    "demo_dict.items()"
   ]
  },
  {
   "cell_type": "markdown",
   "id": "f8f93d1f-10b0-4f24-874d-ba2d5c230bdc",
   "metadata": {},
   "source": [
    "We can add elements to a dictionary object by providing a new key with corresponding values."
   ]
  },
  {
   "cell_type": "code",
   "execution_count": null,
   "id": "f3609abc-e7f9-47ae-9969-6ffc4b6cb8a6",
   "metadata": {},
   "outputs": [],
   "source": [
    "demo_dict[\"yield\"] = [1.45, 2.5, 3, 2.8, 5.5]\n",
    "demo_dict"
   ]
  },
  {
   "cell_type": "markdown",
   "id": "def03fa2-9827-4e62-bf02-537185bac00b",
   "metadata": {},
   "source": [
    "You will notice that the list of yield values we just added to the dictionary has a different number of elements to the other elements in the values slots.  "
   ]
  },
  {
   "cell_type": "markdown",
   "id": "85962a0c-6fe4-4f01-a36a-65486c80e691",
   "metadata": {},
   "source": [
    "#### Recap quiz\n",
    "\n",
    "<details>\n",
    "    <summary><b><code>x = [1, 2, 3, 4]</code> - what data structure is <code>x</code>?</b></summary>\n",
    "List\n",
    "</details>\n",
    "\n",
    "<p></p>\n",
    "\n",
    "<details>\n",
    "    <summary><b><code>q = {1, 2, 3, 4}</code> - what data structure is <code>q</code>?</b></summary>\n",
    "Set\n",
    "</details>\n",
    "\n",
    "<p></p>\n",
    "\n",
    "<details>\n",
    "    <summary><b>Which data structure organises its elements using key:value pairs?</b></summary>\n",
    "Dictionary objects\n",
    "</details>\n",
    "\n",
    "<p></p>\n",
    "\n",
    "<details>\n",
    "    <summary><b>Are lists immutable data structures?</b></summary>\n",
    "No, we can modify the values of a list and change its size (number of elements) during the program's execution.\n",
    "</details>"
   ]
  },
  {
   "cell_type": "markdown",
   "id": "ca7b9231-e104-42ef-8c62-57b2250ec532",
   "metadata": {},
   "source": [
    "**Edit the following code snippet to retrieve and print the 3rd element in `x`.**"
   ]
  },
  {
   "cell_type": "code",
   "execution_count": null,
   "id": "2fd555b7-8fbf-4037-9658-abd6dcce4a33",
   "metadata": {},
   "outputs": [],
   "source": [
    "x = [1, 2, 3, 4]\n",
    "# add code here #"
   ]
  },
  {
   "cell_type": "markdown",
   "id": "68068c0b-d4cc-47ef-8124-e70f6331e8e0",
   "metadata": {},
   "source": [
    "<details>\n",
    "    <summary><b>answer</b></summary>\n",
    "\n",
    "```python\n",
    "print(x[2])\n",
    "```\n",
    "</details>"
   ]
  },
  {
   "cell_type": "markdown",
   "id": "b9314d19-c6a0-465e-b19a-1f070b7fb507",
   "metadata": {},
   "source": [
    "**Edit the following code snippet to retrieve and print the first element in `z`.**"
   ]
  },
  {
   "cell_type": "code",
   "execution_count": null,
   "id": "e45c95bb-373f-4178-991d-e8b297ea4fa2",
   "metadata": {},
   "outputs": [],
   "source": [
    "z = (4, 5)\n",
    "# add code here #"
   ]
  },
  {
   "cell_type": "markdown",
   "id": "2e05be7c-ff56-4505-a7d2-94ddac612913",
   "metadata": {},
   "source": [
    "<details>\n",
    "    <summary><b>answer</b></summary>\n",
    "\n",
    "```python\n",
    "print(z[0])\n",
    "```\n",
    "</details>"
   ]
  },
  {
   "cell_type": "markdown",
   "id": "266d9925-cab8-4b2d-adb4-2ee3c82f710d",
   "metadata": {},
   "source": [
    "**What is the data type of the value associated with the `field` key in the dict `z`? Retrieve this value from the dict and print its type.**"
   ]
  },
  {
   "cell_type": "code",
   "execution_count": null,
   "id": "8d334e07-d2fc-42cd-8434-5770b8c1bf90",
   "metadata": {},
   "outputs": [],
   "source": [
    "z = {\n",
    "\"name\": \"farm 1\",\n",
    "\"field\": 439,\n",
    "\"crop\": \"canola\"\n",
    "}\n",
    "# add code here #"
   ]
  },
  {
   "cell_type": "markdown",
   "id": "7723e928-785d-4af0-9f54-54a188371155",
   "metadata": {},
   "source": [
    "<details>\n",
    "    <summary><b>answer</b></summary>\n",
    "    \n",
    "```python\n",
    "print(type(z[\"field\"]))\n",
    "```\n",
    "</details>"
   ]
  },
  {
   "cell_type": "markdown",
   "id": "c8dba7d5-1ce7-4ffd-8534-2680496b3657",
   "metadata": {},
   "source": [
    "## Variables\n",
    "\n",
    "In the program to read in and visualise crop yield data, you will have noticed this syntax pattern: `variable_name = data`. \n",
    "\n",
    "```python\n",
    "basemap = \"https://server.arcgisonline.com/ArcGIS/rest/services/World_Imagery/MapServer/tile/{z}/{y}/{x}\"\n",
    "```\n",
    "\n",
    "`=` is the assignment operator (not equals) which is assigning (or binding) the `variable_name` to the `data` object. \n",
    "\n",
    "The statement `basemap = \"https://server.arcgisonline.com/ArcGIS/rest/services/World_Imagery/MapServer/tile/{z}/{y}/{x}\"` is assigning the data `\"https://server.arcgisonline.com/ArcGIS/rest/services/World_Imagery/MapServer/tile/{z}/{y}/{x}\"` to the variable name `basemap`. The data is string which is storing the URL for a satellite imagery basemap. \n",
    "\n",
    "Let's see what the data looks like."
   ]
  },
  {
   "cell_type": "code",
   "execution_count": null,
   "id": "ee44fba7-c2d2-4be0-b98e-936b5172b6e9",
   "metadata": {},
   "outputs": [],
   "source": [
    "print(\"https://server.arcgisonline.com/ArcGIS/rest/services/World_Imagery/MapServer/tile/{z}/{y}/{x}\")"
   ]
  },
  {
   "cell_type": "markdown",
   "id": "b71a12b2-85f1-4ced-85aa-779057a22743",
   "metadata": {},
   "source": [
    "Now, let's assign the data object storing string URL to the name `basemap`."
   ]
  },
  {
   "cell_type": "code",
   "execution_count": null,
   "id": "2865deba-c48e-4c8a-ab32-ee0463a270c8",
   "metadata": {},
   "outputs": [],
   "source": [
    "basemap = \"https://server.arcgisonline.com/ArcGIS/rest/services/World_Imagery/MapServer/tile/{z}/{y}/{x}\"\n",
    "print(basemap)"
   ]
  },
  {
   "cell_type": "markdown",
   "id": "9d61228a-7c94-41b1-9379-6652cff2d5cc",
   "metadata": {},
   "source": [
    "Calling `print()` on the variable name returns the data object that the variable name refers to.\n",
    "\n",
    "We can assign any Python objects to variable names. When the variable name is used in a Python statement, the data value which the variable points to is used in the operations. "
   ]
  },
  {
   "cell_type": "code",
   "execution_count": null,
   "id": "e7cda1bb-224a-4aa8-aacf-9266b05408f1",
   "metadata": {},
   "outputs": [],
   "source": [
    "x = 1\n",
    "y = 2\n",
    "z = x + y\n",
    "print(z)"
   ]
  },
  {
   "cell_type": "markdown",
   "id": "6ee25f02-a942-47ef-a3b6-6e176f076892",
   "metadata": {},
   "source": [
    "Variables make a program's code easier to organise, write, and understand. We could have performed the above addition operation by just writing `1 + 2`. However, this doesn't provide us with a way to capture the result of that operation and use it again in our program without re-running `1 + 2`. \n",
    "\n",
    "Variables provide us with a mechanism by which we retrieve and use data objects (that are stored in the computer's memory) at various places in our program. A variable name points to the location in the computer's memory where a data object is stored.  \n",
    "\n",
    "While using the result of `1 + 2` is a trivial example, there are many cases where using variables is important. This statement reads a CSV file into our Python program: `tmp_df = pd.read_csv(os.path.join(harvester_data_path, i))`. To access the data stored in the CSV file we can use variable name `tmp_df` which points to where the data in the CSV file was loaded into memory. We don't need to read the CSV file from disk each time we want to access its data. \n",
    "\n",
    "Let's make these concepts concrete. \n",
    "\n",
    "When we assign the string `\"https://server.arcgisonline.com/ArcGIS/rest/services/World_Imagery/MapServer/tile/{z}/{y}/{x}\"` to the variable name `basemap`, the variable name is a pointer to the string's data object. \n",
    "\n",
    "![](https://github.com/data-analysis-3300-3003/figs/raw/main/week-1-variable.jpg)"
   ]
  },
  {
   "cell_type": "markdown",
   "id": "03400e6e-7fbb-45c0-b9a6-3bc2e2bc64fb",
   "metadata": {},
   "source": [
    "If we create another variable called `basemap_1` and assign it to `basemap`, both variables will point to the same data object (the string URL).\n",
    "\n",
    "![](https://github.com/data-analysis-3300-3003/figs/raw/main/week-1-variable-1.jpg)\n",
    "\n",
    "Let's check this. "
   ]
  },
  {
   "cell_type": "code",
   "execution_count": null,
   "id": "c1f61406-69a3-4c3b-9903-b807c4d388fa",
   "metadata": {},
   "outputs": [],
   "source": [
    "basemap_1 = basemap\n",
    "print(basemap_1)"
   ]
  },
  {
   "cell_type": "markdown",
   "id": "1785b555-a443-4fe6-b9e2-3a4104686ee3",
   "metadata": {},
   "source": [
    "If we assign a new data object to `basemap`, `basemap_1` will still point to the original string data.\n",
    "\n",
    "![](https://github.com/data-analysis-3300-3003/figs/raw/main/week-1-variable-2.jpg)"
   ]
  },
  {
   "cell_type": "code",
   "execution_count": null,
   "id": "454e48a4-e51f-4764-86ba-134e424c4fd2",
   "metadata": {},
   "outputs": [],
   "source": [
    "basemap = [1, 2, 3, 4, 5]\n",
    "print(basemap)\n",
    "print(basemap_1)"
   ]
  },
  {
   "cell_type": "markdown",
   "id": "d6327494-8fa8-44de-9437-d76af8bc923f",
   "metadata": {},
   "source": [
    "If we assign `basemap_1` to a new data object the string data for URL will no longer be accessible in our program and will eventually be removed from the computer's memory. "
   ]
  },
  {
   "cell_type": "markdown",
   "id": "9de8dc79-bad5-41c5-bb3e-78904c1c7a65",
   "metadata": {},
   "source": [
    "### Variable names\n",
    "\n",
    "There are rules that need to be followed when creating variable names:\n",
    "\n",
    "* variable names can only be text letters (A-Z, a-z), numbers (0-9), or underscores (_)\n",
    "* variable names cannot begin with a number\n",
    "* variable names cannot include whitespace\n",
    "* variable names cannot be reserved keywords such True, False, if\n",
    "\n",
    "There are also some conventions that can be followed to help write programs that are easy to follow: \n",
    "\n",
    "* use a consistent style for writing variable names - snake_case where words are separated by underscores is recommended by the PEP8 style guide for Python code\n",
    "* use a descriptive variable name so it helps you understand what kind of data it is referring to"
   ]
  },
  {
   "cell_type": "markdown",
   "id": "5cd44c12-a099-4557-a938-d6b98c1b003f",
   "metadata": {},
   "source": [
    "## Control flow\n",
    "\n",
    "So far we have demonstrated how we can represent information and concepts in our program as different data types and using different data structures. However, we are not using our program as a data storage device. We are using it to complete tasks with this data. \n",
    "\n",
    "**Control flow refers to the sequence of steps that our program takes from start to finish when it is run.** \n",
    "\n",
    "The most simple form of control flow is executing statements from top to bottom as they are written in your script."
   ]
  },
  {
   "cell_type": "code",
   "execution_count": null,
   "id": "4438b56a-854b-4f1e-a2c5-dd0887c4773c",
   "metadata": {},
   "outputs": [],
   "source": [
    "print(\"this statement is executed first\")\n",
    "print(\"and this statement is executed second\")"
   ]
  },
  {
   "cell_type": "markdown",
   "id": "c2daa5df-0b2c-48b3-bf40-dfe0f64efc33",
   "metadata": {},
   "source": [
    "### Loops\n",
    "\n",
    "Loops use a `for` statement that allows us to iterate over items in a sequence. For example, if `x` is a list `[1, 2, 3]` then:\n",
    "\n",
    "```python\n",
    "for i in x:\n",
    "    print(i)\n",
    "```\n",
    "\n",
    "will print the values of 1, 2, and 3 in turn for each iteration of the loop, `i`, takes on the value of the corresponding element in `x`.\n",
    "\n",
    "For loops are useful if we want to iterate over (repeat) a block of statements using different values from a sequence of items in turn. If we wanted to add 10 to each element of `x` we could write a for loop as:\n",
    "\n",
    "```python\n",
    "for i in x:\n",
    "    print(i + 10)\n",
    "```\n",
    "\n",
    "Let's demonstrate this."
   ]
  },
  {
   "cell_type": "code",
   "execution_count": null,
   "id": "2e17ff76-fc34-4cf7-a46d-fd7f33d9d9a5",
   "metadata": {},
   "outputs": [],
   "source": [
    "x = [1, 2, 3]\n",
    "\n",
    "for i in x:\n",
    "    print(i + 10)"
   ]
  },
  {
   "cell_type": "markdown",
   "id": "17446111-7c9d-4219-9db2-786eebd673de",
   "metadata": {},
   "source": [
    "**It is important to note that the statements inside the for loop must be indented.**\n",
    "\n",
    "Let's refer back to our program to read in crop yield data and see a use of for loops.\n",
    "\n",
    "```python\n",
    "# Combine the csv files into one data frame\n",
    "dfs = []\n",
    "\n",
    "for i in harvester_data_files:\n",
    "    if i.endswith(\".csv\"):\n",
    "        print(f\"Loading file {i} into a Pandas DataFrame\")\n",
    "        tmp_df = pd.read_csv(os.path.join(harvester_data_path, i))\n",
    "        dfs.append(tmp_df)\n",
    "```\n",
    "\n",
    "Here, the for loop is iterating over a list of file paths to CSV files storing crop yield data. For each of the CSV files in the list, the data is read into a variable `tmp_df` in turn, and, then appended to the list `dfs`. This is an example of how we can loop over a series of files in a folder on our computer and read their data into our Python program. \n",
    "\n",
    "Let's modify the for loop to illustrate this."
   ]
  },
  {
   "cell_type": "code",
   "execution_count": null,
   "id": "6c6b94ff-6d62-4006-b767-47777c9dcc9a",
   "metadata": {},
   "outputs": [],
   "source": [
    "# Load the canola yield data from the harvester\n",
    "harvester_data_path = os.path.join(os.getcwd(), \"week-1\")\n",
    "\n",
    "# Get a list of canola yield data\n",
    "harvester_data_files = os.listdir(harvester_data_path)\n",
    "\n",
    "# Check we have a list of csv files\n",
    "print(harvester_data_files)\n",
    "\n",
    "# loop over elements in harvester_data_files\n",
    "# i takes on the value of a path to a csv file\n",
    "for i in harvester_data_files: \n",
    "    if i.endswith(\".csv\"):\n",
    "        print(\" \")\n",
    "        print(\"**********************************************************\")\n",
    "        print(f\"We are currently loading file {i} into a Pandas DataFrame\")\n",
    "        tmp_df = pd.read_csv(os.path.join(harvester_data_path, i))\n",
    "        print(tmp_df.head())\n",
    "        dfs.append(tmp_df)\n",
    "\n",
    "print(\" \")\n",
    "print(f\"We have a list of {len(dfs)} Pandas DataFrames read from csv files\")   "
   ]
  },
  {
   "cell_type": "markdown",
   "id": "6515c306-9574-4b92-8a24-1529faa7c554",
   "metadata": {},
   "source": [
    "### Conditional execution\n",
    "\n",
    "Conditional execution is a form of control flow that allows for branches in the sequence that statements are executed. A boolean condition is tested, and, `if` it evaluates to `True` then one set of statements are executed and `if` it evaluates to `False` a different set of statements are executed. \n",
    "\n",
    "Conditions are tested within `if` blocks:\n",
    "\n",
    "```python\n",
    "if True:\n",
    "    these statements are executed\n",
    "else:\n",
    "    these statements are executed\n",
    "```\n",
    "\n",
    "A simple example:\n",
    "\n",
    "```python\n",
    "x = 11\n",
    "\n",
    "if x >= 10:\n",
    "    print(\"x is greater than or equal to 10\")\n",
    "\n",
    "```\n",
    "\n",
    "In this instance, the statements inside the `if` block will be executed as `x` is 11 and so greater than 10.\n",
    "\n",
    "However, if we change the value of x to 9 the statements inside the `if` block will not be executed. \n",
    "\n",
    "```python\n",
    "x = 9\n",
    "\n",
    "if x >= 10:\n",
    "    print(\"x is greater than or equal to 10\")\n",
    "\n",
    "```"
   ]
  },
  {
   "cell_type": "code",
   "execution_count": null,
   "id": "4030ddf7-ba75-401f-9161-c3c7fbdd5067",
   "metadata": {},
   "outputs": [],
   "source": [
    "x = 11\n",
    "\n",
    "if x >= 10:\n",
    "    print(\"x is greater than or equal to 10\")"
   ]
  },
  {
   "cell_type": "code",
   "execution_count": null,
   "id": "dbedd054-c035-4514-ab0c-8a0d4f3fa64f",
   "metadata": {},
   "outputs": [],
   "source": [
    "# nothing should be printed\n",
    "x = 9\n",
    "\n",
    "if x >= 10:\n",
    "    print(\"x is greater than or equal to 10\")"
   ]
  },
  {
   "cell_type": "markdown",
   "id": "ebe0225f-0380-4b5d-a335-e8921c9fda6d",
   "metadata": {},
   "source": [
    "**Similar to for loops, the statements inside the `if` block should be indented.**\n",
    "\n",
    "We can use `else` blocks for statements that can be executed if the `if` statement evaluates to `False`.\n",
    "\n",
    "```python\n",
    "x = 9\n",
    "\n",
    "if x >= 10:\n",
    "    print(\"x is greater than or equal to 10\")\n",
    "else:\n",
    "    print(\"x is less than 10\")\n",
    "```"
   ]
  },
  {
   "cell_type": "code",
   "execution_count": null,
   "id": "cbd70ffd-7c28-4108-a220-0e0034f20c52",
   "metadata": {},
   "outputs": [],
   "source": [
    "x = 9\n",
    "\n",
    "if x >= 10:\n",
    "    print(\"x is greater than or equal to 10\")\n",
    "else:\n",
    "    print(\"x is less than 10\")"
   ]
  },
  {
   "cell_type": "markdown",
   "id": "01495e46-caa3-422f-bc71-3495e2201ef5",
   "metadata": {},
   "source": [
    "There are many uses for `if` statements in Python programs. An `if` statement was used when we read in CSV files of harvester data.\n",
    "\n",
    "```python\n",
    "# Combine the csv files into one data frame\n",
    "dfs = []\n",
    "\n",
    "for i in harvester_data_files:\n",
    "    if i.endswith(\".csv\"):\n",
    "        print(f\"Loading file {i} into a Pandas DataFrame\")\n",
    "        tmp_df = pd.read_csv(os.path.join(harvester_data_path, i))\n",
    "        dfs.append(tmp_df)\n",
    "```\n",
    "\n",
    "Here, the `if` statement is being used to check the file path is referring to a CSV file. Only if this is `True` does our program try to read the file into a pandas `DataFrame`."
   ]
  },
  {
   "cell_type": "markdown",
   "id": "e620ca74-427f-4eba-bb10-d02f85b5dbd1",
   "metadata": {},
   "source": [
    "#### Recap quiz\n",
    "\n",
    "**Write a for loop to subtract 3 from every element in a tuple `s` and print the result?**"
   ]
  },
  {
   "cell_type": "code",
   "execution_count": null,
   "id": "6d2e9d64-7648-4a8a-8e37-a2cdc34049c8",
   "metadata": {},
   "outputs": [],
   "source": [
    "s = (1, 2, 3)\n",
    "# add code here #"
   ]
  },
  {
   "cell_type": "markdown",
   "id": "9147a8d4-4f0f-4e39-8a02-35fc55a1240a",
   "metadata": {},
   "source": [
    "<details>\n",
    "    <summary><b>answer</b></summary>\n",
    "    \n",
    "```python\n",
    "for i in s: \n",
    "    print(i - 3)\n",
    "```\n",
    "</details>"
   ]
  },
  {
   "cell_type": "markdown",
   "id": "dbe7dccb-8030-48de-8dc8-cdfc9bc48840",
   "metadata": {},
   "source": [
    "<details>\n",
    "    <summary><b>How would you iterate over list of file paths?</b></summary>\n",
    "Using a for loop.\n",
    "</details>"
   ]
  },
  {
   "cell_type": "markdown",
   "id": "495cfbba-1529-40d0-b1a0-20ad3d4a3a08",
   "metadata": {},
   "source": [
    "**Write a for loop to subtract 3 from every element in the tuple `s` and append the result to a list `q`?**"
   ]
  },
  {
   "cell_type": "code",
   "execution_count": null,
   "id": "a97ab3bb-f762-4404-ad94-2f4a32e451c5",
   "metadata": {},
   "outputs": [],
   "source": [
    "q = []\n",
    "s = (1, 2, 3)\n",
    "# add code here #"
   ]
  },
  {
   "cell_type": "markdown",
   "id": "53afae48-be38-4f2d-a117-16200f851273",
   "metadata": {},
   "source": [
    "<details>\n",
    "    <summary><b>answer</b></summary>\n",
    "\n",
    "```python\n",
    "for i in s: \n",
    "    q.append(i - 3)\n",
    "\n",
    "print(q)\n",
    "```\n",
    "</details>"
   ]
  },
  {
   "cell_type": "markdown",
   "id": "992d3dcb-5bfc-4033-96ea-19b834a01904",
   "metadata": {},
   "source": [
    "**Write a loop to subtract 3 from every element in the tuple `s` and append the result to a list `q` if the result is less than 0?**"
   ]
  },
  {
   "cell_type": "code",
   "execution_count": null,
   "id": "7a654f4e-9673-4b52-b322-909914a0170c",
   "metadata": {},
   "outputs": [],
   "source": [
    "q = []\n",
    "s = (1, 2, 3)\n",
    "# add code here #"
   ]
  },
  {
   "cell_type": "markdown",
   "id": "cbb524d3-a6c1-46af-8f69-c01a3b525b1d",
   "metadata": {},
   "source": [
    "<details>\n",
    "    <summary><b>answer</b></summary>\n",
    "\n",
    "```python\n",
    "for i in s:\n",
    "    if i -3 < 0:\n",
    "        q.append(i - 3)\n",
    "\n",
    "print(q)\n",
    "```\n",
    "</details>"
   ]
  },
  {
   "cell_type": "markdown",
   "id": "35267b7c-205d-4ec6-9c12-26e055970c69",
   "metadata": {},
   "source": [
    "## Classes and Objects\n",
    "\n",
    "We have mentioned a few times that Python programs comprise objects. We will now define what an object is and how the concept of an object relates to the data types and structures we have looked at above.\n",
    "\n",
    "### Objects\n",
    "\n",
    "An object is a more general concept in programming. An object in a computer program has:\n",
    "\n",
    "* properties or attributes (data)\n",
    "* behaviour (methods or functions that do things with object data). \n",
    "\n",
    "Objects provide a way to add structure to a program by combining related data and behaviours. \n",
    "\n",
    "Alongside the built-in data types and structures, we can create objects that are customised and useful for specific tasks or representing specific kinds of data or real-world problems. Often, custom data types will combine the built-in data types and structures, or other custom objects, to create objects that represent more complex concepts.\n",
    "\n",
    "### Classes\n",
    "\n",
    "A **class** is a definition of an object. The class defines the object's data and methods. An object is an instance of a class in our programs.\n",
    "\n",
    "An object's data (sometimes called its properties or attributes) can be built-in Python data types or structures or custom classes. An object's methods are functions that can be used to transform data or implement other behaviour that is relevant to the object. For example, an object representing a table is more complex than a list.\n",
    "\n",
    "#### pandas `DataFrame`s\n",
    "\n",
    "For most use cases there are existing classes that have already been developed and can be used in our programs. Keeping with the idea of working with tabular data, pandas provides a `DataFrame` class to work with tabular data. In our Python program to visualise the crop yield data we read the tabular data stored in CSV files into pandas `DataFrames`.\n",
    "\n",
    "A pandas `DataFrame` is a far more comprehensive class for handling tabular data. Compared to our small example of using a dictionary object to store tabular data, a pandas `DataFrame` implements well defined data structures for tabular data and provides a suite of useful methods (functions) for analysing and processing tabular data. \n",
    "\n",
    "#### `DataFrame` Properties\n",
    "\n",
    "The class `DataFrame` is a data structure for \"Two-dimensional, size-mutable, potentially heterogeneous tabular data\". It has the following properties:\n",
    "\n",
    "* data - the tabular data stored in the data frame \n",
    "* index - the row index (row labels)\n",
    "* columns - the column headers\n",
    "* dtype - the data types of each column\n",
    "\n",
    "![](https://github.com/data-analysis-3300-3003/figs/raw/main/week-1-pandas-data-frame.jpg)\n",
    "\n",
    "A pandas `DataFrame` stores its values in rows and columns. There is a list of column headers (which should provide a helpful description of what kind of data is in each column) and a row index.\n",
    "\n",
    "The values in columns are pandas `Series` objects. A `Series` is an array of the same type data. \n",
    "\n",
    "The pandas `DataFrame` object stores a range of properties that are useful for working with tabular data. You can look up the documentation for a `DataFrame` <a href=\"https://pandas.pydata.org/docs/reference/frame.html\" target=\"_blank\">here</a>. The properties listed **do not** have parentheses after their name `()`. Let's look at the properties under *attributes and underlying data*. We can see the `DataFrame` has a `values` property which is the actual data values in the table and a `shape` property which tells us the shape of the table (number of rows and columns).\n",
    "\n",
    "![](https://github.com/data-analysis-3300-3003/figs/raw/main/week-1-pandas-docs-labelled.jpg)\n",
    "\n",
    "Most of the time we will explore classes using their documentation websites. Let's read a CSV file into a pandas `DataFrame` and explore its properties."
   ]
  },
  {
   "cell_type": "code",
   "execution_count": null,
   "id": "ea08feac-e653-45eb-8450-7fdb69cf6697",
   "metadata": {},
   "outputs": [],
   "source": [
    "# Load the canola yield data from the harvester\n",
    "harvester_data_path = os.path.join(os.getcwd(), \"week-1\", \"canola-yield-df-1.csv\")\n",
    "\n",
    "df = pd.read_csv(harvester_data_path)\n",
    "\n",
    "# check that df is a DataFrame\n",
    "type(df)"
   ]
  },
  {
   "cell_type": "code",
   "execution_count": null,
   "id": "f1983381-81a8-47ea-98e3-14d4a06e7112",
   "metadata": {},
   "outputs": [],
   "source": [
    "# Get the shape property of the DataFrame\n",
    "df.shape"
   ]
  },
  {
   "cell_type": "markdown",
   "id": "ded289d1-964a-48cd-9a9f-87002d45ef99",
   "metadata": {},
   "source": [
    "A tuple data structure is used to store the `shape` property of a `DataFrame`."
   ]
  },
  {
   "cell_type": "code",
   "execution_count": null,
   "id": "ba81b4f2-6d3a-42fd-9bf5-5a05307dcb53",
   "metadata": {},
   "outputs": [],
   "source": [
    "# Get the values of the DataFrame\n",
    "df.values"
   ]
  },
  {
   "cell_type": "markdown",
   "id": "1d01ce1a-16f7-47a0-b2cd-7ba2bb91fa87",
   "metadata": {},
   "source": [
    "#### `DataFrame` methods\n",
    "\n",
    "However, a `DataFrame` is more than just an object for storing data. It is also where we can find a wide range of functions for working with tabular data - the class methods. Go back to the documentation for a `DataFrame` <a href=\"https://pandas.pydata.org/docs/reference/frame.html\" target=\"_blank\">here</a>. The `DataFrame` methods are indicated by the parentheses after their name `()`. \n",
    "\n",
    "There are methods to help us inspect the `DataFrame` values. The `info()` method prints a concise summary table of the `DataFrame`, there a range of methods for performing mathemtatical <a href=\"https://pandas.pydata.org/docs/reference/frame.html#computations-descriptive-stats\" target=\"_blank\">computations / descriptive stats</a>, and methods for <a href=\"https://pandas.pydata.org/docs/reference/frame.html#serialization-io-conversion\" target=\"_blank\">reading data on disk</a> into `DataFrame`s.\n",
    "\n",
    "Let's explore how we can use some of these methods to work with tabular data in `DataFrames`. "
   ]
  },
  {
   "cell_type": "markdown",
   "id": "2f6a64b0-99ff-4425-a4b1-0af42457175e",
   "metadata": {},
   "source": [
    "The `DataFrame` referenced by `df` has an `info()` method. Let's use it. "
   ]
  },
  {
   "cell_type": "code",
   "execution_count": null,
   "id": "bc45f910-d456-4bf4-9dd9-d34f25a94b5a",
   "metadata": {},
   "outputs": [],
   "source": [
    "# Load the canola yield data from the harvester\n",
    "harvester_data_path = os.path.join(os.getcwd(), \"week-1\", \"canola-yield-df-1.csv\")\n",
    "\n",
    "df = pd.read_csv(harvester_data_path)\n",
    "\n",
    "df.info()"
   ]
  },
  {
   "cell_type": "markdown",
   "id": "5c275399-2dbb-4884-b983-758e66781934",
   "metadata": {},
   "source": [
    "The `info()` method has printed out a summary of the `DataFrame` for us. A `DataFrame` also has a `mean()` method to quickly compute the average of values in a column. "
   ]
  },
  {
   "cell_type": "code",
   "execution_count": null,
   "id": "b5cb7cf4-1427-4612-9caa-fe6a7fab37a6",
   "metadata": {},
   "outputs": [],
   "source": [
    "df.mean(numeric_only=True)"
   ]
  },
  {
   "cell_type": "markdown",
   "id": "e3577996-8c13-4f2f-83f9-88aeb9f1f27d",
   "metadata": {},
   "source": [
    "You will notice that we passed `numeric_only=True` when using the `mean()` method. Head the the <a href=\"https://pandas.pydata.org/docs/reference/api/pandas.DataFrame.mean.html#pandas.DataFrame.mean\" target=\"_blank\">mean()</a> documentation to see what this does."
   ]
  },
  {
   "cell_type": "markdown",
   "id": "7422552f-cd7c-495d-b4bb-881a4b6493f8",
   "metadata": {},
   "source": [
    "### Methods and functions\n",
    "\n",
    "Functions are executed to perform a task using data. You can spot functions by `()` appearing after the function name. Functions can take input data - this is the function's arguments -  and use these inputs to complete it's task. \n",
    "\n",
    "Functions can return data back to the Python program, display data on your screen, or save data to disk. \n",
    "\n",
    "For example, the `print()` function takes data as an argument and prints it on your display as text. For example, `print(\"hello\")` would print `hello` on your screen. The `df = pd.read_csv(\"a_csv_file.csv\")` is a function within the pandas package the takes in a path to a CSV file as an argument and reads the data from that file into a `DataFrame` referenced by `df`.\n",
    "\n",
    "Methods are functions that belong to a class. For example, the `mean()` method of the pandas `DataFrame` can be called by accessing it via a `DataFrame()` object (e.g `df.mean()`). Methods often provide functionality related to the \"topic\" of the class they're associated with. For example, `DataFrame` methods provide functions related to working tabular data in `DataFrame` objects; dictionary objects have specialist methods geared for retrieving and setting data elements in dictionaries; string objects have methods for manipulating text (e.g. the `lower()` of a string object will convert all text characters to lower case). \n",
    "\n",
    "The general pattern for executing a function / method is:\n",
    "\n",
    "1. The function is called and any data are passed in as arguments inside `()`\n",
    "2. The function performs operations on the data passed in\n",
    "3. The function returns the result of operating on the data \n",
    "\n",
    "As everything in Python is an object, lists and string objects have methods. You can see the methods associated with an object by typing the object name, dot operator, and pressing tab.\n",
    "\n",
    "For example, if `farm_name = \"my farm\"`, `farm_name.<press_tab>` will print a list of string object methods. \n",
    "\n",
    "**Try this below and explore string and list methods, and how they can be used to transform your data.**\n"
   ]
  },
  {
   "cell_type": "code",
   "execution_count": null,
   "id": "31a2a767-c4fe-4a0f-bb92-04bca28ce6cc",
   "metadata": {},
   "outputs": [],
   "source": [
    "farm_name = \"my farm\"\n",
    "# uncomment below to see string methods\n",
    "# farm_name.<press_tab>"
   ]
  },
  {
   "cell_type": "code",
   "execution_count": null,
   "id": "999611c9-46e1-42d2-8181-a2104dba635e",
   "metadata": {},
   "outputs": [],
   "source": [
    "a_list = [1, 2, 3]\n",
    "# uncomment below to see list methods\n",
    "# a_list.<press_tab>"
   ]
  },
  {
   "cell_type": "markdown",
   "id": "d4487e9d-fa33-4a25-be3b-012188ea9e3d",
   "metadata": {},
   "source": [
    "### Instances\n",
    "\n",
    "Above we said that a class is a definition of an object. The class never has any data stored in it or executes any of its methods - it's just a template for a particular type of object. Objects are **instances** of a class.\n",
    "\n",
    "When we executed the statement `df = pd.read_csv(\"csv_file.csv\")` we are creating an instance object of the `DataFrame` class which is stored in the computer's memory. \n",
    "\n",
    "### Dot notation\n",
    "\n",
    "We use the `.` operator to access properties and methods of class. For example to access the `shape` property of a `DataFrame` we write `df.shape` and to access the `info()` method we write `df.info()`."
   ]
  },
  {
   "cell_type": "markdown",
   "id": "3efbe418-68f1-40fc-abde-b93eca3a57b3",
   "metadata": {},
   "source": [
    "## Modules\n",
    "\n",
    "There is one final concept to cover that is used in our program to read and visualise harvester yield data. The very first lines of the program.\n",
    "\n",
    "```python\n",
    "# Import modules\n",
    "import os\n",
    "import pandas as pd\n",
    "import geopandas as gpd\n",
    "import plotly.express as px\n",
    "```\n",
    "\n",
    "Here, we are importing modules into our script.  A module is a Python file (a file with a `.py` ending) that contains class definitions and functions. When we import a module into our program we can use the classes defined in the module.\n",
    "\n",
    "For example, we have used the method `os.path.join()` from the os module in our program. This function takes string data describing parts of a file path and joins them together to create path to a directory or file. "
   ]
  },
  {
   "cell_type": "code",
   "execution_count": null,
   "id": "c1f24066-68ee-440b-b56b-94b2be6ff9cc",
   "metadata": {},
   "outputs": [],
   "source": [
    "harvester_data_path = os.path.join(os.getcwd(), \"data\", \"week-1\", \"canola-yield-df-1.csv\")\n",
    "print(harvester_data_path)"
   ]
  },
  {
   "cell_type": "markdown",
   "id": "5eaa9aae-fa00-4127-b40e-8eac4aa9aab3",
   "metadata": {},
   "source": [
    "Inside the `os.path.join()` function you will see that we use the `os.getcwd()` method from the os module. This returns the current working directory."
   ]
  },
  {
   "cell_type": "code",
   "execution_count": null,
   "id": "2a7c3548-7cde-4045-a0a6-e1a1684e6f96",
   "metadata": {},
   "outputs": [],
   "source": [
    "os.getcwd()"
   ]
  },
  {
   "cell_type": "markdown",
   "id": "838b9666-4e5d-497c-9910-a546adbebcb1",
   "metadata": {},
   "source": [
    "You will see that we imported pandas as `pd`. This means we can refer to pandas as `pd` in our script. For example, to access the `read_csv()` function we write `pd.read_csv()` and not `pandas.read_csv()`. This is just a convenience to make the script less cluttered. The following would also be valid.\n",
    "\n",
    "```python\n",
    "import pandas\n",
    "df = pandas.read_csv(\"file.csv\")\n",
    "```"
   ]
  }
 ],
 "metadata": {
  "kernelspec": {
   "display_name": "Python 3 (ipykernel)",
   "language": "python",
   "name": "python3"
  },
  "language_info": {
   "codemirror_mode": {
    "name": "ipython",
    "version": 3
   },
   "file_extension": ".py",
   "mimetype": "text/x-python",
   "name": "python",
   "nbconvert_exporter": "python",
   "pygments_lexer": "ipython3",
   "version": "3.11.7"
  },
  "vscode": {
   "interpreter": {
    "hash": "0a3a540d733e13dd2cfc4c76ea59809fcb1c94b9ada5b1181b5aea89bebb185d"
   }
  }
 },
 "nbformat": 4,
 "nbformat_minor": 5
}

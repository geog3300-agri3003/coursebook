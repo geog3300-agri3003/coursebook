{
 "cells": [
  {
   "cell_type": "markdown",
   "id": "bdbfe112-415f-4c31-bb89-b07409174ab8",
   "metadata": {},
   "source": [
    "# SpatioTemporal Asset Catalogs (STAC)\n",
    "\n",
    "This lab will demonstrate how to search for and download geospatial data in the cloud. \n",
    "\n",
    "It will introduce <a href=\"https://stacspec.org/en/\" target=\"_blank\">SpatioTemporal Asset Catalogs (STAC)</a>, a specification that makes it easy to query and search through large collections of geospatial data assets stored in the cloud. \n",
    "\n",
    "You will also learn to use the <a href=\"https://pystac-client.readthedocs.io/en/stable/index.html\" target=\"_blank\">pystac_client</a> package which provides tools for working with STAC in Python.\n",
    "\n",
    "We're going to use the pystac_client package to query a range of STAC Catalogs hosted in the cloud. We'll complete the following tasks:\n",
    "\n",
    "* Find the least cloudy Sentinel-2 image for a field in Western Australia using the Microsoft Planetary Computer.\n",
    "* Find the least cloud Landsat image for a field in Western Australia using the Microsoft Planetary Computer.\n",
    "* Find and download a time-series of cloud free satellite images during a growing season.\n",
    "* Find and download meteorological data from cloud-based data catalogs."
   ]
  },
  {
   "cell_type": "markdown",
   "id": "38067320-10b7-495a-867b-8bf6f7f70f23",
   "metadata": {},
   "source": [
    "## Setup\n",
    "\n",
    "### Run the labs\n",
    "\n",
    "You can run the labs locally on your machine or you can use cloud environments provided by Google Colab. **If you're working with Google Colab be aware that your sessions are temporary and you'll need to take care to save, backup, and download your work.**\n",
    "\n",
    "<a href=\"https://colab.research.google.com/github/geog3300-agri3003/coursebook/blob/main/docs/notebooks/week-6_2.ipynb\" target=\"_blank\">\n",
    "  <img src=\"https://colab.research.google.com/assets/colab-badge.svg\" alt=\"Open In Colab\"/>\n",
    "</a>\n",
    "\n",
    "### Download data\n",
    "\n",
    "If you need to download the data for this lab, run the following code snippet.  "
   ]
  },
  {
   "cell_type": "code",
   "execution_count": null,
   "id": "78fa7f01-f011-486f-b864-9cee0a4d6380",
   "metadata": {},
   "outputs": [],
   "source": [
    "import os\n",
    "import subprocess\n",
    "\n",
    "if \"data_lab-6\" not in os.listdir(os.getcwd()):\n",
    "    subprocess.run('wget \"https://github.com/geog3300-agri3003/lab-data/raw/main/data_lab-6.zip\"', shell=True, capture_output=True, text=True)\n",
    "    subprocess.run('unzip \"data_lab-6.zip\"', shell=True, capture_output=True, text=True)\n",
    "    if \"data_lab-6\" not in os.listdir(os.getcwd()):\n",
    "        print(\"Has a directory called data_lab-6 been downloaded and placed in your working directory? If not, try re-executing this code chunk\")\n",
    "    else:\n",
    "        print(\"Data download OK\")"
   ]
  },
  {
   "cell_type": "markdown",
   "id": "991ad1d9-f78a-4ae8-b94b-3f7bccf01ebb",
   "metadata": {},
   "source": [
    "### Working in Colab\n",
    "\n",
    "If you're working in Google Colab, you'll need to install the required packages that don't come with the colab environment."
   ]
  },
  {
   "cell_type": "code",
   "execution_count": null,
   "id": "5b4a7481-6251-463b-9fbe-cd7f6c81e1df",
   "metadata": {},
   "outputs": [],
   "source": [
    "if 'google.colab' in str(get_ipython()):\n",
    "    !pip install xarray[complete]\n",
    "    !pip install rioxarray\n",
    "    !pip install mapclassify\n",
    "    !pip install rasterio\n",
    "    !pip install planetary-computer\n",
    "    !pip install pystac-client\n",
    "    !pip install odc-stac\n",
    "    !pip install adlfs"
   ]
  },
  {
   "cell_type": "markdown",
   "id": "5db49844-d1af-46aa-a349-33e16ef94074",
   "metadata": {},
   "source": [
    "## SpatioTemporal Asset Catalogs (STAC)\n",
    "\n",
    "First, let's briefly outline what the STAC specification is before completing some data querying and downloading tasks to make the concepts concrete.\n",
    "\n",
    "**spatiotemporal asset:** this is a file comprising geospatial data for a location and point in time. For example, this could be Landsat or Sentinel-2 satellite images stored in the cloud such as in Microsoft Azure or Amazon Web Services. This is a file that we can download and use the data in our analysis and applications. However, if you look at <a href=\"https://planetarycomputer.microsoft.com/catalog\" target=\"_blank\">Microsoft's Planetary Computer Data Catalog</a>, <a href=\"https://aws.amazon.com/marketplace/search/results?trk=868d8747-614e-4d4d-9fb6-fd5ac02947a8&sc_channel=el&FULFILLMENT_OPTION_TYPE=DATA_EXCHANGE&CONTRACT_TYPE=OPEN_DATA_LICENSES&filters=FULFILLMENT_OPTION_TYPE%2CCONTRACT_TYPE\" target=\"_blank\">Amazon Web Services Open Data</a>, or the <a href=\"https://explorer.sandbox.dea.ga.gov.au/stac/\" target=\"_blank\">Digital Earth Australia Open Data Cube</a> you will see there are lots of spatiotemporal assets available (for free). The challenge is searching through these collections of assets to find the data you need and downloading it. The STAC specification provides a solution for this. \n",
    "\n",
    "The STAC specification comprises:\n",
    "\n",
    "* **STAC Item** - a GeoJSON feature that represents a spatiotemporal asset with links to the spatiotemporal asset and additional metadata fields (e.g. bounding box, thumbnail, datetime, cloud cover).\n",
    "* **STAC Catalog** - a JSON file of links to STAC Items to support querying and retrieving STAC Items. STAC Catalogs can comprise sub-catalogs that group together related data within a larger structure. For example, Microsoft's Planetary Computer might create a STAC Catalog for all of its spatiotemporal assets and organise these assets in sub-catalogs (e.g. a catalog for Landsat 7, Landsat 8, Sentinel-2, SRTM DEM etc.).\n",
    "* **STAC Collection** - an extension of a STAC Catalog with additional metadata properties (e.g. extents, licences, providers) to describe STAC Items within the collection. \n",
    "* **STAC API** - an API that allows clients to query a STAC collection, search for STAC Items, and retrieve their links for downloading. The search endpoint is designed to receive queries of STAC Catalogs that filter on location, date, and time as well as other fields. It returns a GeoJSON FeatureCollection object with of STAC Items that meet the search criteria. \n",
    "\n",
    "### Tips\n",
    "\n",
    "These are some tips for working with STAC here.\n",
    "\n",
    "* use rectangular bounding boxes or area-of-interest geometries to quickly identify STAC Items that intersect with their extent.\n",
    "* for exploratory work use small areas-of-interest to minimise the size of searches of STAC Collections and the amount of data transmitted over the network. \n",
    "\n",
    "### Useful links\n",
    "\n",
    "* <a href=\"https://stacspec.org/en\" target=\"_blank\">STAC website</a>: the STAC homepage with details about STAC, tutorials, and links to STAC catalogs.\n",
    "* <a href=\"https://radiantearth.github.io/stac-browser/#/\" target=\"_blank\">STAC Browser</a>: a web browser to search for STAC catalogs.\n",
    "* <a href=\"https://stacindex.org/\" target=\"_blank\">STAC Index</a>: an index of STAC catalogs and tutorials.\n",
    "* <a href=\"https://planetarycomputer.microsoft.com/catalog\" target=\"_blank\">Microsoft Planetary Computer Catalog</a>: Microsoft Planetary Computer's STAC catalogs."
   ]
  },
  {
   "cell_type": "markdown",
   "id": "a1aec1c2-db6d-4880-9a3d-9758512ac1a6",
   "metadata": {},
   "source": [
    "### Import modules"
   ]
  },
  {
   "cell_type": "code",
   "execution_count": null,
   "id": "07195d8c-ffb7-41c4-aa42-48cde735972a",
   "metadata": {},
   "outputs": [],
   "source": [
    "import os\n",
    "import json\n",
    "import geopandas as gpd\n",
    "import pandas as pd\n",
    "import numpy as np\n",
    "import xarray as xr\n",
    "import odc.stac\n",
    "import pystac_client\n",
    "import planetary_computer as pc\n",
    "import plotly.express as px\n",
    "import plotly.io as pio\n",
    "from skimage import io\n",
    "\n",
    "from pystac.extensions.eo import EOExtension as eo\n",
    "\n",
    "# setup renderer\n",
    "if 'google.colab' in str(get_ipython()):\n",
    "    pio.renderers.default = \"colab\"\n",
    "else:\n",
    "    pio.renderers.default = \"jupyterlab\""
   ]
  },
  {
   "cell_type": "markdown",
   "id": "df022161-aa0a-4566-a1e7-3ed14b076d66",
   "metadata": {},
   "source": [
    "## Sentinel-2 and Microsoft Planetary Computer\n",
    "\n",
    "To provide an introducion to the STAC specification and using it to search for spatiotemporal assets, we'll use it to query Microsoft's Planetary Computer to find a cloud free Sentinel-2 satellite image for a field in Western Australia. \n",
    "\n",
    "We'll be using the <a href=\"https://pystac-client.readthedocs.io/en/stable/\" target=\"_blank\">pystac_client</a> package which is a STAC Python Client providing classes for working with STAC Catalogs and APIs.\n",
    "\n",
    "First, we need to create a `pystac_client.Client` object which contains the methods and attributes to interact with a given STAC Catalog. Using the `pystac_client.Client.open()` method we can open a STAC Catalog or API and read the root catalog. \n",
    "\n",
    "The `pystac_client.Client.open()` method requires a `url` which points to the STAC catalog or api. The `url` for the Microsoft Planetary Computer STAC API is `\"https://planetarycomputer.microsoft.com/api/stac/v1\"`.  "
   ]
  },
  {
   "cell_type": "code",
   "execution_count": null,
   "id": "2edb68f9-2de1-4544-ba3e-4d8fdb4899bc",
   "metadata": {},
   "outputs": [],
   "source": [
    "# open a connection to the Microsoft Planetary Computer's root STAC catalog\n",
    "pc_catalog = pystac_client.Client.open(\n",
    "    url=\"https://planetarycomputer.microsoft.com/api/stac/v1\",\n",
    "    # modifier=planetary_computer.sign_inplace\n",
    ")"
   ]
  },
  {
   "cell_type": "markdown",
   "id": "d6aadd63-13d9-4796-a46c-73680b2ed339",
   "metadata": {},
   "source": [
    "A `pystac_client` object has a `search()` method that can be used to specify a query to search a STAC Collection for STAC Items that meet certain conditions. The `search()` method has the following parameters that can be used to define scope of the query:\n",
    "\n",
    "* `max_items` - maximum number of items to return from the search. \n",
    "* `bbox` - a list or tuple of of bounding box coordinates. STAC Items that intersect the bounding box will be returned. \n",
    "* `intersects` - a str or dict representation of a GeoJSON geometry or Shapely `geometry`. STAC Items that intersect the geometry will be returned. \n",
    "* `datetime` - a single datetime or datetime range used to filter STAC Items. \n",
    "* `query` - list of JSON or query parameters using the STAC API query extension. \n",
    "\n",
    "You can see the full details for the `search()` method <a href=\"https://pystac-client.readthedocs.io/en/stable/api.html#pystac_client.Client.search\" target=\"_blank\">here</a>.\n",
    "\n",
    "#### Area of interest\n",
    "\n",
    "Before we can `search()` the Planetary Computer STAC Catalog we need to create the geographic extent for our query. \n",
    "\n",
    "We're going to start by reading in a geometry for the field boundary stored in a shapefile. We need to convert the shapefile to one of:\n",
    "\n",
    "* bounding box coordinates\n",
    "* a GeoJSON geometry\n",
    "* a Shapely `geometry`\n",
    "\n",
    "We'll demonstrate how to do each of these conversions for your reference. \n",
    "\n",
    "First let's read the data from file. Then, we'll compute the <a href=\"https://geopandas.org/en/stable/docs/reference/api/geopandas.GeoSeries.envelope.html\" target=\"_blank\">`envelope`</a> of the field's geometry. The envelope is the smallest rectangular geometry to cover the field's geometry. It is often beneficial to pass in simpler geometries than more complex shapes for identifying STAC Items that intersect with an area-of-interest."
   ]
  },
  {
   "cell_type": "code",
   "execution_count": null,
   "id": "b1ed3d5e-ae8d-467c-b90a-bfb9fe492ad8",
   "metadata": {},
   "outputs": [],
   "source": [
    "# load field boundary from shapefile\n",
    "data_path = os.path.join(os.getcwd(), \"data_lab-6\", \"BF66_bdy.shp\")\n",
    "aoi = gpd.read_file(data_path)\n",
    "\n",
    "# add the field boundary to a map object\n",
    "m = aoi.explore()\n",
    "aoi_env = aoi[\"geometry\"].envelope\n",
    "# draw envelope in red\n",
    "aoi_env.explore(m=m, color=\"red\", style_kwds={\"fillOpacity\": 0})"
   ]
  },
  {
   "cell_type": "markdown",
   "id": "599f59c6-4518-4bce-a358-ffc75107f1ed",
   "metadata": {},
   "source": [
    "A `GeoSeries` is a sequence of Shapely `geometry` objects. Thus, we can just extract the first and only element of the `aoi_env` `GeoSeries` to obtain a Shapely `geometry`."
   ]
  },
  {
   "cell_type": "code",
   "execution_count": null,
   "id": "da2a7f05-3d94-4ea4-b41c-15e528312517",
   "metadata": {},
   "outputs": [],
   "source": [
    "# get Shapely geometry object\n",
    "aoi_shapely = aoi_env[0]\n",
    "print(aoi_shapely)"
   ]
  },
  {
   "cell_type": "markdown",
   "id": "8e8145af-3d60-4cce-9c3e-0a728cff6c55",
   "metadata": {},
   "source": [
    "The process to obtain a GeoJSON str or dict representation of the envelope is more involved. First, we use the `GeoPandas` `to_json()` method to convert the `GeoSeries` to a GeoJSON FeatureCollection in str format. \n",
    "\n",
    "Then, we use the `json.loads()` to function to parse the JSON string data to a Python dict. \n",
    "\n",
    "Finally, we can subset the `geometry` property out of the dict."
   ]
  },
  {
   "cell_type": "code",
   "execution_count": null,
   "id": "3489848a-6436-4b64-bb13-82e52019b5d8",
   "metadata": {},
   "outputs": [],
   "source": [
    "aoi_json = json.loads(aoi_env.to_json())\n",
    "print(\"AOI Envelope as GeoJSON FeatureCollection\")\n",
    "print(\"\")\n",
    "print(aoi_json)\n",
    "aoi_geometry = dict(aoi_json[\"features\"][0])[\"geometry\"]\n",
    "print(\"\")\n",
    "print(\"AOI Envelope as GeoJSON Geometry\")\n",
    "print(\"\")\n",
    "print(aoi_geometry)"
   ]
  },
  {
   "cell_type": "markdown",
   "id": "bdb0e66d-523d-4e3a-bf9a-db7cb3f24560",
   "metadata": {},
   "source": [
    "Finally, it is simple to obtain a list of coordinates for the bounding box by using the `total_bounds` property of the `GeoSeries` and converting it to a list object.\n",
    "\n",
    "See the GeoPandas <a href=\"https://geopandas.org/en/stable/docs/reference/api/geopandas.GeoSeries.total_bounds.html\" target=\"_blank\">`total_bounds` docs</a>."
   ]
  },
  {
   "cell_type": "code",
   "execution_count": null,
   "id": "982d0cce-31e6-4903-88e1-98cf5a251759",
   "metadata": {},
   "outputs": [],
   "source": [
    "bbox = aoi_env.total_bounds.tolist()\n",
    "bbox"
   ]
  },
  {
   "cell_type": "markdown",
   "id": "a934cc4a-2705-47f4-93da-15f31c11fc63",
   "metadata": {},
   "source": [
    "#### Datetime\n",
    "\n",
    "Let's specify a datetime range to search. Here, we'll look for all Sentinel-2 STAC Items that intersect our area-of-interest for the month of October 2019. "
   ]
  },
  {
   "cell_type": "code",
   "execution_count": null,
   "id": "f9666620-8dc7-4de5-b183-602214c95f9c",
   "metadata": {},
   "outputs": [],
   "source": [
    "time_of_interest = \"2019-10-01/2019-11-01\""
   ]
  },
  {
   "cell_type": "markdown",
   "id": "ed397f66-3ff0-4d1c-b2ea-1bd8fb4e7af3",
   "metadata": {},
   "source": [
    "#### Extensions\n",
    "\n",
    "The STAC specification permits extensions which allow for more detailed descriptions of STAC Items in a collection. A commonly used extension is the <a href=\"https://github.com/stac-extensions/eo\" target=\"_blank\">`Electro-Optical Extension Specification`</a> for describing snapshots of the Earth for a point-in-time and designed for data that's captured for one or more wavelengths of the electromagnetic spectrum (i.e. remote sensing data).\n",
    "\n",
    "It includes the following item properties:\n",
    "\n",
    "* `eo:bands`: an array of available bands (i.e. different spectral wavebands for a remote sensing image).\n",
    "* `eo:cloud_cover`: an estimate of cloud cover for the STAC Item.\n",
    "* `eo:snow_cover`: an estimate of snow and ice cover for the STAC Item.\n",
    "\n",
    "The `eo:cloud_cover` property could be useful to help with searching a STAC Collection for cloud free scenes.\n",
    "\n",
    "We can set up a query of `eo` properties as: `{\"eo:cloud_cover\": {\"lt\": 10}}`. This will find all STAC Items with a property of `eo:cloud_cover` less than 10%.\n",
    "\n",
    "#### Search\n",
    "\n",
    "We're now ready to search the Planetary Computer STAC Catalog's `sentinel-2-l2a` for all images with low cloud cover in October 2019 that intersect our area-of-interest. \n",
    "\n",
    "The `s2_search` object is an `ItemSearch` instance which represents the search of a STAC API. We can retrieve the STAC Items returned by the search as an `ItemCollection` using the `item_collection()` method.\n",
    "\n",
    "We can print the `ItemCollection` and interactively explore its contents. This helpfully illustrates the structure of the STAC specification. Our search of the `sentinel-2-l2a` collection returned 2 STAC Items. Each STAC Item corresponds to a Sentinel-2 image.\n",
    "\n",
    "We can explore each of the STAC Items and see that it has several metadata properties (e.g. Bounding Box, Datetime, platform, proj:epsg, eo:cloud_cover), it also has an Assets slot which stores links to the underlying data referenced by the STAC Item. In this case it is a cloud-optimised GeoTIFF files stored in Microsoft Azure. "
   ]
  },
  {
   "cell_type": "code",
   "execution_count": null,
   "id": "3a57a934-baa4-48c0-9ba0-f8c468da1c13",
   "metadata": {},
   "outputs": [],
   "source": [
    "# Search the Planetary Computers S2 Catalog\n",
    "s2_search = pc_catalog.search(\n",
    "    collections=[\"sentinel-2-l2a\"],\n",
    "    bbox=bbox,\n",
    "    datetime=time_of_interest,\n",
    "    query={\"eo:cloud_cover\": {\"lt\": 10}},\n",
    ")\n",
    "\n",
    "# Check how many items were returned\n",
    "s2_items = s2_search.item_collection()\n",
    "print(f\"Returned {len(s2_items)} Items\")"
   ]
  },
  {
   "cell_type": "code",
   "execution_count": null,
   "id": "2775c3d6-3984-4b17-a73f-2c05823c6606",
   "metadata": {},
   "outputs": [],
   "source": [
    "s2_items"
   ]
  },
  {
   "cell_type": "markdown",
   "id": "3dfec9be-511c-47a4-980d-ff0f00b7be12",
   "metadata": {},
   "source": [
    "### Download data\n",
    "\n",
    "Now we've completed a search of the STAC API and identified that there are two Sentinel-2 images that meet our search criteria, we're in a position to download these images and use their data. \n",
    "\n",
    "As these are optical images of the Earth's surface, we'd like to use the least cloudy image.  We can write a small routine to find the STAC Item with the lowest `eo:cloud_cover` value and download that item. \n",
    "\n",
    "We imported the `EOExtension` module as `eo` at the start of the notebook. We can call the `eo.ext()` method on a STAC Item to extend it with properties from the `eo` extension. This allows us to get the `eo` item properties such as `cloud_cover`. \n",
    "\n",
    "Let's loop over all the STAC Items in our search, retrieve their `eo:cloud_cover` value, and append that value to a list. "
   ]
  },
  {
   "cell_type": "code",
   "execution_count": null,
   "id": "4a2b00d1-89c1-4add-afe2-ac11acebf642",
   "metadata": {},
   "outputs": [],
   "source": [
    "# empty list\n",
    "cloud_cover = []\n",
    "for i in s2_items:\n",
    "    cloud_cover.append(eo.ext(i).cloud_cover)"
   ]
  },
  {
   "cell_type": "markdown",
   "id": "7c717b24-396b-4898-bf14-627a9358d20a",
   "metadata": {},
   "source": [
    "Next, we'll find the minimum cloud cover value and that STAC Item's position in our `ItemCollection` `s2_items`. "
   ]
  },
  {
   "cell_type": "code",
   "execution_count": null,
   "id": "8d470554-df18-474e-8e0c-ad95bba91f7d",
   "metadata": {},
   "outputs": [],
   "source": [
    "min_cloud_cover = min(cloud_cover)\n",
    "min_cloud_cover_idx = cloud_cover.index(min_cloud_cover)\n",
    "print(f\"The STAC Item with lowest cloud cover had {min_cloud_cover}% cloud cover\")\n",
    "print(f\"The index postion of the STAC Item with lowest cloud cover in our ItemCollection is {min_cloud_cover_idx}\")"
   ]
  },
  {
   "cell_type": "markdown",
   "id": "e35b739b-0a9a-4ca9-9bd5-79176fea4fc9",
   "metadata": {},
   "source": [
    "Let's subset the the STAC Item with the lowest cloud cover from our `ItemCollection`. This should give us a single STAC Item which we can inspect. "
   ]
  },
  {
   "cell_type": "code",
   "execution_count": null,
   "id": "21443c21-ded4-46ec-a01e-6893b9afa98e",
   "metadata": {},
   "outputs": [],
   "source": [
    "least_cloudy_s2 = s2_items[min_cloud_cover_idx]\n",
    "least_cloudy_s2"
   ]
  },
  {
   "cell_type": "markdown",
   "id": "a1e3464e-be9e-44e6-90f6-f5d885bca236",
   "metadata": {},
   "source": [
    "Now we've identified the STAC Item with the lowest cloud cover, we need to download it. This is where we head to the Assets property of the STAC Item where we see a series of `href` properties with hyperlinks to where that data is physically stored (here, this is in Azure Blob Storage as cloud-optimised GeoTIFF files). \n",
    "\n",
    "We can print out the list of Assets associated with the STAC Item."
   ]
  },
  {
   "cell_type": "code",
   "execution_count": null,
   "id": "273f54ec-3325-404d-9779-32ab542f4db3",
   "metadata": {},
   "outputs": [],
   "source": [
    "# print assets properties of STAC Item\n",
    "least_cloudy_s2.assets.keys()"
   ]
  },
  {
   "cell_type": "code",
   "execution_count": null,
   "id": "dee8bd50-c088-455a-9e68-6268efe2f426",
   "metadata": {},
   "outputs": [],
   "source": [
    "# lets look at the property for B02 - blue band reflectance\n",
    "least_cloudy_s2.assets[\"B02\"]"
   ]
  },
  {
   "cell_type": "markdown",
   "id": "97f1fdf1-825d-4af5-a876-223f7c2c831d",
   "metadata": {},
   "source": [
    "The `href` points to a cloud-optmised GeoTIFF (COG) file stored in Azure Blob Storage (i.e. in the cloud). A COG file is similar to a regular GeoTIFF file, but it can receive HTTP requests to retrieve portions of data that correspond to a geographic extent and at a particular zoom level. \n",
    "\n",
    "Planet (a commercial CubeSat company that make use of STAC and GeoTIFFs in their products) have a <a href=\"An Introduction to Cloud Optimized GeoTIFFS (COGs) Part 1: Overview\" target=\"_blank\">blog</a> post that introduce COGs.\n",
    "\n",
    "#### Recap quiz\n",
    "\n",
    "<details>\n",
    "    <summary><b>Why do these features of a cloud-optimised GeoTIFF make them more suited to working with big geospatial datasets than regular GeoTIFF files?</b></summary>\n",
    "As geospatial datasets increase in size (e.g. satellites capturing data with ever finer spatial resolutions and with a higher cadence) the amount of data we'd need to store and read into memory increases. This might exceed our computer's capacity or result in long runtimes for our program. COGs allow us to just read the data that corresponds to our area-of-interest and not the entire file. This means we can make use of the larger storage capacity of cloud providers and just retrieve the data we need. \n",
    "</details>\n",
    "\n",
    "<p></p>\n",
    "\n",
    "To download the data for the least cloudy Sentinel-2 data image we can use the `load()` function from the <a href=\"https://odc-stac.readthedocs.io/en/latest/_api/odc.stac.load.html\" target=\"_blank\">odc-stac package</a>.\n",
    "\n",
    "The `load()` function has the following parameters:\n",
    "\n",
    "* `items` - an iterable of STAC items to download.\n",
    "* `bands` - a list of bands to download. Defaults to all if an argument is not passed into the function.\n",
    "* `bbox` - a bounding box of latitude and longitude values to download data for in the format: `[min(lon), min(lat), max(lon), max(lat)]`.\n",
    "* `geopolygon` - a geometry to download data for which can be a GeoJSON dict, geopandas GeoDataFrame, or shapely object.\n",
    "* `path_url` - transforms the URL describing the assets location. This is useful for working with the Planetary Computer to sign the link.\n",
    "\n",
    "#### Signing links\n",
    "\n",
    "To download data from the Planetary Computer the link needs to be \"signed\". This allows Microsoft to manage traffic and use of the Planetary Computer's resources in the cloud. \n",
    "\n",
    "The `planetary_computer` package was imported as `pc` and has a `sign()` function we can use to sign links.\n",
    "\n",
    "For a full list of parameters that you can use to control how `load()` downloads data from STAC inspect the <a href=\"https://odc-stac.readthedocs.io/en/latest/_api/odc.stac.load.html\" target=\"_blank\">docs</a>.  \n",
    "\n",
    "The data is downloaded into an `xarray.Dataset` object. "
   ]
  },
  {
   "cell_type": "code",
   "execution_count": null,
   "id": "08355fe5-3d86-44cd-a94f-8a8ef57efc54",
   "metadata": {},
   "outputs": [],
   "source": [
    "s2_xr = odc.stac.load(\n",
    "    [least_cloudy_s2], patch_url=pc.sign, bbox=bbox\n",
    ")\n",
    "s2_xr"
   ]
  },
  {
   "cell_type": "markdown",
   "id": "8c23878d-6ba5-46e9-88e8-1fe252406bb2",
   "metadata": {},
   "source": [
    "The Sentinel-2 data that we have downloaded is stored as a collection of `xarray.DataArray` objects within a larger container called `xarray.Dataset`. An `xarray.Dataset` can store many `xarray.DataArray` objects that share `dims` and `coordinates`. Here, we have different arrays of different `Variables` that correspond to the same locations and time-periods but different spectral bands.\n",
    "\n",
    "If we want to stack the arrays corresponding to spectral bands into a 3D-array stored within a `xarray.DataArray` object, we can use the `to_array()` method."
   ]
  },
  {
   "cell_type": "code",
   "execution_count": null,
   "id": "387a49d9-b07d-4231-8aa0-39a21841a84d",
   "metadata": {},
   "outputs": [],
   "source": [
    "s2_xr =s2_xr.to_array()\n",
    "s2_xr"
   ]
  },
  {
   "cell_type": "markdown",
   "id": "27002641-ba5c-4c8e-a229-d3b49e476e9b",
   "metadata": {},
   "source": [
    "#### Recap quiz\n",
    "\n",
    "**Can you visualise the array visible green reflectance values from `xarray.DataArray` `s2_xr`?**\n",
    "\n",
    "**Green reflectance is referenced by the Variable label `B03`.**"
   ]
  },
  {
   "cell_type": "code",
   "execution_count": null,
   "id": "937c18c0-3826-4b05-9dca-67422c8ce164",
   "metadata": {},
   "outputs": [],
   "source": [
    "## ADD CODE HERE"
   ]
  },
  {
   "cell_type": "markdown",
   "id": "00a61769-3cfd-4947-b01c-f7106420f412",
   "metadata": {},
   "source": [
    "<details>\n",
    "    <summary><b>answer</b></summary>\n",
    "\n",
    "```python\n",
    "s2_xr.sel(variable=\"B03\").plot(robust=True)\n",
    "```\n",
    "<p></p>\n",
    "\n",
    "Or, if we're being precise we can also select the array to visualise by variable and time labels. This is also necessary if we're visualising the data using `imshow()` which requires either a 2D array or 3D array with three bands (to visualise as an RGB image).\n",
    "```python\n",
    "s2_xr.sel(variable=\"B03\", time=\"2019-10-21T02:04:51.024000000\").plot.imshow(robust=True)\n",
    "```\n",
    "\n",
    "</details>"
   ]
  },
  {
   "cell_type": "markdown",
   "id": "fa2480f7-c426-42da-af25-4f5004a732ee",
   "metadata": {},
   "source": [
    "#### Recap quiz\n",
    "\n",
    "**Often we don't need all the spectral bands in a satellite image and it's good to be efficient with the amount of data we download. You can call the `keys()` method on a STAC `item` to get a list of bands (e.g. `least_cloudy_s2.assets.keys()`). Can you use this information and the `bands` parameter of `odc.stac.load()` to download only the red and near infrared Sentinel-2 bands?**\n",
    "\n",
    "**You can find a table listing the Sentinel-2 bands <a href=\"https://planetarycomputer.microsoft.com/dataset/sentinel-2-l2a\" target=\"_blank\">here</a>.**"
   ]
  },
  {
   "cell_type": "code",
   "execution_count": null,
   "id": "b63414ce-9aae-4468-ae0c-abf61315e3b0",
   "metadata": {},
   "outputs": [],
   "source": [
    "## ADD CODE HERE "
   ]
  },
  {
   "cell_type": "markdown",
   "id": "0429151f-6378-4d8e-9abc-67d5e6067600",
   "metadata": {},
   "source": [
    "<details>\n",
    "    <summary><b>answer</b></summary>\n",
    "\n",
    "```python\n",
    "s2_r_nir_xr = odc.stac.load(\n",
    "    [least_cloudy_s2], bands=[\"B04\", \"B08\"], patch_url=pc.sign, bbox=bbox\n",
    ").to_array()\n",
    "s2_r_nir_xr\n",
    "```\n",
    "</details>"
   ]
  },
  {
   "cell_type": "markdown",
   "id": "00da9a4c-812a-42f3-bf20-bef8b118512c",
   "metadata": {},
   "source": [
    "## Landsat and Microsoft Planetary Computer\n",
    "\n",
    "<a href=\"\" target=\"_blank\">Landsat</a> is a series of satellite missions run by the US Geological Survey (USGS) and NASA. It has been operational since 1972 and the current Landsat mission is Landsat 9. Landsat satellites provide measures of spectral reflectance in the visible, near infrared, shortwave infrared, and thermal portions of the electromagnetic spectrum. The visible and near infrared bands have a spatial resolution of 30 m. \n",
    "\n",
    "The Landsat level 2 STAC Collection in the Planetary Computer is labelled `\"landsat-c2-l2\"`. We can search this STAC Collection for Landsat scenes the intersect the bounding box for our field and for a specified time frame:"
   ]
  },
  {
   "cell_type": "code",
   "execution_count": null,
   "id": "abf53214-613e-4a77-a482-b3304544a062",
   "metadata": {},
   "outputs": [],
   "source": [
    "# Search the Planetary Computers Landsat Catalog\n",
    "landsat_search = pc_catalog.search(\n",
    "    collections=[\"landsat-c2-l2\"],\n",
    "    bbox=bbox,\n",
    "    datetime=time_of_interest,\n",
    "    query={\n",
    "        \"eo:cloud_cover\": {\"lt\": 10},\n",
    "        \"platform\": {\"in\": [\"landsat-8\", \"landsat-9\"]}\n",
    "    },\n",
    ")\n",
    "\n",
    "# Check how many items were returned\n",
    "landsat_items = landsat_search.item_collection()\n",
    "print(f\"Returned {len(landsat_items)} Items\")"
   ]
  },
  {
   "cell_type": "markdown",
   "id": "df284650-48d5-47d0-974c-868b97619cb7",
   "metadata": {},
   "source": [
    "Similar to the example working with Sentinel-2 data above, we can query each `item`'s cloud cover property to find the least cloudy image. "
   ]
  },
  {
   "cell_type": "code",
   "execution_count": null,
   "id": "72dada45-cd5e-4c5a-b5bc-c9b903a75fd5",
   "metadata": {},
   "outputs": [],
   "source": [
    "# empty list\n",
    "cloud_cover = []\n",
    "for i in landsat_items:\n",
    "    cloud_cover.append(eo.ext(i).cloud_cover)\n",
    "\n",
    "min_cloud_cover = min(cloud_cover)\n",
    "min_cloud_cover_idx = cloud_cover.index(min_cloud_cover)\n",
    "print(f\"The STAC Item with lowest cloud cover had {min_cloud_cover}% cloud cover\")\n",
    "print(f\"The index postion of the STAC Item with lowest cloud cover in our ItemCollection is {min_cloud_cover_idx}\")"
   ]
  },
  {
   "cell_type": "markdown",
   "id": "463991eb-f583-40d9-82a3-53ae310c5983",
   "metadata": {},
   "source": [
    "Next we can select the least cloud `item` and disply it's attributes. "
   ]
  },
  {
   "cell_type": "code",
   "execution_count": null,
   "id": "fb3dfc40-84d5-43a4-af2e-13ffd4634fd9",
   "metadata": {},
   "outputs": [],
   "source": [
    "least_cloudy_item = landsat_items[min_cloud_cover_idx]\n",
    "least_cloudy_item"
   ]
  },
  {
   "cell_type": "markdown",
   "id": "f5fd2e4f-2ed9-4479-b0e3-ca0aed86f778",
   "metadata": {},
   "source": [
    "We can print out the band names and their description too. This is useful if we want to subset particular bands from the image for further analysis or visualisation. "
   ]
  },
  {
   "cell_type": "code",
   "execution_count": null,
   "id": "3179c5c0-ef02-4c02-acb6-364a47b43048",
   "metadata": {},
   "outputs": [],
   "source": [
    "max_key_length = len(max(least_cloudy_item.assets, key=len))\n",
    "for key, asset in least_cloudy_item.assets.items():\n",
    "    print(f\"{key.rjust(max_key_length)}: {asset.title}\")"
   ]
  },
  {
   "cell_type": "markdown",
   "id": "3928aecc-2cc9-4764-874c-4a32e2754c49",
   "metadata": {},
   "source": [
    "Finally, let's read the red, green, blue, and near infrared bands for the least cloudy Landsat image covering the field we're working with. "
   ]
  },
  {
   "cell_type": "code",
   "execution_count": null,
   "id": "1e57d42e-9649-459b-bd7e-102a27c95ff3",
   "metadata": {},
   "outputs": [],
   "source": [
    "landsat_xr = odc.stac.load(\n",
    "    [least_cloudy_item], bands=[\"blue\", \"green\", \"red\", \"nir08\"], patch_url=pc.sign, bbox=bbox\n",
    ").isel(time=0).to_array()\n",
    "landsat_xr"
   ]
  },
  {
   "cell_type": "markdown",
   "id": "2a4a2019-a073-4b75-b07b-521d1a6f03c6",
   "metadata": {},
   "source": [
    "#### Recap quiz\n",
    "\n",
    "**Can you visualise the least cloudy Landsat image as true colour (RGB) composite image?**\n",
    "\n",
    "**You can refer to the <a href=\"https://planetarycomputer.microsoft.com/dataset/landsat-c2-l2#Example-Notebook\" target=\"_blank\">Planetary Computer examples</a> to help with this task.**"
   ]
  },
  {
   "cell_type": "code",
   "execution_count": null,
   "id": "bfd57265-4745-404d-b5f6-cb5d6a41f69d",
   "metadata": {},
   "outputs": [],
   "source": [
    "## ADD CODE HERE"
   ]
  },
  {
   "cell_type": "markdown",
   "id": "04009ff1-935e-4c65-bd4c-3aad826dc8f9",
   "metadata": {},
   "source": [
    "<details>\n",
    "    <summary><b>answer</b></summary>\n",
    "\n",
    "```python\n",
    "landsat_xr.sel(variable=[\"red\", \"green\", \"blue\"]).plot.imshow(robust=True)\n",
    "```\n",
    "</details>"
   ]
  },
  {
   "cell_type": "markdown",
   "id": "a55fa6d9-7d05-49a0-8760-836db264b02b",
   "metadata": {},
   "source": [
    "#### Recap quiz\n",
    "\n",
    "**Can you compute the NDVI for the least cloud Landsat image and visualise it?**\n",
    "\n",
    "**You can refer to the <a href=\"https://planetarycomputer.microsoft.com/dataset/landsat-c2-l2#Example-Notebook\" target=\"_blank\">Planetary Computer examples</a> to help with this task.**"
   ]
  },
  {
   "cell_type": "code",
   "execution_count": null,
   "id": "af6698ad-e728-4828-ac3e-d174d5291822",
   "metadata": {},
   "outputs": [],
   "source": [
    "## ADD CODE HERE"
   ]
  },
  {
   "cell_type": "markdown",
   "id": "1c39001b-5eea-423b-a52f-77b05ba5f433",
   "metadata": {},
   "source": [
    "<details>\n",
    "    <summary><b>answer</b></summary>\n",
    "\n",
    "```python\n",
    "red = landsat_xr.sel(variable=\"red\").astype(\"float\")\n",
    "nir = landsat_xr.sel(variable=\"nir08\").astype(\"float\")\n",
    "ndvi = (nir - red) / (nir + red)\n",
    "ndvi.plot.imshow(robust=True)\n",
    "```\n",
    "</details>"
   ]
  },
  {
   "cell_type": "markdown",
   "id": "56ce5fad-ceb0-420a-b84b-b82444dc51dd",
   "metadata": {},
   "source": [
    "## Visualising a time-series of satellite images\n",
    "\n",
    "We can use the `odc.stac.load()` function to download many satellite images of the same location captured on different dates. Let's visualise all the relatively cloud free Landsat 8 images captured during the 2019 growing season for the field in Western Australia we're working with. First, we need to expand the time period we're searching for images in."
   ]
  },
  {
   "cell_type": "code",
   "execution_count": null,
   "id": "c7b4ad9a-d3ea-40de-8f66-bbfe99969191",
   "metadata": {},
   "outputs": [],
   "source": [
    "season_of_interest = \"2019-05-01/2019-10-31\""
   ]
  },
  {
   "cell_type": "markdown",
   "id": "d7fdf696-6854-4ba7-a280-79fa170f08b4",
   "metadata": {},
   "source": [
    "We can pass this expanded time period in the the `search()` method of the `pc_catalog()` object to search the Planetary Computers `landsat-c2-l2` collection for all Landsat 8 scenes that intersect out bounding box between May and October 2019. "
   ]
  },
  {
   "cell_type": "code",
   "execution_count": null,
   "id": "ca52dbf2-3070-47fa-9b6b-249a4e2da361",
   "metadata": {},
   "outputs": [],
   "source": [
    "# Search the Planetary Computers Landsat Catalog\n",
    "landsat_search = pc_catalog.search(\n",
    "    collections=[\"landsat-c2-l2\"],\n",
    "    bbox=bbox,\n",
    "    datetime=season_of_interest,\n",
    "    query={\n",
    "        \"eo:cloud_cover\": {\"lt\": 10},\n",
    "        \"platform\": {\"in\": [\"landsat-8\"]}\n",
    "    },\n",
    ")\n",
    "\n",
    "# Check how many items were returned\n",
    "landsat_items = landsat_search.item_collection()\n",
    "print(len(landsat_items))"
   ]
  },
  {
   "cell_type": "markdown",
   "id": "3b223c2f-d413-4c71-b609-cbe9ddad79ba",
   "metadata": {},
   "source": [
    "The first argument to `odc.stac.load()` is an iterable object (e.g. a list) of STAC `items`. We can pass in the `landsat_items` `ItemCollection` object which stores a series of STAC `items`. "
   ]
  },
  {
   "cell_type": "code",
   "execution_count": null,
   "id": "51a59055-ed49-49e4-a6ed-94a5c40c4bc7",
   "metadata": {},
   "outputs": [],
   "source": [
    "landsat_xr = odc.stac.load(\n",
    "    landsat_items, bands=[\"blue\", \"green\", \"red\", \"nir08\"], patch_url=pc.sign, bbox=bbox\n",
    ")"
   ]
  },
  {
   "cell_type": "markdown",
   "id": "b1cf0ca8-a418-44c1-90b2-d1ebf094881c",
   "metadata": {},
   "source": [
    "This has returned to us an `xarray.Dataset` with four variables (one for each of the spectral bands we requested) and each variable is a 3D array with x, y, and time dimensions. "
   ]
  },
  {
   "cell_type": "code",
   "execution_count": null,
   "id": "16b22bfe-5d64-466b-b521-bc80aedd2b31",
   "metadata": {},
   "outputs": [],
   "source": [
    "landsat_xr"
   ]
  },
  {
   "cell_type": "markdown",
   "id": "47175b9d-8bca-4ede-bb68-0bff04560fff",
   "metadata": {},
   "source": [
    "Let's convert the `xarray.Dataset` object to an `xarray.DataArray` object which stores a 4D array with x, y, variable, and time dimensions. "
   ]
  },
  {
   "cell_type": "code",
   "execution_count": null,
   "id": "aa1c6ac0-261e-415e-981a-0a57b61f74c9",
   "metadata": {},
   "outputs": [],
   "source": [
    "landsat_arr = landsat_xr.to_array()\n",
    "landsat_arr"
   ]
  },
  {
   "cell_type": "markdown",
   "id": "88f4a17b-09b8-4aef-ace6-354085585300",
   "metadata": {},
   "source": [
    "If your refer back to week 2, we used facet plots where we plot data on many subplots that share axes. Plotting a time series of satellite images is a good use for a faceted plot. We can create a different subplot for each time point and keep the x and y axes representing geographic location the same. An `xarray.DataArray`'s `plot.imshow()` method has a `col` argument that we can pass a dimension into for creating faceted plots; here, we'll pass in the `\"time\"` dimension. "
   ]
  },
  {
   "cell_type": "code",
   "execution_count": null,
   "id": "94398cfa-9df5-4873-b431-cc41e19cb5a2",
   "metadata": {},
   "outputs": [],
   "source": [
    "landsat_arr.sel(variable=[\"red\", \"green\", \"blue\"]).plot.imshow(col=\"time\", col_wrap=2)"
   ]
  },
  {
   "cell_type": "markdown",
   "id": "50ba688e-9a1e-4fc6-813a-fe815ac5eca7",
   "metadata": {},
   "source": [
    "## Downloading meteorological data from STAC Collections\n",
    "\n",
    "Alongside remote sensing images, meteorological data is often organised within STAC Collections. There are lots of examples of how to access meteorological data from the <a href=\"https://planetarycomputer.microsoft.com/catalog\" target=\"_blank\">Planetary Computer's Data Catalog</a>. You are encouraged to try out a few of them.\n",
    "\n",
    "Here is a short example of how we can retrieve air temperature data covering the field in Western Australia from the <a href=\"https://planetarycomputer.microsoft.com/dataset/era5-pds#overview\" target=\"_blank\">ERA5 climate reanalysis product</a>.\n",
    "\n",
    "First, let's search the `era5-pds` catalog for all data in May 2019 and extract the first item in the collection returned to us. We can see that the assets key points to the location of data representing many climate variables (`href` - a URL to where the data file is stored in the cloud)."
   ]
  },
  {
   "cell_type": "code",
   "execution_count": null,
   "id": "5b83751c-5f65-4a6c-ba07-f5299f6a4daa",
   "metadata": {},
   "outputs": [],
   "source": [
    "search = pc_catalog.search(\n",
    "    collections=[\"era5-pds\"], datetime=\"2019-05\", query={\"era5:kind\": {\"eq\": \"an\"}}\n",
    ")\n",
    "items = search.item_collection()\n",
    "\n",
    "print(len(items))\n",
    "item = items[0]\n",
    "item"
   ]
  },
  {
   "cell_type": "markdown",
   "id": "732c5d94-a4ba-499b-8f7c-9a56b5cd0cf0",
   "metadata": {},
   "source": [
    "To download data from the Planetary Computer we need to sign it, as discussed above. Let's also subset out the air temperature asset."
   ]
  },
  {
   "cell_type": "code",
   "execution_count": null,
   "id": "2e3989c0-e26e-40a8-b845-a32703290b82",
   "metadata": {},
   "outputs": [],
   "source": [
    "signed_item = pc.sign(item)\n",
    "air_temp = signed_item.assets[\"air_temperature_at_2_metres\"]"
   ]
  },
  {
   "cell_type": "markdown",
   "id": "68d1620a-6223-444e-a664-d15c8e1dd223",
   "metadata": {},
   "source": [
    "We can directly read the air temperature data into an `xarray.DataArray` object using the `xr.open_dataset()` function as the data is stored in zarr format (refer back to week 3 for a refresher on zarr data).  "
   ]
  },
  {
   "cell_type": "code",
   "execution_count": null,
   "id": "8c039d03-4949-497a-906d-9c5599ee453b",
   "metadata": {},
   "outputs": [],
   "source": [
    "ds = xr.open_dataset(air_temp.href, **air_temp.extra_fields[\"xarray:open_kwargs\"])"
   ]
  },
  {
   "cell_type": "code",
   "execution_count": null,
   "id": "1993ea5a-2801-4ba2-84a8-dd2271443496",
   "metadata": {},
   "outputs": [],
   "source": [
    "ds"
   ]
  },
  {
   "cell_type": "markdown",
   "id": "28c4550d-757a-4512-8645-20136ccd2f57",
   "metadata": {},
   "source": [
    "Let's get the coordinates for the centre of the field, and extract the air temperature data for that location and plot it. "
   ]
  },
  {
   "cell_type": "code",
   "execution_count": null,
   "id": "babc7fb6-5a4b-40af-bd05-1fdce717f343",
   "metadata": {},
   "outputs": [],
   "source": [
    "# get the coordinates for the field's centroid\n",
    "x, y = aoi_env.centroid[0].coords.xy\n",
    "print(x, y)"
   ]
  },
  {
   "cell_type": "code",
   "execution_count": null,
   "id": "de8c3c18-4a79-405a-806f-d7d87fabafa1",
   "metadata": {},
   "outputs": [],
   "source": [
    "ds[\"air_temperature_at_2_metres\"].sel(lon=x[0], lat=y[0], method=\"nearest\").plot()"
   ]
  },
  {
   "cell_type": "markdown",
   "id": "9bfc850d-ee04-452f-ba32-b535ce16aa44",
   "metadata": {},
   "source": [
    "#### Recap quiz\n",
    "\n",
    "**What does setting `method=\"nearest\"` enable in the `sel()` method?**\n",
    "\n",
    "<details>\n",
    "    <summary><b>answer</b></summary>\n",
    "\n",
    "It let's us select the `xarray.DataArray` values closed to the nearest lat and lon values we also use for selection.   \n",
    "</details>"
   ]
  }
 ],
 "metadata": {
  "kernelspec": {
   "display_name": "Python 3 (ipykernel)",
   "language": "python",
   "name": "python3"
  },
  "language_info": {
   "codemirror_mode": {
    "name": "ipython",
    "version": 3
   },
   "file_extension": ".py",
   "mimetype": "text/x-python",
   "name": "python",
   "nbconvert_exporter": "python",
   "pygments_lexer": "ipython3",
   "version": "3.11.7"
  }
 },
 "nbformat": 4,
 "nbformat_minor": 5
}

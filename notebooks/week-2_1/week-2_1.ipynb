{
 "cells": [
  {
   "cell_type": "markdown",
   "id": "42f2e505-c34b-4c4c-a17a-38446ddbbacb",
   "metadata": {},
   "source": [
    "# Data visualisation\n",
    "\n",
    "This lab will generate interactive visualisations of crop yield data for wheat and canola collected by a harvester from a field in Western Australia. This lab will provide an introduction to:\n",
    "\n",
    "* interactive visualisations using Plotly Express\n",
    "* using figures to represent and explore different features of a dataset\n",
    "* using colour to visualise patterns in a dataset"
   ]
  },
  {
   "cell_type": "markdown",
   "id": "4ae93f96-5b87-45ec-83e5-a66bdf9ccb1f",
   "metadata": {},
   "source": [
    "## Setup\n",
    "\n",
    "### Run the labs\n",
    "\n",
    "You can run the labs locally on your machine or you can use cloud environments provided by Google Colab. **If you're working with Google Colab be aware that your sessions are temporary and you'll need to take care to save, backup, and download your work.**\n",
    "\n",
    "<a href=\"https://colab.research.google.com/github/geog3300-agri3003/coursebook/blob/main/docs/notebooks/week-2_1.ipynb\" target=\"_blank\">\n",
    "  <img src=\"https://colab.research.google.com/assets/colab-badge.svg\" alt=\"Open In Colab\"/>\n",
    "</a>\n",
    "\n",
    "### Download data\n",
    "\n",
    "If you need to download the data for this lab, run the following code snippet. "
   ]
  },
  {
   "cell_type": "code",
   "execution_count": null,
   "id": "20cdce94-ecb0-45c5-93c5-8cd6bac22fa8",
   "metadata": {},
   "outputs": [],
   "source": [
    "import os\n",
    "import subprocess\n",
    "\n",
    "if \"data_lab-2_1\" not in os.listdir(os.getcwd()):\n",
    "    subprocess.run('wget \"https://github.com/geog3300-agri3003/lab-data/raw/main/data_lab-2_1.zip\"', shell=True, capture_output=True, text=True)\n",
    "    subprocess.run('unzip \"data_lab-2_1.zip\"', shell=True, capture_output=True, text=True)\n",
    "    if \"data_lab-2_1\" not in os.listdir(os.getcwd()):\n",
    "        print(\"Has a directory called data_lab-2_1 been downloaded and placed in your working directory? If not, try re-executing this code chunk\")\n",
    "    else:\n",
    "        print(\"Data download OK\")"
   ]
  },
  {
   "cell_type": "markdown",
   "id": "ed48f82f-bbd5-44ee-a723-5bafc2f0268a",
   "metadata": {},
   "source": [
    "## What is a figure?\n",
    "\n",
    "Data visualisation is the process of relating data values to elements of a figure on a computer display. \n",
    "\n",
    "The *Grammar of Graphics* is an underlying model that describes the mapping of data values to the visual elements of a figure. It provides a consistent framework for guiding us in how to take our data values and convert them into a figure that effectively represents the data and conveys the messages and insights we seek to communicate. \n",
    "\n",
    "In the *Grammar of Graphics* a plot comprises *data* and a *mapping*. The *mapping* (not cartographic here) is a formal description of how data values map onto elements of a figure. The elements of a figure are termed *aesthetics* and consist of:\n",
    "\n",
    "* **layers** - geometric elements that represent data values such as points (e.g. for scatter plots), lines (e.g. for lines of best fit), and polyons (e.g. for histograms or bar plots).\n",
    "* **scales** - relate data values to visual display properties such as colour (e.g. a blue to red colour palette for temperature), size (e.g. larger points for larger numbers), position (e.g. location on axes), or shapes (e.g. using triangles for group A and circles for group B). Scales are used to draw axes and legends for figures. \n",
    "* **coords** - coordinate systems are used to map data values onto locations on the figure. On most 2D figures the x- and y-axes describe the coordinate space and on maps latitude and longitude describe the coordinate space (or you can use different coordinate reference systems). \n",
    "* **theme** - the background styling of the figure such as fonts for labels and background colours. \n",
    "\n",
    "![](https://github.com/geog3300-agri3003/coursebook/raw/main/docs/img/week-2-what-is-a-figure.jpg)\n",
    "\n",
    "Reading the <a href=\"http://vita.had.co.nz/papers/layered-grammar.pdf\" target=\"_blank\">A Layered Grammar of Graphics</a> paper by Hadley Wickham provides a detailed description of the core concepts for designing high-quality data visualisations. \n",
    "\n",
    "### Interactive visualisations\n",
    "\n",
    "Interactive visualisations are important tools for exploring complex and multidimensional data. They enable users to quickly develop an understanding of a dataset's structure and patterns by enabling them to interactively generate different views of the dataset. \n",
    "\n",
    "Generally, interactive visualisations are controlled by user input from mouse events (click, drag, hover), and, in response to mouse events, change what data and information is rendered on the computer display. \n",
    "\n",
    "Interactive visualisations are important tools for both exploratory analysis and for communicating the results of analysis to a wider audience. For exploratory analysis the quick feedback provided by interactive visualisations allows analysts to quickly build up an understanding of the datasets they are working with, spot noise or missing data, refine and develop hypotheses and research questions, and select suitable analytical and statistical tools for further work. Interactive visualisations are useful for communication as they enable active engagement with your datasets and the message you are conveying in a user friendly and non-technical manner. \n",
    "\n",
    "Here, we will be using <a href=\"https://plotly.com/python/plotly-express/\" target=\"_blank\">Plotly Express</a> to develop interactive visualisations. Plotly Express is a Python module that contains functions that convert data in Python programs into interactive visualisations that can be rendered in web browser based environments. \n",
    "\n",
    "Plotly Express has several useful features for developing interactive visualisations:\n",
    "\n",
    "* functions to generate a range of figure types to explore spatial and non-spatial data (see the <a href=\"https://plotly.com/python/plotly-express/#gallery\" target=\"_blank\">gallery</a>)\n",
    "* consistent API for functions used to generate the figures (i.e. if you learn the syntax and format to generate scatter plots it can be applied to generate histograms, density plots, bar plots, violin plots, web maps, etc.)\n",
    "* simple and intuitive functions to generate the figures (i.e. produce complex interactive figures with a single line of code)"
   ]
  },
  {
   "cell_type": "markdown",
   "id": "59bbdec0-53e1-49b6-bba6-9ee8dff703be",
   "metadata": {},
   "source": [
    "## Import modules"
   ]
  },
  {
   "cell_type": "code",
   "execution_count": null,
   "id": "dbdbdf4a-42f4-40a5-a229-7ed78f04f81a",
   "metadata": {},
   "outputs": [],
   "source": [
    "# Import modules\n",
    "import os\n",
    "import pandas as pd\n",
    "import geopandas as gpd\n",
    "import plotly.express as px\n",
    "import numpy as np\n",
    "import plotly.io as pio\n",
    "\n",
    "# setup renderer\n",
    "if 'google.colab' in str(get_ipython()):\n",
    "    pio.renderers.default = \"colab\"\n",
    "else:\n",
    "    pio.renderers.default = \"jupyterlab\""
   ]
  },
  {
   "cell_type": "markdown",
   "id": "dab86843-6185-4d3c-8b4c-c543231318e1",
   "metadata": {},
   "source": [
    "## Data input\n",
    "\n",
    "Let's read in some wheat and canola yield data collected by a harvester into a GeoPandas `GeoDataFrame`. The canola data corresponds to variety *43Y23 RR* and the wheat data corresponds to variety *ninja*. We'll demonstrate how to create interactive visualisations using Plotly Express by generating a simple widget that displays the distribution of wheat and canola yields. "
   ]
  },
  {
   "cell_type": "code",
   "execution_count": null,
   "id": "e06b36b4-b37d-48a5-a22c-a71fa4eb64b5",
   "metadata": {},
   "outputs": [],
   "source": [
    "# Load the crop yield data\n",
    "crop_yield_data_path = os.path.join(os.getcwd(), \"data_lab-2_1\")\n",
    "\n",
    "# Read the canola and wheat crop yield data\n",
    "canola_fpath = os.path.join(crop_yield_data_path, \"bf66-canola-yield-max-vi_sampled.geojson\")\n",
    "canola_gdf = gpd.read_file(canola_fpath)\n",
    "wheat_fpath = os.path.join(crop_yield_data_path, \"bf66-wheat-yield-max-vi_sampled.geojson\")\n",
    "wheat_gdf = gpd.read_file(wheat_fpath)\n",
    "\n",
    "# Combine (stack) the geojson files into one GeoDataFrame\n",
    "gdf = pd.concat([canola_gdf, wheat_gdf], axis=0)\n",
    "gdf.head()"
   ]
  },
  {
   "cell_type": "markdown",
   "id": "b6789614-dcdf-4f2c-80ee-7050fd54f080",
   "metadata": {},
   "source": [
    "Displaying the `head` of the `GeoDataFrame` `gdf` demonstrates that we are working with tabular data. There is a `geometry` column,  which stores the geographic location that each row in the table's attributes correspond to. Other columns of note are:\n",
    "\n",
    "* `DryYield` - crop yield values for each location (tonnes / ha)\n",
    "* `Variety` - *43Y23 RR* indicates canola  *ninja* indicates wheat\n",
    "* `gndvi` - green normalised difference vegetation index, a satellite derived measure of greenness\n",
    "* `ndyi` - normalised difference yellowness index, a satellite derived measure of yellowness"
   ]
  },
  {
   "cell_type": "markdown",
   "id": "1c67a8c7-00ca-47b4-9768-55cf9e8cf65f",
   "metadata": {},
   "source": [
    "## Interactive visualisations with Plotly Express\n",
    "\n",
    "Now, let's unpick the syntax for specifying a Plotly Express visualisation. The functions to generate interactive figures are part of the plotly.express module which we've imported into our program as `px`. \n",
    "\n",
    "`px.<function name>()` is how we'll access the function to generate a given figure. For example, to generate a histogram we call `px.histogram()` (if we wanted to generate a scatter plot we'd call `px.scatter()`, if we wanted to generate a line chart we'd call `px.line()`, if we wanted to generate a pie chart we'd call `px.pie()` - you get the pattern ...).\n",
    "\n",
    "Next, we need to pass data into the function that will be rendered on the computer display and specify arguments to map data values to elements on the figure. The <a href=\"https://plotly.com/python-api-reference/plotly.express.html\" target=\"_blank\">Plotly Express documentation</a> lists functions that can be used to generate figures and their parameters. \n",
    "\n",
    "Paramters for the `px.histogram()` function inclue:\n",
    "\n",
    "* `data_frame` - a `DataFrame` object containing the data to render on the histogram\n",
    "* `x` - specifies the column in the `DataFrame` to be mapped on the x-axis of the figure  \n",
    "* `color` - a column whose values are used to assign colours to *marks* (elements) on the display\n",
    "* `marginal` - either *violin*, *box*, *rug*, or *histogram* that shows the distribution of the data\n",
    "* `hover_data` - list of column names with values that will be shown in a popup when the cursor hovers over a record on the display\n",
    "\n",
    "Use the *Zoom* tool to control what data is visualised and focus the figure on where most of the data is distributed. "
   ]
  },
  {
   "cell_type": "code",
   "execution_count": null,
   "id": "19855c8f-1440-46d7-8ea6-4601d16f3357",
   "metadata": {},
   "outputs": [],
   "source": [
    "fig = px.histogram(\n",
    "    data_frame=gdf, \n",
    "    x=\"DryYield\", \n",
    "    color=\"Variety\", \n",
    "    marginal=\"box\", \n",
    "    hover_data=[\"DryYield\", \"Elevation\", \"WetMass\"])\n",
    "fig.show()"
   ]
  },
  {
   "cell_type": "markdown",
   "id": "285c608e-e97f-4618-9efc-405db9389b27",
   "metadata": {},
   "source": [
    "There are more options that you can use to configure a histogram <a href=\"https://plotly.com/python-api-reference/generated/plotly.express.histogram.html#plotly.express.histogram\" target=\"_blank\">here</a>. \n",
    "\n",
    "#### Recap quiz\n",
    "\n",
    "**Look up the `range_x` paramter and consider how it could be used to remove the influence of outliers on the figure. Have a go at using it to restrict the range of values mapped to the x-axis.**"
   ]
  },
  {
   "cell_type": "code",
   "execution_count": null,
   "id": "df77885d-9086-4c49-b7ac-0f05d567f972",
   "metadata": {},
   "outputs": [],
   "source": [
    "## ADD CODE HERE ##"
   ]
  },
  {
   "cell_type": "markdown",
   "id": "d3242463-863f-451b-ab45-5857b9aa21cb",
   "metadata": {},
   "source": [
    "<details>\n",
    "    <summary><b>answer</b></summary>\n",
    "    \n",
    "```python\n",
    "fig = px.histogram(\n",
    "    data_frame=gdf, \n",
    "    x=\"DryYield\", \n",
    "    color=\"Variety\", \n",
    "    marginal=\"box\", \n",
    "    range_x=[0, 7],\n",
    "    hover_data=[\"DryYield\", \"Elevation\", \"WetMass\"])\n",
    "fig.show()\n",
    "```\n",
    "</details>"
   ]
  },
  {
   "cell_type": "markdown",
   "id": "c1bea4a5-d707-435b-bffc-a69b7eedea09",
   "metadata": {},
   "source": [
    "Let's have a go at generating a scatter plot to consolidate our understanding of how to map variables in our data to elements of a graphic. The documentation for scatter plots is <a href=\"https://plotly.com/python-api-reference/generated/plotly.express.scatter.html#plotly.express.scatter\" target=\"_blank\">here</a> and you should notice similarities in how we set up a scatter plot to a histogram. \n",
    "\n",
    "Let's use a scatter plot to see if there is a relationship beetween crop yield and elevation. We are plotting two variables here so we need to use the `y` parameter to specify what column in our `GeoDataFrame` will be mapped onto the y-axis. \n",
    "\n",
    "We can use the `marginal_x` and `marginal_y` parameters to attach plots to the x- and y-axes that show the distributions of variables mapped to each axis. \n",
    "\n",
    "Finally, we're going to use the `opacity` argument here to make the point elements on the figure semi-transparent; this will help reveal more information about the density of data values. \n",
    "\n",
    "**Both canola and wheat crop yield data is displayed. To see the relationship between one crop type's yield and elevation, click on the variety in the legend.**"
   ]
  },
  {
   "cell_type": "code",
   "execution_count": null,
   "id": "6a6682cf-b772-4ee8-81d6-c29b1822f332",
   "metadata": {},
   "outputs": [],
   "source": [
    "fig = px.scatter(\n",
    "    data_frame=gdf, \n",
    "    x=\"DryYield\", \n",
    "    y=\"Elevation\", \n",
    "    color=\"Variety\", \n",
    "    opacity=0.25, \n",
    "    marginal_x=\"box\", \n",
    "    marginal_y=\"violin\")\n",
    "fig.show()"
   ]
  },
  {
   "cell_type": "markdown",
   "id": "4f6ebdf1-d632-4e45-86be-6a1cc4390846",
   "metadata": {},
   "source": [
    "#### Recap quiz\n",
    "\n",
    "**Can you limit the range of x-axis values to focus the figure on where most of the data is concentrated and remove the effect of outliers? (hint, you'll need to remove the `marginal_x` argument).**"
   ]
  },
  {
   "cell_type": "code",
   "execution_count": null,
   "id": "83ddac55-76cf-4ee6-8841-c077130911f7",
   "metadata": {},
   "outputs": [],
   "source": [
    "## ADD CODE HERE ##"
   ]
  },
  {
   "cell_type": "markdown",
   "id": "c8634f4d-1235-4083-a552-b8a23ac95a83",
   "metadata": {},
   "source": [
    "<details>\n",
    "    <summary><b>answer</b></summary>\n",
    "\n",
    "```python\n",
    "fig = px.scatter(\n",
    "    data_frame=gdf, \n",
    "    x=\"DryYield\", \n",
    "    y=\"Elevation\", \n",
    "    color=\"Variety\", \n",
    "    range_x=[0,10],\n",
    "    opacity=0.25,\n",
    "    marginal_y=\"violin\")\n",
    "fig.show()\n",
    "```\n",
    "</details>"
   ]
  },
  {
   "cell_type": "markdown",
   "id": "3e5a4e62-d512-4aa1-844e-57646258d91a",
   "metadata": {},
   "source": [
    "### Adding layers\n",
    "\n",
    "The scatter plot we have generated above has layers of points for the scatter plot and layers of geometric elements for the box plot and violin plots. However, each of these layers are all rendered on their own sub-plot. \n",
    "\n",
    "There are often times when we want to overlay layers on the same plot. A common example of this is adding a trendline to a scatter plot to help the viewer see patterns and relationships in the data. If we refer back to the documentation for <a href=\"https://plotly.com/python-api-reference/generated/plotly.express.scatter.html#plotly.express.scatter\" target=\"_blank\">scatter plots</a> we can see there is a `trendline` parameter. We can use this parameter to specify the kind of trendline we'd like to draw on our scatter plot:\n",
    "\n",
    "* `ols`: ordinary least squares (or linear line of best fit)\n",
    "* `loess`: locally weighted scatterplot smoothing line\n",
    "* `rolling`: rolling average or rolling median line\n",
    "\n",
    "Let's generate a scatter plot with a trendline to explore the relationship between the green normalised difference vegetation index (GNDVI, a satellite derived measure of vegetation greenness) and crop yield. Generally, higher maximum growing season GNDVI values are correlated with higher crop yields. \n",
    "\n",
    "If you hover your cursor over the trendline it will show you the equation for the trendline. You will also notice that we've used the the `range_x` and `range_y` parameters to focus the figure on the region where most of the data is concentrated and clip the outliers from the view. "
   ]
  },
  {
   "cell_type": "code",
   "execution_count": null,
   "id": "b6965bb5-92d3-4999-9daf-76d06358150b",
   "metadata": {},
   "outputs": [],
   "source": [
    "fig = px.scatter(\n",
    "    data_frame=gdf, \n",
    "    x=\"gndvi\", \n",
    "    y=\"DryYield\", \n",
    "    color=\"Variety\", \n",
    "    opacity=0.05, \n",
    "    range_y=[0.1, 6], \n",
    "    range_x=[0.3, 0.9], \n",
    "    marginal_x=\"box\", \n",
    "    marginal_y=\"box\", \n",
    "    trendline=\"ols\"\n",
    ")\n",
    "fig.show()"
   ]
  },
  {
   "cell_type": "markdown",
   "id": "3a108220-fcad-435a-b2c4-8c1a5afd8a58",
   "metadata": {},
   "source": [
    "#### Recap quiz\n",
    "\n",
    "<details>\n",
    "    <summary><b>Generally, it seems that maximum growing season GNDVI is higher for the wheat (Ninja) crop than canola (43Y23 RR). Can you think of an explanation for this?</b></summary>\n",
    "Canola canopies are characterised by yellow flowers which could reduce their greenness during the growing season. \n",
    "</details>"
   ]
  },
  {
   "cell_type": "markdown",
   "id": "08e82980-d3c5-400f-889d-68e019d0b0e2",
   "metadata": {},
   "source": [
    "### Facets\n",
    "\n",
    "So far we have distinguished groups of data points on the same figure by using a unique colour per-group. However, this can lead to cluttered figures which obscures important variation in the data. To avoid clutter we can create faceted figures where mutliple subplots of the same type are generated, which share axes, and different subsets (groups) of the data are rendered on each subplot. \n",
    "\n",
    "<a href=\"https://clauswilke.com/dataviz/multi-panel-figures.html\" target=\"_blank\">Wilke (2019)</a> distinguish between faceted figures and compound figures. **Compound figures** are multiple figure types (e.g. scatter plots, histograms, maps), possibly of different datasets, combined into one figure. A key feature of a compound figure is that the subplots do not need to be arranged in a regular grid. The figures above with violin and box plots aligned on the margins of a scatter plot are examples of compound figures.\n",
    "\n",
    "In contrast, **facet plots** consist of subplots of the same type, showing subsets of the same dataset, and are arranged on a regular grid. You might see the term trellis or lattice plots used to describe facet plots. To ensure correct interpretation of faceted figures it is important that the axes on all plots share the same range and scalings. \n",
    "\n",
    "Let's create a faceted figure that shows the relationship between crop yield and the normalised difference yellowness index (NDYI) side-by-side. The NDYI is a spectral index computed from remote sensing data as a mathematical combination of green and blue reflectance values. Higher NDYI values are associated with a yellower land surface. The NDYI is often used to monitor canola flowering. \n",
    "\n",
    "We can use the `facet_row` parameter to align subplots on separate rows or the `facet_col` parameter to align the subplots on separate columns. We specify a column in our `GeoDataFrame` to use to create the facets. The dataset is split into subsets using unique values in the specified column and each subset is rendered on a subplot. Here, we pass in the `Variety` column to split the data by crop type.  "
   ]
  },
  {
   "cell_type": "code",
   "execution_count": null,
   "id": "d490343e-6dfe-4142-bb95-c5e7b666561b",
   "metadata": {},
   "outputs": [],
   "source": [
    "fig = px.scatter(\n",
    "    data_frame=gdf, \n",
    "    x=\"ndyi\", \n",
    "    y=\"DryYield\", \n",
    "    facet_col=\"Variety\", \n",
    "    opacity=0.05, \n",
    "    range_y=[0.1, 5], \n",
    "    range_x=[0.1, 0.6], \n",
    "    trendline=\"ols\"\n",
    ")\n",
    "fig.show()"
   ]
  },
  {
   "cell_type": "markdown",
   "id": "76664f60-0dc7-423a-8f9d-df7a42b733ea",
   "metadata": {},
   "source": [
    "## Selecting the \"right\" figure\n",
    "\n",
    "Chapter 5 of <a href=\"https://clauswilke.com/dataviz/multi-panel-figures.html\" target=\"_blank\">Wilke (2019)</a> provides a *directory of visualisations* which serves as a useful guide for selecting the correct visualisation for different types of data.\n"
   ]
  },
  {
   "cell_type": "markdown",
   "id": "cca0cc0f-b2bb-43c1-871d-d9aac9df8fe8",
   "metadata": {},
   "source": [
    "## Using Colour\n",
    "\n",
    "A colour scale is used to map data values to colours on the display. <a href=\"https://clauswilke.com/dataviz/color-basics.html\" target=\"_blank\">Wilke (2019)</a> outline three uses of colour on figures:\n",
    "\n",
    "* colour to represent data values (e.g. using red shades for low precipitation and blue shades for high precipitation)\n",
    "* colour to distinguish groups (e.g. using green for forest on a land cover map, blue for water, orange-red for desert, etc.)\n",
    "* colour to highlight (e.g. using colour to highlight particular features on your visualisation)\n",
    "\n",
    "We can broadly characterise colour scales as being either continuous or qualitative. \n",
    "\n",
    "### Continuous palettes\n",
    "\n",
    "Continuous colour scales can be either sequential or diverging and are typically used when using colour to represent data values (often numeric continuous variables). Continuous colour scales can be used to visualise variation in attributes of vector geospatial data on chloropleth maps and variation in attributes of raster data as surfaces. \n",
    "\n",
    "#### Sequential palettes\n",
    "\n",
    "A sequential colour scale is a palette which consists of single hue such as light green to dark green or light red to dark red. Multi-hue sequential colour scales often consist of hues that imply an intuitive and increasing order to the colours such as light yellows to dark red.\n",
    "\n",
    "Plotly express provides a range of inbuilt sequential colour scales: "
   ]
  },
  {
   "cell_type": "code",
   "execution_count": null,
   "id": "bf1712b3-260b-4037-92ad-ac9172c5bb70",
   "metadata": {},
   "outputs": [],
   "source": [
    "fig = px.colors.sequential.swatches_continuous()\n",
    "fig.show()"
   ]
  },
  {
   "cell_type": "markdown",
   "id": "d15db623-0979-4aef-b596-cd00cdbedc74",
   "metadata": {},
   "source": [
    "Let's use a sequential colour palette to visualise monthly precipitation over the field since 1981. The precipitation data is obtained from the <a href=\"https://developers.google.com/earth-engine/datasets/catalog/IDAHO_EPSCOR_TERRACLIMATE#bands\" target=\"_blank\">TerraClimate: Monthly Climate and Climatic Water Balance for Global Terrestrial Surfaces</a> dataset. \n",
    "\n",
    "Use the pandas `read_csv()` function to read in the precipitation data. Inside the `CSV` file each row represents a month-year combination and stores a monthly precipitation total in mm. "
   ]
  },
  {
   "cell_type": "code",
   "execution_count": null,
   "id": "99b6540a-7af5-46cc-9243-fb646c5f7ff3",
   "metadata": {},
   "outputs": [],
   "source": [
    "# visualise monthly precipitation using a diverging palette\n",
    "climate_data_path = os.path.join(os.getcwd(), \"data_lab-2_1\")\n",
    "precip_df = pd.read_csv(os.path.join(climate_data_path, \"bf66-terra-precip-monthly.csv\"))\n",
    "precip_df[\"month\"] = precip_df[\"month\"].astype(str)\n",
    "precip_df[\"year\"] = precip_df[\"year\"].astype(str)\n",
    "precip_df.head()"
   ]
  },
  {
   "cell_type": "markdown",
   "id": "8f155398-52f9-4b6a-9c74-c47556210cd5",
   "metadata": {},
   "source": [
    "We can create a heatmap to visualise monthly precipitation across time and using a colour palette where darker blue shades indicate wetter months. Note how we pass in the colour palette `Blues` as an argument to the `color_continuous_scale` parameter. "
   ]
  },
  {
   "cell_type": "code",
   "execution_count": null,
   "id": "6fe47ef1-3675-46d9-994b-97ab2d43a75a",
   "metadata": {},
   "outputs": [],
   "source": [
    "fig = px.density_heatmap(\n",
    "    precip_df,\n",
    "    x=\"year\", \n",
    "    y=\"month\", \n",
    "    z=\"pr\", \n",
    "    histfunc=\"sum\",\n",
    "    nbinsy=12,\n",
    "    color_continuous_scale=\"Blues\",\n",
    "    range_color=(0, 75),\n",
    ")\n",
    "fig.show()"
   ]
  },
  {
   "cell_type": "markdown",
   "id": "1a7d32e4-75a9-4d55-b7c5-32af5df9350c",
   "metadata": {},
   "source": [
    "#### Recap quiz\n",
    "\n",
    "**Can you create a heatmap of monthly precipitation over time using a <code>YlGnBu</code> colour palette?**"
   ]
  },
  {
   "cell_type": "code",
   "execution_count": null,
   "id": "93f238e9-2845-48a3-831c-7593683cc655",
   "metadata": {},
   "outputs": [],
   "source": [
    "## ADD CODE HERE"
   ]
  },
  {
   "cell_type": "markdown",
   "id": "82b30f15-aebd-46fc-bb32-e1ea2d56e620",
   "metadata": {},
   "source": [
    "<details>\n",
    "    <summary><b>answer</b></summary>\n",
    "\n",
    "```python\n",
    "fig = px.density_heatmap(\n",
    "    precip_df,\n",
    "    x=\"year\", \n",
    "    y=\"month\", \n",
    "    z=\"pr\", \n",
    "    histfunc=\"sum\",\n",
    "    nbinsy=12,\n",
    "    color_continuous_scale=\"YlGnBu\",\n",
    "    range_color=(0, 75),\n",
    ")\n",
    "fig.show()\n",
    "```\n",
    "</details>"
   ]
  },
  {
   "cell_type": "markdown",
   "id": "053bb5ab-2072-4b98-8727-dfb791585ea5",
   "metadata": {},
   "source": [
    "#### Recap quiz\n",
    "\n",
    "**Using the `GeoDataFrame` `gdf` of crop yield values, can you create a scatter plot of crop yield (the `DryYield` column) and GNDVI (the `gndvi` column) and assign green shades to the points which reflect their GNDVI values? Tips: look up the `color`, `color_continuous_scale`, and `range_color` parameters of the `scatter()` function in the <a href=\"https://plotly.com/python-api-reference/generated/plotly.express.scatter.html#plotly.express.scatter\" target=\"_blank\">API docs</a>.**"
   ]
  },
  {
   "cell_type": "code",
   "execution_count": null,
   "id": "d594ca54-0141-4e15-adf3-4050a2f6656c",
   "metadata": {},
   "outputs": [],
   "source": [
    "## ADD CODE HERE"
   ]
  },
  {
   "cell_type": "markdown",
   "id": "767b03ef-cd58-489b-897a-a943b6382eb4",
   "metadata": {},
   "source": [
    "<details>\n",
    "    <summary><b>answer</b></summary>\n",
    "\n",
    "```python\n",
    "fig = px.scatter(\n",
    "    data_frame=gdf, \n",
    "    x=\"gndvi\", \n",
    "    y=\"DryYield\", \n",
    "    facet_col=\"Variety\", \n",
    "    opacity=0.25, \n",
    "    range_y=[0.1, 5], \n",
    "    range_x=[0.4, 0.9], \n",
    "    color=\"gndvi\",\n",
    "    color_continuous_scale=\"Greens\",\n",
    "    range_color=(0.4, 0.8),\n",
    ")\n",
    "fig.show()\n",
    "```\n",
    "</details>"
   ]
  },
  {
   "cell_type": "markdown",
   "id": "ee7abc86-b9d2-41bb-986c-a8875559a91a",
   "metadata": {},
   "source": [
    "#### Diverging palettes\n",
    "\n",
    "Diverging colour scales are used to represent data values deviating in two directions. Often a light colour (e.g. white) is used as the mid-point of a diverging colour scale with gradients of intensifying colour away from this mid-point. A common example of diverging colour scales are climate or weather anomalies where dry or hot years are represented with red colours and wet and cool years are represented with blue colours. Average conditions are often a pale red, pale blue, or white.\n",
    "\n",
    "Plotly also provides a range of diverging colour palettes we can use:"
   ]
  },
  {
   "cell_type": "code",
   "execution_count": null,
   "id": "53699784-7c7b-4675-a3e5-10e6b6208d52",
   "metadata": {},
   "outputs": [],
   "source": [
    "fig = px.colors.diverging.swatches_continuous()\n",
    "fig.show()"
   ]
  },
  {
   "cell_type": "markdown",
   "id": "b5f44adb-b37a-4640-ac57-572e81c4fdbc",
   "metadata": {},
   "source": [
    "We can use a diverging colour palette to visualise the same precipitation data. Monthly precipitation values are converted to z-scores, which represent deviations in monthly precipitation away from the mean. A z-score of zero represents average rainfall and can be used as the mid-point for a diverging colour palette. Here, we can use red-to-blue colour palette, with drier months represented by red shades. "
   ]
  },
  {
   "cell_type": "code",
   "execution_count": null,
   "id": "72f27033-2c40-4c35-b83f-124302852703",
   "metadata": {},
   "outputs": [],
   "source": [
    "# compute average rainfall and standard deviation of rainfall to compute z scores\n",
    "# use z score as 0 for the mid-point of a diverging colour palette\n",
    "avg_pr = precip_df[\"pr\"].mean()\n",
    "std_pr = precip_df[\"pr\"].std()\n",
    "precip_df.loc[:, \"z_score\"] = (precip_df.loc[:, \"pr\"] - avg_pr) / std_pr\n",
    "\n",
    "fig = px.density_heatmap(\n",
    "    precip_df,\n",
    "    x=\"year\", \n",
    "    y=\"month\", \n",
    "    z=\"z_score\", \n",
    "    histfunc=\"sum\",\n",
    "    nbinsy=12,\n",
    "    color_continuous_scale=\"RdBu\",\n",
    "    color_continuous_midpoint=0,\n",
    ")\n",
    "fig.show()"
   ]
  },
  {
   "cell_type": "markdown",
   "id": "7ff77522-01c5-48a8-9a2c-b1f68157ad56",
   "metadata": {},
   "source": [
    "### Qualitative palettes\n",
    "\n",
    "Qualitative (or discrete) colour scales should be used to represent groups or categorical data (i.e. data where there is no logical ordering). Thus, qualitative colour scales should not represent gradients of light to dark or use colours that can be interpreted as having an implied ordering. Often, it is sensible to select colours that relate to the category (e.g. on land cover maps using green for vegetated categories, blue for water etc.). "
   ]
  }
 ],
 "metadata": {
  "kernelspec": {
   "display_name": "Python 3 (ipykernel)",
   "language": "python",
   "name": "python3"
  },
  "language_info": {
   "codemirror_mode": {
    "name": "ipython",
    "version": 3
   },
   "file_extension": ".py",
   "mimetype": "text/x-python",
   "name": "python",
   "nbconvert_exporter": "python",
   "pygments_lexer": "ipython3",
   "version": "3.11.7"
  }
 },
 "nbformat": 4,
 "nbformat_minor": 5
}

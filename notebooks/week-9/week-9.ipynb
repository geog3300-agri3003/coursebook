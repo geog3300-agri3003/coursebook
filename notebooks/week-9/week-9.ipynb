{
  "cells": [
    {
      "cell_type": "markdown",
      "metadata": {
        "id": "2o2eWVXRbdEK"
      },
      "source": [
        "# High-resolution UAV data\n",
        "\n",
        "This lab presents a series of examples working with high-resolution geospatial datasets captured by sensors on UAVs.\n",
        "\n",
        "The data is captured over a cotton trial in New South Wales and the focus of lab activities is extracting variables that describe cotton plant condition from hyperspectral images and LiDAR derived surface models that can be converted into maps of canopy height and volume. The hyperspectral images were captured by a <a href=\"https://www.gryfn.io/gobi\" target=\"_blank\">GRYFN Gobi sensor</a>.\n",
        "\n",
        "This lab will cover:\n",
        "\n",
        "* Introducing hyperspectral data cubes and data structures and exploring hyperspectral data.\n",
        "* Hyperspectral data pre-processing (smoothing and creating vegetation masks).\n",
        "* Statistical modelling to predict cotton plant nitrogen levels from hyperspectral data.\n",
        "* Combining hyperspectral data and LiDAR-derived data to compute canopy height and volume models.\n",
        "\n",
        "For your reference, <a href=\"https://www.sciencedirect.com/science/article/pii/S0168169924004289\" target=\"_blank\">Ram et al. (2024)</a> provide a good review of hyperspectral remote sensing with a focus on agricultural applications.\n",
        "\n",
        "## Setup\n",
        "\n",
        "### Run the labs\n",
        "\n",
        "You can run the labs locally on your machine or you can use cloud environments provided by Google Colab. **If you're working with Google Colab be aware that your sessions are temporary and, if required, you'll need to take care to save, backup, and download your work.**\n",
        "\n",
        "<a href=\"https://colab.research.google.com/github/geog3300-agri3003/coursebook/blob/main/docs/notebooks/week-9.ipynb\" target=\"_blank\">\n",
        "  <img src=\"https://colab.research.google.com/assets/colab-badge.svg\" alt=\"Open In Colab\"/>\n",
        "</a>\n",
        "\n",
        "### Download data\n",
        "\n",
        "To download the data for this lab run the following code snippet."
      ]
    },
    {
      "cell_type": "code",
      "execution_count": 1,
      "metadata": {
        "id": "qhTL8xyctDDb"
      },
      "outputs": [],
      "source": [
        "import os\n",
        "import subprocess\n",
        "\n",
        "if \"data_lab-9\" not in os.listdir(os.getcwd()):\n",
        "    subprocess.run('wget -O data_lab-9.zip \"https://dl.dropboxusercontent.com/scl/fi/em9snffp00tqxcq05j2f5/data_lab-9.zip?rlkey=hky02us6z0t48sugnkgx3h0x8&dl=0\"', shell=True, capture_output=True, text=True)\n",
        "    subprocess.run('unzip \"data_lab-9.zip\"', shell=True, capture_output=True, text=True)"
      ]
    },
    {
      "cell_type": "markdown",
      "metadata": {
        "id": "K9k3NLTcd5Md"
      },
      "source": [
        "### Install packages\n",
        "\n",
        "If you're working in Google Colab, you'll need to install the required packages that don't come with the colab environment."
      ]
    },
    {
      "cell_type": "code",
      "execution_count": null,
      "metadata": {
        "id": "Jul39vqRobtb"
      },
      "outputs": [],
      "source": [
        "if 'google.colab' in str(get_ipython()):\n",
        "    !pip install xarray[complete]\n",
        "    !pip install rioxarray\n",
        "    !pip install mapclassify\n",
        "    !pip install rasterio"
      ]
    },
    {
      "cell_type": "markdown",
      "metadata": {
        "id": "8ARHJ6cAd7ha"
      },
      "source": [
        "### Import modules"
      ]
    },
    {
      "cell_type": "code",
      "execution_count": 4,
      "metadata": {
        "id": "dw_1xm8aoecB"
      },
      "outputs": [],
      "source": [
        "import rioxarray as rxr\n",
        "import xarray as xr\n",
        "import pandas as pd\n",
        "import numpy as np\n",
        "from scipy.signal import savgol_filter\n",
        "\n",
        "import rioxarray as rxr\n",
        "import geopandas as gpd\n",
        "import rasterio\n",
        "\n",
        "from ipyleaflet import Map, ImageOverlay, basemaps\n",
        "from ipywidgets import Output, HBox\n",
        "import matplotlib.pyplot as plt\n",
        "import plotly.express as px\n",
        "import plotly.io as pio\n",
        "\n",
        "# setup renderer\n",
        "if 'google.colab' in str(get_ipython()):\n",
        "    pio.renderers.default = \"colab\"\n",
        "else:\n",
        "    pio.renderers.default = \"jupyterlab\""
      ]
    },
    {
      "cell_type": "markdown",
      "metadata": {
        "id": "e3_X9zIEgHsp"
      },
      "source": [
        "## Hyperspectral data cubes\n",
        "\n",
        "Hyperspectral data is stored in a data cube structure. You can think of this as a 3D stack of arrays where the pixels in each array represent a location on the land surface. Each array in the stack represents a waveband.\n",
        "\n",
        "The hyperspectral data we're working with has 172 wavebands with their wavelengths listed below. Let's also read the hyperspectral data into our Python environment as a xarray `DataArray` object and explore its cube-like structure."
      ]
    },
    {
      "cell_type": "code",
      "execution_count": 5,
      "metadata": {
        "id": "TP0pI2xMohRb"
      },
      "outputs": [],
      "source": [
        "bands_nm = [\n",
        "    399.309, 402.826, 406.344, 409.861, 413.378, 416.896, 420.413, 423.93,\n",
        "    427.448, 430.965, 434.482, 438.0,   441.517, 445.034, 448.552, 452.069,\n",
        "    455.586, 459.104, 462.621, 466.138, 469.656, 473.173, 476.69,  480.208,\n",
        "    483.725, 487.242, 490.76,  494.277, 497.794, 501.312, 504.829, 508.346,\n",
        "    511.864, 515.381, 518.898, 522.416, 525.933, 529.45,  532.968, 536.485,\n",
        "    540.002, 543.519, 547.037, 550.554, 554.071, 557.589, 561.106, 564.623,\n",
        "    568.141, 571.658, 575.175, 578.693, 582.21,  585.727, 589.245, 592.762,\n",
        "    596.279, 599.797, 603.314, 606.831, 610.349, 613.866, 617.383, 620.901,\n",
        "    624.418, 627.935, 631.453, 634.97,  638.487, 642.005, 645.522, 649.039,\n",
        "    652.557, 656.074, 659.591, 663.109, 666.626, 670.143, 673.661, 677.178,\n",
        "    680.695, 684.213, 687.73,  691.247, 694.765, 698.282, 701.799, 705.317,\n",
        "    708.834, 712.351, 715.869, 719.386, 722.903, 726.421, 729.938, 733.455,\n",
        "    736.973, 740.49,  744.007, 747.525, 751.042, 754.559, 758.077, 761.594,\n",
        "    765.111, 768.628, 772.146, 775.663, 779.18,  782.698, 786.215, 789.732,\n",
        "    793.25,  796.767, 800.284, 803.802, 807.319, 810.836, 814.354, 817.871,\n",
        "    821.388, 824.906, 828.423, 831.94,  835.458, 838.975, 842.492, 846.01,\n",
        "    849.527, 853.044, 856.562, 860.079, 863.596, 867.114, 870.631, 874.148,\n",
        "    877.666, 881.183, 884.7,  888.218, 891.735, 895.252, 898.77,  902.287,\n",
        "    905.804, 909.322, 912.839, 916.356, 919.874, 923.391, 926.908, 930.426,\n",
        "    933.943, 937.46,  940.978, 944.495, 948.012, 951.53,  955.047, 958.564,\n",
        "    962.082, 965.599, 969.116, 972.634, 976.151, 979.668, 983.185, 986.703,\n",
        "    990.22,  993.737, 997.255, 1000.77\n",
        "]"
      ]
    },
    {
      "cell_type": "code",
      "execution_count": 7,
      "metadata": {
        "id": "c75hbh3apMYl"
      },
      "outputs": [],
      "source": [
        "vnir_path = os.path.join(\"SAMPLE_AOI_CSIRO_Cotton1_VNIR_Orthomosaic_ESPG4326_v1.tif\")\n",
        "vnir_da = rxr.open_rasterio(vnir_path)\n",
        "vnir_da[\"band\"] = bands_nm\n",
        "# scale to reflectance\n",
        "vnir_da = vnir_da * 0.0001"
      ]
    },
    {
      "cell_type": "markdown",
      "metadata": {
        "id": "hVbfDSPmjUrc"
      },
      "source": [
        "If we print out a description of our `vnir_da` `DataArray` object we can see it has cube-like dimensions. The `x` and `y` dimensions correspond to a pixel's position and the `band` dimension corresponds to reflectance in different wavelengths."
      ]
    },
    {
      "cell_type": "code",
      "execution_count": null,
      "metadata": {
        "colab": {
          "base_uri": "https://localhost:8080/",
          "height": 939
        },
        "id": "Buuwt_jYpU08",
        "outputId": "9704122a-025a-4a85-911c-a3cb94b2ce19"
      },
      "outputs": [],
      "source": [
        "vnir_da"
      ]
    },
    {
      "cell_type": "markdown",
      "metadata": {
        "id": "wyOmnUwkgRXZ"
      },
      "source": [
        "## Exploring hyperspectral data\n",
        "\n",
        "Click on the image in the slippy map to generate spectral profile plots for the clicked location.\n",
        "\n",
        "**What is the characteristic spectral reflectance feature of green vegetation?**"
      ]
    },
    {
      "cell_type": "code",
      "execution_count": 38,
      "metadata": {
        "id": "YA0K4eSepsI5"
      },
      "outputs": [],
      "source": [
        "def interactive_spectral_profile(spectral_da, spectra_da_2=None):\n",
        "    # Define map\n",
        "    m = Map(center=(-30.267316273, 149.899925737), zoom=22, max_zoom=26)\n",
        "\n",
        "    # Output widget for map and spectral profile plot\n",
        "    out = Output()\n",
        "\n",
        "    # Define click handler\n",
        "    def handle_click_raw_vnir(**kwargs):\n",
        "        \"\"\"\n",
        "        Display the spectral profile of a clicked point.\n",
        "        Uses the raw hyperspectral reflectance.\n",
        "        \"\"\"\n",
        "        if kwargs.get(\"type\") == \"click\":\n",
        "            latlng = kwargs.get(\"coordinates\")\n",
        "            with out:\n",
        "                out.clear_output(wait=True)\n",
        "                df = pd.DataFrame({\"wavelength (nm)\": bands_nm, \"reflectance\": spectral_da.sel(x=latlng[1], y=latlng[0], method=\"nearest\").values})\n",
        "                fig = px.line(\n",
        "                    df,\n",
        "                    x=\"wavelength (nm)\",\n",
        "                    y=\"reflectance\",\n",
        "                    template=\"plotly_white\",\n",
        "                )\n",
        "                fig.show()\n",
        "\n",
        "\n",
        "    # Add RGB image overlay\n",
        "    overlay = ImageOverlay(\n",
        "        url=\"https://raw.githubusercontent.com/geog3300-agri3003/lab-data/main/SAMPLE_AOI_CSIRO_Cotton1_RGB_Orthomosaic_6mm_EPSG_v1.png\",\n",
        "        bounds=[(-30.267316273, 149.899925737), (-30.267254275, 149.900012578)],\n",
        "        opacity=0.6\n",
        "    )\n",
        "    m.add(overlay)\n",
        "\n",
        "    # Register the click event handler with the map\n",
        "    m.on_interaction(handle_click_raw_vnir)\n",
        "\n",
        "    # Display map and spectral profile plot\n",
        "    return HBox([m, out])"
      ]
    },
    {
      "cell_type": "code",
      "execution_count": null,
      "metadata": {
        "colab": {
          "base_uri": "https://localhost:8080/",
          "height": 610,
          "referenced_widgets": [
            "6b20bbb36acf4010a121c68bbf15a6ae",
            "f06b769754094641b785fc7852a27ad2",
            "2e2838ffd1884e158c918361ce6a1947",
            "9fe8ce7f7662455194dec1aeed50d33a",
            "8592713bd1624194ab6fc6228acb3470",
            "69d94e75020b48438f5baf684429886f",
            "2a1997901afc4cab9b9a02f1f13095f8",
            "39087b25322b425db02a6f6f84164f65",
            "b73adcfc73f54a728a3b16b1c0c054ae",
            "551a000e2a0b456fbdcbba79bf6ff8a9",
            "ea4546eaae6245a08a777bd2819f7666",
            "949e43c90a634106aa7f546d0f85aca3",
            "a8de3db20993459a8fd3e7b00e28d781"
          ]
        },
        "id": "z0P8cJ7a7r1h",
        "outputId": "57f435bf-6b03-4d4f-c73c-7e21e6e03240"
      },
      "outputs": [],
      "source": [
        "interactive_spectral_profile(vnir_da)"
      ]
    },
    {
      "cell_type": "markdown",
      "metadata": {
        "id": "qwy-Ut0W2e2H"
      },
      "source": [
        "#### Recap quiz\n",
        "\n",
        "<details>\n",
        "    <summary><b>Click on the RGB image of the cotton plants and view the spectral reflectance profiles. What are some of the dominant characteristics of cotton reflectance?</b></summary>\n",
        "\n",
        "* There is a sharp increase in reflectance between 600 and 800 nm.\n",
        "* There is a small peak in reflectance between 500 and 600 nm.\n",
        "* There is short-run variation (noise) in the reflectance profiles, especially at wavelenghts > 800 nm.\n",
        "</details>"
      ]
    },
    {
      "cell_type": "markdown",
      "metadata": {
        "id": "OeGckJjVgVY4"
      },
      "source": [
        "## Hyperspectral data processing\n",
        "\n",
        "Prior to analysing hyperspectral data cubes (e.g. prediction plant characteristics from spectral data), several data pre-processing steps are applied. Here, we'll focus on two pre-processing operations:\n",
        "\n",
        "* **Smoothing** the reflectance values at each pixel to generate a smooth continuous spectral profile. There can be short-run noise in hyperspectral data due to atmospheric artefacts, illumination conditions, scattering effects due to plants and leaves, and noise introduced through sensing and capture conditions.\n",
        "* **Vegetation masking** to remove background soil and other non-vegetative influenses. This allows us to focus only on using hyperspectral data to monitor plant conditions.\n",
        "\n",
        "### Smoothing\n",
        "\n",
        "A technique commonly used to smooth hyperspectral profiles is a Savitzky-Golay filter. This works by passing a moving window along the spectral data within each pixel and fitting a smooth curve through the values that fall within the moving window.\n",
        "\n",
        "The below function demonstrates how to apply a Savitzky-Golay filter to an xarray `DataArray` and return a smoothed dataset. The function is setup to use a moving window length of 10 values (see the `window_length` parameter). You can change this and using a larger window will result in a smoother spectral profile. The goal is to pick a window length that's large enough to smooth out short-run noise in the time-series but the dominant spectral signatures relating to land surface conditions persist.\n",
        "\n",
        "*Note, this function also returns the first derivative (rate of change) in spectral reflectance. This is just here for your reference as often the first derivative of hyperspectral data is used to detect change in vegetation conditions and charactersitics*"
      ]
    },
    {
      "cell_type": "code",
      "execution_count": 17,
      "metadata": {
        "id": "V3dBByk795iB"
      },
      "outputs": [],
      "source": [
        "# Savitzky-Golay smoothing\n",
        "def sg_smooth(da, window_length=10, polyorder=2):\n",
        "    \"\"\"\n",
        "    Apply a Savitzky-Golay filter to a DataArray.\n",
        "    \"\"\"\n",
        "\n",
        "    # smooth spectral reflectance values\n",
        "    sg_arr = savgol_filter(\n",
        "        da.values,\n",
        "        window_length=window_length,\n",
        "        polyorder=polyorder,\n",
        "        axis=da.get_axis_num(\"band\")\n",
        "    )\n",
        "\n",
        "    da_sg = xr.DataArray(\n",
        "        sg_arr,\n",
        "        coords=da.coords,\n",
        "        dims=da.dims,\n",
        "    )\n",
        "\n",
        "    # compute 1st derivative of smoothed spectral reflectance\n",
        "    sg_1d_arr = savgol_filter(\n",
        "        da.values,\n",
        "        window_length=window_length,\n",
        "        polyorder=polyorder,\n",
        "        axis=da.get_axis_num(\"band\"),\n",
        "        deriv=1,\n",
        "    )\n",
        "\n",
        "    da_sg_1d = xr.DataArray(\n",
        "        sg_1d_arr,\n",
        "        coords=da.coords,\n",
        "        dims=da.dims,\n",
        "    )\n",
        "\n",
        "    return da_sg, da_sg_1d"
      ]
    },
    {
      "cell_type": "markdown",
      "metadata": {
        "id": "WYvEKogwMaB0"
      },
      "source": [
        "Let's pass in our raw hyperspectral data to `sg_smooth()` and smooth it using a Savitzky-Golay filter. Then, let's use it to make an interactive plot. As you click on the  RGB image you should a smoother spectral profile for each clicked location."
      ]
    },
    {
      "cell_type": "code",
      "execution_count": 18,
      "metadata": {
        "id": "baWLCgd3_8H2"
      },
      "outputs": [],
      "source": [
        "vnir_da_sg, vnir_da_sg_1d = sg_smooth(vnir_da)"
      ]
    },
    {
      "cell_type": "code",
      "execution_count": null,
      "metadata": {
        "colab": {
          "base_uri": "https://localhost:8080/",
          "height": 542,
          "referenced_widgets": [
            "ea175f9a052f4c54ad49387b690db864",
            "03cd256cecc44158825f8e38138c550b",
            "7e8f732292644715b93ec86e693dc92b",
            "b2a50319a4be46cd945bd491ea241947",
            "505e986f74114f3c84e0f54761d9691f",
            "61634e7d80cd4c25ae61efe9c2007cd3",
            "404bc9b9f477499ab849e79fac93b0b6",
            "7191b30842fb4f77b69e63ae4d24cf0a",
            "322697721ce54f659e45a989e157ac71",
            "4143870a2a054d88b6377ee3042f2eb2",
            "cc681f2a261f453f861f92cb280fa750",
            "9fd447752a7c4c68ba1363b42c3cf924",
            "bce2eb6602b44cf58fe3f015b4791580"
          ]
        },
        "id": "V1kGB87CAIcW",
        "outputId": "3a43f1e7-831d-4e42-de05-84cff8fea714"
      },
      "outputs": [],
      "source": [
        "interactive_spectral_profile(vnir_da_sg)"
      ]
    },
    {
      "cell_type": "markdown",
      "metadata": {
        "id": "V9wIQGkpggRu"
      },
      "source": [
        "### Vegetation masks\n",
        "\n",
        "There are a variety of techniques that are used for vegetation masking. Here, we'll use a simple NDVI threshold to create a binary vegetation and non-vegetation mask.\n",
        "\n",
        "Computing normalised difference spectral indices is a common task when working with hyperspectral data (we have lots of wavebands we can use - we can do more than compute NDVI). Therefore, let's create a convenience function that we can pass in two wavelengths and it will use these wavelengths to compute a normalised difference spectral index from the hyperspectral data cube."
      ]
    },
    {
      "cell_type": "code",
      "execution_count": 20,
      "metadata": {
        "id": "FS2ivS-88RXk"
      },
      "outputs": [],
      "source": [
        "def normalised_difference(da, band_1_nm, band_2_nm):\n",
        "    \"\"\"\n",
        "    Calculate the normalised difference between two bands.\n",
        "    \"\"\"\n",
        "    b1 = da.sel(band=band_1_nm, method=\"nearest\")\n",
        "    b2 = da.sel(band=band_2_nm, method=\"nearest\")\n",
        "\n",
        "    return (b1 - b2) / (b1 + b2)"
      ]
    },
    {
      "cell_type": "markdown",
      "metadata": {
        "id": "wFbHKaMvNL0f"
      },
      "source": [
        "Let's use the `normalised_difference()` function to compute the NDVI. To keep things simple we'll select the centre of the Sentinel-2 wavebands to represent red and near infrared reflectance.\n",
        "\n",
        "**Look at the NDVI plot. What do you think would be a good threshold value to separate vegetation (cotton plants) and non-vegetation surfaces?**"
      ]
    },
    {
      "cell_type": "code",
      "execution_count": null,
      "metadata": {
        "colab": {
          "base_uri": "https://localhost:8080/",
          "height": 480
        },
        "id": "AWAe0SOH78DQ",
        "outputId": "0414a840-eacd-440b-8e0f-3cf7f2058000"
      },
      "outputs": [],
      "source": [
        "# mask out soil background\n",
        "# S2 red = 665\n",
        "# S2 nir = 865\n",
        "ndvi = normalised_difference(vnir_da_sg, 865, 665)\n",
        "ndvi.plot.imshow(cmap=\"Greens\", robust=True, add_labels=False)"
      ]
    },
    {
      "cell_type": "markdown",
      "metadata": {
        "id": "XQh6bFQFNj58"
      },
      "source": [
        "We can use xarray's `where()` function to set all NDVI values greater than a threshold to one and all other pixels to zero.\n",
        "\n",
        "The `where()` function takes a condition as its first argument (e.g. `ndvi >= 0.7`). It's second argument is what value to assign the output in all locations where the condition is true and the third argument is the value to assign locations where the condition is false.\n",
        "\n",
        "These are the docs for the <a href=\"https://docs.xarray.dev/en/stable/generated/xarray.where.html\" target=\"_blank\">where</a> function. It's worth being familiar with `where()` as it's commonly used for processing raster and imagery data.\n",
        "\n",
        "#### Recap quiz\n",
        "\n",
        "<details>\n",
        "    <summary><b>What optical satellite data pre-processing step would we use the <code>where()</code> function for?</b></summary>\n",
        "    \n",
        "Cloud masking.\n",
        "\n",
        "</details>\n",
        "\n",
        "Here, we'll use an NDVI threshold of 0.7 and create a binary vegetation mask."
      ]
    },
    {
      "cell_type": "code",
      "execution_count": null,
      "metadata": {
        "colab": {
          "base_uri": "https://localhost:8080/",
          "height": 489
        },
        "id": "Z0Ucemhs9Zpj",
        "outputId": "266cd4af-e88f-40c5-cdb4-e2b17d80146d"
      },
      "outputs": [],
      "source": [
        "veg_mask = xr.where(ndvi >= 0.7, 1, 0)\n",
        "veg_mask.plot.imshow()"
      ]
    },
    {
      "cell_type": "markdown",
      "metadata": {
        "id": "0tA909eCOhyW"
      },
      "source": [
        "The final task is the apply the vegetation mask to our hyperspectral data cube setting all pixels where NDVI is less than the threshold to a no data value.  "
      ]
    },
    {
      "cell_type": "code",
      "execution_count": 23,
      "metadata": {
        "id": "r5vYEoEVGjKV"
      },
      "outputs": [],
      "source": [
        "vnir_da_sg_veg = vnir_da_sg.where(veg_mask == 1)"
      ]
    },
    {
      "cell_type": "markdown",
      "metadata": {
        "id": "2okwxYWGP2wO"
      },
      "source": [
        "#### Recap quiz\n",
        "\n",
        "<details>\n",
        "    <summary><b>Consider the strengths and weaknesses of using a NDVI threshold approach to create vegetation masks? What other approaches could we use to do this?</b></summary>\n",
        "    \n",
        "Using an NDVI threshold approach to create vegetation masks is relatively simple to apply and it's easy to tune the threshold for for a given scene or image to obtain good results. You might want to use different thresholds at different stages of the growing season. There is clear explainable link between NDVI values and the presence and reflectance characteristics of green vegetation.\n",
        "\n",
        "However, a drawback of using a simple NDVI thresholding approach is that it doesn't segment individual plants so you might get \"noisy\" isolated pixels classed as vegetation. **Look up <a href=\"https://segment-anything.com/\" target=\"_blank\">Segment Anything</a> and consider how that could be used to segment plants in a scene.** If you have multiple types of vegetation in a scene and you are only interested in one species, it can be hard to discriminate between them using a simple threshold. This could be the case if you want to separate a crop from the interrow vegetation. **Consider how you could use machine learning to segment out only pixels that relate to plant types of interest**.\n",
        "\n",
        "</details>"
      ]
    },
    {
      "cell_type": "markdown",
      "metadata": {
        "id": "Cu8L_vrngon2"
      },
      "source": [
        "## Exploring the red-edge\n",
        "\n",
        "Several studies have highlighted that spectral reflectance between the red (~ 670 nm) and the near infrared (~ 800 nm) wavelengths characterise the condition and status of cotton plants. This portion of the electromagnetic spectrum is termed the *red-edge* due to the sharp increase in reflectance between the red wavelengths and the near infrared wavelengths in green vegetation. The red-edge is defined as the inflection point of the largest increase in reflectance between red and near infrared reflectance.\n",
        "\n",
        "Chlorophyll in green plants absorb red light and near infrared light is reflected by the leaf's internal cell structure. Plants absorb red light for photosynthesis. Near infrared light is reflected (or transmitted through the leaf and re-scattered by the canopy) to avoid the energy damaging the plant.\n",
        "\n",
        "A shift in the red-edge position towards longer wavelengths is associated with an increase in chlorophyll and a shift towards shorter, red, wavelength is indicative of plant stress.\n",
        "\n",
        "Studies have highlighted that changes in spectral reflectance in the red-edge portion of electromagnetic spectrum relate to biophyscical and biochemical variables such as chlorophyll concentration, leaf area index and nitrogren concentration:\n",
        "\n",
        "* <a href=\"https://www.mdpi.com/2072-4292/13/8/1428\" target=\"_blank\">Marang et al. (2021)</a> - predicting nitrogren concentration in cotton using hyperspectral images.\n",
        "* <a href=\"https://www.sciencedirect.com/science/article/pii/S0924271607000056\" target=\"_blank\">Zhaoe et al. (2007)</a> - relate hyperspectral images to cotton LAI and canopy chlorophyll density.\n",
        "\n",
        "With broadband multi-spectral images it is difficult to detect changes in the reflectance around red-edge, which can limit our ability to detect variation in plant condition. Consider the wavebands of the Landsat 8 OLI sensor below. It does not measure reflectance in the red-edge region. This means that any change in plant condition that cause in reflectance changes in the red-edge region would not be captured by the Landsat 8 sensor.  "
      ]
    },
    {
      "cell_type": "code",
      "execution_count": null,
      "metadata": {
        "colab": {
          "base_uri": "https://localhost:8080/",
          "height": 531
        },
        "id": "HAGtzoEbpnJL",
        "outputId": "40217e18-4baf-45df-c1f4-c54e74010f86"
      },
      "outputs": [],
      "source": [
        "# Landsat 8 band metadata: (center wavelength [nm], bandwidth [nm], color)\n",
        "bands = {\n",
        "    'B2 (Blue)': (482, 60, '#0000ff'),\n",
        "    'B3 (Green)': (561, 57, '#00ff00'),\n",
        "    'B4 (Red)': (655, 37, '#ff0000'),\n",
        "    'B5 (NIR)': (865, 28, '#fdae61'),\n",
        "}\n",
        "\n",
        "fig, ax = plt.subplots(figsize=(12, 6))\n",
        "spectral_profile_1 = vnir_da_sg.sel(x=149.89996779710054, y=-30.26729097043827, method=\"nearest\").values\n",
        "spectral_profile_2 = vnir_da_sg.sel(x=149.89997752010822, y=-30.267298788893758, method=\"nearest\").values\n",
        "ax.plot(bands_nm, spectral_profile_1, color=\"red\")\n",
        "ax.plot(bands_nm, spectral_profile_2, color=\"blue\")\n",
        "\n",
        "# Plot vertical Landsat 8 bands\n",
        "for name, (center, width, color) in bands.items():\n",
        "    start = center - width / 2\n",
        "    end = center + width / 2\n",
        "    ax.axvspan(start, end, alpha=0.3, color=color, label=name)\n",
        "\n",
        "ax.set_xlabel(\"Wavelength (nm)\")\n",
        "ax.set_ylabel(\"Reflectance\")\n",
        "ax.set_title(\"Landsat-8 Wavebands\")\n",
        "ax.legend(loc=\"upper right\", bbox_to_anchor=(1.3, 1), fontsize=\"small\")\n",
        "plt.tight_layout()\n",
        "plt.show()"
      ]
    },
    {
      "cell_type": "markdown",
      "metadata": {
        "id": "KUdyd92TzfTB"
      },
      "source": [
        "The Sentinel-2 sensor has wavebands located within the red-edge spectrum (bands 5, 6 and 7 with a 20 m spatial resolution). This permits monitoring change in the reflectance properties of vegetation in red-edge portion of the spectrum, which could reflect change in plant condition.\n"
      ]
    },
    {
      "cell_type": "code",
      "execution_count": null,
      "metadata": {
        "colab": {
          "base_uri": "https://localhost:8080/",
          "height": 531
        },
        "id": "rVBVkGa-kqql",
        "outputId": "02c8d97a-c68d-445d-99e3-763ec0e5cb42"
      },
      "outputs": [],
      "source": [
        "# Sentinel-2 waveband data (central wavelength in nm and bandwidth in nm)\n",
        "bands = {\n",
        "    'B1 (Coastal aerosol)': (443, 20, '#5e4fa2'),\n",
        "    'B2 (Blue)': (490, 65, '#0000ff'),\n",
        "    'B3 (Green)': (560, 35, '#00ff00'),\n",
        "    'B4 (Red)': (665, 30, '#ff0000'),\n",
        "    'B5 (Red Edge 1)': (705, 15, '#e6f598'),\n",
        "    'B6 (Red Edge 2)': (740, 15, '#ffffbf'),\n",
        "    'B7 (Red Edge 3)': (783, 20, '#fee08b'),\n",
        "    'B8 (NIR)': (842, 115, '#fdae61'),\n",
        "    'B8A (Narrow NIR)': (865, 20, '#f46d43'),\n",
        "}\n",
        "\n",
        "fig, ax = plt.subplots(figsize=(12, 6))\n",
        "spectral_profile_1 = vnir_da_sg.sel(x=149.89996779710054, y=-30.26729097043827, method=\"nearest\").values\n",
        "spectral_profile_2 = vnir_da_sg.sel(x=149.89997752010822, y=-30.267298788893758, method=\"nearest\").values\n",
        "ax.plot(bands_nm, spectral_profile_1, color=\"red\")\n",
        "ax.plot(bands_nm, spectral_profile_2, color=\"blue\")\n",
        "\n",
        "# Plot vertical S2 bands\n",
        "for name, (center, width, color) in bands.items():\n",
        "    start = center - width / 2\n",
        "    end = center + width / 2\n",
        "    ax.axvspan(start, end, alpha=0.3, color=color, label=name)\n",
        "\n",
        "ax.set_xlabel(\"Wavelength (nm)\")\n",
        "ax.set_ylabel(\"Reflectance\")\n",
        "ax.set_title(\"Sentinel-2 Wavebands\")\n",
        "ax.legend(loc=\"upper right\", bbox_to_anchor=(1.3, 1), fontsize=\"small\")\n",
        "plt.tight_layout()\n",
        "plt.show()\n"
      ]
    },
    {
      "cell_type": "markdown",
      "metadata": {
        "id": "I6t8Xk8F2TLt"
      },
      "source": [
        "#### Recap quiz\n",
        "\n",
        "<details>\n",
        "    <summary><b>Given that the Sentinel-2 satellite captures reflectance in three red-edge bands, what is the value of UAV-based hyperspectral data for monitoring plant condition?</b></summary>\n",
        "\n",
        "The spatial resolution of Sentinel-2's red-edge bands is 20 m (i.e. a 20 m pixel size). This is too coarse for characterising within-plant variability in biophysical and biochemical conditions and is too coarse for many within-field applications.\n",
        "\n",
        "Reflectance in the red-edge portion of the spectrum is represented by three wavebands. In contrast, hyperspectral sensors capture a continuum of reflectance between the red and near infrared wavelengths. This might allow for detecting more subtle shifts in plant condition and for verifying insights derived from Sentinel-2 satellite images.\n",
        "</details>"
      ]
    },
    {
      "cell_type": "markdown",
      "metadata": {
        "id": "cGA0qYV8gvq0"
      },
      "source": [
        "## Predicting nitrogen concentration\n",
        "\n",
        "<a href=\"https://www.mdpi.com/2072-4292/13/8/1428\" target=\"_blank\">Marang et al., (2021)</a> combined hyperspectral data with field nitrogen (N) samples over a cotton trial (mature cotton stand) in New South Wales. This study explored how features in hyperspectral data could be used to predict N concentration of cotton leaves from hyperspectral images. They used machine learning to detect wavelengths in a hyperspectral image that were predictive of N concentration and created the following spectral index that aims to capture the red-edge position (inflection point ratio vegetation index).\n",
        "\n",
        "$$\n",
        "IPRVI = \\frac{R_{695} - R_{700}}{R_{705}}\n",
        "$$\n",
        "\n",
        "Where $R_{695}$ is reflectance at 695 nm. They estimated a linear regression model to predict N concentration (%) as a function of IPRVI:\n",
        "\n",
        "$$\n",
        "N = 39.521 \\centerdot IPRVI + 9.475\n",
        "$$\n",
        "\n",
        "We can apply this model to the hyperspectral data we are working with to create a predictive map of N concentration. The following is a function that takes in the hyperspectral data cube as an xarray `DataArray` object and returns arrays representing predicted N concentration and the IPRVI.\n",
        "\n",
        "Let's pass in the `DataArray` object that has had the vegetation mask applied so we only compute the IPRVI and N concentration for cotton plants."
      ]
    },
    {
      "cell_type": "code",
      "execution_count": 26,
      "metadata": {
        "id": "WezsJmcCKhg0"
      },
      "outputs": [],
      "source": [
        "def marang_n_conc_iprvi(da):\n",
        "    \"\"\"\n",
        "    Calculate the N concentration from the IPRVI based on Marang et al., (2021).\n",
        "    \"\"\"\n",
        "    iprvi = (da.sel(band=695, method=\"nearest\") - da.sel(band=700, method=\"nearest\")) / da.sel(band=705, method=\"nearest\")\n",
        "    n_conc = (39.521 * iprvi) + 9.475\n",
        "\n",
        "    # plot N predictions and VI\n",
        "    fig, axes = plt.subplots(nrows=1, ncols=2, figsize=(12, 5))\n",
        "    n_conc.plot.imshow(robust=True, vmin=3.5, ax=axes[0])\n",
        "    axes[0].set_title(\"Pred. N (%)\")\n",
        "    axes[0].set_xticks([])\n",
        "    axes[0].set_yticks([])\n",
        "    axes[0].set_xlabel(None)\n",
        "    axes[0].set_ylabel(None)\n",
        "    iprvi.plot.imshow(robust=True, ax=axes[1])\n",
        "    axes[1].set_title(\"IPRVI\")\n",
        "    axes[1].set_xticks([])\n",
        "    axes[1].set_yticks([])\n",
        "    axes[1].set_xlabel(None)\n",
        "    axes[1].set_ylabel(None)\n",
        "    plt.tight_layout()\n",
        "    plt.show()\n",
        "\n",
        "    return n_conc, iprvi"
      ]
    },
    {
      "cell_type": "code",
      "execution_count": null,
      "metadata": {
        "colab": {
          "base_uri": "https://localhost:8080/",
          "height": 442
        },
        "id": "5d6xtGT3K9Ec",
        "outputId": "3fcd5955-344f-4499-d645-690ba25ec717"
      },
      "outputs": [],
      "source": [
        "n_conc, iprvi = marang_n_conc_iprvi(vnir_da_sg_veg)"
      ]
    },
    {
      "cell_type": "markdown",
      "metadata": {
        "id": "wKpIzyAjzCEU"
      },
      "source": [
        "#### Recap quiz\n",
        "\n",
        "<details>\n",
        "    <summary><b>Look at the map of predicted N concentration above, which areas have the highest N concentrations (i.e. yellow shades)? Can you look at the slippy RGB image of the cotton trial above and consider why these areas have high apparent N concentrations?</b></summary>\n",
        "    \n",
        "The areas with the highest predicted N concentrations appear on the left side of the middle rows of cotton plants. These areas look like shadow affected leaves and the high N concentrations could be an image artefact and not actual variability in N.\n",
        "\n",
        "The lesson here is to always check imagery-derived products for artefacts. If we did not scrutinise this data we could risk using shadows to guide N management. When working with imagery-derived products it's important to be inquisitive and check the methods used to generate the imagery underlying predicted products. If possible, try and see the raw imagery.\n",
        "\n",
        "**How could we try and remove the shadow affected leaves?**\n",
        "\n",
        "</details>\n",
        "\n",
        "<a href=\"https://www.mdpi.com/2072-4292/13/8/1428\" target=\"_blank\">Marang et al. (2021)</a> also publish a model that predicts N concentration using the normalised difference red edge index (NDRE). The NDRE is computed as:\n",
        "\n",
        "$$\n",
        "NDRE = \\frac{R_{790} - R_{720}}{R_{790} + R_{720}}\n",
        "$$\n",
        "\n",
        "with the model to predict N concentration as:\n",
        "\n",
        "$$\n",
        "N = 12.856 \\centerdot NDRE + 2.935\n",
        "$$\n",
        "\n",
        "<details>\n",
        "    <summary><b>Using the example above that predicts N concentration as a function of the IPRVI, can you convert data in the hyperspectral data cube into a predicted N layer by applying the model above to NDRE values and plot the results?</b></summary>\n",
        "    \n",
        "```python\n",
        "# predict N concentration\n",
        "def marang_n_conc_ndre(da):\n",
        "    \"\"\"\n",
        "    Calculate the N concentration from the NDRE based on Marang et al., (2021).\n",
        "    \"\"\"\n",
        "    ndre = normalised_difference(da, 790, 720)\n",
        "    n_conc = (12.856 * ccci) - 2.935\n",
        "\n",
        "    # plot N predictions and VI\n",
        "    fig, axes = plt.subplots(nrows=1, ncols=2, figsize=(12, 5))\n",
        "    n_conc.plot.imshow(robust=True, vmin=0, ax=axes[0])\n",
        "    axes[0].set_title(\"Pred. N (%)\")\n",
        "    axes[0].set_xticks([])\n",
        "    axes[0].set_yticks([])\n",
        "    axes[0].set_xlabel(None)\n",
        "    axes[0].set_ylabel(None)\n",
        "    ndre.plot.imshow(robust=True, vmin=0.3, ax=axes[1])\n",
        "    axes[1].set_title(\"NDRE\")\n",
        "    axes[1].set_xticks([])\n",
        "    axes[1].set_yticks([])\n",
        "    axes[1].set_xlabel(None)\n",
        "    axes[1].set_ylabel(None)\n",
        "    plt.tight_layout()\n",
        "    plt.show()\n",
        "\n",
        "    return n_conc, ndre\n",
        "\n",
        "    n_conc, ndre = marang_n_conc_ndre(vnir_da_sg_veg)\n",
        "```\n",
        "\n",
        "</details>\n",
        "\n",
        "<br>\n",
        "\n",
        "<details>\n",
        "    <summary><b>How similar are the predicted N concentration layers using IPRVI and NDRE data as inputs? How could / should you interpret the differences between these models when using this data for farm management? What could be potential causes of differences in N predictions?</b></summary>\n",
        "    \n",
        "Predicted N from the model using IPRVI is a lot higher than predicted N from the model using NDRE data as an input. We should explore why there are differences in predicted N before using these models for decision making.\n",
        "\n",
        "There could be a few reasons why the models return different N predictions:\n",
        "\n",
        "* Marang et al. 2021 use a relatively small ground truth dataset to fit the models (30 data points). This study is great at highlighting the potential to use hyperspectral data to characterise N variability within cotton fields. However, it's likely that more training and test data would be required to develop general N prediction models.\n",
        "* The sensors used to capture the hyperspectral data are different (spatial resolution and spectral resolution). Marang et al. (2021) also do additional pre-processing of the hyperspectral data with spatial as well as spectral smoothing.\n",
        "* The timing of image captures could be different. It could be that the relationships between spectral reflectance and N concentration vary through the growing season.\n",
        "\n",
        "</details>"
      ]
    },
    {
      "cell_type": "markdown",
      "metadata": {
        "id": "6HfiEK_uO5PB"
      },
      "source": [
        "## Canopy surface models\n",
        "\n",
        "This example demonstrates working with a very different type of high-resolution dataset from UAV mounted sensors. Here, we will be working with raster elevation models derived from a LiDAR sensor that has scanned the canopy.\n",
        "\n",
        "LiDAR stands for light detection and ranging where a laser scanner emits a laser pulse and measures the return time for pulse after it has bounced back off an object. The returns are converted into a point cloud representing the 3D structure of a scene.\n",
        "\n",
        "LiDAR processing software can filter the point clouds to create digital surface models and digital terrain models. A digital surface model (DSM) is a representation of the height of features on the land surface (e.g. the height of plants, trees, buildings). A digital terrain model (DTM) represents the height of the bare earth surface.\n",
        "\n",
        "Let's read in a DSM and DTM for the cotton trial where we have just been working with hyperspectral data. We should be able to pick out the cotton plants in the DSM and as we're working in a small area of the field there should not be much variation in the DTM."
      ]
    },
    {
      "cell_type": "code",
      "execution_count": null,
      "metadata": {
        "colab": {
          "base_uri": "https://localhost:8080/",
          "height": 331
        },
        "id": "Ufylsh0JO_ox",
        "outputId": "ef094bd0-aefc-449e-8b93-a1655c5aebea"
      },
      "outputs": [],
      "source": [
        "dsm_path = os.path.join(\"SAMPLE_AOI_CSIRO_Cotton1_LiDAR_DSM_2cm_EPSG4326_v1.tif\")\n",
        "dsm_da = rxr.open_rasterio(dsm_path)\n",
        "dsm_da"
      ]
    },
    {
      "cell_type": "code",
      "execution_count": null,
      "metadata": {
        "colab": {
          "base_uri": "https://localhost:8080/",
          "height": 504
        },
        "id": "5mtZ2wlaSDdH",
        "outputId": "92cf0fa2-f97b-4211-e2d0-0116ceca20f1"
      },
      "outputs": [],
      "source": [
        "dsm_da.sel(band=1).plot.imshow()"
      ]
    },
    {
      "cell_type": "code",
      "execution_count": null,
      "metadata": {
        "colab": {
          "base_uri": "https://localhost:8080/",
          "height": 331
        },
        "id": "mFsslSG_PD2U",
        "outputId": "35fc0919-bbcc-47d6-d42c-3df26a9963cd"
      },
      "outputs": [],
      "source": [
        "dtm_path = os.path.join(\"SAMPLE_AOI_CSIRO_Cotton1_LiDAR_DTM_100cm_EPSG4326_v1.tif\")\n",
        "dtm_da = rxr.open_rasterio(dtm_path)\n",
        "dtm_da"
      ]
    },
    {
      "cell_type": "code",
      "execution_count": null,
      "metadata": {
        "colab": {
          "base_uri": "https://localhost:8080/",
          "height": 504
        },
        "id": "Zcv9X-zsSFpS",
        "outputId": "805629c3-d341-4603-854c-f9c435116377"
      },
      "outputs": [],
      "source": [
        "dtm_da.sel(band=1).plot.imshow()"
      ]
    },
    {
      "cell_type": "markdown",
      "metadata": {
        "id": "dPxBq2Gngzuj"
      },
      "source": [
        "## Canopy height models\n",
        "\n",
        "A canopy height model is just the height of the vegetation canopy at each location. To compute the canopy height model we need to mask out non-vegetated areas and then take the difference between the DSM and DTM. First, let's apply our vegetation mask to the DSM and DTM data.\n",
        "\n",
        "<details>\n",
        "    <summary><b>What spatial operations need to be applied before applying the vegetation mask to the DTM and DSM layers? (Note, this has already be done in the data provided here).</b></summary>\n",
        "\n",
        "The mask operation works by matching pixels in the DSM and DTM layers to pixels in the vegetation mask layer. Therefore, we need to make sure the mask and the DSM and DTM layers have the same dimensions and the same coordinate reference system (CRS). To ensure the pixels align, we can apply a resampling operation.\n",
        "\n",
        "</details>"
      ]
    },
    {
      "cell_type": "code",
      "execution_count": 33,
      "metadata": {
        "id": "rHKWUojwU-zT"
      },
      "outputs": [],
      "source": [
        "dsm_veg = dsm_da.where(veg_mask == 1)\n",
        "dtm_veg = dtm_da.where(veg_mask == 1)"
      ]
    },
    {
      "cell_type": "markdown",
      "metadata": {
        "id": "eB-xvXxChjrr"
      },
      "source": [
        "Then we can subtract the DTM from the DSM to produce a canopy height model."
      ]
    },
    {
      "cell_type": "code",
      "execution_count": null,
      "metadata": {
        "colab": {
          "base_uri": "https://localhost:8080/",
          "height": 504
        },
        "id": "-uVYV2S1VF3Y",
        "outputId": "afd924b7-4750-477e-af47-bf1a61d54e8e"
      },
      "outputs": [],
      "source": [
        "chm = dsm_veg - dtm_veg\n",
        "chm.sel(band=1).plot.imshow(robust=True)"
      ]
    },
    {
      "cell_type": "markdown",
      "metadata": {
        "id": "6ndZQUEMg1Zo"
      },
      "source": [
        "## Canopy volume models\n",
        "\n",
        "A canopy volume model is an estimate of the volume of vegetation at a location. It's computed as the area of a pixel multiplied by the height of vegetation at that location. It's a variable that's often used as an indicator of biomass.\n",
        "\n",
        "The pixel dimensions for the data we're working with are approximately 15 cm. Thus, we can multiply each pixel in the canopy height model by `15 * 15` to estimate the canopy volume."
      ]
    },
    {
      "cell_type": "code",
      "execution_count": null,
      "metadata": {
        "colab": {
          "base_uri": "https://localhost:8080/",
          "height": 504
        },
        "id": "qsrrRHLqiL8i",
        "outputId": "f1cc3f63-ac08-49f9-c28d-0fcd92bb49b8"
      },
      "outputs": [],
      "source": [
        "cvm = chm * (15 * 15)\n",
        "cvm.sel(band=1).plot.imshow(robust=True)"
      ]
    },
    {
      "cell_type": "markdown",
      "metadata": {},
      "source": [
        "<details>\n",
        "    <summary><b>Can you think of some limitations of using canopy volume models, in the way we've computed it above, as a representation of plant biomass?</b></summary>\n",
        "    \n",
        "It may not fully represent the morphometry of complex canopies. For example, if there is \"overhanging\" vegetation this will be assumed to be vegetation from the surface to canopy height at that location. \n",
        "\n",
        "We're not able to separate green leaves from other features such as woody stems, flowers or air gaps. \n",
        "\n",
        "</details>"
      ]
    }
  ],
  "metadata": {
    "colab": {
      "provenance": []
    },
    "kernelspec": {
      "display_name": "Python 3",
      "name": "python3"
    },
    "language_info": {
      "name": "python"
    },
    "widgets": {
      "application/vnd.jupyter.widget-state+json": {
        "03cd256cecc44158825f8e38138c550b": {
          "model_module": "jupyter-leaflet",
          "model_module_version": "^0.19",
          "model_name": "LeafletMapModel",
          "state": {
            "_dom_classes": [],
            "_model_module": "jupyter-leaflet",
            "_model_module_version": "^0.19",
            "_model_name": "LeafletMapModel",
            "_view_count": null,
            "_view_module": "jupyter-leaflet",
            "_view_module_version": "^0.19",
            "_view_name": "LeafletMapView",
            "bottom": 1263328927,
            "bounce_at_zoom_limits": true,
            "box_zoom": true,
            "center": [
              -30.267290101720956,
              149.89996570162478
            ],
            "close_popup_on_click": true,
            "controls": [
              "IPY_MODEL_61634e7d80cd4c25ae61efe9c2007cd3",
              "IPY_MODEL_404bc9b9f477499ab849e79fac93b0b6"
            ],
            "crs": {
              "custom": false,
              "name": "EPSG3857"
            },
            "default_style": "IPY_MODEL_7191b30842fb4f77b69e63ae4d24cf0a",
            "double_click_zoom": true,
            "dragging": true,
            "dragging_style": "IPY_MODEL_322697721ce54f659e45a989e157ac71",
            "east": 149.89999176934364,
            "fullscreen": false,
            "inertia": true,
            "inertia_deceleration": 3000,
            "inertia_max_speed": 1500,
            "interpolation": "bilinear",
            "keyboard": true,
            "keyboard_pan_offset": 80,
            "keyboard_zoom_offset": 1,
            "layers": [
              "IPY_MODEL_4143870a2a054d88b6377ee3042f2eb2",
              "IPY_MODEL_cc681f2a261f453f861f92cb280fa750"
            ],
            "layout": "IPY_MODEL_9fd447752a7c4c68ba1363b42c3cf924",
            "left": 1967929794,
            "max_zoom": 26,
            "min_zoom": null,
            "modisdate": "2025-04-30",
            "north": -30.267261144472748,
            "options": [
              "bounce_at_zoom_limits",
              "box_zoom",
              "center",
              "close_popup_on_click",
              "double_click_zoom",
              "dragging",
              "fullscreen",
              "inertia",
              "inertia_deceleration",
              "inertia_max_speed",
              "interpolation",
              "keyboard",
              "keyboard_pan_offset",
              "keyboard_zoom_offset",
              "max_zoom",
              "min_zoom",
              "prefer_canvas",
              "scroll_wheel_zoom",
              "tap",
              "tap_tolerance",
              "touch_zoom",
              "world_copy_jump",
              "zoom",
              "zoom_animation_threshold",
              "zoom_delta",
              "zoom_snap"
            ],
            "panes": {},
            "prefer_canvas": false,
            "right": 1967930105,
            "scroll_wheel_zoom": false,
            "south": -30.267319058960624,
            "style": "IPY_MODEL_7191b30842fb4f77b69e63ae4d24cf0a",
            "tap": true,
            "tap_tolerance": 15,
            "top": 1263328527,
            "touch_zoom": true,
            "west": 149.89993963390592,
            "window_url": "https://hvxk6fitiud-496ff2e9c6d22116-0-colab.googleusercontent.com/outputframe.html?vrz=colab_20250429-060127_RC00_752676541",
            "world_copy_jump": false,
            "zoom": 23,
            "zoom_animation_threshold": 4,
            "zoom_delta": 1,
            "zoom_snap": 1
          }
        },
        "2a1997901afc4cab9b9a02f1f13095f8": {
          "model_module": "jupyter-leaflet",
          "model_module_version": "^0.19",
          "model_name": "LeafletAttributionControlModel",
          "state": {
            "_model_module": "jupyter-leaflet",
            "_model_module_version": "^0.19",
            "_model_name": "LeafletAttributionControlModel",
            "_view_count": null,
            "_view_module": "jupyter-leaflet",
            "_view_module_version": "^0.19",
            "_view_name": "LeafletAttributionControlView",
            "options": [
              "position",
              "prefix"
            ],
            "position": "bottomright",
            "prefix": "ipyleaflet"
          }
        },
        "2e2838ffd1884e158c918361ce6a1947": {
          "model_module": "@jupyter-widgets/output",
          "model_module_version": "1.0.0",
          "model_name": "OutputModel",
          "state": {
            "_dom_classes": [],
            "_model_module": "@jupyter-widgets/output",
            "_model_module_version": "1.0.0",
            "_model_name": "OutputModel",
            "_view_count": null,
            "_view_module": "@jupyter-widgets/output",
            "_view_module_version": "1.0.0",
            "_view_name": "OutputView",
            "layout": "IPY_MODEL_8592713bd1624194ab6fc6228acb3470",
            "msg_id": "",
            "outputs": [
              {
                "data": {
                  "text/html": "<html>\n<head><meta charset=\"utf-8\" /></head>\n<body>\n    <div>            <script src=\"https://cdnjs.cloudflare.com/ajax/libs/mathjax/2.7.5/MathJax.js?config=TeX-AMS-MML_SVG\"></script><script type=\"text/javascript\">if (window.MathJax && window.MathJax.Hub && window.MathJax.Hub.Config) {window.MathJax.Hub.Config({SVG: {font: \"STIX-Web\"}});}</script>                <script type=\"text/javascript\">window.PlotlyConfig = {MathJaxConfig: 'local'};</script>\n        <script charset=\"utf-8\" src=\"https://cdn.plot.ly/plotly-2.35.2.min.js\"></script>                <div id=\"fdd4a671-1596-4f4c-812c-d282c28cef05\" class=\"plotly-graph-div\" style=\"height:525px; width:100%;\"></div>            <script type=\"text/javascript\">                                    window.PLOTLYENV=window.PLOTLYENV || {};                                    if (document.getElementById(\"fdd4a671-1596-4f4c-812c-d282c28cef05\")) {                    Plotly.newPlot(                        \"fdd4a671-1596-4f4c-812c-d282c28cef05\",                        [{\"hovertemplate\":\"wavelength (nm)=%{x}\\u003cbr\\u003ereflectance=%{y}\\u003cextra\\u003e\\u003c\\u002fextra\\u003e\",\"legendgroup\":\"\",\"line\":{\"color\":\"#636efa\",\"dash\":\"solid\"},\"marker\":{\"symbol\":\"circle\"},\"mode\":\"lines\",\"name\":\"\",\"orientation\":\"v\",\"showlegend\":false,\"x\":[399.309,402.826,406.344,409.861,413.378,416.896,420.413,423.93,427.448,430.965,434.482,438.0,441.517,445.034,448.552,452.069,455.586,459.104,462.621,466.138,469.656,473.173,476.69,480.208,483.725,487.242,490.76,494.277,497.794,501.312,504.829,508.346,511.864,515.381,518.898,522.416,525.933,529.45,532.968,536.485,540.002,543.519,547.037,550.554,554.071,557.589,561.106,564.623,568.141,571.658,575.175,578.693,582.21,585.727,589.245,592.762,596.279,599.797,603.314,606.831,610.349,613.866,617.383,620.901,624.418,627.935,631.453,634.97,638.487,642.005,645.522,649.039,652.557,656.074,659.591,663.109,666.626,670.143,673.661,677.178,680.695,684.213,687.73,691.247,694.765,698.282,701.799,705.317,708.834,712.351,715.869,719.386,722.903,726.421,729.938,733.455,736.973,740.49,744.007,747.525,751.042,754.559,758.077,761.594,765.111,768.628,772.146,775.663,779.18,782.698,786.215,789.732,793.25,796.767,800.284,803.802,807.319,810.836,814.354,817.871,821.388,824.906,828.423,831.94,835.458,838.975,842.492,846.01,849.527,853.044,856.562,860.079,863.596,867.114,870.631,874.148,877.666,881.183,884.7,888.218,891.735,895.252,898.77,902.287,905.804,909.322,912.839,916.356,919.874,923.391,926.908,930.426,933.943,937.46,940.978,944.495,948.012,951.53,955.047,958.564,962.082,965.599,969.116,972.634,976.151,979.668,983.185,986.703,990.22,993.737,997.255,1000.77],\"xaxis\":\"x\",\"y\":[0.0473,0.0449,0.0405,0.0413,0.0388,0.041100000000000005,0.0398,0.043500000000000004,0.0451,0.0453,0.048,0.049300000000000004,0.0494,0.048600000000000004,0.0488,0.0472,0.0466,0.0483,0.0494,0.048,0.0485,0.048100000000000004,0.0476,0.049800000000000004,0.0507,0.0495,0.0466,0.0482,0.048,0.050800000000000005,0.049600000000000005,0.052000000000000005,0.0563,0.058800000000000005,0.06280000000000001,0.07010000000000001,0.0747,0.0806,0.0848,0.0901,0.0945,0.09530000000000001,0.09820000000000001,0.098,0.1012,0.101,0.0955,0.09190000000000001,0.08800000000000001,0.08410000000000001,0.0792,0.0741,0.0719,0.0702,0.0669,0.06670000000000001,0.06670000000000001,0.066,0.0644,0.06570000000000001,0.0632,0.060000000000000005,0.0589,0.0585,0.059500000000000004,0.0572,0.057100000000000005,0.058600000000000006,0.056900000000000006,0.057,0.0553,0.0529,0.0526,0.053500000000000006,0.0519,0.049100000000000005,0.0478,0.048400000000000006,0.0497,0.0488,0.051300000000000005,0.0538,0.0514,0.0562,0.0665,0.0804,0.10060000000000001,0.127,0.1552,0.1925,0.2333,0.273,0.30760000000000004,0.3567,0.38580000000000003,0.42910000000000004,0.4671,0.4897,0.5176000000000001,0.5412,0.5537000000000001,0.5602,0.6094,0.5649000000000001,0.5073,0.5438000000000001,0.5622,0.5721,0.5879,0.5884,0.5958,0.5833,0.5872,0.5766,0.5916,0.5954,0.6042000000000001,0.5859,0.5940000000000001,0.5701,0.5812,0.5777,0.5922000000000001,0.6023000000000001,0.5941000000000001,0.6044,0.5825,0.6043000000000001,0.6003000000000001,0.606,0.5894,0.5978,0.6144000000000001,0.6019,0.6028,0.6327,0.6045,0.5850000000000001,0.6051000000000001,0.6034,0.6037,0.5930000000000001,0.5946,0.5492,0.6211,0.604,0.5529000000000001,0.5404,0.6028,0.5545,0.6263000000000001,0.6353,0.5702,0.5541,0.5254,0.5056,0.4849,0.5660000000000001,0.5295,0.5136000000000001,0.4829,0.52,0.5134000000000001,0.5229,0.497,0.5285000000000001,0.4849,0.533,0.5107,0.5019,0.4761,0.48900000000000005],\"yaxis\":\"y\",\"type\":\"scatter\"}],                        {\"template\":{\"data\":{\"barpolar\":[{\"marker\":{\"line\":{\"color\":\"white\",\"width\":0.5},\"pattern\":{\"fillmode\":\"overlay\",\"size\":10,\"solidity\":0.2}},\"type\":\"barpolar\"}],\"bar\":[{\"error_x\":{\"color\":\"#2a3f5f\"},\"error_y\":{\"color\":\"#2a3f5f\"},\"marker\":{\"line\":{\"color\":\"white\",\"width\":0.5},\"pattern\":{\"fillmode\":\"overlay\",\"size\":10,\"solidity\":0.2}},\"type\":\"bar\"}],\"carpet\":[{\"aaxis\":{\"endlinecolor\":\"#2a3f5f\",\"gridcolor\":\"#C8D4E3\",\"linecolor\":\"#C8D4E3\",\"minorgridcolor\":\"#C8D4E3\",\"startlinecolor\":\"#2a3f5f\"},\"baxis\":{\"endlinecolor\":\"#2a3f5f\",\"gridcolor\":\"#C8D4E3\",\"linecolor\":\"#C8D4E3\",\"minorgridcolor\":\"#C8D4E3\",\"startlinecolor\":\"#2a3f5f\"},\"type\":\"carpet\"}],\"choropleth\":[{\"colorbar\":{\"outlinewidth\":0,\"ticks\":\"\"},\"type\":\"choropleth\"}],\"contourcarpet\":[{\"colorbar\":{\"outlinewidth\":0,\"ticks\":\"\"},\"type\":\"contourcarpet\"}],\"contour\":[{\"colorbar\":{\"outlinewidth\":0,\"ticks\":\"\"},\"colorscale\":[[0.0,\"#0d0887\"],[0.1111111111111111,\"#46039f\"],[0.2222222222222222,\"#7201a8\"],[0.3333333333333333,\"#9c179e\"],[0.4444444444444444,\"#bd3786\"],[0.5555555555555556,\"#d8576b\"],[0.6666666666666666,\"#ed7953\"],[0.7777777777777778,\"#fb9f3a\"],[0.8888888888888888,\"#fdca26\"],[1.0,\"#f0f921\"]],\"type\":\"contour\"}],\"heatmapgl\":[{\"colorbar\":{\"outlinewidth\":0,\"ticks\":\"\"},\"colorscale\":[[0.0,\"#0d0887\"],[0.1111111111111111,\"#46039f\"],[0.2222222222222222,\"#7201a8\"],[0.3333333333333333,\"#9c179e\"],[0.4444444444444444,\"#bd3786\"],[0.5555555555555556,\"#d8576b\"],[0.6666666666666666,\"#ed7953\"],[0.7777777777777778,\"#fb9f3a\"],[0.8888888888888888,\"#fdca26\"],[1.0,\"#f0f921\"]],\"type\":\"heatmapgl\"}],\"heatmap\":[{\"colorbar\":{\"outlinewidth\":0,\"ticks\":\"\"},\"colorscale\":[[0.0,\"#0d0887\"],[0.1111111111111111,\"#46039f\"],[0.2222222222222222,\"#7201a8\"],[0.3333333333333333,\"#9c179e\"],[0.4444444444444444,\"#bd3786\"],[0.5555555555555556,\"#d8576b\"],[0.6666666666666666,\"#ed7953\"],[0.7777777777777778,\"#fb9f3a\"],[0.8888888888888888,\"#fdca26\"],[1.0,\"#f0f921\"]],\"type\":\"heatmap\"}],\"histogram2dcontour\":[{\"colorbar\":{\"outlinewidth\":0,\"ticks\":\"\"},\"colorscale\":[[0.0,\"#0d0887\"],[0.1111111111111111,\"#46039f\"],[0.2222222222222222,\"#7201a8\"],[0.3333333333333333,\"#9c179e\"],[0.4444444444444444,\"#bd3786\"],[0.5555555555555556,\"#d8576b\"],[0.6666666666666666,\"#ed7953\"],[0.7777777777777778,\"#fb9f3a\"],[0.8888888888888888,\"#fdca26\"],[1.0,\"#f0f921\"]],\"type\":\"histogram2dcontour\"}],\"histogram2d\":[{\"colorbar\":{\"outlinewidth\":0,\"ticks\":\"\"},\"colorscale\":[[0.0,\"#0d0887\"],[0.1111111111111111,\"#46039f\"],[0.2222222222222222,\"#7201a8\"],[0.3333333333333333,\"#9c179e\"],[0.4444444444444444,\"#bd3786\"],[0.5555555555555556,\"#d8576b\"],[0.6666666666666666,\"#ed7953\"],[0.7777777777777778,\"#fb9f3a\"],[0.8888888888888888,\"#fdca26\"],[1.0,\"#f0f921\"]],\"type\":\"histogram2d\"}],\"histogram\":[{\"marker\":{\"pattern\":{\"fillmode\":\"overlay\",\"size\":10,\"solidity\":0.2}},\"type\":\"histogram\"}],\"mesh3d\":[{\"colorbar\":{\"outlinewidth\":0,\"ticks\":\"\"},\"type\":\"mesh3d\"}],\"parcoords\":[{\"line\":{\"colorbar\":{\"outlinewidth\":0,\"ticks\":\"\"}},\"type\":\"parcoords\"}],\"pie\":[{\"automargin\":true,\"type\":\"pie\"}],\"scatter3d\":[{\"line\":{\"colorbar\":{\"outlinewidth\":0,\"ticks\":\"\"}},\"marker\":{\"colorbar\":{\"outlinewidth\":0,\"ticks\":\"\"}},\"type\":\"scatter3d\"}],\"scattercarpet\":[{\"marker\":{\"colorbar\":{\"outlinewidth\":0,\"ticks\":\"\"}},\"type\":\"scattercarpet\"}],\"scattergeo\":[{\"marker\":{\"colorbar\":{\"outlinewidth\":0,\"ticks\":\"\"}},\"type\":\"scattergeo\"}],\"scattergl\":[{\"marker\":{\"colorbar\":{\"outlinewidth\":0,\"ticks\":\"\"}},\"type\":\"scattergl\"}],\"scattermapbox\":[{\"marker\":{\"colorbar\":{\"outlinewidth\":0,\"ticks\":\"\"}},\"type\":\"scattermapbox\"}],\"scatterpolargl\":[{\"marker\":{\"colorbar\":{\"outlinewidth\":0,\"ticks\":\"\"}},\"type\":\"scatterpolargl\"}],\"scatterpolar\":[{\"marker\":{\"colorbar\":{\"outlinewidth\":0,\"ticks\":\"\"}},\"type\":\"scatterpolar\"}],\"scatter\":[{\"fillpattern\":{\"fillmode\":\"overlay\",\"size\":10,\"solidity\":0.2},\"type\":\"scatter\"}],\"scatterternary\":[{\"marker\":{\"colorbar\":{\"outlinewidth\":0,\"ticks\":\"\"}},\"type\":\"scatterternary\"}],\"surface\":[{\"colorbar\":{\"outlinewidth\":0,\"ticks\":\"\"},\"colorscale\":[[0.0,\"#0d0887\"],[0.1111111111111111,\"#46039f\"],[0.2222222222222222,\"#7201a8\"],[0.3333333333333333,\"#9c179e\"],[0.4444444444444444,\"#bd3786\"],[0.5555555555555556,\"#d8576b\"],[0.6666666666666666,\"#ed7953\"],[0.7777777777777778,\"#fb9f3a\"],[0.8888888888888888,\"#fdca26\"],[1.0,\"#f0f921\"]],\"type\":\"surface\"}],\"table\":[{\"cells\":{\"fill\":{\"color\":\"#EBF0F8\"},\"line\":{\"color\":\"white\"}},\"header\":{\"fill\":{\"color\":\"#C8D4E3\"},\"line\":{\"color\":\"white\"}},\"type\":\"table\"}]},\"layout\":{\"annotationdefaults\":{\"arrowcolor\":\"#2a3f5f\",\"arrowhead\":0,\"arrowwidth\":1},\"autotypenumbers\":\"strict\",\"coloraxis\":{\"colorbar\":{\"outlinewidth\":0,\"ticks\":\"\"}},\"colorscale\":{\"diverging\":[[0,\"#8e0152\"],[0.1,\"#c51b7d\"],[0.2,\"#de77ae\"],[0.3,\"#f1b6da\"],[0.4,\"#fde0ef\"],[0.5,\"#f7f7f7\"],[0.6,\"#e6f5d0\"],[0.7,\"#b8e186\"],[0.8,\"#7fbc41\"],[0.9,\"#4d9221\"],[1,\"#276419\"]],\"sequential\":[[0.0,\"#0d0887\"],[0.1111111111111111,\"#46039f\"],[0.2222222222222222,\"#7201a8\"],[0.3333333333333333,\"#9c179e\"],[0.4444444444444444,\"#bd3786\"],[0.5555555555555556,\"#d8576b\"],[0.6666666666666666,\"#ed7953\"],[0.7777777777777778,\"#fb9f3a\"],[0.8888888888888888,\"#fdca26\"],[1.0,\"#f0f921\"]],\"sequentialminus\":[[0.0,\"#0d0887\"],[0.1111111111111111,\"#46039f\"],[0.2222222222222222,\"#7201a8\"],[0.3333333333333333,\"#9c179e\"],[0.4444444444444444,\"#bd3786\"],[0.5555555555555556,\"#d8576b\"],[0.6666666666666666,\"#ed7953\"],[0.7777777777777778,\"#fb9f3a\"],[0.8888888888888888,\"#fdca26\"],[1.0,\"#f0f921\"]]},\"colorway\":[\"#636efa\",\"#EF553B\",\"#00cc96\",\"#ab63fa\",\"#FFA15A\",\"#19d3f3\",\"#FF6692\",\"#B6E880\",\"#FF97FF\",\"#FECB52\"],\"font\":{\"color\":\"#2a3f5f\"},\"geo\":{\"bgcolor\":\"white\",\"lakecolor\":\"white\",\"landcolor\":\"white\",\"showlakes\":true,\"showland\":true,\"subunitcolor\":\"#C8D4E3\"},\"hoverlabel\":{\"align\":\"left\"},\"hovermode\":\"closest\",\"mapbox\":{\"style\":\"light\"},\"paper_bgcolor\":\"white\",\"plot_bgcolor\":\"white\",\"polar\":{\"angularaxis\":{\"gridcolor\":\"#EBF0F8\",\"linecolor\":\"#EBF0F8\",\"ticks\":\"\"},\"bgcolor\":\"white\",\"radialaxis\":{\"gridcolor\":\"#EBF0F8\",\"linecolor\":\"#EBF0F8\",\"ticks\":\"\"}},\"scene\":{\"xaxis\":{\"backgroundcolor\":\"white\",\"gridcolor\":\"#DFE8F3\",\"gridwidth\":2,\"linecolor\":\"#EBF0F8\",\"showbackground\":true,\"ticks\":\"\",\"zerolinecolor\":\"#EBF0F8\"},\"yaxis\":{\"backgroundcolor\":\"white\",\"gridcolor\":\"#DFE8F3\",\"gridwidth\":2,\"linecolor\":\"#EBF0F8\",\"showbackground\":true,\"ticks\":\"\",\"zerolinecolor\":\"#EBF0F8\"},\"zaxis\":{\"backgroundcolor\":\"white\",\"gridcolor\":\"#DFE8F3\",\"gridwidth\":2,\"linecolor\":\"#EBF0F8\",\"showbackground\":true,\"ticks\":\"\",\"zerolinecolor\":\"#EBF0F8\"}},\"shapedefaults\":{\"line\":{\"color\":\"#2a3f5f\"}},\"ternary\":{\"aaxis\":{\"gridcolor\":\"#DFE8F3\",\"linecolor\":\"#A2B1C6\",\"ticks\":\"\"},\"baxis\":{\"gridcolor\":\"#DFE8F3\",\"linecolor\":\"#A2B1C6\",\"ticks\":\"\"},\"bgcolor\":\"white\",\"caxis\":{\"gridcolor\":\"#DFE8F3\",\"linecolor\":\"#A2B1C6\",\"ticks\":\"\"}},\"title\":{\"x\":0.05},\"xaxis\":{\"automargin\":true,\"gridcolor\":\"#EBF0F8\",\"linecolor\":\"#EBF0F8\",\"ticks\":\"\",\"title\":{\"standoff\":15},\"zerolinecolor\":\"#EBF0F8\",\"zerolinewidth\":2},\"yaxis\":{\"automargin\":true,\"gridcolor\":\"#EBF0F8\",\"linecolor\":\"#EBF0F8\",\"ticks\":\"\",\"title\":{\"standoff\":15},\"zerolinecolor\":\"#EBF0F8\",\"zerolinewidth\":2}}},\"xaxis\":{\"anchor\":\"y\",\"domain\":[0.0,1.0],\"title\":{\"text\":\"wavelength (nm)\"}},\"yaxis\":{\"anchor\":\"x\",\"domain\":[0.0,1.0],\"title\":{\"text\":\"reflectance\"}},\"legend\":{\"tracegroupgap\":0},\"margin\":{\"t\":60}},                        {\"responsive\": true}                    ).then(function(){\n                            \nvar gd = document.getElementById('fdd4a671-1596-4f4c-812c-d282c28cef05');\nvar x = new MutationObserver(function (mutations, observer) {{\n        var display = window.getComputedStyle(gd).display;\n        if (!display || display === 'none') {{\n            console.log([gd, 'removed!']);\n            Plotly.purge(gd);\n            observer.disconnect();\n        }}\n}});\n\n// Listen for the removal of the full notebook cells\nvar notebookContainer = gd.closest('#notebook-container');\nif (notebookContainer) {{\n    x.observe(notebookContainer, {childList: true});\n}}\n\n// Listen for the clearing of the current output cell\nvar outputEl = gd.closest('.output');\nif (outputEl) {{\n    x.observe(outputEl, {childList: true});\n}}\n\n                        })                };                            </script>        </div>\n</body>\n</html>"
                },
                "metadata": {},
                "output_type": "display_data"
              }
            ]
          }
        },
        "322697721ce54f659e45a989e157ac71": {
          "model_module": "jupyter-leaflet",
          "model_module_version": "^0.19",
          "model_name": "LeafletMapStyleModel",
          "state": {
            "_model_module": "jupyter-leaflet",
            "_model_module_version": "^0.19",
            "_model_name": "LeafletMapStyleModel",
            "_view_count": null,
            "_view_module": "@jupyter-widgets/base",
            "_view_module_version": "1.2.0",
            "_view_name": "StyleView",
            "cursor": "move"
          }
        },
        "39087b25322b425db02a6f6f84164f65": {
          "model_module": "jupyter-leaflet",
          "model_module_version": "^0.19",
          "model_name": "LeafletMapStyleModel",
          "state": {
            "_model_module": "jupyter-leaflet",
            "_model_module_version": "^0.19",
            "_model_name": "LeafletMapStyleModel",
            "_view_count": null,
            "_view_module": "@jupyter-widgets/base",
            "_view_module_version": "1.2.0",
            "_view_name": "StyleView",
            "cursor": "grab"
          }
        },
        "404bc9b9f477499ab849e79fac93b0b6": {
          "model_module": "jupyter-leaflet",
          "model_module_version": "^0.19",
          "model_name": "LeafletAttributionControlModel",
          "state": {
            "_model_module": "jupyter-leaflet",
            "_model_module_version": "^0.19",
            "_model_name": "LeafletAttributionControlModel",
            "_view_count": null,
            "_view_module": "jupyter-leaflet",
            "_view_module_version": "^0.19",
            "_view_name": "LeafletAttributionControlView",
            "options": [
              "position",
              "prefix"
            ],
            "position": "bottomright",
            "prefix": "ipyleaflet"
          }
        },
        "4143870a2a054d88b6377ee3042f2eb2": {
          "model_module": "jupyter-leaflet",
          "model_module_version": "^0.19",
          "model_name": "LeafletTileLayerModel",
          "state": {
            "_model_module": "jupyter-leaflet",
            "_model_module_version": "^0.19",
            "_model_name": "LeafletTileLayerModel",
            "_view_count": null,
            "_view_module": "jupyter-leaflet",
            "_view_module_version": "^0.19",
            "_view_name": "LeafletTileLayerView",
            "attribution": "&copy; <a href=\"https://www.openstreetmap.org/copyright\">OpenStreetMap</a> contributors",
            "base": true,
            "bottom": true,
            "bounds": null,
            "detect_retina": false,
            "loading": false,
            "max_native_zoom": null,
            "max_zoom": 19,
            "min_native_zoom": null,
            "min_zoom": 1,
            "name": "OpenStreetMap.Mapnik",
            "no_wrap": false,
            "opacity": 1,
            "options": [
              "attribution",
              "bounds",
              "detect_retina",
              "max_native_zoom",
              "max_zoom",
              "min_native_zoom",
              "min_zoom",
              "no_wrap",
              "tile_size",
              "tms",
              "zoom_offset"
            ],
            "pane": "",
            "popup": null,
            "popup_max_height": null,
            "popup_max_width": 300,
            "popup_min_width": 50,
            "show_loading": false,
            "subitems": [],
            "tile_size": 256,
            "tms": false,
            "url": "https://tile.openstreetmap.org/{z}/{x}/{y}.png",
            "visible": true,
            "zoom_offset": 0
          }
        },
        "505e986f74114f3c84e0f54761d9691f": {
          "model_module": "@jupyter-widgets/base",
          "model_module_version": "1.2.0",
          "model_name": "LayoutModel",
          "state": {
            "_model_module": "@jupyter-widgets/base",
            "_model_module_version": "1.2.0",
            "_model_name": "LayoutModel",
            "_view_count": null,
            "_view_module": "@jupyter-widgets/base",
            "_view_module_version": "1.2.0",
            "_view_name": "LayoutView",
            "align_content": null,
            "align_items": null,
            "align_self": null,
            "border": null,
            "bottom": null,
            "display": null,
            "flex": null,
            "flex_flow": null,
            "grid_area": null,
            "grid_auto_columns": null,
            "grid_auto_flow": null,
            "grid_auto_rows": null,
            "grid_column": null,
            "grid_gap": null,
            "grid_row": null,
            "grid_template_areas": null,
            "grid_template_columns": null,
            "grid_template_rows": null,
            "height": null,
            "justify_content": null,
            "justify_items": null,
            "left": null,
            "margin": null,
            "max_height": null,
            "max_width": null,
            "min_height": null,
            "min_width": null,
            "object_fit": null,
            "object_position": null,
            "order": null,
            "overflow": null,
            "overflow_x": null,
            "overflow_y": null,
            "padding": null,
            "right": null,
            "top": null,
            "visibility": null,
            "width": null
          }
        },
        "551a000e2a0b456fbdcbba79bf6ff8a9": {
          "model_module": "jupyter-leaflet",
          "model_module_version": "^0.19",
          "model_name": "LeafletTileLayerModel",
          "state": {
            "_model_module": "jupyter-leaflet",
            "_model_module_version": "^0.19",
            "_model_name": "LeafletTileLayerModel",
            "_view_count": null,
            "_view_module": "jupyter-leaflet",
            "_view_module_version": "^0.19",
            "_view_name": "LeafletTileLayerView",
            "attribution": "&copy; <a href=\"https://www.openstreetmap.org/copyright\">OpenStreetMap</a> contributors",
            "base": true,
            "bottom": true,
            "bounds": null,
            "detect_retina": false,
            "loading": false,
            "max_native_zoom": null,
            "max_zoom": 19,
            "min_native_zoom": null,
            "min_zoom": 1,
            "name": "OpenStreetMap.Mapnik",
            "no_wrap": false,
            "opacity": 1,
            "options": [
              "attribution",
              "bounds",
              "detect_retina",
              "max_native_zoom",
              "max_zoom",
              "min_native_zoom",
              "min_zoom",
              "no_wrap",
              "tile_size",
              "tms",
              "zoom_offset"
            ],
            "pane": "",
            "popup": null,
            "popup_max_height": null,
            "popup_max_width": 300,
            "popup_min_width": 50,
            "show_loading": false,
            "subitems": [],
            "tile_size": 256,
            "tms": false,
            "url": "https://tile.openstreetmap.org/{z}/{x}/{y}.png",
            "visible": true,
            "zoom_offset": 0
          }
        },
        "61634e7d80cd4c25ae61efe9c2007cd3": {
          "model_module": "jupyter-leaflet",
          "model_module_version": "^0.19",
          "model_name": "LeafletZoomControlModel",
          "state": {
            "_model_module": "jupyter-leaflet",
            "_model_module_version": "^0.19",
            "_model_name": "LeafletZoomControlModel",
            "_view_count": null,
            "_view_module": "jupyter-leaflet",
            "_view_module_version": "^0.19",
            "_view_name": "LeafletZoomControlView",
            "options": [
              "position",
              "zoom_in_text",
              "zoom_in_title",
              "zoom_out_text",
              "zoom_out_title"
            ],
            "position": "topleft",
            "zoom_in_text": "+",
            "zoom_in_title": "Zoom in",
            "zoom_out_text": "-",
            "zoom_out_title": "Zoom out"
          }
        },
        "69d94e75020b48438f5baf684429886f": {
          "model_module": "jupyter-leaflet",
          "model_module_version": "^0.19",
          "model_name": "LeafletZoomControlModel",
          "state": {
            "_model_module": "jupyter-leaflet",
            "_model_module_version": "^0.19",
            "_model_name": "LeafletZoomControlModel",
            "_view_count": null,
            "_view_module": "jupyter-leaflet",
            "_view_module_version": "^0.19",
            "_view_name": "LeafletZoomControlView",
            "options": [
              "position",
              "zoom_in_text",
              "zoom_in_title",
              "zoom_out_text",
              "zoom_out_title"
            ],
            "position": "topleft",
            "zoom_in_text": "+",
            "zoom_in_title": "Zoom in",
            "zoom_out_text": "-",
            "zoom_out_title": "Zoom out"
          }
        },
        "6b20bbb36acf4010a121c68bbf15a6ae": {
          "model_module": "@jupyter-widgets/controls",
          "model_module_version": "1.5.0",
          "model_name": "HBoxModel",
          "state": {
            "_dom_classes": [],
            "_model_module": "@jupyter-widgets/controls",
            "_model_module_version": "1.5.0",
            "_model_name": "HBoxModel",
            "_view_count": null,
            "_view_module": "@jupyter-widgets/controls",
            "_view_module_version": "1.5.0",
            "_view_name": "HBoxView",
            "box_style": "",
            "children": [
              "IPY_MODEL_f06b769754094641b785fc7852a27ad2",
              "IPY_MODEL_2e2838ffd1884e158c918361ce6a1947"
            ],
            "layout": "IPY_MODEL_9fe8ce7f7662455194dec1aeed50d33a"
          }
        },
        "7191b30842fb4f77b69e63ae4d24cf0a": {
          "model_module": "jupyter-leaflet",
          "model_module_version": "^0.19",
          "model_name": "LeafletMapStyleModel",
          "state": {
            "_model_module": "jupyter-leaflet",
            "_model_module_version": "^0.19",
            "_model_name": "LeafletMapStyleModel",
            "_view_count": null,
            "_view_module": "@jupyter-widgets/base",
            "_view_module_version": "1.2.0",
            "_view_name": "StyleView",
            "cursor": "grab"
          }
        },
        "7e8f732292644715b93ec86e693dc92b": {
          "model_module": "@jupyter-widgets/output",
          "model_module_version": "1.0.0",
          "model_name": "OutputModel",
          "state": {
            "_dom_classes": [],
            "_model_module": "@jupyter-widgets/output",
            "_model_module_version": "1.0.0",
            "_model_name": "OutputModel",
            "_view_count": null,
            "_view_module": "@jupyter-widgets/output",
            "_view_module_version": "1.0.0",
            "_view_name": "OutputView",
            "layout": "IPY_MODEL_505e986f74114f3c84e0f54761d9691f",
            "msg_id": "",
            "outputs": [
              {
                "data": {
                  "text/html": "<html>\n<head><meta charset=\"utf-8\" /></head>\n<body>\n    <div>            <script src=\"https://cdnjs.cloudflare.com/ajax/libs/mathjax/2.7.5/MathJax.js?config=TeX-AMS-MML_SVG\"></script><script type=\"text/javascript\">if (window.MathJax && window.MathJax.Hub && window.MathJax.Hub.Config) {window.MathJax.Hub.Config({SVG: {font: \"STIX-Web\"}});}</script>                <script type=\"text/javascript\">window.PlotlyConfig = {MathJaxConfig: 'local'};</script>\n        <script charset=\"utf-8\" src=\"https://cdn.plot.ly/plotly-2.35.2.min.js\"></script>                <div id=\"c3d98739-8d12-4b83-8be1-213b3a934896\" class=\"plotly-graph-div\" style=\"height:525px; width:100%;\"></div>            <script type=\"text/javascript\">                                    window.PLOTLYENV=window.PLOTLYENV || {};                                    if (document.getElementById(\"c3d98739-8d12-4b83-8be1-213b3a934896\")) {                    Plotly.newPlot(                        \"c3d98739-8d12-4b83-8be1-213b3a934896\",                        [{\"hovertemplate\":\"wavelength (nm)=%{x}\\u003cbr\\u003ereflectance=%{y}\\u003cextra\\u003e\\u003c\\u002fextra\\u003e\",\"legendgroup\":\"\",\"line\":{\"color\":\"#636efa\",\"dash\":\"solid\"},\"marker\":{\"symbol\":\"circle\"},\"mode\":\"lines\",\"name\":\"\",\"orientation\":\"v\",\"showlegend\":false,\"x\":[399.309,402.826,406.344,409.861,413.378,416.896,420.413,423.93,427.448,430.965,434.482,438.0,441.517,445.034,448.552,452.069,455.586,459.104,462.621,466.138,469.656,473.173,476.69,480.208,483.725,487.242,490.76,494.277,497.794,501.312,504.829,508.346,511.864,515.381,518.898,522.416,525.933,529.45,532.968,536.485,540.002,543.519,547.037,550.554,554.071,557.589,561.106,564.623,568.141,571.658,575.175,578.693,582.21,585.727,589.245,592.762,596.279,599.797,603.314,606.831,610.349,613.866,617.383,620.901,624.418,627.935,631.453,634.97,638.487,642.005,645.522,649.039,652.557,656.074,659.591,663.109,666.626,670.143,673.661,677.178,680.695,684.213,687.73,691.247,694.765,698.282,701.799,705.317,708.834,712.351,715.869,719.386,722.903,726.421,729.938,733.455,736.973,740.49,744.007,747.525,751.042,754.559,758.077,761.594,765.111,768.628,772.146,775.663,779.18,782.698,786.215,789.732,793.25,796.767,800.284,803.802,807.319,810.836,814.354,817.871,821.388,824.906,828.423,831.94,835.458,838.975,842.492,846.01,849.527,853.044,856.562,860.079,863.596,867.114,870.631,874.148,877.666,881.183,884.7,888.218,891.735,895.252,898.77,902.287,905.804,909.322,912.839,916.356,919.874,923.391,926.908,930.426,933.943,937.46,940.978,944.495,948.012,951.53,955.047,958.564,962.082,965.599,969.116,972.634,976.151,979.668,983.185,986.703,990.22,993.737,997.255,1000.77],\"xaxis\":\"x\",\"y\":[0.04286090909090909,0.04031909090909091,0.038279545454545455,0.03674227272727273,0.035707272727272726,0.03519437500000011,0.03586937500000012,0.03641000000000011,0.03721125000000012,0.03769687500000012,0.03811687500000013,0.03837437500000013,0.03869875000000013,0.03888500000000012,0.039040625000000134,0.03916500000000013,0.03936625000000013,0.039602500000000124,0.040053125000000134,0.04045625000000013,0.04091500000000013,0.04146250000000013,0.041716250000000135,0.041850625000000134,0.04202687500000014,0.041603750000000134,0.04146000000000013,0.04150812500000013,0.04177687500000014,0.042103750000000134,0.04328500000000014,0.04491000000000015,0.04758750000000015,0.05105937500000017,0.05459875000000018,0.058686875000000194,0.0631437500000002,0.06708875000000021,0.06988000000000022,0.07221375000000023,0.07376875000000024,0.07555687500000025,0.07612312500000024,0.07631625000000025,0.07610625000000024,0.07543437500000023,0.07372687500000022,0.07068562500000022,0.06728625000000021,0.06386062500000021,0.0610937500000002,0.0588262500000002,0.057186875000000185,0.055954375000000174,0.05530562500000018,0.05448625000000017,0.05402187500000017,0.05295875000000018,0.05169125000000017,0.050678125000000164,0.050333750000000156,0.04917750000000016,0.04800312500000015,0.047361250000000146,0.047071250000000155,0.04722625000000016,0.04652562500000015,0.046091250000000146,0.04576250000000015,0.045155000000000146,0.04421125000000014,0.04322562500000014,0.04254500000000014,0.04192875000000013,0.04123625000000014,0.04067375000000013,0.04069250000000013,0.040744375000000124,0.04066187500000014,0.04102375000000014,0.04218312500000014,0.04393875000000015,0.04717375000000016,0.05235375000000018,0.06119937500000021,0.07341937500000024,0.0880837500000003,0.10733812500000035,0.13101250000000045,0.15824000000000052,0.1871400000000006,0.21769875000000072,0.24782125000000083,0.27944500000000094,0.307944375000001,0.33364687500000106,0.3553906250000011,0.3749600000000012,0.39626687500000124,0.41452562500000134,0.42145687500000145,0.42361812500000134,0.4243918750000013,0.4227406250000013,0.42288562500000143,0.4186800000000014,0.4232356250000014,0.4300162500000014,0.43568062500000143,0.4345412500000014,0.43433437500000144,0.4345106250000014,0.4344400000000014,0.4362543750000014,0.4385525000000014,0.4406743750000014,0.43665562500000143,0.4349093750000013,0.43211250000000145,0.4338375000000014,0.4314643750000014,0.4315400000000014,0.43376000000000137,0.4426443750000014,0.4443143750000015,0.4481956250000015,0.45215000000000144,0.4544731250000015,0.45979312500000147,0.4565825000000014,0.4533337500000014,0.45183250000000147,0.45270062500000147,0.4517987500000014,0.4503906250000015,0.44916750000000144,0.4489450000000015,0.4511493750000014,0.4525012500000015,0.45572562500000147,0.4558512500000015,0.45244937500000143,0.4501681250000014,0.4470956250000014,0.44343062500000147,0.4385162500000015,0.4453625000000014,0.4522087500000015,0.45763375000000145,0.44543062500000147,0.42817062500000147,0.41472625000000135,0.40966062500000133,0.39588937500000126,0.39011250000000125,0.38837187500000125,0.39495625000000123,0.39692937500000125,0.40143437500000123,0.39825437500000127,0.40036312500000126,0.41523937500000135,0.4165612500000014,0.4198868750000014,0.4083481250000014,0.4181843750000014,0.4172168750000014,0.4155836363636364,0.41109954545454547,0.4049919696969697,0.3972609090909091,0.3879063636363636],\"yaxis\":\"y\",\"type\":\"scatter\"}],                        {\"template\":{\"data\":{\"barpolar\":[{\"marker\":{\"line\":{\"color\":\"white\",\"width\":0.5},\"pattern\":{\"fillmode\":\"overlay\",\"size\":10,\"solidity\":0.2}},\"type\":\"barpolar\"}],\"bar\":[{\"error_x\":{\"color\":\"#2a3f5f\"},\"error_y\":{\"color\":\"#2a3f5f\"},\"marker\":{\"line\":{\"color\":\"white\",\"width\":0.5},\"pattern\":{\"fillmode\":\"overlay\",\"size\":10,\"solidity\":0.2}},\"type\":\"bar\"}],\"carpet\":[{\"aaxis\":{\"endlinecolor\":\"#2a3f5f\",\"gridcolor\":\"#C8D4E3\",\"linecolor\":\"#C8D4E3\",\"minorgridcolor\":\"#C8D4E3\",\"startlinecolor\":\"#2a3f5f\"},\"baxis\":{\"endlinecolor\":\"#2a3f5f\",\"gridcolor\":\"#C8D4E3\",\"linecolor\":\"#C8D4E3\",\"minorgridcolor\":\"#C8D4E3\",\"startlinecolor\":\"#2a3f5f\"},\"type\":\"carpet\"}],\"choropleth\":[{\"colorbar\":{\"outlinewidth\":0,\"ticks\":\"\"},\"type\":\"choropleth\"}],\"contourcarpet\":[{\"colorbar\":{\"outlinewidth\":0,\"ticks\":\"\"},\"type\":\"contourcarpet\"}],\"contour\":[{\"colorbar\":{\"outlinewidth\":0,\"ticks\":\"\"},\"colorscale\":[[0.0,\"#0d0887\"],[0.1111111111111111,\"#46039f\"],[0.2222222222222222,\"#7201a8\"],[0.3333333333333333,\"#9c179e\"],[0.4444444444444444,\"#bd3786\"],[0.5555555555555556,\"#d8576b\"],[0.6666666666666666,\"#ed7953\"],[0.7777777777777778,\"#fb9f3a\"],[0.8888888888888888,\"#fdca26\"],[1.0,\"#f0f921\"]],\"type\":\"contour\"}],\"heatmapgl\":[{\"colorbar\":{\"outlinewidth\":0,\"ticks\":\"\"},\"colorscale\":[[0.0,\"#0d0887\"],[0.1111111111111111,\"#46039f\"],[0.2222222222222222,\"#7201a8\"],[0.3333333333333333,\"#9c179e\"],[0.4444444444444444,\"#bd3786\"],[0.5555555555555556,\"#d8576b\"],[0.6666666666666666,\"#ed7953\"],[0.7777777777777778,\"#fb9f3a\"],[0.8888888888888888,\"#fdca26\"],[1.0,\"#f0f921\"]],\"type\":\"heatmapgl\"}],\"heatmap\":[{\"colorbar\":{\"outlinewidth\":0,\"ticks\":\"\"},\"colorscale\":[[0.0,\"#0d0887\"],[0.1111111111111111,\"#46039f\"],[0.2222222222222222,\"#7201a8\"],[0.3333333333333333,\"#9c179e\"],[0.4444444444444444,\"#bd3786\"],[0.5555555555555556,\"#d8576b\"],[0.6666666666666666,\"#ed7953\"],[0.7777777777777778,\"#fb9f3a\"],[0.8888888888888888,\"#fdca26\"],[1.0,\"#f0f921\"]],\"type\":\"heatmap\"}],\"histogram2dcontour\":[{\"colorbar\":{\"outlinewidth\":0,\"ticks\":\"\"},\"colorscale\":[[0.0,\"#0d0887\"],[0.1111111111111111,\"#46039f\"],[0.2222222222222222,\"#7201a8\"],[0.3333333333333333,\"#9c179e\"],[0.4444444444444444,\"#bd3786\"],[0.5555555555555556,\"#d8576b\"],[0.6666666666666666,\"#ed7953\"],[0.7777777777777778,\"#fb9f3a\"],[0.8888888888888888,\"#fdca26\"],[1.0,\"#f0f921\"]],\"type\":\"histogram2dcontour\"}],\"histogram2d\":[{\"colorbar\":{\"outlinewidth\":0,\"ticks\":\"\"},\"colorscale\":[[0.0,\"#0d0887\"],[0.1111111111111111,\"#46039f\"],[0.2222222222222222,\"#7201a8\"],[0.3333333333333333,\"#9c179e\"],[0.4444444444444444,\"#bd3786\"],[0.5555555555555556,\"#d8576b\"],[0.6666666666666666,\"#ed7953\"],[0.7777777777777778,\"#fb9f3a\"],[0.8888888888888888,\"#fdca26\"],[1.0,\"#f0f921\"]],\"type\":\"histogram2d\"}],\"histogram\":[{\"marker\":{\"pattern\":{\"fillmode\":\"overlay\",\"size\":10,\"solidity\":0.2}},\"type\":\"histogram\"}],\"mesh3d\":[{\"colorbar\":{\"outlinewidth\":0,\"ticks\":\"\"},\"type\":\"mesh3d\"}],\"parcoords\":[{\"line\":{\"colorbar\":{\"outlinewidth\":0,\"ticks\":\"\"}},\"type\":\"parcoords\"}],\"pie\":[{\"automargin\":true,\"type\":\"pie\"}],\"scatter3d\":[{\"line\":{\"colorbar\":{\"outlinewidth\":0,\"ticks\":\"\"}},\"marker\":{\"colorbar\":{\"outlinewidth\":0,\"ticks\":\"\"}},\"type\":\"scatter3d\"}],\"scattercarpet\":[{\"marker\":{\"colorbar\":{\"outlinewidth\":0,\"ticks\":\"\"}},\"type\":\"scattercarpet\"}],\"scattergeo\":[{\"marker\":{\"colorbar\":{\"outlinewidth\":0,\"ticks\":\"\"}},\"type\":\"scattergeo\"}],\"scattergl\":[{\"marker\":{\"colorbar\":{\"outlinewidth\":0,\"ticks\":\"\"}},\"type\":\"scattergl\"}],\"scattermapbox\":[{\"marker\":{\"colorbar\":{\"outlinewidth\":0,\"ticks\":\"\"}},\"type\":\"scattermapbox\"}],\"scatterpolargl\":[{\"marker\":{\"colorbar\":{\"outlinewidth\":0,\"ticks\":\"\"}},\"type\":\"scatterpolargl\"}],\"scatterpolar\":[{\"marker\":{\"colorbar\":{\"outlinewidth\":0,\"ticks\":\"\"}},\"type\":\"scatterpolar\"}],\"scatter\":[{\"fillpattern\":{\"fillmode\":\"overlay\",\"size\":10,\"solidity\":0.2},\"type\":\"scatter\"}],\"scatterternary\":[{\"marker\":{\"colorbar\":{\"outlinewidth\":0,\"ticks\":\"\"}},\"type\":\"scatterternary\"}],\"surface\":[{\"colorbar\":{\"outlinewidth\":0,\"ticks\":\"\"},\"colorscale\":[[0.0,\"#0d0887\"],[0.1111111111111111,\"#46039f\"],[0.2222222222222222,\"#7201a8\"],[0.3333333333333333,\"#9c179e\"],[0.4444444444444444,\"#bd3786\"],[0.5555555555555556,\"#d8576b\"],[0.6666666666666666,\"#ed7953\"],[0.7777777777777778,\"#fb9f3a\"],[0.8888888888888888,\"#fdca26\"],[1.0,\"#f0f921\"]],\"type\":\"surface\"}],\"table\":[{\"cells\":{\"fill\":{\"color\":\"#EBF0F8\"},\"line\":{\"color\":\"white\"}},\"header\":{\"fill\":{\"color\":\"#C8D4E3\"},\"line\":{\"color\":\"white\"}},\"type\":\"table\"}]},\"layout\":{\"annotationdefaults\":{\"arrowcolor\":\"#2a3f5f\",\"arrowhead\":0,\"arrowwidth\":1},\"autotypenumbers\":\"strict\",\"coloraxis\":{\"colorbar\":{\"outlinewidth\":0,\"ticks\":\"\"}},\"colorscale\":{\"diverging\":[[0,\"#8e0152\"],[0.1,\"#c51b7d\"],[0.2,\"#de77ae\"],[0.3,\"#f1b6da\"],[0.4,\"#fde0ef\"],[0.5,\"#f7f7f7\"],[0.6,\"#e6f5d0\"],[0.7,\"#b8e186\"],[0.8,\"#7fbc41\"],[0.9,\"#4d9221\"],[1,\"#276419\"]],\"sequential\":[[0.0,\"#0d0887\"],[0.1111111111111111,\"#46039f\"],[0.2222222222222222,\"#7201a8\"],[0.3333333333333333,\"#9c179e\"],[0.4444444444444444,\"#bd3786\"],[0.5555555555555556,\"#d8576b\"],[0.6666666666666666,\"#ed7953\"],[0.7777777777777778,\"#fb9f3a\"],[0.8888888888888888,\"#fdca26\"],[1.0,\"#f0f921\"]],\"sequentialminus\":[[0.0,\"#0d0887\"],[0.1111111111111111,\"#46039f\"],[0.2222222222222222,\"#7201a8\"],[0.3333333333333333,\"#9c179e\"],[0.4444444444444444,\"#bd3786\"],[0.5555555555555556,\"#d8576b\"],[0.6666666666666666,\"#ed7953\"],[0.7777777777777778,\"#fb9f3a\"],[0.8888888888888888,\"#fdca26\"],[1.0,\"#f0f921\"]]},\"colorway\":[\"#636efa\",\"#EF553B\",\"#00cc96\",\"#ab63fa\",\"#FFA15A\",\"#19d3f3\",\"#FF6692\",\"#B6E880\",\"#FF97FF\",\"#FECB52\"],\"font\":{\"color\":\"#2a3f5f\"},\"geo\":{\"bgcolor\":\"white\",\"lakecolor\":\"white\",\"landcolor\":\"white\",\"showlakes\":true,\"showland\":true,\"subunitcolor\":\"#C8D4E3\"},\"hoverlabel\":{\"align\":\"left\"},\"hovermode\":\"closest\",\"mapbox\":{\"style\":\"light\"},\"paper_bgcolor\":\"white\",\"plot_bgcolor\":\"white\",\"polar\":{\"angularaxis\":{\"gridcolor\":\"#EBF0F8\",\"linecolor\":\"#EBF0F8\",\"ticks\":\"\"},\"bgcolor\":\"white\",\"radialaxis\":{\"gridcolor\":\"#EBF0F8\",\"linecolor\":\"#EBF0F8\",\"ticks\":\"\"}},\"scene\":{\"xaxis\":{\"backgroundcolor\":\"white\",\"gridcolor\":\"#DFE8F3\",\"gridwidth\":2,\"linecolor\":\"#EBF0F8\",\"showbackground\":true,\"ticks\":\"\",\"zerolinecolor\":\"#EBF0F8\"},\"yaxis\":{\"backgroundcolor\":\"white\",\"gridcolor\":\"#DFE8F3\",\"gridwidth\":2,\"linecolor\":\"#EBF0F8\",\"showbackground\":true,\"ticks\":\"\",\"zerolinecolor\":\"#EBF0F8\"},\"zaxis\":{\"backgroundcolor\":\"white\",\"gridcolor\":\"#DFE8F3\",\"gridwidth\":2,\"linecolor\":\"#EBF0F8\",\"showbackground\":true,\"ticks\":\"\",\"zerolinecolor\":\"#EBF0F8\"}},\"shapedefaults\":{\"line\":{\"color\":\"#2a3f5f\"}},\"ternary\":{\"aaxis\":{\"gridcolor\":\"#DFE8F3\",\"linecolor\":\"#A2B1C6\",\"ticks\":\"\"},\"baxis\":{\"gridcolor\":\"#DFE8F3\",\"linecolor\":\"#A2B1C6\",\"ticks\":\"\"},\"bgcolor\":\"white\",\"caxis\":{\"gridcolor\":\"#DFE8F3\",\"linecolor\":\"#A2B1C6\",\"ticks\":\"\"}},\"title\":{\"x\":0.05},\"xaxis\":{\"automargin\":true,\"gridcolor\":\"#EBF0F8\",\"linecolor\":\"#EBF0F8\",\"ticks\":\"\",\"title\":{\"standoff\":15},\"zerolinecolor\":\"#EBF0F8\",\"zerolinewidth\":2},\"yaxis\":{\"automargin\":true,\"gridcolor\":\"#EBF0F8\",\"linecolor\":\"#EBF0F8\",\"ticks\":\"\",\"title\":{\"standoff\":15},\"zerolinecolor\":\"#EBF0F8\",\"zerolinewidth\":2}}},\"xaxis\":{\"anchor\":\"y\",\"domain\":[0.0,1.0],\"title\":{\"text\":\"wavelength (nm)\"}},\"yaxis\":{\"anchor\":\"x\",\"domain\":[0.0,1.0],\"title\":{\"text\":\"reflectance\"}},\"legend\":{\"tracegroupgap\":0},\"margin\":{\"t\":60}},                        {\"responsive\": true}                    ).then(function(){\n                            \nvar gd = document.getElementById('c3d98739-8d12-4b83-8be1-213b3a934896');\nvar x = new MutationObserver(function (mutations, observer) {{\n        var display = window.getComputedStyle(gd).display;\n        if (!display || display === 'none') {{\n            console.log([gd, 'removed!']);\n            Plotly.purge(gd);\n            observer.disconnect();\n        }}\n}});\n\n// Listen for the removal of the full notebook cells\nvar notebookContainer = gd.closest('#notebook-container');\nif (notebookContainer) {{\n    x.observe(notebookContainer, {childList: true});\n}}\n\n// Listen for the clearing of the current output cell\nvar outputEl = gd.closest('.output');\nif (outputEl) {{\n    x.observe(outputEl, {childList: true});\n}}\n\n                        })                };                            </script>        </div>\n</body>\n</html>"
                },
                "metadata": {},
                "output_type": "display_data"
              }
            ]
          }
        },
        "8592713bd1624194ab6fc6228acb3470": {
          "model_module": "@jupyter-widgets/base",
          "model_module_version": "1.2.0",
          "model_name": "LayoutModel",
          "state": {
            "_model_module": "@jupyter-widgets/base",
            "_model_module_version": "1.2.0",
            "_model_name": "LayoutModel",
            "_view_count": null,
            "_view_module": "@jupyter-widgets/base",
            "_view_module_version": "1.2.0",
            "_view_name": "LayoutView",
            "align_content": null,
            "align_items": null,
            "align_self": null,
            "border": null,
            "bottom": null,
            "display": null,
            "flex": null,
            "flex_flow": null,
            "grid_area": null,
            "grid_auto_columns": null,
            "grid_auto_flow": null,
            "grid_auto_rows": null,
            "grid_column": null,
            "grid_gap": null,
            "grid_row": null,
            "grid_template_areas": null,
            "grid_template_columns": null,
            "grid_template_rows": null,
            "height": null,
            "justify_content": null,
            "justify_items": null,
            "left": null,
            "margin": null,
            "max_height": null,
            "max_width": null,
            "min_height": null,
            "min_width": null,
            "object_fit": null,
            "object_position": null,
            "order": null,
            "overflow": null,
            "overflow_x": null,
            "overflow_y": null,
            "padding": null,
            "right": null,
            "top": null,
            "visibility": null,
            "width": null
          }
        },
        "949e43c90a634106aa7f546d0f85aca3": {
          "model_module": "@jupyter-widgets/base",
          "model_module_version": "1.2.0",
          "model_name": "LayoutModel",
          "state": {
            "_model_module": "@jupyter-widgets/base",
            "_model_module_version": "1.2.0",
            "_model_name": "LayoutModel",
            "_view_count": null,
            "_view_module": "@jupyter-widgets/base",
            "_view_module_version": "1.2.0",
            "_view_name": "LayoutView",
            "align_content": null,
            "align_items": null,
            "align_self": null,
            "border": null,
            "bottom": null,
            "display": null,
            "flex": null,
            "flex_flow": null,
            "grid_area": null,
            "grid_auto_columns": null,
            "grid_auto_flow": null,
            "grid_auto_rows": null,
            "grid_column": null,
            "grid_gap": null,
            "grid_row": null,
            "grid_template_areas": null,
            "grid_template_columns": null,
            "grid_template_rows": null,
            "height": null,
            "justify_content": null,
            "justify_items": null,
            "left": null,
            "margin": null,
            "max_height": null,
            "max_width": null,
            "min_height": null,
            "min_width": null,
            "object_fit": null,
            "object_position": null,
            "order": null,
            "overflow": null,
            "overflow_x": null,
            "overflow_y": null,
            "padding": null,
            "right": null,
            "top": null,
            "visibility": null,
            "width": null
          }
        },
        "9fd447752a7c4c68ba1363b42c3cf924": {
          "model_module": "@jupyter-widgets/base",
          "model_module_version": "1.2.0",
          "model_name": "LayoutModel",
          "state": {
            "_model_module": "@jupyter-widgets/base",
            "_model_module_version": "1.2.0",
            "_model_name": "LayoutModel",
            "_view_count": null,
            "_view_module": "@jupyter-widgets/base",
            "_view_module_version": "1.2.0",
            "_view_name": "LayoutView",
            "align_content": null,
            "align_items": null,
            "align_self": null,
            "border": null,
            "bottom": null,
            "display": null,
            "flex": null,
            "flex_flow": null,
            "grid_area": null,
            "grid_auto_columns": null,
            "grid_auto_flow": null,
            "grid_auto_rows": null,
            "grid_column": null,
            "grid_gap": null,
            "grid_row": null,
            "grid_template_areas": null,
            "grid_template_columns": null,
            "grid_template_rows": null,
            "height": null,
            "justify_content": null,
            "justify_items": null,
            "left": null,
            "margin": null,
            "max_height": null,
            "max_width": null,
            "min_height": null,
            "min_width": null,
            "object_fit": null,
            "object_position": null,
            "order": null,
            "overflow": null,
            "overflow_x": null,
            "overflow_y": null,
            "padding": null,
            "right": null,
            "top": null,
            "visibility": null,
            "width": null
          }
        },
        "9fe8ce7f7662455194dec1aeed50d33a": {
          "model_module": "@jupyter-widgets/base",
          "model_module_version": "1.2.0",
          "model_name": "LayoutModel",
          "state": {
            "_model_module": "@jupyter-widgets/base",
            "_model_module_version": "1.2.0",
            "_model_name": "LayoutModel",
            "_view_count": null,
            "_view_module": "@jupyter-widgets/base",
            "_view_module_version": "1.2.0",
            "_view_name": "LayoutView",
            "align_content": null,
            "align_items": null,
            "align_self": null,
            "border": null,
            "bottom": null,
            "display": null,
            "flex": null,
            "flex_flow": null,
            "grid_area": null,
            "grid_auto_columns": null,
            "grid_auto_flow": null,
            "grid_auto_rows": null,
            "grid_column": null,
            "grid_gap": null,
            "grid_row": null,
            "grid_template_areas": null,
            "grid_template_columns": null,
            "grid_template_rows": null,
            "height": null,
            "justify_content": null,
            "justify_items": null,
            "left": null,
            "margin": null,
            "max_height": null,
            "max_width": null,
            "min_height": null,
            "min_width": null,
            "object_fit": null,
            "object_position": null,
            "order": null,
            "overflow": null,
            "overflow_x": null,
            "overflow_y": null,
            "padding": null,
            "right": null,
            "top": null,
            "visibility": null,
            "width": null
          }
        },
        "a8de3db20993459a8fd3e7b00e28d781": {
          "model_module": "jupyter-leaflet",
          "model_module_version": "^0.19",
          "model_name": "LeafletMapStyleModel",
          "state": {
            "_model_module": "jupyter-leaflet",
            "_model_module_version": "^0.19",
            "_model_name": "LeafletMapStyleModel",
            "_view_count": null,
            "_view_module": "@jupyter-widgets/base",
            "_view_module_version": "1.2.0",
            "_view_name": "StyleView",
            "cursor": "grab"
          }
        },
        "b2a50319a4be46cd945bd491ea241947": {
          "model_module": "@jupyter-widgets/base",
          "model_module_version": "1.2.0",
          "model_name": "LayoutModel",
          "state": {
            "_model_module": "@jupyter-widgets/base",
            "_model_module_version": "1.2.0",
            "_model_name": "LayoutModel",
            "_view_count": null,
            "_view_module": "@jupyter-widgets/base",
            "_view_module_version": "1.2.0",
            "_view_name": "LayoutView",
            "align_content": null,
            "align_items": null,
            "align_self": null,
            "border": null,
            "bottom": null,
            "display": null,
            "flex": null,
            "flex_flow": null,
            "grid_area": null,
            "grid_auto_columns": null,
            "grid_auto_flow": null,
            "grid_auto_rows": null,
            "grid_column": null,
            "grid_gap": null,
            "grid_row": null,
            "grid_template_areas": null,
            "grid_template_columns": null,
            "grid_template_rows": null,
            "height": null,
            "justify_content": null,
            "justify_items": null,
            "left": null,
            "margin": null,
            "max_height": null,
            "max_width": null,
            "min_height": null,
            "min_width": null,
            "object_fit": null,
            "object_position": null,
            "order": null,
            "overflow": null,
            "overflow_x": null,
            "overflow_y": null,
            "padding": null,
            "right": null,
            "top": null,
            "visibility": null,
            "width": null
          }
        },
        "b73adcfc73f54a728a3b16b1c0c054ae": {
          "model_module": "jupyter-leaflet",
          "model_module_version": "^0.19",
          "model_name": "LeafletMapStyleModel",
          "state": {
            "_model_module": "jupyter-leaflet",
            "_model_module_version": "^0.19",
            "_model_name": "LeafletMapStyleModel",
            "_view_count": null,
            "_view_module": "@jupyter-widgets/base",
            "_view_module_version": "1.2.0",
            "_view_name": "StyleView",
            "cursor": "move"
          }
        },
        "bce2eb6602b44cf58fe3f015b4791580": {
          "model_module": "jupyter-leaflet",
          "model_module_version": "^0.19",
          "model_name": "LeafletMapStyleModel",
          "state": {
            "_model_module": "jupyter-leaflet",
            "_model_module_version": "^0.19",
            "_model_name": "LeafletMapStyleModel",
            "_view_count": null,
            "_view_module": "@jupyter-widgets/base",
            "_view_module_version": "1.2.0",
            "_view_name": "StyleView",
            "cursor": "grab"
          }
        },
        "cc681f2a261f453f861f92cb280fa750": {
          "model_module": "jupyter-leaflet",
          "model_module_version": "^0.19",
          "model_name": "LeafletImageOverlayModel",
          "state": {
            "_model_module": "jupyter-leaflet",
            "_model_module_version": "^0.19",
            "_model_name": "LeafletImageOverlayModel",
            "_view_count": null,
            "_view_module": "jupyter-leaflet",
            "_view_module_version": "^0.19",
            "_view_name": "LeafletImageOverlayView",
            "attribution": "",
            "base": false,
            "bottom": false,
            "bounds": [
              [
                -30.267316273,
                149.899925737
              ],
              [
                -30.267254275,
                149.900012578
              ]
            ],
            "name": "",
            "opacity": 0.6,
            "options": [
              "attribution"
            ],
            "pane": "",
            "popup": null,
            "popup_max_height": null,
            "popup_max_width": 300,
            "popup_min_width": 50,
            "subitems": [],
            "url": "https://raw.githubusercontent.com/geog3300-agri3003/lab-data/main/SAMPLE_AOI_CSIRO_Cotton1_RGB_Orthomosaic_6mm_EPSG_v1.png",
            "visible": true
          }
        },
        "ea175f9a052f4c54ad49387b690db864": {
          "model_module": "@jupyter-widgets/controls",
          "model_module_version": "1.5.0",
          "model_name": "HBoxModel",
          "state": {
            "_dom_classes": [],
            "_model_module": "@jupyter-widgets/controls",
            "_model_module_version": "1.5.0",
            "_model_name": "HBoxModel",
            "_view_count": null,
            "_view_module": "@jupyter-widgets/controls",
            "_view_module_version": "1.5.0",
            "_view_name": "HBoxView",
            "box_style": "",
            "children": [
              "IPY_MODEL_03cd256cecc44158825f8e38138c550b",
              "IPY_MODEL_7e8f732292644715b93ec86e693dc92b"
            ],
            "layout": "IPY_MODEL_b2a50319a4be46cd945bd491ea241947"
          }
        },
        "ea4546eaae6245a08a777bd2819f7666": {
          "model_module": "jupyter-leaflet",
          "model_module_version": "^0.19",
          "model_name": "LeafletImageOverlayModel",
          "state": {
            "_model_module": "jupyter-leaflet",
            "_model_module_version": "^0.19",
            "_model_name": "LeafletImageOverlayModel",
            "_view_count": null,
            "_view_module": "jupyter-leaflet",
            "_view_module_version": "^0.19",
            "_view_name": "LeafletImageOverlayView",
            "attribution": "",
            "base": false,
            "bottom": false,
            "bounds": [
              [
                -30.267316273,
                149.899925737
              ],
              [
                -30.267254275,
                149.900012578
              ]
            ],
            "name": "",
            "opacity": 0.6,
            "options": [
              "attribution"
            ],
            "pane": "",
            "popup": null,
            "popup_max_height": null,
            "popup_max_width": 300,
            "popup_min_width": 50,
            "subitems": [],
            "url": "https://raw.githubusercontent.com/geog3300-agri3003/lab-data/main/SAMPLE_AOI_CSIRO_Cotton1_RGB_Orthomosaic_6mm_EPSG_v1.png",
            "visible": true
          }
        },
        "f06b769754094641b785fc7852a27ad2": {
          "model_module": "jupyter-leaflet",
          "model_module_version": "^0.19",
          "model_name": "LeafletMapModel",
          "state": {
            "_dom_classes": [],
            "_model_module": "jupyter-leaflet",
            "_model_module_version": "^0.19",
            "_model_name": "LeafletMapModel",
            "_view_count": null,
            "_view_module": "jupyter-leaflet",
            "_view_module_version": "^0.19",
            "_view_name": "LeafletMapView",
            "bottom": 1263328928,
            "bounce_at_zoom_limits": true,
            "box_zoom": true,
            "center": [
              -30.26729024650717,
              149.89998145960274
            ],
            "close_popup_on_click": true,
            "controls": [
              "IPY_MODEL_69d94e75020b48438f5baf684429886f",
              "IPY_MODEL_2a1997901afc4cab9b9a02f1f13095f8"
            ],
            "crs": {
              "custom": false,
              "name": "EPSG3857"
            },
            "default_style": "IPY_MODEL_39087b25322b425db02a6f6f84164f65",
            "double_click_zoom": true,
            "dragging": true,
            "dragging_style": "IPY_MODEL_b73adcfc73f54a728a3b16b1c0c054ae",
            "east": 149.9000075273216,
            "fullscreen": false,
            "inertia": true,
            "inertia_deceleration": 3000,
            "inertia_max_speed": 1500,
            "interpolation": "bilinear",
            "keyboard": true,
            "keyboard_pan_offset": 80,
            "keyboard_zoom_offset": 1,
            "layers": [
              "IPY_MODEL_551a000e2a0b456fbdcbba79bf6ff8a9",
              "IPY_MODEL_ea4546eaae6245a08a777bd2819f7666"
            ],
            "layout": "IPY_MODEL_949e43c90a634106aa7f546d0f85aca3",
            "left": 1967929888,
            "max_zoom": 26,
            "min_zoom": null,
            "modisdate": "2025-04-30",
            "north": -30.267261289259004,
            "options": [
              "bounce_at_zoom_limits",
              "box_zoom",
              "center",
              "close_popup_on_click",
              "double_click_zoom",
              "dragging",
              "fullscreen",
              "inertia",
              "inertia_deceleration",
              "inertia_max_speed",
              "interpolation",
              "keyboard",
              "keyboard_pan_offset",
              "keyboard_zoom_offset",
              "max_zoom",
              "min_zoom",
              "prefer_canvas",
              "scroll_wheel_zoom",
              "tap",
              "tap_tolerance",
              "touch_zoom",
              "world_copy_jump",
              "zoom",
              "zoom_animation_threshold",
              "zoom_delta",
              "zoom_snap"
            ],
            "panes": {},
            "prefer_canvas": false,
            "right": 1967930199,
            "scroll_wheel_zoom": false,
            "south": -30.267319203746812,
            "style": "IPY_MODEL_39087b25322b425db02a6f6f84164f65",
            "tap": true,
            "tap_tolerance": 15,
            "top": 1263328528,
            "touch_zoom": true,
            "west": 149.89995539188388,
            "window_url": "https://hvxk6fitiud-496ff2e9c6d22116-0-colab.googleusercontent.com/outputframe.html?vrz=colab_20250429-060127_RC00_752676541",
            "world_copy_jump": false,
            "zoom": 23,
            "zoom_animation_threshold": 4,
            "zoom_delta": 1,
            "zoom_snap": 1
          }
        }
      }
    }
  },
  "nbformat": 4,
  "nbformat_minor": 0
}

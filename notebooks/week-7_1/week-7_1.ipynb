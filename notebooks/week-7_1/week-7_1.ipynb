{
 "cells": [
  {
   "cell_type": "markdown",
   "id": "ad543b7e-2dc6-464b-970c-578a52040309",
   "metadata": {},
   "source": [
    "# Introduction\n",
    "\n",
    "## Web mapping\n",
    "\n",
    "Static maps are rendered images with detail and styling to highlight a specific location, feature, or phenomenon. However, they are limited. A static map of a wide-area will omit local detail, and a static map of a small area will omit wide-area context. They are not interactive.\n",
    "\n",
    "To addresss these limitations, and using web technologies such as making HTTP requests, web maps are interactive maps that update the information shown in response to user input (zooming in and out, panning).\n",
    "\n",
    "To generate a web map your web browser, or another client application such as an app on a mobile device, makes a HTTP request to a server to GET a web map. The client's HTTP request will include some parameters that describe the map it wishes to receive such as the location and zoom level. In response, the server will either generate the map dynamically (i.e. query a spatial database and render an image) or retrieve a pre-generated map image and respond by sending the map image to the client. Often, this image is in JPEG or PNG format. The client will then render the map in the client application that made the call to the web map server. \n",
    "\n",
    "As you interact with the web map on your display (e.g. with your mouse zooming in and panning), the client will send new requests to the server which will respond by sending updated image data. This is what makes web mapping interactice. \n",
    "\n",
    "## Web maps\n",
    "\n",
    "<a href=\"https://www.e-education.psu.edu/geog585/node/685\" target=\"_blank\">Quin (2020)</a> describe a web map as comprising three components or layers:\n",
    "\n",
    "* basemap: underlying spatial layers designed to provide geographic context. These are often pre-rendered map tiles that fuse together several spatial layers (e.g. roads, water bodies, buildings) that are not the main focus of the map. \n",
    "* thematic elements: geographic features that are the main focus of the map and are rendered on top of the basemap layers. Often, these elements are styled to emphasise patterns in the data or distinguish these elements from the basemap. These could be layers that you can toggle on and off. \n",
    "* interactive elements: there can be interactive elements rendered on a web map that provide extra information in response to user input (e.g. hover or popup text windows).\n",
    "\n",
    "We can also think of there being three types of web maps:\n",
    "\n",
    "* dynamic: dynamic web map images are rendered on demand following a client request by a map server. Depending on how the server is configured, it can generate bespoke web maps for a particular client from spatial data.\n",
    "* tiled: tiled web map images are pre-generated and stored in cloud storage or in a database and a server retrieves the appropriate image tiles to fill the client's web map, as indicated by parameters in the client request, and sends them to the client.\n",
    "* client-generated: coordinates representing a geometry (e.g. a GeoJSON object) are sent to the client and a client application, such as a web browser, renders the geometry on a web map.\n",
    "\n",
    "In reality, we often mix these three different types of web maps to produce a final composite web map. For example, dynamic map servers can generate tiles creating the \"illusion\" of a tiled map output. Or, we might use a pre-generated tiled basemap to provide geographic context and then use a dynamic web map to render \"real-time\" information in a spatial layer on top of it. An example of this is visualising traffic information with traffic-light shades on top of Google Maps pre-generated basemap tiles. \n",
    "\n",
    "### Task\n",
    "\n",
    "The focus of this lab is to provide an introduction to web mapping technologies, highlight their strengths and limitations for particular contexts, and provide some recipes for how you can request web map data using Python. First, we will demonstrate how to request web map layers from servers that implement the Web Map Services (WMS) specification (dynamic web maps); a range of data providers make their data accessible as WMS services (e.g. Digital Earth Australia and public datasets in Western Australia via the Data WA Data Catalogue). Second, we will explore the structure of pre-generated tiled web maps based on XYZ map tiles or \"slippy\" maps which are often used for generating basemap images (e.g. in OpenStreetMap or Google Maps). \n",
    "\n",
    "## Setup\n",
    "\n",
    "### Run the labs\n",
    "\n",
    "You can run the labs locally on your machine or you can use cloud environments provided by Google Colab. **If you're working with Google Colab be aware that your sessions are temporary and you'll need to take care to save, backup, and download your work.**\n",
    "\n",
    "<a href=\"https://colab.research.google.com/github/geog3300-agri3003/coursebook/blob/main/docs/notebooks/week-7_1.ipynb\" target=\"_blank\">\n",
    "  <img src=\"https://colab.research.google.com/assets/colab-badge.svg\" alt=\"Open In Colab\"/>\n",
    "</a>\n",
    "\n",
    "### Working in Colab\n",
    "\n",
    "If you're working in Google Colab, you'll need to install the required packages that don't come with the colab environment."
   ]
  },
  {
   "cell_type": "code",
   "execution_count": null,
   "id": "00a7be47-056e-4186-a8d5-2a270f0a8284",
   "metadata": {},
   "outputs": [],
   "source": [
    "if 'google.colab' in str(get_ipython()):\n",
    "    !pip install geopandas\n",
    "    !pip install pyarrow\n",
    "    !pip install mapclassify\n",
    "    !pip install rasterio\n",
    "    !pip install planetary-computer\n",
    "    !pip install pystac-client\n",
    "    !pip install ipyleaflet"
   ]
  },
  {
   "cell_type": "markdown",
   "id": "110fd4b6-214e-43a9-a377-4d0d181faf0f",
   "metadata": {},
   "source": [
    "### Import modules"
   ]
  },
  {
   "cell_type": "code",
   "execution_count": null,
   "id": "80f9e845-f054-4a8b-883e-0447b9a8f782",
   "metadata": {},
   "outputs": [],
   "source": [
    "import os\n",
    "import json\n",
    "import geopandas as gpd\n",
    "import pandas as pd\n",
    "import plotly.express as px\n",
    "import plotly.io as pio\n",
    "import numpy as np\n",
    "import requests\n",
    "from skimage import io\n",
    "import pystac_client\n",
    "import planetary_computer as pc\n",
    "\n",
    "from pystac.extensions.eo import EOExtension as eo\n",
    "\n",
    "from ipyleaflet import Map, TileLayer, WMSLayer, basemaps, LegendControl, SplitMapControl\n",
    "from traitlets import Unicode\n",
    "\n",
    "# setup renderer\n",
    "if 'google.colab' in str(get_ipython()):\n",
    "    pio.renderers.default = \"colab\"\n",
    "else:\n",
    "    pio.renderers.default = \"jupyterlab\""
   ]
  },
  {
   "cell_type": "code",
   "execution_count": null,
   "id": "8e2ec0aa-81c6-412a-b5eb-1c7f6fa8ce78",
   "metadata": {},
   "outputs": [],
   "source": [
    "!pip install OWSLib"
   ]
  },
  {
   "cell_type": "code",
   "execution_count": null,
   "id": "a3a1e110-a8ed-4a77-83a4-b8c9f789d02d",
   "metadata": {},
   "outputs": [],
   "source": [
    "from owslib.wms import WebMapService"
   ]
  },
  {
   "cell_type": "markdown",
   "id": "e1ad32a9-c384-487d-a16f-c1a129089e55",
   "metadata": {},
   "source": [
    "## Web Map Services (WMS)\n",
    "\n",
    "Servers implmenting the Web Map Services (WMS) specification support dynamically drawn web maps. It is an Open Geospatial Consortium (OGC) specification that server-side applications implement to describe the requests they can receive to generate web map images on-demand for clients. \n",
    "\n",
    "The client request to a WMS server indicates the location, extent, coordinate reference system, and potentially a range of other parameters that determine how the web map is generated and styled from spatial data (e.g. a spatial database). The server responds by sending a rendered image of the spatial data as a JPEG or PNG file. \n",
    "\n",
    "As you move around and zoom in and out of your web map widget (e.g. in your browser), new requests are sent to the WMS server and it responds by generating new images and sending them back to the client to construct the web map in the user interface. \n",
    "\n",
    "#### Recap quiz\n",
    "\n",
    "<details>\n",
    "    <summary><b>Can you think of a disadvantage of dynamically generating web map images from spatial data in response to client requests?</b></summary>\n",
    "If you move around quickly in your web map widget, you might generate lots of requests for the WMS server to handle (query a spatial database for relevant data, render spatial data into an image, and send the image back to the client). The server might not be able to keep up with the speed at which you are moving around in the web map widget and you will experience a lag. A lag could also be generated if a WMS server is handling requests from many different clients. \n",
    "</details>\n",
    "\n",
    "<p></p>\n",
    "\n",
    "A client makes a request to a server implementing the WMS specification by sending a HTTP message to URL of the server. The client includes information for server to use when handling the request as query parameters appended to the URL. The WMS specification has a `REQUEST` parameter; when this is set to the value `GetMap` it will request the server to generate a web map image. Setting the `REQUEST` value to `GetCapabilities` will return a metadata about the WMS server. Values set for the `REQUEST` parameter indicate the WMS operation the server should undertake - you can see the list of operations <a href=\"https://docs.geoserver.org/latest/en/user/services/wms/reference.html#operations\" target=\"_blank\">here</a>.\n",
    "\n",
    "## WMS `GetMap` operation\n",
    "\n",
    "When requesting a `GetMap` operation from a WMS server, a client can specify some of the following query parameters:\n",
    "\n",
    "* `layers` - layers to display on the map\n",
    "* `srs` or `crs` - coordinate reference system of the map output\n",
    "* `styles` - styles that define how layers are rendered\n",
    "* `bbox` -  bounding box for map extent in units of `srs`\n",
    "\n",
    "A full description of query parameters for a `GetMap` operation can be found in the <a href=\"https://docs.geoserver.org/2.22.x/en/user/services/wms/reference.html#getmap\" target=\"_blank\">GeoServer docs</a>.\n",
    "\n",
    "Let's demonstrate this by making a single request to a WMS server hosted by Digital Earth Australia to retrieve a web map image of the DEA Land Cover Calendar Year (Landsat) dataset. \n",
    "\n",
    "This is an example request URL made by a web map client for land cover data for a region close to Perth (this URL was extracted from the <a href=\"https://maps.dea.ga.gov.au/\" target=\"_blank\">Digital Earth Australia Map</a>):\n",
    "\n",
    "*https://ows.dea.ga.gov.au/?transparent=true&format=image/png&exceptions=XML&styles=level4&version=1.3.0&time=2020-01-01&service=WMS&request=GetMap&layers=ga_ls_landcover&bbox=12885448.480201874,-3786384.6331344917,12895232.419822376,-3776600.6935139894&width=256&height=256&crs=EPSG:3857*\n",
    "\n",
    "You can see the URL for the WMS server `https://ows.dea.ga.gov.au/` and then several query parameters that define the `GetMap` request. The query parameters are appended after the domain name for the server as indicated by the `?` symbol. Query parameters have a `parameter=value` format and are separated by the `&` symbol. You can find more information about query parameters <a href=\"https://requests.readthedocs.io/en/latest/user/quickstart/#passing-parameters-in-urls\" target=\"_blank\">here</a> and <a href=\"https://en.wikipedia.org/wiki/Query_string\" target=\"_blank\">here</a> (you can also refer back to lab-6 for a recap on query parameters). \n",
    "\n",
    "You can see query parameters indicating the `format` for the returned image (`format=image/png`), that the service to generate the image is WMS (`service=WMS`), that the request operation is `GetMap` (`request=GetMap`), and that the layer to render is defined by `layers=ga_ls_landcover` (a web map server will often be able to access a range of spatial datasets from which it can generate an image). There are also other query parameters that define the location for the image, the size of the image, and coordinate reference system. All this information is used by the server to generate the image returned to the client. \n",
    "\n",
    "A `requests` object's `get()` method has a `params` argument that can take a Python dictionary object specifying key:value pairs to convert to query parameters and append to the URL for a HTTP GET message."
   ]
  },
  {
   "cell_type": "code",
   "execution_count": null,
   "id": "ef619557-ddd9-4d86-bb67-5e5ee473d36c",
   "metadata": {},
   "outputs": [],
   "source": [
    "payload = {\n",
    "    \"transparent\": \"true\",\n",
    "    \"format\": \"image/png\",\n",
    "    \"exceptions\": \"XML\",\n",
    "    \"styles\": \"level4\",\n",
    "    \"version\": \"1.3.0\",\n",
    "    \"time\": \"2020-01-01\",\n",
    "    \"service\": \"WMS\",\n",
    "    \"request\": \"GetMap\",\n",
    "    \"layers\": \"ga_ls_landcover\",\n",
    "    \"bbox\": \"12885448.480201874,-3786384.6331344917,12895232.419822376,-3776600.6935139894\",\n",
    "    \"width\": 256,\n",
    "    \"height\": 256,\n",
    "    \"crs\": \"EPSG:3857\"\n",
    "}\n",
    "\n",
    "r = requests.get(\"https://ows.dea.ga.gov.au\", params=payload)\n",
    "r.status_code"
   ]
  },
  {
   "cell_type": "code",
   "execution_count": null,
   "id": "3a3b3872-6606-4e36-bbe6-8771d3fd9fd2",
   "metadata": {},
   "outputs": [],
   "source": [
    "# write the returned image data to a PNG file\n",
    "os.makedirs(os.path.join(os.getcwd(), \"week-7\"), exist_ok=True)\n",
    "with open(os.path.join(os.getcwd(), \"week-7\", \"demo-dea-wms.png\"), \"wb\") as dst:\n",
    "    dst.write(r.content)\n",
    "\n",
    "# visualise returned image\n",
    "img = io.imread(os.path.join(os.getcwd(), \"week-7\", \"demo-dea-wms.png\"))\n",
    "px.imshow(img, height=600)"
   ]
  },
  {
   "cell_type": "markdown",
   "id": "38af3676-300f-48f1-93a6-0978ce23d8df",
   "metadata": {},
   "source": [
    "To verify that we setup the `payload` object defining the query parameters to Digital Earth Australia's WMS server correctly, we can skip using the `params` argument in the `get()` method and pass in the full URL string."
   ]
  },
  {
   "cell_type": "code",
   "execution_count": null,
   "id": "1266676b-5ff8-4748-986e-66c158b33bab",
   "metadata": {},
   "outputs": [],
   "source": [
    "r_fullstring = requests.get(\"https://ows.dea.ga.gov.au/?transparent=true&format=image/png&exceptions=XML&styles=level4&version=1.3.0&time=2020-01-01&service=WMS&request=GetMap&layers=ga_ls_landcover&bbox=12885448.480201874,-3786384.6331344917,12895232.419822376,-3776600.6935139894&width=256&height=256&crs=EPSG:3857\")\n",
    "print(r_fullstring.status_code)\n",
    "\n",
    "with open(os.path.join(os.getcwd(), \"week-7\", \"demo-dea-wms-fullstring.png\"), \"wb\") as dst:\n",
    "    dst.write(r.content)\n",
    "\n",
    "# visualise returned image\n",
    "img = io.imread(os.path.join(os.getcwd(), \"week-7\", \"demo-dea-wms-fullstring.png\"))\n",
    "px.imshow(img, height=600)"
   ]
  },
  {
   "cell_type": "markdown",
   "id": "1a940af9-90e8-4bf0-b95a-d55560e931f2",
   "metadata": {},
   "source": [
    "The request we just made to the Digital Earth Australia WMS server to retrieve an image illustrates the process that a client web map application would go through to retrieve the data to fill the web map component of your display. As you move around the web map with your mouse (or touch and drag on a touchscreen) the client web map application generates these requests, sends them to the WMS server, and renders the returned image data.\n",
    "\n",
    "The below video demonstrates using the Digital Earth Australia Map (https://maps.dea.ga.gov.au/) to render the DEA Land Cover Calendar Year (Landsat) data using WMS. You can see the client (here the Digital Earth Australia Map application in your web browser) making several of HTTP requests to the Digital Earth Australia WMS server to generate PNG images to create the map visualisation on the display. "
   ]
  },
  {
   "cell_type": "code",
   "execution_count": null,
   "id": "7a4a3ef7-a9d1-4e81-bb02-868a3333ded4",
   "metadata": {},
   "outputs": [],
   "source": [
    "%%HTML\n",
    "<div style=\"padding:50% 0 0 0;position:relative;\"><iframe src=\"https://player.vimeo.com/video/816397558?h=84992531b5&amp;badge=0&amp;autopause=0&amp;player_id=0&amp;app_id=58479\" frameborder=\"0\" allow=\"autoplay; fullscreen; picture-in-picture\" allowfullscreen style=\"position:absolute;top:0;left:0;width:100%;height:100%;\" title=\"dea-wms-landsat.mov\"></iframe></div><script src=\"https://player.vimeo.com/api/player.js\"></script>"
   ]
  },
  {
   "cell_type": "markdown",
   "id": "c0cdac3b-97c5-4fc4-93c3-e7a724f1b80a",
   "metadata": {},
   "source": [
    "## ipyleaflet\n",
    "\n",
    "It is rare that we'll need to manually generate URLs with query parameters to send to WMS servers; we'll use client web map applications, such as the DEA Map, for these tasks. Here, we'll work with <a href=\"https://ipyleaflet.readthedocs.io/en/latest/index.html\" target=\"_blank\">ipyleaflet</a>, which is based on the <a href=\"https://leafletjs.com/\" target=\"_blank\">Leaflet web mapping software</a>. \n",
    "\n",
    "We can use ipyleaflet to create a `Map` widget obejct using the `Map()` constructor function. The `Map` object is an interactive widget in our display that we can add web map layers to using the `add_layer()` method or add controls to using the `add_controls()` method. \n",
    "\n",
    "When we create a `Map` widget obejct we can select a `basemap`, `center` location, and `zoom` level. "
   ]
  },
  {
   "cell_type": "code",
   "execution_count": null,
   "id": "f0c00f6b-293b-4d01-87af-6b8a043346c5",
   "metadata": {},
   "outputs": [],
   "source": [
    "m = Map(basemap=basemaps.CartoDB.Positron, center=(-32, 117), zoom=9)\n",
    "\n",
    "m"
   ]
  },
  {
   "cell_type": "markdown",
   "id": "eef693b6-53ac-4632-921a-a02c0e92a362",
   "metadata": {},
   "source": [
    "To visualise the DEA Land Cover Calendar Year (Landsat) data on an ipyleaflet web map we first need to create a `WMSLayer()` object (<a href=\"https://ipyleaflet.readthedocs.io/en/latest/layers/wms_layer.html#attributes\" target=\"_blank\">`WMSLayer()` docs here</a>). \n",
    "\n",
    "To create a `WMSLayer()` object we need to pass in the `url` for the WMS server, specify the `layers` we want to render on the web map, and specify a format for the web map images and provide an attribution. Providing an attribution is often important as many WMS service licenses require an attribution for use. \n",
    "\n",
    "We can use a `Map` object's `add_layer()` method to add the WMS layer to the map. "
   ]
  },
  {
   "cell_type": "code",
   "execution_count": null,
   "id": "b859dd9b-8343-43e8-a203-c9e7ab31e83a",
   "metadata": {},
   "outputs": [],
   "source": [
    "dea_landsat_lc_wms = WMSLayer(\n",
    "    url=\"https://ows.dea.ga.gov.au\",\n",
    "    layers=\"ga_ls_landcover\",\n",
    "    format=\"image/png\",\n",
    "    transparent=True,\n",
    "    attribution=\"DEA Land Cover Calendar Year (Landsat)\"\n",
    ")\n",
    "\n",
    "m.add_layer(dea_landsat_lc_wms)\n",
    "\n",
    "m"
   ]
  },
  {
   "cell_type": "markdown",
   "id": "a7259acf-005d-47e5-a581-d953c9ce1ee8",
   "metadata": {},
   "source": [
    "We can change the `style` used to render the web map image data. The DEA Land Cover Calendar Year (Landsat) has a basic style which we can request from the server - note how we set the `styles` argument to `\"level3\"` below. This is an example of how our client, here the ipyleaflet `Map` object, has dynamically requested the WMS server to generate images for the web map display using a different visual style. \n",
    "\n",
    "We can also create a `LegendControl` object by passing a dictionary object of legend element names and colours to the `LegendControl()` constructor function. We can then add the `LegendControl` object to the `Map` object. <a href=\"https://ipyleaflet.readthedocs.io/en/latest/controls/index.html\" target=\"_blank\">Controls</a> are widgets that we can use to *control* how we interact with and interpret the map (e.g. zoom widgets, legends, split map, fullscreen etc). "
   ]
  },
  {
   "cell_type": "code",
   "execution_count": null,
   "id": "68b5f147-cc30-42b6-8b89-7bf2bae85e88",
   "metadata": {},
   "outputs": [],
   "source": [
    "# create WMS layer with level3 style for DEA Land Cover Calendar Year (Landsat)\n",
    "dea_landsat_basic_lc_wms = WMSLayer(\n",
    "    url=\"https://ows.dea.ga.gov.au\",\n",
    "    layers=\"ga_ls_landcover\",\n",
    "    format=\"image/png\",\n",
    "    transparent=True,\n",
    "    styles=\"level3\",\n",
    "    attribution=\"DEA Land Cover Calendar Year (Landsat)\"\n",
    ")\n",
    "\n",
    "# create dict to define legend elements and colour\n",
    "level_3_legend = {\n",
    "    \"Water\": \"#4d9fdc\",\n",
    "    \"Natural Bare Surface\": \"#f3ab69\",\n",
    "    \"Artificial Surface\": \"#da5c69\",\n",
    "    \"Natural Aquatic Vegetation\": \"#34bf79\",\n",
    "    \"Natural Terrestrial Vegetation\": \"#1f7912\",\n",
    "    \"Cultivated Terrestrial Vegetation\": \"#acbc2e\"\n",
    "}\n",
    "\n",
    "# create LegendControl object\n",
    "legend = LegendControl(level_3_legend)\n",
    "\n",
    "# create a new map instance\n",
    "m = Map(basemap=basemaps.CartoDB.Positron, center=(-32, 117), zoom=9)\n",
    "\n",
    "# add WMS layer to map\n",
    "m.add_layer(dea_landsat_basic_lc_wms)\n",
    "\n",
    "# add legend to the map\n",
    "m.add_control(legend)\n",
    "\n",
    "# visualise the map\n",
    "m"
   ]
  },
  {
   "cell_type": "markdown",
   "id": "ee6287ea-f6e8-4ddb-af6f-dbbd8fd0c877",
   "metadata": {},
   "source": [
    "## WMS `GetCapabilities` operation\n",
    "\n",
    "The <a href=\"https://docs.geoserver.org/latest/en/user/services/wms/reference.html#getcapabilities\" target=\"_blank\">WMS `GetCapabilities` operation</a> returns metadata about a WMS server to a client. A `GetCapabilities` response is an XML document with three sections:\n",
    "\n",
    "* service: metadata about the organisation providing the WMS server.\n",
    "* request: the request operations the server provides and the input parameters and response data formats for each operation.\n",
    "* layer: layers and coordinate systems the WMS server provides.\n",
    "\n",
    "We can use `GetCapabilities` requests to retrieve information from the WMS server necessary for generating WMS layers in our web maps. Let's make a `GetCapabilities` request to the Digital Earth Australia WMS server."
   ]
  },
  {
   "cell_type": "code",
   "execution_count": null,
   "id": "024a9ef9-082c-40a4-a234-f3a49b226931",
   "metadata": {},
   "outputs": [],
   "source": [
    "payload = {\n",
    "    \"service\": \"WMS\",\n",
    "    \"version\": \"1.3.0\",\n",
    "    \"request\": \"GetCapabilities\"\n",
    "}\n",
    "\n",
    "r_dea_get_cap = requests.get(\"https://ows.dea.ga.gov.au\", params=payload)\n",
    "r_dea_get_cap.status_code"
   ]
  },
  {
   "cell_type": "markdown",
   "id": "3cdf31f9-17a2-4d9c-a052-acdc98234db2",
   "metadata": {},
   "source": [
    "This response object contains the Digital Earth Australia's WMS server's metadata in XML format. We can access it via the `text` property of the response object. However, it's quite long so we'll print the first 2000 characters so you can see the format."
   ]
  },
  {
   "cell_type": "code",
   "execution_count": null,
   "id": "6de82552-299f-4612-9db8-4db6d7038dc9",
   "metadata": {},
   "outputs": [],
   "source": [
    "r_dea_get_cap.text[0:2000]"
   ]
  },
  {
   "cell_type": "markdown",
   "id": "bbe6f71e-c608-49e1-b23c-498bd6b7993f",
   "metadata": {},
   "source": [
    "We can use the Python package OWSLib for easier querying and filtering of WMS server metadata. Passing in the URL for a WMS server to the OWSLib `WebMapService()` function creates a `WebMapService_1_3_0` object that we can use to query a WMS service."
   ]
  },
  {
   "cell_type": "code",
   "execution_count": null,
   "id": "6d2319b2-bd9e-4d98-8e5d-72cd7832c37b",
   "metadata": {},
   "outputs": [],
   "source": [
    "dea_wms = WebMapService(\"https://ows.dea.ga.gov.au\", version=\"1.3.0\")\n",
    "dea_wms.identification.title"
   ]
  },
  {
   "cell_type": "markdown",
   "id": "0cc7e2e4-cac6-4a02-8844-f8bfc895d796",
   "metadata": {},
   "source": [
    "We can use the `WebMapService_1_3_0` object's `contents` property to print a list of `layers` that the WMS service can generate web map images for."
   ]
  },
  {
   "cell_type": "code",
   "execution_count": null,
   "id": "f3807ac9-3573-4208-85ff-e14238903950",
   "metadata": {},
   "outputs": [],
   "source": [
    "list(dea_wms.contents)"
   ]
  },
  {
   "cell_type": "markdown",
   "id": "960d17aa-6d96-4fa4-94ab-fc8d9c09c18e",
   "metadata": {},
   "source": [
    "Each of these layers has a more descriptive title property."
   ]
  },
  {
   "cell_type": "code",
   "execution_count": null,
   "id": "c0f93200-669a-4cb6-a0de-e559f8be0311",
   "metadata": {},
   "outputs": [],
   "source": [
    "dea_wms[\"ga_ls_wo_fq_cyear_3\"].title"
   ]
  },
  {
   "cell_type": "markdown",
   "id": "2a24c6f3-f5ef-4647-996f-48a7ce806057",
   "metadata": {},
   "source": [
    "We can also see what `styles` the WMS server can use to render web map images."
   ]
  },
  {
   "cell_type": "code",
   "execution_count": null,
   "id": "89ff11b7-b577-499a-85a1-abeca4b29bce",
   "metadata": {},
   "outputs": [],
   "source": [
    "dea_wms[\"ga_ls_wo_fq_cyear_3\"].styles"
   ]
  },
  {
   "cell_type": "markdown",
   "id": "3eac3361-5f6b-494b-ae31-9aad5034920d",
   "metadata": {},
   "source": [
    "We can see what coordinate reference systems the WMS server can use when generating web map images."
   ]
  },
  {
   "cell_type": "code",
   "execution_count": null,
   "id": "fe0ed756-8f1e-49a1-bdf8-d4b7e544ddbc",
   "metadata": {},
   "outputs": [],
   "source": [
    "dea_wms[\"ga_ls_wo_fq_cyear_3\"].crsOptions"
   ]
  },
  {
   "cell_type": "markdown",
   "id": "c76feeae-bfdc-45e3-9f95-03262209b008",
   "metadata": {},
   "source": [
    "#### Recap quiz\n",
    "\n",
    "**Can you use the above information that describes the *DEA Water Observations Calendar Year (Landsat)* WMS layer to create an ipyleaflet `WMSLayer()` object and add it to a new `Map` object?**\n",
    "\n",
    "**The *DEA Water Observations Calendar Year (Landsat)* dataset is a satellite-derived water summary showing what percentage of clear satellite observations were detected as wet in a year. The legend for the WMS layer is below.**\n",
    "\n",
    "![](https://ows.dea.ga.gov.au/legend/ga_ls_wo_fq_cyear_3/annual_wofs_frequency_3/legend.png)"
   ]
  },
  {
   "cell_type": "code",
   "execution_count": null,
   "id": "9fcb5036-68dd-4e32-a6cb-2ba4df852d4b",
   "metadata": {},
   "outputs": [],
   "source": [
    "## ADD CODE HERE ##"
   ]
  },
  {
   "cell_type": "markdown",
   "id": "2e866182-99a4-4410-89d1-efe04a765ac2",
   "metadata": {},
   "source": [
    "<details>\n",
    "    <summary><b>answer</b></summary>\n",
    "    \n",
    "```python\n",
    "dea_wos_wms = WMSLayer(\n",
    "    url=\"https://ows.dea.ga.gov.au\",\n",
    "    layers=\"ga_ls_wo_fq_cyear_3\",\n",
    "    format=\"image/png\",\n",
    "    transparent=True,\n",
    "    styles=\"annual_wofs_frequency_3\",\n",
    "    attribution=\"DEA Water Observations Calendar Year (Landsat)\"\n",
    ")\n",
    "\n",
    "m = Map(basemap=basemaps.CartoDB.Positron, center=(-32, 117), zoom=10)\n",
    "\n",
    "m.add_layer(dea_wos_wms)\n",
    "\n",
    "m\n",
    "```\n",
    "</details>\n",
    "\n",
    "<p></p>\n",
    "\n",
    "## Custom `WMSLayer()` objects\n",
    "\n",
    "If the WMS server accepts other query parameters to define what data and styling is used to create web map images, we need to extend the base `WMSLayer()` class to create a custom class to handle the extra query parameters. A common extra query parameter that WMS servers implement is `time` which specifies a date or time for the underlying data used to generate the web map images.\n",
    "\n",
    "The below code snipped demonstrates how to create a custom `TimeWMSLayer()` class with an extra `time` parameter."
   ]
  },
  {
   "cell_type": "code",
   "execution_count": null,
   "id": "6887dd95-1d1e-4ef3-83c7-8cabf856dea9",
   "metadata": {},
   "outputs": [],
   "source": [
    "class TimeWMSLayer(WMSLayer):\n",
    "\n",
    "    time = Unicode('').tag(sync=True, o=True)"
   ]
  },
  {
   "cell_type": "markdown",
   "id": "ec12d4f9-ccfc-4e4d-85c3-d44b91d85c72",
   "metadata": {},
   "source": [
    "### Split map controls\n",
    "\n",
    "The Digital Earth Australia WMS server endpoint for the DEA Land Cover Calendar Year (Landsat) dataset accepts a `time` parameter that allows us to define a year to generate the web map images for. \n",
    "\n",
    "ipyleaflet also provides an option for a `SplitMapControl` where one web map is rendered on the left panel and another on the right panel. We can create a `SplitMapControl` that displays the DEA Land Cover Calendar Year (Landsat) dataset for different years to allow us to see spatial patterns of land cover change over time. \n",
    "\n",
    "First, we need to create two `TimeWMSLayer` objects that represent the DEA Land Cover Calendar Year (Landsat) dataset for 2020 and 2000. You can see that we pass in a date string to the `time` argument. These are instances of the custom class we created above. "
   ]
  },
  {
   "cell_type": "code",
   "execution_count": null,
   "id": "7844dce4-2280-47e0-b301-8bd675dceba1",
   "metadata": {},
   "outputs": [],
   "source": [
    "# create WMS layer with level3 style for DEA Land Cover Calendar Year (Landsat)\n",
    "dea_2020_basic_lc_wms = TimeWMSLayer(\n",
    "    url=\"https://ows.dea.ga.gov.au\",\n",
    "    layers=\"ga_ls_landcover\",\n",
    "    format=\"image/png\",\n",
    "    transparent=True,\n",
    "    styles=\"level3\",\n",
    "    time=\"2020-01-01\",\n",
    "    attribution=\"DEA Land Cover Calendar Year (Landsat)\"\n",
    ")\n",
    "\n",
    "dea_2000_basic_lc_wms = TimeWMSLayer(\n",
    "    url=\"https://ows.dea.ga.gov.au\",\n",
    "    layers=\"ga_ls_landcover\",\n",
    "    format=\"image/png\",\n",
    "    transparent=True,\n",
    "    styles=\"level3\",\n",
    "    time=\"2000-01-01\",\n",
    "    attribution=\"DEA Land Cover Calendar Year (Landsat)\"\n",
    ")\n",
    "\n",
    "# create dict to define legend elements and colour\n",
    "level_3_legend = {\n",
    "    \"Water\": \"#4d9fdc\",\n",
    "    \"Natural Bare Surface\": \"#f3ab69\",\n",
    "    \"Artificial Surface\": \"#da5c69\",\n",
    "    \"Natural Aquatic Vegetation\": \"#34bf79\",\n",
    "    \"Natural Terrestrial Vegetation\": \"#1f7912\",\n",
    "    \"Cultivated Terrestrial Vegetation\": \"#acbc2e\"\n",
    "}\n",
    "\n",
    "# create LegendControl object\n",
    "legend = LegendControl(level_3_legend)"
   ]
  },
  {
   "cell_type": "markdown",
   "id": "958fc984-9bc5-4353-856a-9873ddbc7ed0",
   "metadata": {},
   "source": [
    "We're now ready to create a split map. First we create a `Map` object. Then we create a `SplitMapControl` object using the `SplitMapControl()` constructor function. The `SplitMapControl()` constructor function has `left_layer` and `right_layer` arguments; we'll pass the `TimeWMSLayer` object for the 2000 land cover map (`dea_2000_basic_lc_wms`) to the `left_layer` and the `TimeWMSLayer` object for the 2020 land cover map (`dea_2020_basic_lc_wms`) to the `right_layer`. \n",
    "\n",
    "Then we add the `SplitMapControl` object to the `Map` object. This should generate two linked web maps centred on Perth. If you pan around in the web map you should see land cover change between 2000 and 2020 as Perth has urbanised. See if you can spot other cases of land cover change around Western Australia (e.g. conversion of natural terrestrial vegetation to cultivated terrestrial vegetation). "
   ]
  },
  {
   "cell_type": "code",
   "execution_count": null,
   "id": "53ca923f-6185-46cf-93af-4fffdcb61032",
   "metadata": {},
   "outputs": [],
   "source": [
    "# create a new map instance\n",
    "m = Map(basemap=basemaps.CartoDB.Positron, center=(-32, 116), zoom=11)\n",
    "\n",
    "split_map_control = SplitMapControl(left_layer=dea_2000_basic_lc_wms, right_layer=dea_2020_basic_lc_wms)\n",
    "\n",
    "m.add_control(split_map_control)\n",
    "\n",
    "m.add_control(legend)\n",
    "\n",
    "m"
   ]
  },
  {
   "cell_type": "markdown",
   "id": "b56d041f-2775-4261-a38a-3b46c8a29dd5",
   "metadata": {},
   "source": [
    "### Data WA data catalogue\n",
    "\n",
    "The <a href=\"https://catalogue.data.wa.gov.au/dataset\" target=\"_blank\">Data WA Data Catalogue</a> is a portal where you can search for public datasets for Western Australia. Many of these datasets are published as WMS layers - you can select `WMS` as one of the `formats` to filter datasets in the catalogue. \n",
    "\n",
    "DPIRD publish their *Generalised agricultural land use of Western Australia (DPIRD-003)* layer via WMS. It is layer `1` at the WMS Server with the URL *https://services.slip.wa.gov.au/public/services/SLIP_Public_Services/Farming/MapServer/WMSServer*. It's description is a layer of *generalised land use regions based on their primary agricultural land use* and we can display it on a web map via WMS with the following snippet. "
   ]
  },
  {
   "cell_type": "code",
   "execution_count": null,
   "id": "82b15297-3776-4159-9bdd-fe5f5a3546ef",
   "metadata": {},
   "outputs": [],
   "source": [
    "dpird_landuse_wms = WMSLayer(\n",
    "    url=\"https://services.slip.wa.gov.au/public/services/SLIP_Public_Services/Farming/MapServer/WMSServer\",\n",
    "    layers=\"1\",\n",
    "    format=\"image/png\",\n",
    "    transparent=True,\n",
    "    attribution=\"Generalised agricultural land use of Western Australia (DPIRD-003)\"\n",
    ")\n",
    "\n",
    "m = Map(basemap=basemaps.CartoDB.Positron, center=(-32, 117), zoom=7)\n",
    "\n",
    "m.add_layer(dpird_landuse_wms)\n",
    "\n",
    "m"
   ]
  },
  {
   "cell_type": "markdown",
   "id": "e40f0714-ce55-4fde-ab4c-6abc9abfa329",
   "metadata": {},
   "source": [
    "It is hard to interpret this map without a legend. The following dictionary object describes a legend for this map. \n",
    "\n",
    "#### Recap quiz\n",
    "\n",
    "**Can you add the below dictionary object as a legend on a web map visualising DPIRD's *Generalised agricultural land use of Western Australia (DPIRD-003)* WMS layer?**"
   ]
  },
  {
   "cell_type": "code",
   "execution_count": null,
   "id": "58fe37f4-a880-4089-9e54-aea20f7aae8f",
   "metadata": {},
   "outputs": [],
   "source": [
    "dpird_land_use_legend = {\n",
    "    \"Arid Interior\": \"#fdf54d\",\n",
    "    \"Cattle Pastoral\": \"#f6bb79\",\n",
    "    \"Cropping Cereals Legumes\": \"#f19338\",\n",
    "    \"Dairy\": \"#3bdede\",\n",
    "    \"Horticulture\": \"#45ed00\",\n",
    "    \"Livestock Grazing\": \"#a8e3f9\",\n",
    "    \"No Production\": \"#fefaa8\",\n",
    "    \"Sheep Pastoral\": \"#bdbdbd\",\n",
    "    \"Viticulture\": \"#b602b6\"\n",
    "}"
   ]
  },
  {
   "cell_type": "code",
   "execution_count": null,
   "id": "5ee50985-50ca-4b41-8018-92925c7a0d48",
   "metadata": {},
   "outputs": [],
   "source": [
    "## ADD CODE HERE ##"
   ]
  },
  {
   "cell_type": "markdown",
   "id": "527f9313-eb1f-4f11-bfbb-817f252f7e57",
   "metadata": {},
   "source": [
    "<details>\n",
    "    <summary><b>answer</b></summary>\n",
    "\n",
    "```python\n",
    "dpird_landuse_wms = WMSLayer(\n",
    "    url=\"https://services.slip.wa.gov.au/public/services/SLIP_Public_Services/Farming/MapServer/WMSServer\",\n",
    "    layers=\"1\",\n",
    "    format=\"image/png\",\n",
    "    transparent=True,\n",
    "    attribution=\"Generalised agricultural land use of Western Australia (DPIRD-003)\"\n",
    ")\n",
    "\n",
    "legend = LegendControl(dpird_land_use_legend)\n",
    "\n",
    "m = Map(basemap=basemaps.CartoDB.Positron, center=(-32, 117), zoom=7)\n",
    "\n",
    "m.add_layer(dpird_landuse_wms)\n",
    "\n",
    "m.add_control(legend)\n",
    "\n",
    "m\n",
    "```\n",
    "</details>\n",
    "\n",
    "<p></p>\n",
    "\n",
    "## XYZ Tiles and slippy maps\n",
    "\n",
    "Tiled web maps (or XYZ maps or \"slippy\" maps) are based on pre-generated images, drawn from spatial data, for a range of possible zoom levels and locations. Generally, these pre-generated images are JPEG or PNG files storing a 256 x 256 pixel image. Each image is a \"map tile\". \n",
    "\n",
    "The web map images that we rendered above are based on WMS layers and are generated dynamically by a server in response to client requests. In contrast, XYZ map tiles are already computed and are stored in a directory on the server or a cloud storage bucket. As a user pans around and zooms in and out on a web map, the server sends the required map tiles to fill the display.\n",
    "\n",
    "As the tiles are pre-generated, XYZ map tiles are more performant than dynamic web maps. The performance benefits of XYZ web maps is particularly apparent with larger spatial datasets which would be computationally intensive to generate on-demand (e.g. high-resolution images satellite and aerial images). \n",
    "\n",
    "#### Recap quiz\n",
    "\n",
    "<details>\n",
    "    <summary><b>What are potential disadvantages of serving web map data as pre-generated XYZ map tiles?</b></summary>\n",
    "\n",
    "<ul>\n",
    "<li>There are storage costs associated with storing pre-generated map tiles for all locations and zoom levels (e.g. consider the storage costs associated with high-resolution RGB web maps with complete global coverage).</li>\n",
    "<li>The up-front computational costs to generate the map tiles can significant and problematic if the map tiles need to be updated frequently.</li>\n",
    "<li>As the map tile images are pre-generated it is not possible to customise their styling.</li>\n",
    "</ul>\n",
    "</details>\n",
    "\n",
    "<p></p>\n",
    "\n",
    "Despite these limitations, most basemaps (e.g. the satellite basemap in Google Maps or Bing Maps) which are used to provide geographic context are served as XYZ tiles because of the performance benefits. \n",
    "\n",
    "XYZ map tiles are described by their zoom level (the Z) and coordinates (the X and Y) and comrpise a pyramid of images. \n",
    "\n",
    "At zoom level 0 the entire world fits into a 256 x 256 pixel image in the web mercator projection system (`EPSG:3857`). Let's get this most zoomed out map tile for OpenStreetMap. XYZ map tiles have a request format of `https://{URL}/{zoom level}/{x coordinate}/{y coordinate}.png`.\n",
    "\n",
    "For OpenStreetMap this request would be `https://tile.openstreetmap.org/0/0/0.png`.\n",
    "\n",
    "![](https://tile.openstreetmap.org/0/0/0.png)\n",
    "**OpenStreetMap zoom = 0, x = 0, y = 0 `https://tile.openstreetmap.org/0/0/0.png`**\n",
    "\n",
    "At each zoom level, the number of 256 x 256 pixel map tiles increases by a factor of 4. The map tile coordinates always start with x = 0 and y = 0 in the top left.\n",
    "\n",
    "![](https://tile.openstreetmap.org/1/0/0.png)\n",
    "**OpenStreetMap zoom = 1, x = 0, y = 0, request = `https://tile.openstreetmap.org/1/0/0.png`**\n",
    "\n",
    "![](https://tile.openstreetmap.org/1/0/1.png)\n",
    "**OpenStreetMap zoom = 1, x = 0, y = 1, request =  `https://tile.openstreetmap.org/1/0/1.png`**\n",
    "\n",
    "![](https://tile.openstreetmap.org/1/1/0.png)\n",
    "**OpenStreetMap zoom = 1, x = 1, y = 0, request =  `https://tile.openstreetmap.org/1/1/0.png`**\n",
    "\n",
    "![](https://tile.openstreetmap.org/1/1/1.png)\n",
    "**OpenStreetMap zoom = 1, x = 1, y = 1, request =  `https://tile.openstreetmap.org/1/1/1.png`**"
   ]
  },
  {
   "cell_type": "markdown",
   "id": "7aba3d6b-82e1-4890-aa27-eaa5ac7c8c12",
   "metadata": {},
   "source": [
    "At zoom level $n$ there are $2^{n} * 2^{n}$ map tiles. We can use this formula to compute the number of map tiles at different zoom levels. Zoom levels 0 to 18 are most common. We can see how the storage requirements for XYZ tiles at higher zoom levels quickly increases."
   ]
  },
  {
   "cell_type": "code",
   "execution_count": null,
   "id": "8943d054-7728-4453-9848-f2c2184b574e",
   "metadata": {},
   "outputs": [],
   "source": [
    "print(f\"number of tiles at zoom level 0: {(2**0) * (2**0)}\")\n",
    "print(f\"number of tiles at zoom level 1: {(2**1) * (2**1)}\")\n",
    "print(f\"number of tiles at zoom level 2: {(2**2) * (2**2)}\")\n",
    "print(f\"number of tiles at zoom level 3: {(2**3) * (2**3)}\")\n",
    "print(f\"number of tiles at zoom level 4: {(2**4) * (2**4)}\")\n",
    "print(f\"number of tiles at zoom level 5: {(2**5) * (2**5)}\")\n",
    "print(f\"number of tiles at zoom level 6: {(2**6) * (2**6)}\")\n",
    "print(f\"number of tiles at zoom level 7: {(2**7) * (2**7)}\")\n",
    "print(f\"number of tiles at zoom level 8: {(2**8) * (2**8)}\")\n",
    "print(f\"number of tiles at zoom level 9: {(2**9) * (2**9)}\")\n",
    "print(f\"number of tiles at zoom level 10: {(2**10) * (2**10)}\")\n",
    "print(f\"number of tiles at zoom level 11: {(2**11) * (2**11)}\")\n",
    "print(f\"number of tiles at zoom level 12: {(2**12) * (2**12)}\")\n",
    "print(f\"number of tiles at zoom level 13: {(2**13) * (2**13)}\")\n",
    "print(f\"number of tiles at zoom level 14: {(2**14) * (2**14)}\")\n",
    "print(f\"number of tiles at zoom level 15: {(2**15) * (2**15)}\")\n",
    "print(f\"number of tiles at zoom level 16: {(2**16) * (2**16)}\")\n",
    "print(f\"number of tiles at zoom level 17: {(2**17) * (2**17)}\")\n",
    "print(f\"number of tiles at zoom level 18: {(2**18) * (2**18)}\")"
   ]
  },
  {
   "cell_type": "markdown",
   "id": "68a69749-e786-44b4-87e0-e1f49c2b3bef",
   "metadata": {},
   "source": [
    "XYZ tiles at higher zoom levels are rendered with progressively more spatial detail.\n",
    "\n",
    "![](https://tile.openstreetmap.org/5/9/20.png)\n",
    "**OpenStreetMap zoom = 5, x = 9, y = 20, request =  `https://tile.openstreetmap.org/5/9/20.png`**"
   ]
  },
  {
   "cell_type": "markdown",
   "id": "f626e728-88cd-4322-8322-82379130bd59",
   "metadata": {},
   "source": [
    "We can convert latitude and longitude coordinates to XYZ map tile coordinates. The following is a convenient function from the <a href=\"https://wiki.openstreetmap.org/wiki/Slippy_map_tilenames\" target=\"_blank\">OpenStreetMap Wiki</a> for this task."
   ]
  },
  {
   "cell_type": "code",
   "execution_count": null,
   "id": "99f02c64-029f-4212-bf71-36febb4ab842",
   "metadata": {},
   "outputs": [],
   "source": [
    "import math\n",
    "def deg2num(lat_deg, lon_deg, zoom):\n",
    "  lat_rad = math.radians(lat_deg)\n",
    "  n = 2.0 ** zoom\n",
    "  xtile = int((lon_deg + 180.0) / 360.0 * n)\n",
    "  ytile = int((1.0 - math.asinh(math.tan(lat_rad)) / math.pi) / 2.0 * n)\n",
    "  return (xtile, ytile)"
   ]
  },
  {
   "cell_type": "markdown",
   "id": "5f4a68a0-2a0a-4695-bfd8-a7708f603399",
   "metadata": {},
   "source": [
    "Perth's coordinates in latitude and longitude are -31.9523 and 115.8613. Let's pass these numbers into the `deg2num()` function to return the appropriate tile numbers."
   ]
  },
  {
   "cell_type": "code",
   "execution_count": null,
   "id": "b8be9e0f-2812-464a-9392-ba478d74d2e9",
   "metadata": {},
   "outputs": [],
   "source": [
    "# zoom level 6\n",
    "print(f\"x coordinate and y coordinate for Perth at zoom level 6: {deg2num(-31.9523, 115.8613, 6)}\")\n",
    "\n",
    "# zoom level 12\n",
    "print(f\"x coordinate and y coordinate for Perth at zoom level 12: {deg2num(-31.9523, 115.8613, 12)}\")"
   ]
  },
  {
   "cell_type": "markdown",
   "id": "cc822212-e7c2-45ce-9911-7d4e0ee05281",
   "metadata": {},
   "source": [
    "![](https://tile.openstreetmap.org/6/52/38.png)\n",
    "**OpenStreetMap zoom = 6, x = 52, y = 38, request =  `https://tile.openstreetmap.org/6/52/38.png`**\n",
    "\n",
    "![](https://tile.openstreetmap.org/12/3366/2432.png)\n",
    "**OpenStreetMap zoom = 12, x = 3366, y = 2432, request =  `https://tile.openstreetmap.org/12/3366/2432.png`**"
   ]
  },
  {
   "cell_type": "markdown",
   "id": "7c585683-74e5-4fdb-86a7-902b8aa3db5a",
   "metadata": {},
   "source": [
    "ipyleaflet has a `TileLayer()` class that can be used to add XYZ map tiles to a web map using a `Map` object's `add_layer()` method."
   ]
  },
  {
   "cell_type": "code",
   "execution_count": null,
   "id": "cae248bc-1d18-45f7-acd0-5f297f66195e",
   "metadata": {},
   "outputs": [],
   "source": [
    "osm_tiles = TileLayer(\n",
    "    url=\"https://{s}.tile.openstreetmap.org/{z}/{x}/{y}.png\",\n",
    "    attribution=\"Map data (c) <a href=”https://openstreetmap.org”>OpenStreetMap</a> contributors\"\n",
    ")\n",
    "\n",
    "m = Map(center=(-31.9523, 115.8613), zoom=9)\n",
    "\n",
    "m.add_layer(osm_tiles)\n",
    "\n",
    "m"
   ]
  },
  {
   "cell_type": "markdown",
   "id": "415374f0-0a3b-4173-ab66-edc74fc52987",
   "metadata": {},
   "source": [
    "You can find a list of XYZ map tile providers <a href=\"https://leaflet-extras.github.io/leaflet-providers/preview/\" target=\"_blank\">here</a>. \n",
    "\n",
    "#### Recap quiz\n",
    "\n",
    "**Can you add ESRI World Imagery XYZ map tiles to a `Map` object centred on Perth? The URL is: `https://server.arcgisonline.com/ArcGIS/rest/services/World_Imagery/MapServer/tile/{z}/{y}/{x}.png` and the attribution is: `\"Tiles &copy; Esri &mdash; Source: Esri, i-cubed, USDA, USGS, AEX, GeoEye, Getmapping, Aerogrid, IGN, IGP, UPR-EGP, and the GIS User Community\"`.**"
   ]
  },
  {
   "cell_type": "code",
   "execution_count": null,
   "id": "a9a4f905-e843-4ea4-bbdc-ab82decd3443",
   "metadata": {},
   "outputs": [],
   "source": [
    "## ADD CODE HERE ##"
   ]
  },
  {
   "cell_type": "markdown",
   "id": "fe2878ac-b678-42f5-897c-c244092c930a",
   "metadata": {},
   "source": [
    "<details>\n",
    "    <summary><b>answer</b></summary>\n",
    "\n",
    "```python\n",
    "esri_tiles = TileLayer(\n",
    "    url=\"https://server.arcgisonline.com/ArcGIS/rest/services/World_Imagery/MapServer/tile/{z}/{y}/{x}.png\",\n",
    "    attribution=\"Tiles &copy; Esri &mdash; Source: Esri, i-cubed, USDA, USGS, AEX, GeoEye, Getmapping, Aerogrid, IGN, IGP, UPR-EGP, and the GIS User Community\"\n",
    ")\n",
    "\n",
    "m = Map(center=(-31.9523, 115.8613), zoom=9)\n",
    "\n",
    "m.add_layer(esri_tiles)\n",
    "\n",
    "m\n",
    "```\n",
    "</details>\n",
    "\n",
    "<p></p>\n",
    "\n",
    "**Data WA's Data Catalogue lists a <a href=\"https://catalogue.data.wa.gov.au/dataset/farm-dams-of-the-south-west-agricultural-region-of-wa\" target=\"_blank\">Farm Dams of Western Australia dataset</a> which is available as a WMS layer from the following URL: *https://services.slip.wa.gov.au/public/services/SLIP_Public_Services/Water/MapServer/WMSServer* at `layers` `0`. Can you create a web map where the farm dams are rendered as a WMS layer on top of the ESRI World Imagery XYZ map tiles?**"
   ]
  },
  {
   "cell_type": "code",
   "execution_count": null,
   "id": "fb7bab9f-f9bd-43d4-a9af-924c99e800b3",
   "metadata": {},
   "outputs": [],
   "source": [
    "## ADD CODE HERE ##"
   ]
  },
  {
   "cell_type": "markdown",
   "id": "385c629e-c939-4593-8f66-337f2746dbc0",
   "metadata": {},
   "source": [
    "<details>\n",
    "    <summary><b>answer</b></summary>\n",
    "    \n",
    "```python\n",
    "esri_tiles = TileLayer(\n",
    "    url=\"https://server.arcgisonline.com/ArcGIS/rest/services/World_Imagery/MapServer/tile/{z}/{y}/{x}.png\",\n",
    "    attribution=\"Tiles &copy; Esri &mdash; Source: Esri, i-cubed, USDA, USGS, AEX, GeoEye, Getmapping, Aerogrid, IGN, IGP, UPR-EGP, and the GIS User Community\"\n",
    ")\n",
    "\n",
    "farm_dams_wms = WMSLayer(\n",
    "    url=\"https://services.slip.wa.gov.au/public/services/SLIP_Public_Services/Water/MapServer/WMSServer\",\n",
    "    layers=\"0\",\n",
    "    format=\"image/png\",\n",
    "    transparent=True,\n",
    "    attribution=\"Farm dams of Western Australia (DPIRD-083) \"\n",
    ")\n",
    "    \n",
    "\n",
    "m = Map(center=(-32, 117), zoom=14)\n",
    "\n",
    "m.add_layer(esri_tiles)\n",
    "\n",
    "m.add_layer(farm_dams_wms)\n",
    "\n",
    "m\n",
    "```\n",
    "</details>\n",
    "\n"
   ]
  }
 ],
 "metadata": {
  "kernelspec": {
   "display_name": "Python 3 (ipykernel)",
   "language": "python",
   "name": "python3"
  },
  "language_info": {
   "codemirror_mode": {
    "name": "ipython",
    "version": 3
   },
   "file_extension": ".py",
   "mimetype": "text/x-python",
   "name": "python",
   "nbconvert_exporter": "python",
   "pygments_lexer": "ipython3",
   "version": "3.11.7"
  }
 },
 "nbformat": 4,
 "nbformat_minor": 5
}
